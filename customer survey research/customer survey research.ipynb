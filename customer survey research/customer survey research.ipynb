{
 "cells": [
  {
   "cell_type": "code",
   "execution_count": 1,
   "id": "5378da93",
   "metadata": {},
   "outputs": [],
   "source": [
    "import pandas as pd\n",
    "from sqlalchemy import create_engine"
   ]
  },
  {
   "cell_type": "code",
   "execution_count": 2,
   "id": "1f1647b5",
   "metadata": {},
   "outputs": [],
   "source": [
    "import os\n",
    "\n",
    "pth1 = 'C:/Users/User/Desktop/Python/Jupyter/telecomm_csi.db'\n",
    "pth2 = '/datasets/telecomm_csi.db'\n",
    "\n",
    "if os.path.exists(pth1):\n",
    "    path_to_db  = pth1\n",
    "elif os.path.exists(pth2):\n",
    "    path_to_db  = pth2\n",
    "else:\n",
    "    print('Something is wrong')"
   ]
  },
  {
   "cell_type": "code",
   "execution_count": 3,
   "id": "bf102bcb",
   "metadata": {},
   "outputs": [],
   "source": [
    "engine = create_engine(f'sqlite:///{path_to_db}', echo = False)"
   ]
  },
  {
   "cell_type": "code",
   "execution_count": 4,
   "id": "5c8dac76",
   "metadata": {},
   "outputs": [],
   "source": [
    "query = \"\"\"\n",
    "SELECT  u.user_id,\n",
    "        u.lt_day,\n",
    "        CASE WHEN u.lt_day<366 THEN \"New\" ELSE \"Old\" END as is_new,\n",
    "        u.age,\n",
    "        u.gender_segment,\n",
    "        u.os_name,\n",
    "        u.cpe_type_name,\n",
    "        l.country,\n",
    "        l.city,  \n",
    "        substr (ag.title, 4, 5) as age_segment,\n",
    "        substr (ts.title, 4, 6) as traffic_segment,\n",
    "        substr (ls.title, 4, 6) as lifetime_segment,\n",
    "        u.nps_score,\n",
    "        CASE WHEN u.nps_score BETWEEN 0 AND 6 THEN \"detractors\" \n",
    "        ELSE CASE WHEN u.nps_score BETWEEN 7 AND 8 THEN \"passives\" \n",
    "        ELSE \"promoters\" END END as nps_group\n",
    "         \n",
    "\n",
    "FROM user as u\n",
    "LEFT OUTER JOIN location as l ON u.location_id=l.location_id\n",
    "LEFT OUTER JOIN lifetime_segment as ls ON u.lt_gr_id=ls.lt_gr_id\n",
    "LEFT OUTER JOIN age_segment as ag ON u.age_gr_id=ag.age_gr_id\n",
    "LEFT OUTER JOIN traffic_segment as ts ON u.tr_gr_id=ts.tr_gr_id\n",
    "\n",
    "\"\"\""
   ]
  },
  {
   "cell_type": "code",
   "execution_count": 5,
   "id": "4c55297d",
   "metadata": {},
   "outputs": [],
   "source": [
    "df = pd.read_sql(query, engine) "
   ]
  },
  {
   "cell_type": "code",
   "execution_count": 6,
   "id": "bf100745",
   "metadata": {},
   "outputs": [
    {
     "data": {
      "text/html": [
       "<div>\n",
       "<style scoped>\n",
       "    .dataframe tbody tr th:only-of-type {\n",
       "        vertical-align: middle;\n",
       "    }\n",
       "\n",
       "    .dataframe tbody tr th {\n",
       "        vertical-align: top;\n",
       "    }\n",
       "\n",
       "    .dataframe thead th {\n",
       "        text-align: right;\n",
       "    }\n",
       "</style>\n",
       "<table border=\"1\" class=\"dataframe\">\n",
       "  <thead>\n",
       "    <tr style=\"text-align: right;\">\n",
       "      <th></th>\n",
       "      <th>user_id</th>\n",
       "      <th>lt_day</th>\n",
       "      <th>is_new</th>\n",
       "      <th>age</th>\n",
       "      <th>gender_segment</th>\n",
       "      <th>os_name</th>\n",
       "      <th>cpe_type_name</th>\n",
       "      <th>country</th>\n",
       "      <th>city</th>\n",
       "      <th>age_segment</th>\n",
       "      <th>traffic_segment</th>\n",
       "      <th>lifetime_segment</th>\n",
       "      <th>nps_score</th>\n",
       "      <th>nps_group</th>\n",
       "    </tr>\n",
       "  </thead>\n",
       "  <tbody>\n",
       "    <tr>\n",
       "      <th>0</th>\n",
       "      <td>A001A2</td>\n",
       "      <td>2320</td>\n",
       "      <td>Old</td>\n",
       "      <td>45.0</td>\n",
       "      <td>Woman</td>\n",
       "      <td>ANDROID</td>\n",
       "      <td>SMARTPHONE</td>\n",
       "      <td>Россия</td>\n",
       "      <td>Уфа</td>\n",
       "      <td>45-54</td>\n",
       "      <td>1-5</td>\n",
       "      <td>36+</td>\n",
       "      <td>10</td>\n",
       "      <td>promoters</td>\n",
       "    </tr>\n",
       "    <tr>\n",
       "      <th>1</th>\n",
       "      <td>A001WF</td>\n",
       "      <td>2344</td>\n",
       "      <td>Old</td>\n",
       "      <td>53.0</td>\n",
       "      <td>Man</td>\n",
       "      <td>ANDROID</td>\n",
       "      <td>SMARTPHONE</td>\n",
       "      <td>Россия</td>\n",
       "      <td>Киров</td>\n",
       "      <td>45-54</td>\n",
       "      <td>1-5</td>\n",
       "      <td>36+</td>\n",
       "      <td>10</td>\n",
       "      <td>promoters</td>\n",
       "    </tr>\n",
       "    <tr>\n",
       "      <th>2</th>\n",
       "      <td>A003Q7</td>\n",
       "      <td>467</td>\n",
       "      <td>Old</td>\n",
       "      <td>57.0</td>\n",
       "      <td>Man</td>\n",
       "      <td>ANDROID</td>\n",
       "      <td>SMARTPHONE</td>\n",
       "      <td>Россия</td>\n",
       "      <td>Москва</td>\n",
       "      <td>55-64</td>\n",
       "      <td>20-25</td>\n",
       "      <td>13-24</td>\n",
       "      <td>10</td>\n",
       "      <td>promoters</td>\n",
       "    </tr>\n",
       "    <tr>\n",
       "      <th>3</th>\n",
       "      <td>A004TB</td>\n",
       "      <td>4190</td>\n",
       "      <td>Old</td>\n",
       "      <td>44.0</td>\n",
       "      <td>Woman</td>\n",
       "      <td>IOS</td>\n",
       "      <td>SMARTPHONE</td>\n",
       "      <td>Россия</td>\n",
       "      <td>РостовнаДону</td>\n",
       "      <td>35-44</td>\n",
       "      <td>0.1-1</td>\n",
       "      <td>36+</td>\n",
       "      <td>10</td>\n",
       "      <td>promoters</td>\n",
       "    </tr>\n",
       "    <tr>\n",
       "      <th>4</th>\n",
       "      <td>A004XT</td>\n",
       "      <td>1163</td>\n",
       "      <td>Old</td>\n",
       "      <td>24.0</td>\n",
       "      <td>Man</td>\n",
       "      <td>ANDROID</td>\n",
       "      <td>SMARTPHONE</td>\n",
       "      <td>Россия</td>\n",
       "      <td>Рязань</td>\n",
       "      <td>16-24</td>\n",
       "      <td>5-10</td>\n",
       "      <td>36+</td>\n",
       "      <td>10</td>\n",
       "      <td>promoters</td>\n",
       "    </tr>\n",
       "  </tbody>\n",
       "</table>\n",
       "</div>"
      ],
      "text/plain": [
       "  user_id  lt_day is_new   age gender_segment  os_name cpe_type_name country  \\\n",
       "0  A001A2    2320    Old  45.0          Woman  ANDROID    SMARTPHONE  Россия   \n",
       "1  A001WF    2344    Old  53.0            Man  ANDROID    SMARTPHONE  Россия   \n",
       "2  A003Q7     467    Old  57.0            Man  ANDROID    SMARTPHONE  Россия   \n",
       "3  A004TB    4190    Old  44.0          Woman      IOS    SMARTPHONE  Россия   \n",
       "4  A004XT    1163    Old  24.0            Man  ANDROID    SMARTPHONE  Россия   \n",
       "\n",
       "           city age_segment traffic_segment lifetime_segment  nps_score  \\\n",
       "0           Уфа       45-54             1-5              36+         10   \n",
       "1         Киров       45-54             1-5              36+         10   \n",
       "2        Москва       55-64           20-25            13-24         10   \n",
       "3  РостовнаДону       35-44           0.1-1              36+         10   \n",
       "4        Рязань       16-24            5-10              36+         10   \n",
       "\n",
       "   nps_group  \n",
       "0  promoters  \n",
       "1  promoters  \n",
       "2  promoters  \n",
       "3  promoters  \n",
       "4  promoters  "
      ]
     },
     "execution_count": 6,
     "metadata": {},
     "output_type": "execute_result"
    }
   ],
   "source": [
    "df['gender_segment'] = df['gender_segment'].replace(1, 'Woman')\n",
    "df['gender_segment'] = df['gender_segment'].replace(0, 'Man')\n",
    "df.to_csv('df.csv', index=False)\n",
    "df.head()"
   ]
  },
  {
   "cell_type": "markdown",
   "id": "f2f65551",
   "metadata": {},
   "source": [
    "### Укажите ссылку на дашборд на сайте Tableau Public:\n",
    "https://public.tableau.com/views/2_16558009712170/DashdetailNPS?:language=en-US&publish=yes&:display_count=n&:origin=viz_share_link"
   ]
  },
  {
   "cell_type": "markdown",
   "id": "7126b0be",
   "metadata": {},
   "source": [
    "### Укажите ссылку на pdf-файл с презентацией:\n",
    "\n",
    "https://disk.yandex.ru/i/z0qWu2njiBt6dA"
   ]
  }
 ],
 "metadata": {
  "ExecuteTimeLog": [
   {
    "duration": 530,
    "start_time": "2022-06-23T04:23:53.023Z"
   },
   {
    "duration": 94,
    "start_time": "2022-06-23T04:23:53.555Z"
   },
   {
    "duration": 22,
    "start_time": "2022-06-23T04:23:53.651Z"
   },
   {
    "duration": 4,
    "start_time": "2022-06-23T04:23:53.675Z"
   },
   {
    "duration": 5892,
    "start_time": "2022-06-23T04:23:53.681Z"
   },
   {
    "duration": 4620,
    "start_time": "2022-06-23T04:23:59.575Z"
   },
   {
    "duration": 531,
    "start_time": "2022-06-23T07:16:38.748Z"
   },
   {
    "duration": 77,
    "start_time": "2022-06-23T07:16:39.282Z"
   },
   {
    "duration": 24,
    "start_time": "2022-06-23T07:16:39.361Z"
   },
   {
    "duration": 3,
    "start_time": "2022-06-23T07:16:39.387Z"
   },
   {
    "duration": 5183,
    "start_time": "2022-06-23T07:16:39.392Z"
   },
   {
    "duration": 5012,
    "start_time": "2022-06-23T07:16:44.577Z"
   },
   {
    "duration": 525,
    "start_time": "2022-06-23T07:18:33.262Z"
   },
   {
    "duration": 78,
    "start_time": "2022-06-23T07:18:33.789Z"
   },
   {
    "duration": 9,
    "start_time": "2022-06-23T07:18:33.869Z"
   },
   {
    "duration": 4,
    "start_time": "2022-06-23T07:18:33.880Z"
   },
   {
    "duration": 5407,
    "start_time": "2022-06-23T07:18:33.886Z"
   },
   {
    "duration": 4332,
    "start_time": "2022-06-23T07:18:39.294Z"
   },
   {
    "duration": 547,
    "start_time": "2022-06-24T04:57:30.842Z"
   },
   {
    "duration": 101,
    "start_time": "2022-06-24T04:57:31.391Z"
   },
   {
    "duration": 33,
    "start_time": "2022-06-24T04:57:31.494Z"
   },
   {
    "duration": 24,
    "start_time": "2022-06-24T04:57:31.529Z"
   },
   {
    "duration": 6098,
    "start_time": "2022-06-24T04:57:31.555Z"
   },
   {
    "duration": 4023,
    "start_time": "2022-06-24T04:57:37.655Z"
   },
   {
    "duration": 133,
    "start_time": "2022-06-24T05:09:36.716Z"
   },
   {
    "duration": 1778,
    "start_time": "2022-06-24T05:10:13.057Z"
   },
   {
    "duration": 529,
    "start_time": "2022-06-25T05:48:32.872Z"
   },
   {
    "duration": 99,
    "start_time": "2022-06-25T05:48:33.403Z"
   },
   {
    "duration": 23,
    "start_time": "2022-06-25T05:48:33.504Z"
   },
   {
    "duration": 3,
    "start_time": "2022-06-25T05:48:33.530Z"
   },
   {
    "duration": 5962,
    "start_time": "2022-06-25T05:48:33.535Z"
   },
   {
    "duration": 3832,
    "start_time": "2022-06-25T05:48:39.498Z"
   },
   {
    "duration": 1533,
    "start_time": "2022-06-25T05:48:43.332Z"
   }
  ],
  "kernelspec": {
   "display_name": "Python 3 (ipykernel)",
   "language": "python",
   "name": "python3"
  },
  "language_info": {
   "codemirror_mode": {
    "name": "ipython",
    "version": 3
   },
   "file_extension": ".py",
   "mimetype": "text/x-python",
   "name": "python",
   "nbconvert_exporter": "python",
   "pygments_lexer": "ipython3",
   "version": "3.9.7"
  },
  "toc": {
   "base_numbering": 1,
   "nav_menu": {},
   "number_sections": true,
   "sideBar": true,
   "skip_h1_title": true,
   "title_cell": "Table of Contents",
   "title_sidebar": "Contents",
   "toc_cell": false,
   "toc_position": {},
   "toc_section_display": true,
   "toc_window_display": false
  }
 },
 "nbformat": 4,
 "nbformat_minor": 5
}
