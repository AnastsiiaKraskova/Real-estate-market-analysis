{
 "cells": [
  {
   "cell_type": "markdown",
   "metadata": {
    "id": "sRW85nPMDWKb"
   },
   "source": [
    "В этой части проекта вам нужно написать несколько SQL-запросов в Jupyter Notebook. Эти задания проверят вручную, и вы получите комментарии к составленным запросам. \n",
    "\n",
    "Необходимые данные находятся в таблицах схемы `stackoverflow`. Не забудьте подключиться к базе с помощью SQLAlchemy. \n",
    "\n",
    "Чтобы ожидаемый результат было легче представить, мы добавили к каждому заданию небольшой фрагмент итоговой таблицы. В запросах вы можете использовать любые подходящие названия полей."
   ]
  },
  {
   "cell_type": "code",
   "execution_count": 1,
   "metadata": {
    "id": "nlZBlglMDWKe"
   },
   "outputs": [],
   "source": [
    "import pandas as pd\n",
    "import matplotlib.pyplot as plt\n",
    "from sqlalchemy import create_engine "
   ]
  },
  {
   "cell_type": "markdown",
   "metadata": {
    "id": "XnOE3n28DWKg"
   },
   "source": [
    "### Конфигурация для подключения к базе данных `data-analyst-advanced-sql`\n",
    "Эта база данных содержит схему `stackoverflow`, с которой вы будете работать в проекте"
   ]
  },
  {
   "cell_type": "code",
   "execution_count": 2,
   "metadata": {
    "id": "6p-yGp7qDWKg"
   },
   "outputs": [],
   "source": [
    "db_config = {\n",
    "    'user': 'praktikum_student', # имя пользователя\n",
    "    'pwd': 'Sdf4$2;d-d30pp', # пароль\n",
    "    'host': 'rc1b-wcoijxj3yxfsf3fs.mdb.yandexcloud.net',\n",
    "    'port': 6432, # порт подключения\n",
    "    'db': 'data-analyst-advanced-sql' # название базы данных\n",
    "}  \n",
    "\n",
    "connection_string = 'postgresql://{}:{}@{}:{}/{}'.format(\n",
    "    db_config['user'],\n",
    "    db_config['pwd'],\n",
    "    db_config['host'],\n",
    "    db_config['port'],\n",
    "    db_config['db'],\n",
    ")"
   ]
  },
  {
   "cell_type": "markdown",
   "metadata": {
    "id": "2Rg8ZpS0DWKh"
   },
   "source": [
    "Создание подключения"
   ]
  },
  {
   "cell_type": "code",
   "execution_count": 3,
   "metadata": {
    "id": "DamCUTR6DWKi"
   },
   "outputs": [],
   "source": [
    "engine = create_engine(connection_string) "
   ]
  },
  {
   "cell_type": "code",
   "execution_count": 4,
   "metadata": {
    "id": "6Z_fw0yLDWKk"
   },
   "outputs": [],
   "source": [
    "query = '''\n",
    "SELECT *\n",
    "FROM stackoverflow.users\n",
    "LIMIT 10;\n",
    "'''\n",
    "\n",
    "sample_df = pd.read_sql_query(query, con=engine) "
   ]
  },
  {
   "cell_type": "code",
   "execution_count": 5,
   "metadata": {
    "id": "ZpuZ290oDWKk",
    "outputId": "22785a0a-e2bc-4559-ec3c-4879c4b377eb"
   },
   "outputs": [
    {
     "data": {
      "text/html": [
       "<div>\n",
       "<style scoped>\n",
       "    .dataframe tbody tr th:only-of-type {\n",
       "        vertical-align: middle;\n",
       "    }\n",
       "\n",
       "    .dataframe tbody tr th {\n",
       "        vertical-align: top;\n",
       "    }\n",
       "\n",
       "    .dataframe thead th {\n",
       "        text-align: right;\n",
       "    }\n",
       "</style>\n",
       "<table border=\"1\" class=\"dataframe\">\n",
       "  <thead>\n",
       "    <tr style=\"text-align: right;\">\n",
       "      <th></th>\n",
       "      <th>id</th>\n",
       "      <th>creation_date</th>\n",
       "      <th>display_name</th>\n",
       "      <th>last_access_date</th>\n",
       "      <th>location</th>\n",
       "      <th>reputation</th>\n",
       "      <th>views</th>\n",
       "    </tr>\n",
       "  </thead>\n",
       "  <tbody>\n",
       "    <tr>\n",
       "      <th>0</th>\n",
       "      <td>1</td>\n",
       "      <td>2008-07-31 14:22:31</td>\n",
       "      <td>Jeff Atwood</td>\n",
       "      <td>2018-08-29 02:34:23</td>\n",
       "      <td>El Cerrito, CA</td>\n",
       "      <td>44300</td>\n",
       "      <td>408587</td>\n",
       "    </tr>\n",
       "    <tr>\n",
       "      <th>1</th>\n",
       "      <td>2</td>\n",
       "      <td>2008-07-31 14:22:31</td>\n",
       "      <td>Geoff Dalgas</td>\n",
       "      <td>2018-08-23 17:31:56</td>\n",
       "      <td>Corvallis, OR</td>\n",
       "      <td>3491</td>\n",
       "      <td>23966</td>\n",
       "    </tr>\n",
       "    <tr>\n",
       "      <th>2</th>\n",
       "      <td>3</td>\n",
       "      <td>2008-07-31 14:22:31</td>\n",
       "      <td>Jarrod Dixon</td>\n",
       "      <td>2018-08-30 20:56:24</td>\n",
       "      <td>Raleigh, NC, United States</td>\n",
       "      <td>13418</td>\n",
       "      <td>24396</td>\n",
       "    </tr>\n",
       "    <tr>\n",
       "      <th>3</th>\n",
       "      <td>4</td>\n",
       "      <td>2008-07-31 14:22:31</td>\n",
       "      <td>Joel Spolsky</td>\n",
       "      <td>2018-08-14 22:18:15</td>\n",
       "      <td>New York, NY</td>\n",
       "      <td>28768</td>\n",
       "      <td>73755</td>\n",
       "    </tr>\n",
       "    <tr>\n",
       "      <th>4</th>\n",
       "      <td>5</td>\n",
       "      <td>2008-07-31 14:22:31</td>\n",
       "      <td>Jon Galloway</td>\n",
       "      <td>2018-08-29 16:48:36</td>\n",
       "      <td>San Diego, CA</td>\n",
       "      <td>39172</td>\n",
       "      <td>11700</td>\n",
       "    </tr>\n",
       "    <tr>\n",
       "      <th>5</th>\n",
       "      <td>8</td>\n",
       "      <td>2008-07-31 21:33:24</td>\n",
       "      <td>Eggs McLaren</td>\n",
       "      <td>2018-04-09 02:04:56</td>\n",
       "      <td>None</td>\n",
       "      <td>942</td>\n",
       "      <td>6372</td>\n",
       "    </tr>\n",
       "    <tr>\n",
       "      <th>6</th>\n",
       "      <td>9</td>\n",
       "      <td>2008-07-31 21:35:27</td>\n",
       "      <td>Kevin Dente</td>\n",
       "      <td>2018-08-30 18:18:03</td>\n",
       "      <td>Oakland, CA</td>\n",
       "      <td>14337</td>\n",
       "      <td>4949</td>\n",
       "    </tr>\n",
       "    <tr>\n",
       "      <th>7</th>\n",
       "      <td>11</td>\n",
       "      <td>2008-08-01 00:59:11</td>\n",
       "      <td>Anonymous User</td>\n",
       "      <td>2008-08-01 00:59:11</td>\n",
       "      <td>None</td>\n",
       "      <td>1890</td>\n",
       "      <td>2123</td>\n",
       "    </tr>\n",
       "    <tr>\n",
       "      <th>8</th>\n",
       "      <td>13</td>\n",
       "      <td>2008-08-01 04:18:05</td>\n",
       "      <td>Chris Jester-Young</td>\n",
       "      <td>2018-08-30 02:47:23</td>\n",
       "      <td>Raleigh, NC, United States</td>\n",
       "      <td>177138</td>\n",
       "      <td>35414</td>\n",
       "    </tr>\n",
       "    <tr>\n",
       "      <th>9</th>\n",
       "      <td>17</td>\n",
       "      <td>2008-08-01 12:02:22</td>\n",
       "      <td>Nick Berardi</td>\n",
       "      <td>2018-01-22 01:35:38</td>\n",
       "      <td>Issaquah, WA</td>\n",
       "      <td>44443</td>\n",
       "      <td>4786</td>\n",
       "    </tr>\n",
       "  </tbody>\n",
       "</table>\n",
       "</div>"
      ],
      "text/plain": [
       "   id       creation_date        display_name    last_access_date  \\\n",
       "0   1 2008-07-31 14:22:31         Jeff Atwood 2018-08-29 02:34:23   \n",
       "1   2 2008-07-31 14:22:31        Geoff Dalgas 2018-08-23 17:31:56   \n",
       "2   3 2008-07-31 14:22:31        Jarrod Dixon 2018-08-30 20:56:24   \n",
       "3   4 2008-07-31 14:22:31        Joel Spolsky 2018-08-14 22:18:15   \n",
       "4   5 2008-07-31 14:22:31        Jon Galloway 2018-08-29 16:48:36   \n",
       "5   8 2008-07-31 21:33:24        Eggs McLaren 2018-04-09 02:04:56   \n",
       "6   9 2008-07-31 21:35:27         Kevin Dente 2018-08-30 18:18:03   \n",
       "7  11 2008-08-01 00:59:11      Anonymous User 2008-08-01 00:59:11   \n",
       "8  13 2008-08-01 04:18:05  Chris Jester-Young 2018-08-30 02:47:23   \n",
       "9  17 2008-08-01 12:02:22        Nick Berardi 2018-01-22 01:35:38   \n",
       "\n",
       "                     location  reputation   views  \n",
       "0              El Cerrito, CA       44300  408587  \n",
       "1               Corvallis, OR        3491   23966  \n",
       "2  Raleigh, NC, United States       13418   24396  \n",
       "3                New York, NY       28768   73755  \n",
       "4               San Diego, CA       39172   11700  \n",
       "5                        None         942    6372  \n",
       "6                 Oakland, CA       14337    4949  \n",
       "7                        None        1890    2123  \n",
       "8  Raleigh, NC, United States      177138   35414  \n",
       "9                Issaquah, WA       44443    4786  "
      ]
     },
     "execution_count": 5,
     "metadata": {},
     "output_type": "execute_result"
    }
   ],
   "source": [
    "sample_df"
   ]
  },
  {
   "cell_type": "markdown",
   "metadata": {},
   "source": [
    "<div class=\"alert alert-block alert-success\">\n",
    "    \n",
    "    \n",
    "### Комментарий от ревьюера v_1\n",
    "Отлично\n",
    "    \n",
    "К базе подключились, приступаем к запросам\n",
    "</div>"
   ]
  },
  {
   "cell_type": "markdown",
   "metadata": {
    "id": "gnBMXkDBDWKm"
   },
   "source": [
    "# Задание 1"
   ]
  },
  {
   "cell_type": "markdown",
   "metadata": {
    "id": "vHsfOrrNDWKn"
   },
   "source": [
    "Выведите общую сумму просмотров постов за каждый месяц 2008 года. Если данных за какой-либо месяц в базе нет, такой месяц можно пропустить. Результат отсортируйте по убыванию общего количества просмотров."
   ]
  },
  {
   "cell_type": "markdown",
   "metadata": {
    "id": "N5rTgGNmDWKn"
   },
   "source": [
    "| month_date  | total_views |\n",
    "| ------------- | ------------- |\n",
    "| 2008-09-01  | 452928568  |\n",
    "| 2008-10-01  | 365400138  |\n",
    "| ...         | ... |"
   ]
  },
  {
   "cell_type": "code",
   "execution_count": 6,
   "metadata": {
    "id": "eWvykcXTDWKo"
   },
   "outputs": [
    {
     "data": {
      "text/html": [
       "<div>\n",
       "<style scoped>\n",
       "    .dataframe tbody tr th:only-of-type {\n",
       "        vertical-align: middle;\n",
       "    }\n",
       "\n",
       "    .dataframe tbody tr th {\n",
       "        vertical-align: top;\n",
       "    }\n",
       "\n",
       "    .dataframe thead th {\n",
       "        text-align: right;\n",
       "    }\n",
       "</style>\n",
       "<table border=\"1\" class=\"dataframe\">\n",
       "  <thead>\n",
       "    <tr style=\"text-align: right;\">\n",
       "      <th></th>\n",
       "      <th>month_date</th>\n",
       "      <th>total_views</th>\n",
       "    </tr>\n",
       "  </thead>\n",
       "  <tbody>\n",
       "    <tr>\n",
       "      <th>0</th>\n",
       "      <td>2008-09-01</td>\n",
       "      <td>452928568</td>\n",
       "    </tr>\n",
       "    <tr>\n",
       "      <th>1</th>\n",
       "      <td>2008-10-01</td>\n",
       "      <td>365400138</td>\n",
       "    </tr>\n",
       "    <tr>\n",
       "      <th>2</th>\n",
       "      <td>2008-11-01</td>\n",
       "      <td>221759651</td>\n",
       "    </tr>\n",
       "    <tr>\n",
       "      <th>3</th>\n",
       "      <td>2008-12-01</td>\n",
       "      <td>197792841</td>\n",
       "    </tr>\n",
       "    <tr>\n",
       "      <th>4</th>\n",
       "      <td>2008-08-01</td>\n",
       "      <td>131367083</td>\n",
       "    </tr>\n",
       "    <tr>\n",
       "      <th>5</th>\n",
       "      <td>2008-07-01</td>\n",
       "      <td>669895</td>\n",
       "    </tr>\n",
       "  </tbody>\n",
       "</table>\n",
       "</div>"
      ],
      "text/plain": [
       "   month_date  total_views\n",
       "0  2008-09-01    452928568\n",
       "1  2008-10-01    365400138\n",
       "2  2008-11-01    221759651\n",
       "3  2008-12-01    197792841\n",
       "4  2008-08-01    131367083\n",
       "5  2008-07-01       669895"
      ]
     },
     "execution_count": 6,
     "metadata": {},
     "output_type": "execute_result"
    }
   ],
   "source": [
    "# напишите запрос\n",
    "query = '''\n",
    "select date_trunc('month', creation_date) :: date as month_date,\n",
    "sum(views_count) as total_views\n",
    "from stackoverflow.posts\n",
    "group by 1\n",
    "order by 2 desc\n",
    "'''\n",
    "\n",
    "# выполните запрос\n",
    "task1 = pd.read_sql_query(query, con=engine) \n",
    "task1\n"
   ]
  },
  {
   "cell_type": "markdown",
   "metadata": {
    "id": "I_ZvhOxkDWKp"
   },
   "source": [
    "Проанализируйте итоговую таблицу. Отличаются ли данные за разные месяцы? С чем могут быть связаны отличия?"
   ]
  },
  {
   "cell_type": "code",
   "execution_count": 7,
   "metadata": {
    "id": "luxSj17oDWKq"
   },
   "outputs": [],
   "source": [
    "#Данные отличаются  от месяца к месяцу. Отличия могут быть связаны с количеством посетителей в определенный месяц,\n",
    "#количеством постов.\n",
    "\n",
    "# напишите ваш ответ здесь"
   ]
  },
  {
   "cell_type": "markdown",
   "metadata": {
    "id": "FziIXkn5DWKr"
   },
   "source": [
    "# Задание 2"
   ]
  },
  {
   "cell_type": "markdown",
   "metadata": {
    "id": "fTGESZvYDWKr"
   },
   "source": [
    "Выведите имена самых активных пользователей, которые в первый месяц после регистрации (включая день регистрации) дали больше 100 ответов. Вопросы, которые задавали пользователи, не учитывайте. Для каждого имени пользователя выведите количество уникальных значений `user_id`. Отсортируйте результат по полю с именами в лексикографическом порядке."
   ]
  },
  {
   "cell_type": "markdown",
   "metadata": {
    "id": "W5-tv6Y3DWKs"
   },
   "source": [
    "| display_name | count |\n",
    "| ------------ | ----- |\n",
    "| 1800 INFORMATION | 1 |\n",
    "| Adam Bellaire | 1 |\n",
    "| Adam Davis | 1 |\n",
    "| ... | ... |"
   ]
  },
  {
   "cell_type": "code",
   "execution_count": 8,
   "metadata": {
    "id": "fIO-y-YjDWKt"
   },
   "outputs": [
    {
     "data": {
      "text/html": [
       "<div>\n",
       "<style scoped>\n",
       "    .dataframe tbody tr th:only-of-type {\n",
       "        vertical-align: middle;\n",
       "    }\n",
       "\n",
       "    .dataframe tbody tr th {\n",
       "        vertical-align: top;\n",
       "    }\n",
       "\n",
       "    .dataframe thead th {\n",
       "        text-align: right;\n",
       "    }\n",
       "</style>\n",
       "<table border=\"1\" class=\"dataframe\">\n",
       "  <thead>\n",
       "    <tr style=\"text-align: right;\">\n",
       "      <th></th>\n",
       "      <th>display_name</th>\n",
       "      <th>count</th>\n",
       "    </tr>\n",
       "  </thead>\n",
       "  <tbody>\n",
       "    <tr>\n",
       "      <th>0</th>\n",
       "      <td>1800 INFORMATION</td>\n",
       "      <td>1</td>\n",
       "    </tr>\n",
       "    <tr>\n",
       "      <th>1</th>\n",
       "      <td>Adam Bellaire</td>\n",
       "      <td>1</td>\n",
       "    </tr>\n",
       "    <tr>\n",
       "      <th>2</th>\n",
       "      <td>Adam Davis</td>\n",
       "      <td>1</td>\n",
       "    </tr>\n",
       "    <tr>\n",
       "      <th>3</th>\n",
       "      <td>Adam Liss</td>\n",
       "      <td>1</td>\n",
       "    </tr>\n",
       "    <tr>\n",
       "      <th>4</th>\n",
       "      <td>Amy B</td>\n",
       "      <td>1</td>\n",
       "    </tr>\n",
       "    <tr>\n",
       "      <th>...</th>\n",
       "      <td>...</td>\n",
       "      <td>...</td>\n",
       "    </tr>\n",
       "    <tr>\n",
       "      <th>57</th>\n",
       "      <td>leppie</td>\n",
       "      <td>1</td>\n",
       "    </tr>\n",
       "    <tr>\n",
       "      <th>58</th>\n",
       "      <td>lomaxx</td>\n",
       "      <td>1</td>\n",
       "    </tr>\n",
       "    <tr>\n",
       "      <th>59</th>\n",
       "      <td>mattlant</td>\n",
       "      <td>1</td>\n",
       "    </tr>\n",
       "    <tr>\n",
       "      <th>60</th>\n",
       "      <td>paxdiablo</td>\n",
       "      <td>1</td>\n",
       "    </tr>\n",
       "    <tr>\n",
       "      <th>61</th>\n",
       "      <td>tzot</td>\n",
       "      <td>1</td>\n",
       "    </tr>\n",
       "  </tbody>\n",
       "</table>\n",
       "<p>62 rows × 2 columns</p>\n",
       "</div>"
      ],
      "text/plain": [
       "        display_name  count\n",
       "0   1800 INFORMATION      1\n",
       "1      Adam Bellaire      1\n",
       "2         Adam Davis      1\n",
       "3          Adam Liss      1\n",
       "4              Amy B      1\n",
       "..               ...    ...\n",
       "57            leppie      1\n",
       "58            lomaxx      1\n",
       "59          mattlant      1\n",
       "60         paxdiablo      1\n",
       "61              tzot      1\n",
       "\n",
       "[62 rows x 2 columns]"
      ]
     },
     "execution_count": 8,
     "metadata": {},
     "output_type": "execute_result"
    }
   ],
   "source": [
    "# напишите запрос\n",
    "query = '''\n",
    "with t1 as (select u.display_name,\n",
    "p.user_id as user_id,\n",
    "u.creation_date,\n",
    "u.creation_date + interval '1' month as period,\n",
    "p.creation_date as date_post,\n",
    "pt.type\n",
    "from stackoverflow.users u\n",
    "left join stackoverflow.posts p on u.id=p.user_id\n",
    "left join stackoverflow.post_types pt on p.post_type_id=pt.id\n",
    "where pt.type='Answer'),\n",
    "\n",
    "t2 as (select display_name,\n",
    "user_id,\n",
    "count (date_post)\n",
    "from t1\n",
    "where date_post between creation_date and creation_date + interval '1' month\n",
    "group by 1,2 )\n",
    "\n",
    "select display_name,\n",
    "count (distinct user_id)\n",
    "from t2\n",
    "where count>100\n",
    "group by 1\n",
    "order by 1\n",
    "'''\n",
    "\n",
    "# выполните запрос\n",
    "task2 = pd.read_sql_query(query, con=engine) \n",
    "task2"
   ]
  },
  {
   "cell_type": "markdown",
   "metadata": {
    "id": "I3Wr82TplKpI"
   },
   "source": [
    "Какие аномалии наблюдаются в данных? О чём они говорят?"
   ]
  },
  {
   "cell_type": "code",
   "execution_count": 9,
   "metadata": {
    "id": "CEIGGQ6ODWKy"
   },
   "outputs": [],
   "source": [
    "# Аномалий не нашла. есть рользователь 1800 INFORMATION, скорее всего это авто пост и раз он попал в выборку,\n",
    "#значит авто постов в месяц происходит больше 100 это странно.\n",
    "# напишите ваш ответ здесь"
   ]
  },
  {
   "cell_type": "markdown",
   "metadata": {
    "id": "JhM2xXj5DWKu"
   },
   "source": [
    "# Задание 3"
   ]
  },
  {
   "cell_type": "markdown",
   "metadata": {
    "id": "IS6xPqyyDWKu"
   },
   "source": [
    "Выведите количество постов за 2008 год по месяцам. Отберите посты от пользователей, которые зарегистрировались в сентябре 2008 года и сделали хотя бы один пост в декабре того же года. Отсортируйте таблицу по значению месяца по убыванию."
   ]
  },
  {
   "cell_type": "markdown",
   "metadata": {
    "id": "WmjhjV2xDWKv"
   },
   "source": [
    "| month | count |\n",
    "| ------|------ |\n",
    "| 2008-12-01 | 17641 |\n",
    "| 2008-11-01 | 18294 |\n",
    "| ... | ... |"
   ]
  },
  {
   "cell_type": "code",
   "execution_count": 10,
   "metadata": {
    "id": "kVu0FB8WDWKv"
   },
   "outputs": [
    {
     "data": {
      "text/html": [
       "<div>\n",
       "<style scoped>\n",
       "    .dataframe tbody tr th:only-of-type {\n",
       "        vertical-align: middle;\n",
       "    }\n",
       "\n",
       "    .dataframe tbody tr th {\n",
       "        vertical-align: top;\n",
       "    }\n",
       "\n",
       "    .dataframe thead th {\n",
       "        text-align: right;\n",
       "    }\n",
       "</style>\n",
       "<table border=\"1\" class=\"dataframe\">\n",
       "  <thead>\n",
       "    <tr style=\"text-align: right;\">\n",
       "      <th></th>\n",
       "      <th>month</th>\n",
       "      <th>count</th>\n",
       "    </tr>\n",
       "  </thead>\n",
       "  <tbody>\n",
       "    <tr>\n",
       "      <th>0</th>\n",
       "      <td>2008-12-01</td>\n",
       "      <td>17641</td>\n",
       "    </tr>\n",
       "    <tr>\n",
       "      <th>1</th>\n",
       "      <td>2008-11-01</td>\n",
       "      <td>18294</td>\n",
       "    </tr>\n",
       "    <tr>\n",
       "      <th>2</th>\n",
       "      <td>2008-10-01</td>\n",
       "      <td>27171</td>\n",
       "    </tr>\n",
       "    <tr>\n",
       "      <th>3</th>\n",
       "      <td>2008-09-01</td>\n",
       "      <td>24870</td>\n",
       "    </tr>\n",
       "    <tr>\n",
       "      <th>4</th>\n",
       "      <td>2008-08-01</td>\n",
       "      <td>32</td>\n",
       "    </tr>\n",
       "  </tbody>\n",
       "</table>\n",
       "</div>"
      ],
      "text/plain": [
       "        month  count\n",
       "0  2008-12-01  17641\n",
       "1  2008-11-01  18294\n",
       "2  2008-10-01  27171\n",
       "3  2008-09-01  24870\n",
       "4  2008-08-01     32"
      ]
     },
     "execution_count": 10,
     "metadata": {},
     "output_type": "execute_result"
    }
   ],
   "source": [
    "# напишите запрос\n",
    "query = '''\n",
    "with post12 as \n",
    "(select user_id\n",
    "from stackoverflow.posts\n",
    "where date_trunc('month', creation_date):: date='2008-12-01'),\n",
    "\n",
    "reg9 as\n",
    "(select u.id\n",
    "from stackoverflow.users u\n",
    "where date_trunc('month', u.creation_date):: date='2008-09-01')\n",
    "\n",
    "select date_trunc('month', p.creation_date):: date as month,\n",
    "count (distinct p.id)\n",
    "from stackoverflow.posts p\n",
    "inner join reg9 on p.user_id=reg9.id\n",
    "inner join post12 on p.user_id=post12.user_id\n",
    "group by 1\n",
    "order by 1 desc\n",
    "'''\n",
    "\n",
    "# выполните запрос\n",
    "\n",
    "task3 = pd.read_sql_query(query, con=engine) \n",
    "task3"
   ]
  },
  {
   "cell_type": "markdown",
   "metadata": {
    "id": "Vnxn9DVHDWKx"
   },
   "source": [
    "Изучите данные: есть ли в них аномалии? Предположите, почему могли появиться аномальные значения."
   ]
  },
  {
   "cell_type": "code",
   "execution_count": 11,
   "metadata": {
    "id": "MMVIz4yMlKpN"
   },
   "outputs": [],
   "source": [
    "#Аномально выглядит количество постов в августе, при условии отбора постов от пользователей зарегистрированных в сентябре. \n",
    "#Может быть можно создать пост прошлой датой или ответить на прошлый посты, а дата поста не изменится.\n",
    "# напишите ваш ответ здесь"
   ]
  },
  {
   "cell_type": "markdown",
   "metadata": {},
   "source": [
    "<div class=\"alert alert-block alert-success\">\n",
    "\n",
    "    \n",
    "### Комментарий от ревьюера v_1\n",
    "\n",
    "Да, непорядок какой-то получается 😃\n",
    "\n",
    "</div>"
   ]
  },
  {
   "cell_type": "markdown",
   "metadata": {
    "id": "5Pcizm0DDWKz"
   },
   "source": [
    "# Задание 4"
   ]
  },
  {
   "cell_type": "markdown",
   "metadata": {
    "id": "KUZPF6vHDWKz"
   },
   "source": [
    "Используя данные о постах, выведите несколько полей:\n",
    "\n",
    "- идентификатор пользователя, который написал пост;\n",
    "- дата создания поста;\n",
    "- количество просмотров у текущего поста;\n",
    "- сумму просмотров постов автора с накоплением.\n",
    "\n",
    "Данные в таблице должны быть отсортированы по возрастанию идентификаторов пользователей, а данные об одном и том же пользователе — по возрастанию даты создания поста."
   ]
  },
  {
   "cell_type": "markdown",
   "metadata": {
    "id": "ZpsTUVDYDWK0"
   },
   "source": [
    "| user_id | creation_date | views_count | cumulative_count |\n",
    "| ------ | -------------- | ----------- | ---------------- |\n",
    "| 1 | 2008-07-31 23:41:00  | 480476   | 480476  |\n",
    "| 1 | 2008-07-31 23:55:38  | 136033 | 616509  | \n",
    "| 1 | 2008-07-31 23:56:41  | 0 |  616509  |\n",
    "| ... | ... | ... | ... |\n",
    "| 2 | 2008-07-31 23:56:41 | 79087  | 79087 |\n",
    "| 2 | 2008-08-01 05:09:56 | 65443 | 144530 |\n",
    "| ... | ...  | ...  | ...  |"
   ]
  },
  {
   "cell_type": "code",
   "execution_count": 12,
   "metadata": {
    "id": "hDoJhMzfDWK0"
   },
   "outputs": [
    {
     "data": {
      "text/html": [
       "<div>\n",
       "<style scoped>\n",
       "    .dataframe tbody tr th:only-of-type {\n",
       "        vertical-align: middle;\n",
       "    }\n",
       "\n",
       "    .dataframe tbody tr th {\n",
       "        vertical-align: top;\n",
       "    }\n",
       "\n",
       "    .dataframe thead th {\n",
       "        text-align: right;\n",
       "    }\n",
       "</style>\n",
       "<table border=\"1\" class=\"dataframe\">\n",
       "  <thead>\n",
       "    <tr style=\"text-align: right;\">\n",
       "      <th></th>\n",
       "      <th>user_id</th>\n",
       "      <th>creation_date</th>\n",
       "      <th>views_count</th>\n",
       "      <th>sum</th>\n",
       "    </tr>\n",
       "  </thead>\n",
       "  <tbody>\n",
       "    <tr>\n",
       "      <th>0</th>\n",
       "      <td>1</td>\n",
       "      <td>2008-07-31 23:41:00</td>\n",
       "      <td>480476</td>\n",
       "      <td>480476</td>\n",
       "    </tr>\n",
       "    <tr>\n",
       "      <th>1</th>\n",
       "      <td>1</td>\n",
       "      <td>2008-07-31 23:55:38</td>\n",
       "      <td>136033</td>\n",
       "      <td>616509</td>\n",
       "    </tr>\n",
       "    <tr>\n",
       "      <th>2</th>\n",
       "      <td>1</td>\n",
       "      <td>2008-07-31 23:56:41</td>\n",
       "      <td>0</td>\n",
       "      <td>616509</td>\n",
       "    </tr>\n",
       "    <tr>\n",
       "      <th>3</th>\n",
       "      <td>1</td>\n",
       "      <td>2008-08-04 02:45:08</td>\n",
       "      <td>0</td>\n",
       "      <td>616509</td>\n",
       "    </tr>\n",
       "    <tr>\n",
       "      <th>4</th>\n",
       "      <td>1</td>\n",
       "      <td>2008-08-04 04:31:03</td>\n",
       "      <td>0</td>\n",
       "      <td>616509</td>\n",
       "    </tr>\n",
       "    <tr>\n",
       "      <th>...</th>\n",
       "      <td>...</td>\n",
       "      <td>...</td>\n",
       "      <td>...</td>\n",
       "      <td>...</td>\n",
       "    </tr>\n",
       "    <tr>\n",
       "      <th>243791</th>\n",
       "      <td>5696608</td>\n",
       "      <td>2008-12-23 16:00:37</td>\n",
       "      <td>0</td>\n",
       "      <td>2804</td>\n",
       "    </tr>\n",
       "    <tr>\n",
       "      <th>243792</th>\n",
       "      <td>5696608</td>\n",
       "      <td>2008-12-23 17:35:09</td>\n",
       "      <td>0</td>\n",
       "      <td>2804</td>\n",
       "    </tr>\n",
       "    <tr>\n",
       "      <th>243793</th>\n",
       "      <td>5696608</td>\n",
       "      <td>2008-12-24 01:02:48</td>\n",
       "      <td>0</td>\n",
       "      <td>2804</td>\n",
       "    </tr>\n",
       "    <tr>\n",
       "      <th>243794</th>\n",
       "      <td>5696608</td>\n",
       "      <td>2008-12-30 14:34:45</td>\n",
       "      <td>0</td>\n",
       "      <td>2804</td>\n",
       "    </tr>\n",
       "    <tr>\n",
       "      <th>243795</th>\n",
       "      <td>5696608</td>\n",
       "      <td>2008-12-30 16:32:12</td>\n",
       "      <td>0</td>\n",
       "      <td>2804</td>\n",
       "    </tr>\n",
       "  </tbody>\n",
       "</table>\n",
       "<p>243796 rows × 4 columns</p>\n",
       "</div>"
      ],
      "text/plain": [
       "        user_id       creation_date  views_count     sum\n",
       "0             1 2008-07-31 23:41:00       480476  480476\n",
       "1             1 2008-07-31 23:55:38       136033  616509\n",
       "2             1 2008-07-31 23:56:41            0  616509\n",
       "3             1 2008-08-04 02:45:08            0  616509\n",
       "4             1 2008-08-04 04:31:03            0  616509\n",
       "...         ...                 ...          ...     ...\n",
       "243791  5696608 2008-12-23 16:00:37            0    2804\n",
       "243792  5696608 2008-12-23 17:35:09            0    2804\n",
       "243793  5696608 2008-12-24 01:02:48            0    2804\n",
       "243794  5696608 2008-12-30 14:34:45            0    2804\n",
       "243795  5696608 2008-12-30 16:32:12            0    2804\n",
       "\n",
       "[243796 rows x 4 columns]"
      ]
     },
     "execution_count": 12,
     "metadata": {},
     "output_type": "execute_result"
    }
   ],
   "source": [
    "# напишите запрос\n",
    "query = '''\n",
    "select user_id,\n",
    "creation_date,\n",
    "views_count,\n",
    "sum(views_count) over (partition by user_id order by creation_date)\n",
    "from stackoverflow.posts\n",
    "order by 1\n",
    "'''\n",
    "\n",
    "# выполните запрос\n",
    "task4 = pd.read_sql_query(query, con=engine) \n",
    "task4"
   ]
  },
  {
   "cell_type": "markdown",
   "metadata": {
    "id": "N0kHRHvIDWK2"
   },
   "source": [
    "# Задание 5"
   ]
  },
  {
   "cell_type": "markdown",
   "metadata": {
    "id": "gBgvmPtODWK2"
   },
   "source": [
    "Найдите среднее количество постов пользователей в день за август 2008 года. Отберите данные о пользователях, которые опубликовали больше 120 постов за август. Дни без публикаций не учитывайте. \n",
    "\n",
    "Отсортируйте результат по возрастанию среднего количества постов. Значения можно не округлять."
   ]
  },
  {
   "cell_type": "markdown",
   "metadata": {
    "id": "nfzR08BODWK3"
   },
   "source": [
    "| user_id | avg_daily |\n",
    "| ------- | --------- |\n",
    "| 116     | 4.777778  |\n",
    "| 234     | 5.208333  |\n",
    "| ...     | ... |"
   ]
  },
  {
   "cell_type": "code",
   "execution_count": 13,
   "metadata": {
    "id": "YFyPNz5GDWK3",
    "scrolled": true
   },
   "outputs": [
    {
     "data": {
      "text/html": [
       "<div>\n",
       "<style scoped>\n",
       "    .dataframe tbody tr th:only-of-type {\n",
       "        vertical-align: middle;\n",
       "    }\n",
       "\n",
       "    .dataframe tbody tr th {\n",
       "        vertical-align: top;\n",
       "    }\n",
       "\n",
       "    .dataframe thead th {\n",
       "        text-align: right;\n",
       "    }\n",
       "</style>\n",
       "<table border=\"1\" class=\"dataframe\">\n",
       "  <thead>\n",
       "    <tr style=\"text-align: right;\">\n",
       "      <th></th>\n",
       "      <th>user_id</th>\n",
       "      <th>avg</th>\n",
       "    </tr>\n",
       "  </thead>\n",
       "  <tbody>\n",
       "    <tr>\n",
       "      <th>0</th>\n",
       "      <td>116</td>\n",
       "      <td>4.777778</td>\n",
       "    </tr>\n",
       "    <tr>\n",
       "      <th>1</th>\n",
       "      <td>234</td>\n",
       "      <td>5.208333</td>\n",
       "    </tr>\n",
       "    <tr>\n",
       "      <th>2</th>\n",
       "      <td>91</td>\n",
       "      <td>5.681818</td>\n",
       "    </tr>\n",
       "    <tr>\n",
       "      <th>3</th>\n",
       "      <td>905</td>\n",
       "      <td>7.000000</td>\n",
       "    </tr>\n",
       "    <tr>\n",
       "      <th>4</th>\n",
       "      <td>383</td>\n",
       "      <td>7.277778</td>\n",
       "    </tr>\n",
       "  </tbody>\n",
       "</table>\n",
       "</div>"
      ],
      "text/plain": [
       "   user_id       avg\n",
       "0      116  4.777778\n",
       "1      234  5.208333\n",
       "2       91  5.681818\n",
       "3      905  7.000000\n",
       "4      383  7.277778"
      ]
     },
     "execution_count": 13,
     "metadata": {},
     "output_type": "execute_result"
    }
   ],
   "source": [
    "# напишите запрос\n",
    "query = '''\n",
    "\n",
    "with user120 as (select user_id,\n",
    "count (distinct id) as qty\n",
    "from stackoverflow.posts p\n",
    "where date_trunc('month', creation_date) :: date = '2008-08-01'\n",
    "group by 1\n",
    "having count (distinct id)>120),\n",
    "\n",
    "post8 as (select p.user_id,\n",
    "date_trunc('day', p.creation_date) :: date,\n",
    "count (distinct p.id)\n",
    "from stackoverflow.posts p\n",
    "inner join user120 u120 on p.user_id=u120.user_id\n",
    "where date_trunc('month', p.creation_date) :: date = '2008-08-01'\n",
    "group by 1, 2)\n",
    "\n",
    "select user_id,\n",
    "avg (count)\n",
    "from post8\n",
    "group by 1\n",
    "order by 2\n",
    "\n",
    "'''\n",
    "\n",
    "# выполните запрос\n",
    "task5 = pd.read_sql_query(query, con=engine) \n",
    "task5"
   ]
  },
  {
   "cell_type": "markdown",
   "metadata": {
    "id": "EQ0dcFH4DWK5"
   },
   "source": [
    "# Задание 6"
   ]
  },
  {
   "cell_type": "markdown",
   "metadata": {
    "id": "c7flfg_hDWK5"
   },
   "source": [
    "Сколько в среднем дней в период с 1 по 7 декабря 2008 года пользователи взаимодействовали с платформой? Для каждого пользователя отберите дни, в которые он или она опубликовали хотя бы один пост. Нужно получить одно целое число — не забудьте округлить результат. "
   ]
  },
  {
   "cell_type": "markdown",
   "metadata": {
    "id": "RC1Ibzm9DWK6"
   },
   "source": [
    "| result |\n",
    "| -----  |\n",
    "| <целое число> |"
   ]
  },
  {
   "cell_type": "code",
   "execution_count": 14,
   "metadata": {
    "id": "kZ7LXTr6DWK6"
   },
   "outputs": [
    {
     "data": {
      "text/html": [
       "<div>\n",
       "<style scoped>\n",
       "    .dataframe tbody tr th:only-of-type {\n",
       "        vertical-align: middle;\n",
       "    }\n",
       "\n",
       "    .dataframe tbody tr th {\n",
       "        vertical-align: top;\n",
       "    }\n",
       "\n",
       "    .dataframe thead th {\n",
       "        text-align: right;\n",
       "    }\n",
       "</style>\n",
       "<table border=\"1\" class=\"dataframe\">\n",
       "  <thead>\n",
       "    <tr style=\"text-align: right;\">\n",
       "      <th></th>\n",
       "      <th>result</th>\n",
       "    </tr>\n",
       "  </thead>\n",
       "  <tbody>\n",
       "    <tr>\n",
       "      <th>0</th>\n",
       "      <td>2.0</td>\n",
       "    </tr>\n",
       "  </tbody>\n",
       "</table>\n",
       "</div>"
      ],
      "text/plain": [
       "   result\n",
       "0     2.0"
      ]
     },
     "execution_count": 14,
     "metadata": {},
     "output_type": "execute_result"
    }
   ],
   "source": [
    "# напишите запрос\n",
    "query = '''\n",
    "with t1 as (select user_id,\n",
    "count (distinct (date_trunc('day', creation_date) :: date)) as qty_post\n",
    "from stackoverflow.posts p\n",
    "where date_trunc('day', creation_date) :: date between '2008-12-01' and '2008-12-07'\n",
    "group by 1)\n",
    "\n",
    "select\n",
    "round (avg (qty_post), 0) as result\n",
    "from t1\n",
    "'''\n",
    "\n",
    "# выполните запрос\n",
    "task6 = pd.read_sql_query(query, con=engine) \n",
    "task6"
   ]
  },
  {
   "cell_type": "markdown",
   "metadata": {
    "id": "UJFtNNggDWK7"
   },
   "source": [
    "Проанализируйте итоговую таблицу — какие выводы можно сделать?"
   ]
  },
  {
   "cell_type": "code",
   "execution_count": 15,
   "metadata": {
    "id": "LfUuYz-1DWK8"
   },
   "outputs": [],
   "source": [
    "# пользователи в среднем на 1й неделе декабря 2008 года публиковали посты 2 дня из 7.\n",
    "# напишите ваш ответ здесь"
   ]
  },
  {
   "cell_type": "markdown",
   "metadata": {
    "id": "wfOmqmfLDWK8"
   },
   "source": [
    "# Задание 7"
   ]
  },
  {
   "cell_type": "markdown",
   "metadata": {
    "id": "X4ARQimADWK9"
   },
   "source": [
    "Выведите историю активности каждого пользователя в таком виде: идентификатор пользователя, дата публикации поста. Отсортируйте вывод по возрастанию идентификаторов пользователей, а для каждого пользователя — по возрастанию даты публикации.\n",
    "\n",
    "Добавьте в таблицу новое поле: для каждого поста в нём будет указано название месяца предпоследней публикации пользователя относительно текущей. Если такой публикации нет, укажите `NULL`.  Python автоматически поменяет `NULL` на `None`, но дополнительно преобразовывать значения `None` вам не нужно.\n",
    "\n",
    "Посмотрите внимательно на образец таблицы: для первых двух постов предпоследней публикации нет, но, начиная с третьего поста, в новое поле входит нужный месяц. Для следующего пользователя в первые две записи поля `second_last_month` тоже войдёт `NULL`."
   ]
  },
  {
   "cell_type": "markdown",
   "metadata": {
    "id": "IGPjRP01DWK9"
   },
   "source": [
    "| user_id | creation_date | second_last_month |\n",
    "| ------- | ------------- | ----------------- |\n",
    "| 1       | 2008-07-31 23:41:00 | None |\n",
    "| 1       | 2008-07-31 23:55:38 | None |\n",
    "| 1       | 2008-07-31 23:56:41 | July |\n",
    "| 1       | 2008-08-04 02:45:08 | July |\n",
    "| 1       | 2008-08-04 04:31:03 | July |\n",
    "| 1       | 2008-08-04 08:04:42 | August |\n",
    "| ... | ... | ... |"
   ]
  },
  {
   "cell_type": "code",
   "execution_count": 16,
   "metadata": {
    "id": "HzI1vhaMDWK-"
   },
   "outputs": [
    {
     "data": {
      "text/html": [
       "<div>\n",
       "<style scoped>\n",
       "    .dataframe tbody tr th:only-of-type {\n",
       "        vertical-align: middle;\n",
       "    }\n",
       "\n",
       "    .dataframe tbody tr th {\n",
       "        vertical-align: top;\n",
       "    }\n",
       "\n",
       "    .dataframe thead th {\n",
       "        text-align: right;\n",
       "    }\n",
       "</style>\n",
       "<table border=\"1\" class=\"dataframe\">\n",
       "  <thead>\n",
       "    <tr style=\"text-align: right;\">\n",
       "      <th></th>\n",
       "      <th>user_id</th>\n",
       "      <th>creation_date</th>\n",
       "      <th>lag</th>\n",
       "    </tr>\n",
       "  </thead>\n",
       "  <tbody>\n",
       "    <tr>\n",
       "      <th>0</th>\n",
       "      <td>1</td>\n",
       "      <td>2008-07-31 23:41:00</td>\n",
       "      <td>None</td>\n",
       "    </tr>\n",
       "    <tr>\n",
       "      <th>1</th>\n",
       "      <td>1</td>\n",
       "      <td>2008-07-31 23:55:38</td>\n",
       "      <td>None</td>\n",
       "    </tr>\n",
       "    <tr>\n",
       "      <th>2</th>\n",
       "      <td>1</td>\n",
       "      <td>2008-07-31 23:56:41</td>\n",
       "      <td>July</td>\n",
       "    </tr>\n",
       "    <tr>\n",
       "      <th>3</th>\n",
       "      <td>1</td>\n",
       "      <td>2008-08-04 02:45:08</td>\n",
       "      <td>July</td>\n",
       "    </tr>\n",
       "    <tr>\n",
       "      <th>4</th>\n",
       "      <td>1</td>\n",
       "      <td>2008-08-04 04:31:03</td>\n",
       "      <td>July</td>\n",
       "    </tr>\n",
       "    <tr>\n",
       "      <th>...</th>\n",
       "      <td>...</td>\n",
       "      <td>...</td>\n",
       "      <td>...</td>\n",
       "    </tr>\n",
       "    <tr>\n",
       "      <th>243791</th>\n",
       "      <td>5696608</td>\n",
       "      <td>2008-12-23 16:00:37</td>\n",
       "      <td>December</td>\n",
       "    </tr>\n",
       "    <tr>\n",
       "      <th>243792</th>\n",
       "      <td>5696608</td>\n",
       "      <td>2008-12-23 17:35:09</td>\n",
       "      <td>December</td>\n",
       "    </tr>\n",
       "    <tr>\n",
       "      <th>243793</th>\n",
       "      <td>5696608</td>\n",
       "      <td>2008-12-24 01:02:48</td>\n",
       "      <td>December</td>\n",
       "    </tr>\n",
       "    <tr>\n",
       "      <th>243794</th>\n",
       "      <td>5696608</td>\n",
       "      <td>2008-12-30 14:34:45</td>\n",
       "      <td>December</td>\n",
       "    </tr>\n",
       "    <tr>\n",
       "      <th>243795</th>\n",
       "      <td>5696608</td>\n",
       "      <td>2008-12-30 16:32:12</td>\n",
       "      <td>December</td>\n",
       "    </tr>\n",
       "  </tbody>\n",
       "</table>\n",
       "<p>243796 rows × 3 columns</p>\n",
       "</div>"
      ],
      "text/plain": [
       "        user_id       creation_date        lag\n",
       "0             1 2008-07-31 23:41:00       None\n",
       "1             1 2008-07-31 23:55:38       None\n",
       "2             1 2008-07-31 23:56:41  July     \n",
       "3             1 2008-08-04 02:45:08  July     \n",
       "4             1 2008-08-04 04:31:03  July     \n",
       "...         ...                 ...        ...\n",
       "243791  5696608 2008-12-23 16:00:37  December \n",
       "243792  5696608 2008-12-23 17:35:09  December \n",
       "243793  5696608 2008-12-24 01:02:48  December \n",
       "243794  5696608 2008-12-30 14:34:45  December \n",
       "243795  5696608 2008-12-30 16:32:12  December \n",
       "\n",
       "[243796 rows x 3 columns]"
      ]
     },
     "execution_count": 16,
     "metadata": {},
     "output_type": "execute_result"
    }
   ],
   "source": [
    "# напишите запрос\n",
    "query = '''\n",
    "with t1 as (select user_id,\n",
    "creation_date,\n",
    "lag(to_char(creation_date, 'Month')) over (partition by user_id order by creation_date) as pd\n",
    "from stackoverflow.posts p\n",
    "order by 1, 2)\n",
    "\n",
    "select user_id,\n",
    "creation_date,\n",
    "lag (pd) over (partition by user_id order by creation_date)\n",
    "from t1\n",
    "order by 1, 2\n",
    "\n",
    "'''\n",
    "\n",
    "# выполните запрос\n",
    "task7 = pd.read_sql_query(query, con=engine) \n",
    "task7"
   ]
  },
  {
   "cell_type": "markdown",
   "metadata": {
    "id": "tf9qq2yzDWK_"
   },
   "source": [
    "# Задание 8"
   ]
  },
  {
   "cell_type": "markdown",
   "metadata": {
    "id": "gfwLVXBYDWLA"
   },
   "source": [
    "Рассчитайте аналог Retention Rate по месяцам для пользователей StackOverflow. Объедините пользователей в когорты по месяцу их первого поста. Возвращение определяйте по наличию поста в текущем месяце. "
   ]
  },
  {
   "cell_type": "markdown",
   "metadata": {
    "id": "kN2ic39WlKpl"
   },
   "source": [
    "| cohort_dt | session_date | users_cnt | cohort_users_cnt | retention_rate |\n",
    "| --- | --- | --- | --- | --- |\n",
    "| 2008-07-01 00:00:00 | 2008-07-01 00:00:00 | 3 | 3 | 100 |\n",
    "| 2008-07-01 00:00:00 | 2008-08-01 00:00:00 | 2 | 3 | 66,67 |\n",
    "| 2008-07-01 00:00:00 | 2008-09-01 00:00:00 | 1 | 3 | 33,33 |\n",
    "| 2008-07-01 00:00:00 | 2008-10-01 00:00:00 | 2 | 3 | 66,67 |\n",
    "| 2008-07-01 00:00:00 | 2008-11-01 00:00:00 | 1 | 3 | 33,33 |\n",
    "| 2008-07-01 00:00:00 | 2008-12-01 00:00:00 | 2 | 3 | 66,67 |\n",
    "| 2008-08-01 00:00:00 | 2008-08-01 00:00:00 | 2151 | 2151 | 100 |\n",
    "| ... | ... | ... | ... | ... |"
   ]
  },
  {
   "cell_type": "code",
   "execution_count": 17,
   "metadata": {
    "id": "LUgFmwmTDWLB"
   },
   "outputs": [
    {
     "data": {
      "text/html": [
       "<div>\n",
       "<style scoped>\n",
       "    .dataframe tbody tr th:only-of-type {\n",
       "        vertical-align: middle;\n",
       "    }\n",
       "\n",
       "    .dataframe tbody tr th {\n",
       "        vertical-align: top;\n",
       "    }\n",
       "\n",
       "    .dataframe thead th {\n",
       "        text-align: right;\n",
       "    }\n",
       "</style>\n",
       "<table border=\"1\" class=\"dataframe\">\n",
       "  <thead>\n",
       "    <tr style=\"text-align: right;\">\n",
       "      <th></th>\n",
       "      <th>cohort_dt</th>\n",
       "      <th>session_date</th>\n",
       "      <th>users_cnt</th>\n",
       "      <th>cohort_users_qty</th>\n",
       "      <th>retention_rate</th>\n",
       "    </tr>\n",
       "  </thead>\n",
       "  <tbody>\n",
       "    <tr>\n",
       "      <th>0</th>\n",
       "      <td>2008-07-01</td>\n",
       "      <td>2008-07-01</td>\n",
       "      <td>3</td>\n",
       "      <td>3</td>\n",
       "      <td>100.00</td>\n",
       "    </tr>\n",
       "    <tr>\n",
       "      <th>1</th>\n",
       "      <td>2008-07-01</td>\n",
       "      <td>2008-08-01</td>\n",
       "      <td>2</td>\n",
       "      <td>3</td>\n",
       "      <td>66.67</td>\n",
       "    </tr>\n",
       "    <tr>\n",
       "      <th>2</th>\n",
       "      <td>2008-07-01</td>\n",
       "      <td>2008-09-01</td>\n",
       "      <td>1</td>\n",
       "      <td>3</td>\n",
       "      <td>33.33</td>\n",
       "    </tr>\n",
       "    <tr>\n",
       "      <th>3</th>\n",
       "      <td>2008-07-01</td>\n",
       "      <td>2008-10-01</td>\n",
       "      <td>2</td>\n",
       "      <td>3</td>\n",
       "      <td>66.67</td>\n",
       "    </tr>\n",
       "    <tr>\n",
       "      <th>4</th>\n",
       "      <td>2008-07-01</td>\n",
       "      <td>2008-11-01</td>\n",
       "      <td>1</td>\n",
       "      <td>3</td>\n",
       "      <td>33.33</td>\n",
       "    </tr>\n",
       "    <tr>\n",
       "      <th>5</th>\n",
       "      <td>2008-07-01</td>\n",
       "      <td>2008-12-01</td>\n",
       "      <td>2</td>\n",
       "      <td>3</td>\n",
       "      <td>66.67</td>\n",
       "    </tr>\n",
       "    <tr>\n",
       "      <th>6</th>\n",
       "      <td>2008-08-01</td>\n",
       "      <td>2008-08-01</td>\n",
       "      <td>2151</td>\n",
       "      <td>2151</td>\n",
       "      <td>100.00</td>\n",
       "    </tr>\n",
       "    <tr>\n",
       "      <th>7</th>\n",
       "      <td>2008-08-01</td>\n",
       "      <td>2008-09-01</td>\n",
       "      <td>1571</td>\n",
       "      <td>2151</td>\n",
       "      <td>73.04</td>\n",
       "    </tr>\n",
       "    <tr>\n",
       "      <th>8</th>\n",
       "      <td>2008-08-01</td>\n",
       "      <td>2008-10-01</td>\n",
       "      <td>1275</td>\n",
       "      <td>2151</td>\n",
       "      <td>59.27</td>\n",
       "    </tr>\n",
       "    <tr>\n",
       "      <th>9</th>\n",
       "      <td>2008-08-01</td>\n",
       "      <td>2008-11-01</td>\n",
       "      <td>1050</td>\n",
       "      <td>2151</td>\n",
       "      <td>48.81</td>\n",
       "    </tr>\n",
       "    <tr>\n",
       "      <th>10</th>\n",
       "      <td>2008-08-01</td>\n",
       "      <td>2008-12-01</td>\n",
       "      <td>894</td>\n",
       "      <td>2151</td>\n",
       "      <td>41.56</td>\n",
       "    </tr>\n",
       "    <tr>\n",
       "      <th>11</th>\n",
       "      <td>2008-09-01</td>\n",
       "      <td>2008-09-01</td>\n",
       "      <td>7678</td>\n",
       "      <td>7678</td>\n",
       "      <td>100.00</td>\n",
       "    </tr>\n",
       "    <tr>\n",
       "      <th>12</th>\n",
       "      <td>2008-09-01</td>\n",
       "      <td>2008-10-01</td>\n",
       "      <td>4132</td>\n",
       "      <td>7678</td>\n",
       "      <td>53.82</td>\n",
       "    </tr>\n",
       "    <tr>\n",
       "      <th>13</th>\n",
       "      <td>2008-09-01</td>\n",
       "      <td>2008-11-01</td>\n",
       "      <td>2966</td>\n",
       "      <td>7678</td>\n",
       "      <td>38.63</td>\n",
       "    </tr>\n",
       "    <tr>\n",
       "      <th>14</th>\n",
       "      <td>2008-09-01</td>\n",
       "      <td>2008-12-01</td>\n",
       "      <td>2500</td>\n",
       "      <td>7678</td>\n",
       "      <td>32.56</td>\n",
       "    </tr>\n",
       "    <tr>\n",
       "      <th>15</th>\n",
       "      <td>2008-10-01</td>\n",
       "      <td>2008-10-01</td>\n",
       "      <td>3629</td>\n",
       "      <td>3629</td>\n",
       "      <td>100.00</td>\n",
       "    </tr>\n",
       "    <tr>\n",
       "      <th>16</th>\n",
       "      <td>2008-10-01</td>\n",
       "      <td>2008-11-01</td>\n",
       "      <td>1640</td>\n",
       "      <td>3629</td>\n",
       "      <td>45.19</td>\n",
       "    </tr>\n",
       "    <tr>\n",
       "      <th>17</th>\n",
       "      <td>2008-10-01</td>\n",
       "      <td>2008-12-01</td>\n",
       "      <td>1221</td>\n",
       "      <td>3629</td>\n",
       "      <td>33.65</td>\n",
       "    </tr>\n",
       "    <tr>\n",
       "      <th>18</th>\n",
       "      <td>2008-11-01</td>\n",
       "      <td>2008-11-01</td>\n",
       "      <td>2852</td>\n",
       "      <td>2852</td>\n",
       "      <td>100.00</td>\n",
       "    </tr>\n",
       "    <tr>\n",
       "      <th>19</th>\n",
       "      <td>2008-11-01</td>\n",
       "      <td>2008-12-01</td>\n",
       "      <td>1151</td>\n",
       "      <td>2852</td>\n",
       "      <td>40.36</td>\n",
       "    </tr>\n",
       "    <tr>\n",
       "      <th>20</th>\n",
       "      <td>2008-12-01</td>\n",
       "      <td>2008-12-01</td>\n",
       "      <td>2536</td>\n",
       "      <td>2536</td>\n",
       "      <td>100.00</td>\n",
       "    </tr>\n",
       "  </tbody>\n",
       "</table>\n",
       "</div>"
      ],
      "text/plain": [
       "     cohort_dt session_date  users_cnt  cohort_users_qty  retention_rate\n",
       "0   2008-07-01   2008-07-01          3                 3          100.00\n",
       "1   2008-07-01   2008-08-01          2                 3           66.67\n",
       "2   2008-07-01   2008-09-01          1                 3           33.33\n",
       "3   2008-07-01   2008-10-01          2                 3           66.67\n",
       "4   2008-07-01   2008-11-01          1                 3           33.33\n",
       "5   2008-07-01   2008-12-01          2                 3           66.67\n",
       "6   2008-08-01   2008-08-01       2151              2151          100.00\n",
       "7   2008-08-01   2008-09-01       1571              2151           73.04\n",
       "8   2008-08-01   2008-10-01       1275              2151           59.27\n",
       "9   2008-08-01   2008-11-01       1050              2151           48.81\n",
       "10  2008-08-01   2008-12-01        894              2151           41.56\n",
       "11  2008-09-01   2008-09-01       7678              7678          100.00\n",
       "12  2008-09-01   2008-10-01       4132              7678           53.82\n",
       "13  2008-09-01   2008-11-01       2966              7678           38.63\n",
       "14  2008-09-01   2008-12-01       2500              7678           32.56\n",
       "15  2008-10-01   2008-10-01       3629              3629          100.00\n",
       "16  2008-10-01   2008-11-01       1640              3629           45.19\n",
       "17  2008-10-01   2008-12-01       1221              3629           33.65\n",
       "18  2008-11-01   2008-11-01       2852              2852          100.00\n",
       "19  2008-11-01   2008-12-01       1151              2852           40.36\n",
       "20  2008-12-01   2008-12-01       2536              2536          100.00"
      ]
     },
     "execution_count": 17,
     "metadata": {},
     "output_type": "execute_result"
    }
   ],
   "source": [
    "# напишите запрос\n",
    "query = '''\n",
    "with profile as\n",
    "(select user_id,\n",
    "date_trunc('month', MIN(creation_date))::date AS cohort_dt\n",
    "from stackoverflow.posts\n",
    "group by 1),\n",
    "\n",
    "sessions as \n",
    "(select user_id,\n",
    "date_trunc('month', creation_date)::date AS session_date\n",
    "from stackoverflow.posts\n",
    "group by 1, 2),\n",
    "\n",
    "qty_user_chort as \n",
    "(select cohort_dt,\n",
    "count (user_id) as cohort_users_qty\n",
    "from profile\n",
    "group by 1)\n",
    "\n",
    "select p.cohort_dt,\n",
    "s.session_date,\n",
    "count(p.user_id) AS users_cnt,\n",
    "quc.cohort_users_qty,\n",
    "round(count(p.user_id) * 100.0 / quc.cohort_users_qty, 2) AS retention_rate\n",
    "from profile p\n",
    "join sessions s ON p.user_id = s.user_id\n",
    "join qty_user_chort quc on p.cohort_dt=quc.cohort_dt\n",
    "group by 1,\n",
    "         2,\n",
    "         4\n",
    "   \n",
    "'''\n",
    "\n",
    "# выполните запрос\n",
    "task8 = pd.read_sql_query(query, con=engine) \n",
    "task8"
   ]
  },
  {
   "cell_type": "markdown",
   "metadata": {
    "id": "_msBtnb2DWLC"
   },
   "source": [
    "Постройте тепловую карту Retention Rate. Какие аномалии или другие необычные явления удалось выявить? Сформулируйте гипотезы о возможных причинах."
   ]
  },
  {
   "cell_type": "code",
   "execution_count": 18,
   "metadata": {
    "id": "qAEJc8H1DWLC"
   },
   "outputs": [
    {
     "data": {
      "image/png": "[encoded data removed]",
      "text/plain": [
       "<Figure size 360x360 with 2 Axes>"
      ]
     },
     "metadata": {
      "needs_background": "light"
     },
     "output_type": "display_data"
    }
   ],
   "source": [
    "# постройте тепловую карту Retention Rate\n",
    "\n",
    "import seaborn as sns\n",
    "\n",
    "retention = task8.pivot('cohort_dt', 'session_date', 'retention_rate')\n",
    "retention.index = [str(x)[0:10] for x in retention.index]\n",
    "retention.columns = [str(x)[0:10] for x in retention.columns]\n",
    "\n",
    "# строим хитмэп\n",
    "plt.figure(figsize=(5, 5))\n",
    "sns.heatmap(retention,\n",
    "            annot=True,\n",
    "            fmt='')\n",
    "plt.title('Тепловая карта по месяцам')\n",
    "plt.show() "
   ]
  },
  {
   "cell_type": "code",
   "execution_count": 19,
   "metadata": {
    "id": "EgOfIsI4DWLC"
   },
   "outputs": [],
   "source": [
    "# для когорты июля, аномально что показатель принимает только 2 значения 66.67 и 33.33 (в сумме 100%). По таблице видно, \n",
    "# что в июле было только 3 человека, из них один пишет пост каждый месяц, а второй через (возможно это авто пост). \n",
    "# Также видно, что с каждой последующей когортой увеличивается отток.\n",
    "# опишите аномалии или другие необычные явления и сформулируйте гипотезы"
   ]
  },
  {
   "cell_type": "markdown",
   "metadata": {
    "id": "1k7oPWt5DWLK"
   },
   "source": [
    "# Задание 9\n"
   ]
  },
  {
   "cell_type": "markdown",
   "metadata": {
    "id": "ALsYVSyRDWLM"
   },
   "source": [
    "На сколько процентов менялось количество постов ежемесячно с 1 сентября по 31 декабря 2008 года? Отобразите таблицу со следующими полями:\n",
    "\n",
    "- номер месяца;\n",
    "- количество постов за месяц;\n",
    "- процент, который показывает, насколько изменилось количество постов в текущем месяце по сравнению с предыдущим.\n",
    "\n",
    "Если постов стало меньше, значение процента должно быть отрицательным, если больше — положительным. Округлите значение процента до двух знаков после запятой.\n",
    "\n",
    "Напомним, что при делении одного целого числа на другое в PostgreSQL в результате получится целое число, округлённое до ближайшего целого вниз. Чтобы этого избежать, переведите делимое в тип `numeric`."
   ]
  },
  {
   "cell_type": "markdown",
   "metadata": {
    "id": "u4E2zF8DDWLM"
   },
   "source": [
    "| creation_month | posts_count | percentage |\n",
    "| -------------- | ----------- | ---------- |\n",
    "| 9 | 70731 | Nan |\n",
    "| 10 | 63102 | -10.33 |\n",
    "| ... | ... | ... |"
   ]
  },
  {
   "cell_type": "code",
   "execution_count": 20,
   "metadata": {
    "id": "Mb5pShStDWLN"
   },
   "outputs": [
    {
     "data": {
      "text/html": [
       "<div>\n",
       "<style scoped>\n",
       "    .dataframe tbody tr th:only-of-type {\n",
       "        vertical-align: middle;\n",
       "    }\n",
       "\n",
       "    .dataframe tbody tr th {\n",
       "        vertical-align: top;\n",
       "    }\n",
       "\n",
       "    .dataframe thead th {\n",
       "        text-align: right;\n",
       "    }\n",
       "</style>\n",
       "<table border=\"1\" class=\"dataframe\">\n",
       "  <thead>\n",
       "    <tr style=\"text-align: right;\">\n",
       "      <th></th>\n",
       "      <th>creation_month</th>\n",
       "      <th>posts_count</th>\n",
       "      <th>round</th>\n",
       "    </tr>\n",
       "  </thead>\n",
       "  <tbody>\n",
       "    <tr>\n",
       "      <th>0</th>\n",
       "      <td>9</td>\n",
       "      <td>70371</td>\n",
       "      <td>NaN</td>\n",
       "    </tr>\n",
       "    <tr>\n",
       "      <th>1</th>\n",
       "      <td>10</td>\n",
       "      <td>63102</td>\n",
       "      <td>-10.33</td>\n",
       "    </tr>\n",
       "    <tr>\n",
       "      <th>2</th>\n",
       "      <td>11</td>\n",
       "      <td>46975</td>\n",
       "      <td>-25.56</td>\n",
       "    </tr>\n",
       "    <tr>\n",
       "      <th>3</th>\n",
       "      <td>12</td>\n",
       "      <td>44592</td>\n",
       "      <td>-5.07</td>\n",
       "    </tr>\n",
       "  </tbody>\n",
       "</table>\n",
       "</div>"
      ],
      "text/plain": [
       "   creation_month  posts_count  round\n",
       "0               9        70371    NaN\n",
       "1              10        63102 -10.33\n",
       "2              11        46975 -25.56\n",
       "3              12        44592  -5.07"
      ]
     },
     "execution_count": 20,
     "metadata": {},
     "output_type": "execute_result"
    }
   ],
   "source": [
    "# напишите запрос\n",
    "query = '''\n",
    "with t1 as (select extract (month from creation_date) :: integer as creation_month,\n",
    "count (distinct id) as qty\n",
    "from stackoverflow.posts\n",
    "where (extract (month from creation_date) :: integer) between 9 and 12\n",
    "group by 1)\n",
    "\n",
    "select creation_month,\n",
    "qty as posts_count,\n",
    "round((((qty - lag (qty) over (order by creation_month))/(lag (qty) over (order by creation_month)) :: numeric)*100),2)\n",
    "from t1\n",
    "'''\n",
    "\n",
    "# выполните запрос\n",
    "task9 = pd.read_sql_query(query, con=engine) \n",
    "task9"
   ]
  },
  {
   "cell_type": "markdown",
   "metadata": {
    "id": "9NQE2y_MDWLP"
   },
   "source": [
    "Постройте круговую диаграмму с количеством постов по месяцам."
   ]
  },
  {
   "cell_type": "code",
   "execution_count": 21,
   "metadata": {
    "id": "377ABjiVDWLP"
   },
   "outputs": [
    {
     "data": {
      "text/plain": [
       "<AxesSubplot:ylabel='posts_count'>"
      ]
     },
     "execution_count": 21,
     "metadata": {},
     "output_type": "execute_result"
    },
    {
     "data": {
      "image/png": "[encoded data removed]",
      "text/plain": [
       "<Figure size 432x288 with 1 Axes>"
      ]
     },
     "metadata": {},
     "output_type": "display_data"
    }
   ],
   "source": [
    "# постройте круговую диаграмму с количеством постов по месяцам\n",
    "task9.groupby(['creation_month']).sum().plot(kind='pie', y='posts_count')"
   ]
  },
  {
   "cell_type": "markdown",
   "metadata": {
    "id": "uw7qMtafDWLP"
   },
   "source": [
    "# Задание 10"
   ]
  },
  {
   "cell_type": "markdown",
   "metadata": {
    "id": "oRBpWKx3DWLQ"
   },
   "source": [
    "Выгрузите данные активности пользователя, который опубликовал больше всего постов за всё время. Выведите данные за октябрь 2008 года в таком виде:\n",
    "\n",
    "- номер недели;\n",
    "- дата и время последнего поста, опубликованного на этой неделе."
   ]
  },
  {
   "cell_type": "markdown",
   "metadata": {
    "id": "XjAWSn_3DWLQ"
   },
   "source": [
    "| week_creation | creation_date |\n",
    "| ------------- | ------------- |\n",
    "| 40 | 2008-10-05 09:00:58 |\n",
    "| 41 | 2008-10-12 21:22:23 |\n",
    "| ... | ... |"
   ]
  },
  {
   "cell_type": "code",
   "execution_count": 22,
   "metadata": {
    "id": "r5F5fSkwDWLQ"
   },
   "outputs": [
    {
     "data": {
      "text/html": [
       "<div>\n",
       "<style scoped>\n",
       "    .dataframe tbody tr th:only-of-type {\n",
       "        vertical-align: middle;\n",
       "    }\n",
       "\n",
       "    .dataframe tbody tr th {\n",
       "        vertical-align: top;\n",
       "    }\n",
       "\n",
       "    .dataframe thead th {\n",
       "        text-align: right;\n",
       "    }\n",
       "</style>\n",
       "<table border=\"1\" class=\"dataframe\">\n",
       "  <thead>\n",
       "    <tr style=\"text-align: right;\">\n",
       "      <th></th>\n",
       "      <th>week</th>\n",
       "      <th>last_value</th>\n",
       "    </tr>\n",
       "  </thead>\n",
       "  <tbody>\n",
       "    <tr>\n",
       "      <th>0</th>\n",
       "      <td>40</td>\n",
       "      <td>2008-10-05 09:00:58</td>\n",
       "    </tr>\n",
       "    <tr>\n",
       "      <th>1</th>\n",
       "      <td>41</td>\n",
       "      <td>2008-10-12 21:22:23</td>\n",
       "    </tr>\n",
       "    <tr>\n",
       "      <th>2</th>\n",
       "      <td>42</td>\n",
       "      <td>2008-10-19 06:49:30</td>\n",
       "    </tr>\n",
       "    <tr>\n",
       "      <th>3</th>\n",
       "      <td>43</td>\n",
       "      <td>2008-10-26 21:44:36</td>\n",
       "    </tr>\n",
       "    <tr>\n",
       "      <th>4</th>\n",
       "      <td>44</td>\n",
       "      <td>2008-10-31 22:16:01</td>\n",
       "    </tr>\n",
       "  </tbody>\n",
       "</table>\n",
       "</div>"
      ],
      "text/plain": [
       "   week          last_value\n",
       "0    40 2008-10-05 09:00:58\n",
       "1    41 2008-10-12 21:22:23\n",
       "2    42 2008-10-19 06:49:30\n",
       "3    43 2008-10-26 21:44:36\n",
       "4    44 2008-10-31 22:16:01"
      ]
     },
     "execution_count": 22,
     "metadata": {},
     "output_type": "execute_result"
    }
   ],
   "source": [
    "# напишите запрос\n",
    "query = '''\n",
    "with top_user as \n",
    "(select user_id,\n",
    "(count(id)) as qty\n",
    "from stackoverflow.posts\n",
    "group by 1\n",
    "order by 2 desc\n",
    "limit 1),\n",
    "\n",
    "sessions as (\n",
    "select extract (week from p.creation_date):: integer as week,\n",
    "p.creation_date\n",
    "from stackoverflow.posts p\n",
    "inner join top_user tu on tu.user_id=p.user_id\n",
    "where (date_trunc('month', creation_date) :: date) ='2008-10-01')\n",
    "\n",
    "select distinct week,\n",
    "last_value(creation_date) over (partition by week order by creation_date ROWS BETWEEN CURRENT ROW AND UNBOUNDED FOLLOWING)\n",
    "from sessions\n",
    "order by 1\n",
    "\n",
    "'''\n",
    "\n",
    "# выполните запрос\n",
    "\n",
    "task10 = pd.read_sql_query(query, con=engine) \n",
    "task10"
   ]
  }
 ],
 "metadata": {
  "ExecuteTimeLog": [
   {
    "duration": 953,
    "start_time": "2022-08-18T12:42:55.538Z"
   },
   {
    "duration": 4,
    "start_time": "2022-08-18T12:42:56.493Z"
   },
   {
    "duration": 11179,
    "start_time": "2022-08-18T12:42:56.506Z"
   },
   {
    "duration": 269,
    "start_time": "2022-08-18T12:43:07.688Z"
   },
   {
    "duration": 19,
    "start_time": "2022-08-18T12:43:07.959Z"
   },
   {
    "duration": 3,
    "start_time": "2022-08-18T12:43:07.980Z"
   },
   {
    "duration": 6,
    "start_time": "2022-08-18T12:43:07.984Z"
   },
   {
    "duration": 9,
    "start_time": "2022-08-18T12:43:07.992Z"
   },
   {
    "duration": 19,
    "start_time": "2022-08-18T12:43:08.006Z"
   },
   {
    "duration": 7,
    "start_time": "2022-08-18T12:43:08.029Z"
   },
   {
    "duration": 4,
    "start_time": "2022-08-18T12:43:08.038Z"
   },
   {
    "duration": 6,
    "start_time": "2022-08-18T12:43:08.044Z"
   },
   {
    "duration": 6,
    "start_time": "2022-08-18T12:43:08.051Z"
   },
   {
    "duration": 6,
    "start_time": "2022-08-18T12:43:08.059Z"
   },
   {
    "duration": 5,
    "start_time": "2022-08-18T12:43:08.066Z"
   },
   {
    "duration": 4,
    "start_time": "2022-08-18T12:43:08.073Z"
   },
   {
    "duration": 5,
    "start_time": "2022-08-18T12:43:08.079Z"
   },
   {
    "duration": 5,
    "start_time": "2022-08-18T12:43:08.086Z"
   },
   {
    "duration": 5,
    "start_time": "2022-08-18T12:43:08.093Z"
   },
   {
    "duration": 18,
    "start_time": "2022-08-18T12:43:08.103Z"
   },
   {
    "duration": 5,
    "start_time": "2022-08-18T12:43:08.123Z"
   },
   {
    "duration": 7,
    "start_time": "2022-08-18T12:43:08.131Z"
   },
   {
    "duration": 239,
    "start_time": "2022-08-18T12:53:21.584Z"
   },
   {
    "duration": 154,
    "start_time": "2022-08-18T12:53:37.364Z"
   },
   {
    "duration": 141,
    "start_time": "2022-08-18T13:10:41.201Z"
   },
   {
    "duration": 168,
    "start_time": "2022-08-18T13:12:27.883Z"
   },
   {
    "duration": 215,
    "start_time": "2022-08-18T13:12:36.323Z"
   },
   {
    "duration": 141,
    "start_time": "2022-08-18T13:12:50.897Z"
   },
   {
    "duration": 126,
    "start_time": "2022-08-18T13:13:05.931Z"
   },
   {
    "duration": 222,
    "start_time": "2022-08-18T13:17:13.966Z"
   },
   {
    "duration": 59,
    "start_time": "2022-08-18T13:23:30.276Z"
   },
   {
    "duration": 106,
    "start_time": "2022-08-18T13:24:46.421Z"
   },
   {
    "duration": 133,
    "start_time": "2022-08-18T13:25:26.985Z"
   },
   {
    "duration": 62,
    "start_time": "2022-08-18T13:26:06.566Z"
   },
   {
    "duration": 191,
    "start_time": "2022-08-18T13:27:05.896Z"
   },
   {
    "duration": 235,
    "start_time": "2022-08-18T13:27:20.487Z"
   },
   {
    "duration": 201,
    "start_time": "2022-08-18T13:29:21.683Z"
   },
   {
    "duration": 172,
    "start_time": "2022-08-18T13:30:06.942Z"
   },
   {
    "duration": 361,
    "start_time": "2022-08-18T13:30:30.117Z"
   },
   {
    "duration": 115,
    "start_time": "2022-08-18T13:31:05.474Z"
   },
   {
    "duration": 70,
    "start_time": "2022-08-18T13:31:19.361Z"
   },
   {
    "duration": 172,
    "start_time": "2022-08-18T13:35:35.648Z"
   },
   {
    "duration": 83,
    "start_time": "2022-08-18T13:35:48.775Z"
   },
   {
    "duration": 62,
    "start_time": "2022-08-18T13:36:26.852Z"
   },
   {
    "duration": 82,
    "start_time": "2022-08-18T13:36:48.760Z"
   },
   {
    "duration": 130,
    "start_time": "2022-08-18T13:36:59.964Z"
   },
   {
    "duration": 1283,
    "start_time": "2022-08-18T13:37:14.969Z"
   },
   {
    "duration": 58,
    "start_time": "2022-08-18T13:38:06.212Z"
   },
   {
    "duration": 62,
    "start_time": "2022-08-18T13:38:12.368Z"
   },
   {
    "duration": 1354,
    "start_time": "2022-08-18T13:38:22.160Z"
   },
   {
    "duration": 411,
    "start_time": "2022-08-18T13:38:45.458Z"
   },
   {
    "duration": 1389,
    "start_time": "2022-08-18T13:39:00.389Z"
   },
   {
    "duration": 1559,
    "start_time": "2022-08-18T13:39:47.814Z"
   },
   {
    "duration": 1106,
    "start_time": "2022-08-18T13:40:18.110Z"
   },
   {
    "duration": 1988,
    "start_time": "2022-08-18T13:40:52.308Z"
   },
   {
    "duration": 1254,
    "start_time": "2022-08-18T13:42:01.835Z"
   },
   {
    "duration": 150,
    "start_time": "2022-08-18T13:44:24.416Z"
   },
   {
    "duration": 277,
    "start_time": "2022-08-18T13:44:40.943Z"
   },
   {
    "duration": 1391,
    "start_time": "2022-08-18T13:46:40.632Z"
   },
   {
    "duration": 919,
    "start_time": "2022-08-18T13:48:25.900Z"
   },
   {
    "duration": 429,
    "start_time": "2022-08-18T13:48:40.920Z"
   },
   {
    "duration": 425,
    "start_time": "2022-08-18T13:49:58.749Z"
   },
   {
    "duration": 353,
    "start_time": "2022-08-18T14:07:23.917Z"
   },
   {
    "duration": 172,
    "start_time": "2022-08-18T14:08:33.787Z"
   },
   {
    "duration": 350,
    "start_time": "2022-08-18T14:08:50.559Z"
   },
   {
    "duration": 4972,
    "start_time": "2022-08-18T14:09:27.126Z"
   },
   {
    "duration": 303,
    "start_time": "2022-08-18T14:12:31.988Z"
   },
   {
    "duration": 117,
    "start_time": "2022-08-18T14:13:07.032Z"
   },
   {
    "duration": 166,
    "start_time": "2022-08-18T14:13:18.955Z"
   },
   {
    "duration": 110,
    "start_time": "2022-08-18T14:17:06.372Z"
   },
   {
    "duration": 4,
    "start_time": "2022-08-18T14:17:56.258Z"
   },
   {
    "duration": 4,
    "start_time": "2022-08-18T14:18:00.114Z"
   },
   {
    "duration": 300,
    "start_time": "2022-08-18T14:18:09.910Z"
   },
   {
    "duration": 146,
    "start_time": "2022-08-18T14:20:48.717Z"
   },
   {
    "duration": 125,
    "start_time": "2022-08-18T14:22:56.159Z"
   },
   {
    "duration": 213,
    "start_time": "2022-08-18T14:23:04.883Z"
   },
   {
    "duration": 201,
    "start_time": "2022-08-18T14:25:45.091Z"
   },
   {
    "duration": 1165,
    "start_time": "2022-08-18T14:26:05.592Z"
   },
   {
    "duration": 3717,
    "start_time": "2022-08-18T14:26:24.675Z"
   },
   {
    "duration": 1549,
    "start_time": "2022-08-18T14:26:37.477Z"
   },
   {
    "duration": 1503,
    "start_time": "2022-08-18T14:26:45.728Z"
   },
   {
    "duration": 1074,
    "start_time": "2022-08-18T14:33:29.730Z"
   },
   {
    "duration": 1119,
    "start_time": "2022-08-18T14:35:17.415Z"
   },
   {
    "duration": 1101,
    "start_time": "2022-08-18T14:35:34.827Z"
   },
   {
    "duration": 92,
    "start_time": "2022-08-18T14:49:17.232Z"
   },
   {
    "duration": 104,
    "start_time": "2022-08-18T14:49:49.625Z"
   },
   {
    "duration": 146,
    "start_time": "2022-08-18T14:49:55.975Z"
   },
   {
    "duration": 133,
    "start_time": "2022-08-18T14:50:10.294Z"
   },
   {
    "duration": 131,
    "start_time": "2022-08-18T14:50:24.063Z"
   },
   {
    "duration": 114,
    "start_time": "2022-08-18T14:51:17.551Z"
   },
   {
    "duration": 148,
    "start_time": "2022-08-18T14:51:33.449Z"
   },
   {
    "duration": 118,
    "start_time": "2022-08-18T14:51:51.500Z"
   },
   {
    "duration": 131,
    "start_time": "2022-08-18T14:52:31.662Z"
   },
   {
    "duration": 105,
    "start_time": "2022-08-18T14:55:22.363Z"
   },
   {
    "duration": 101,
    "start_time": "2022-08-18T14:55:45.002Z"
   },
   {
    "duration": 300,
    "start_time": "2022-08-18T14:58:11.672Z"
   },
   {
    "duration": 170,
    "start_time": "2022-08-18T14:58:46.981Z"
   },
   {
    "duration": 196,
    "start_time": "2022-08-18T15:00:29.719Z"
   },
   {
    "duration": 148,
    "start_time": "2022-08-18T15:00:41.542Z"
   },
   {
    "duration": 145,
    "start_time": "2022-08-18T15:00:51.462Z"
   },
   {
    "duration": 152,
    "start_time": "2022-08-18T15:01:12.226Z"
   },
   {
    "duration": 140,
    "start_time": "2022-08-18T15:01:59.771Z"
   },
   {
    "duration": 226,
    "start_time": "2022-08-18T15:02:13.452Z"
   },
   {
    "duration": 128,
    "start_time": "2022-08-18T15:03:10.554Z"
   },
   {
    "duration": 150,
    "start_time": "2022-08-18T15:03:36.937Z"
   },
   {
    "duration": 151,
    "start_time": "2022-08-18T15:03:56.280Z"
   },
   {
    "duration": 152,
    "start_time": "2022-08-18T15:04:17.500Z"
   },
   {
    "duration": 190,
    "start_time": "2022-08-18T15:06:57.609Z"
   },
   {
    "duration": 162,
    "start_time": "2022-08-18T15:07:30.127Z"
   },
   {
    "duration": 172,
    "start_time": "2022-08-18T15:08:23.025Z"
   },
   {
    "duration": 187,
    "start_time": "2022-08-18T15:09:05.092Z"
   },
   {
    "duration": 218,
    "start_time": "2022-08-18T15:11:49.883Z"
   },
   {
    "duration": 174,
    "start_time": "2022-08-18T15:12:04.969Z"
   },
   {
    "duration": 180,
    "start_time": "2022-08-18T15:12:52.467Z"
   },
   {
    "duration": 115,
    "start_time": "2022-08-18T15:13:28.548Z"
   },
   {
    "duration": 163,
    "start_time": "2022-08-18T15:13:54.113Z"
   },
   {
    "duration": 119,
    "start_time": "2022-08-18T15:14:28.184Z"
   },
   {
    "duration": 204,
    "start_time": "2022-08-18T15:15:52.977Z"
   },
   {
    "duration": 780,
    "start_time": "2022-08-19T05:44:41.712Z"
   },
   {
    "duration": 4,
    "start_time": "2022-08-19T05:44:42.494Z"
   },
   {
    "duration": 7451,
    "start_time": "2022-08-19T05:44:42.499Z"
   },
   {
    "duration": 235,
    "start_time": "2022-08-19T05:44:49.951Z"
   },
   {
    "duration": 15,
    "start_time": "2022-08-19T05:44:50.188Z"
   },
   {
    "duration": 157,
    "start_time": "2022-08-19T05:44:50.204Z"
   },
   {
    "duration": 59,
    "start_time": "2022-08-19T05:44:50.363Z"
   },
   {
    "duration": 0,
    "start_time": "2022-08-19T05:44:50.424Z"
   },
   {
    "duration": 0,
    "start_time": "2022-08-19T05:44:50.425Z"
   },
   {
    "duration": 0,
    "start_time": "2022-08-19T05:44:50.426Z"
   },
   {
    "duration": 0,
    "start_time": "2022-08-19T05:44:50.427Z"
   },
   {
    "duration": 0,
    "start_time": "2022-08-19T05:44:50.428Z"
   },
   {
    "duration": 0,
    "start_time": "2022-08-19T05:44:50.429Z"
   },
   {
    "duration": 0,
    "start_time": "2022-08-19T05:44:50.430Z"
   },
   {
    "duration": 0,
    "start_time": "2022-08-19T05:44:50.431Z"
   },
   {
    "duration": 0,
    "start_time": "2022-08-19T05:44:50.432Z"
   },
   {
    "duration": 0,
    "start_time": "2022-08-19T05:44:50.433Z"
   },
   {
    "duration": 0,
    "start_time": "2022-08-19T05:44:50.434Z"
   },
   {
    "duration": 0,
    "start_time": "2022-08-19T05:44:50.435Z"
   },
   {
    "duration": 0,
    "start_time": "2022-08-19T05:44:50.436Z"
   },
   {
    "duration": 0,
    "start_time": "2022-08-19T05:44:50.437Z"
   },
   {
    "duration": 0,
    "start_time": "2022-08-19T05:44:50.438Z"
   },
   {
    "duration": 2,
    "start_time": "2022-08-19T05:45:45.404Z"
   },
   {
    "duration": 379,
    "start_time": "2022-08-19T05:45:52.626Z"
   },
   {
    "duration": 3935,
    "start_time": "2022-08-19T05:46:01.868Z"
   },
   {
    "duration": 3,
    "start_time": "2022-08-19T05:46:14.289Z"
   },
   {
    "duration": 1063,
    "start_time": "2022-08-19T05:46:17.858Z"
   },
   {
    "duration": 172,
    "start_time": "2022-08-19T05:46:28.155Z"
   },
   {
    "duration": 163,
    "start_time": "2022-08-19T05:49:13.957Z"
   },
   {
    "duration": 661,
    "start_time": "2022-08-19T05:50:57.677Z"
   },
   {
    "duration": 110,
    "start_time": "2022-08-19T05:53:39.013Z"
   },
   {
    "duration": 116,
    "start_time": "2022-08-19T05:53:51.772Z"
   },
   {
    "duration": 232,
    "start_time": "2022-08-19T05:54:07.271Z"
   },
   {
    "duration": 171,
    "start_time": "2022-08-19T05:55:35.872Z"
   },
   {
    "duration": 168,
    "start_time": "2022-08-19T05:55:43.212Z"
   },
   {
    "duration": 208,
    "start_time": "2022-08-19T05:56:05.794Z"
   },
   {
    "duration": 135,
    "start_time": "2022-08-19T05:56:10.894Z"
   },
   {
    "duration": 181,
    "start_time": "2022-08-19T05:56:46.354Z"
   },
   {
    "duration": 177,
    "start_time": "2022-08-19T05:57:00.916Z"
   },
   {
    "duration": 245,
    "start_time": "2022-08-19T05:57:47.910Z"
   },
   {
    "duration": 176,
    "start_time": "2022-08-19T05:58:29.303Z"
   },
   {
    "duration": 164,
    "start_time": "2022-08-19T05:58:56.242Z"
   },
   {
    "duration": 109,
    "start_time": "2022-08-19T06:08:39.193Z"
   },
   {
    "duration": 69,
    "start_time": "2022-08-19T06:08:53.620Z"
   },
   {
    "duration": 72,
    "start_time": "2022-08-19T06:09:18.803Z"
   },
   {
    "duration": 132,
    "start_time": "2022-08-19T06:10:10.363Z"
   },
   {
    "duration": 143,
    "start_time": "2022-08-19T06:10:15.861Z"
   },
   {
    "duration": 108,
    "start_time": "2022-08-19T06:10:46.465Z"
   },
   {
    "duration": 127,
    "start_time": "2022-08-19T06:10:58.434Z"
   },
   {
    "duration": 205,
    "start_time": "2022-08-19T06:11:50.315Z"
   },
   {
    "duration": 130,
    "start_time": "2022-08-19T06:12:28.796Z"
   },
   {
    "duration": 113,
    "start_time": "2022-08-19T06:15:14.466Z"
   },
   {
    "duration": 101,
    "start_time": "2022-08-19T06:15:20.223Z"
   },
   {
    "duration": 91,
    "start_time": "2022-08-19T06:15:26.834Z"
   },
   {
    "duration": 131,
    "start_time": "2022-08-19T06:18:04.341Z"
   },
   {
    "duration": 68,
    "start_time": "2022-08-19T06:18:23.746Z"
   },
   {
    "duration": 128,
    "start_time": "2022-08-19T06:20:46.702Z"
   },
   {
    "duration": 106,
    "start_time": "2022-08-19T06:20:55.257Z"
   },
   {
    "duration": 98,
    "start_time": "2022-08-19T06:21:07.565Z"
   },
   {
    "duration": 121,
    "start_time": "2022-08-19T06:22:12.477Z"
   },
   {
    "duration": 97,
    "start_time": "2022-08-19T06:22:26.790Z"
   },
   {
    "duration": 95,
    "start_time": "2022-08-19T06:22:43.173Z"
   },
   {
    "duration": 123,
    "start_time": "2022-08-19T06:26:01.014Z"
   },
   {
    "duration": 125,
    "start_time": "2022-08-19T06:26:15.854Z"
   },
   {
    "duration": 92,
    "start_time": "2022-08-19T06:26:24.902Z"
   },
   {
    "duration": 91,
    "start_time": "2022-08-19T06:26:43.453Z"
   },
   {
    "duration": 95,
    "start_time": "2022-08-19T06:27:13.027Z"
   },
   {
    "duration": 103,
    "start_time": "2022-08-19T06:27:54.109Z"
   },
   {
    "duration": 5037,
    "start_time": "2022-08-19T06:28:09.014Z"
   },
   {
    "duration": 95,
    "start_time": "2022-08-19T06:28:25.443Z"
   },
   {
    "duration": 73,
    "start_time": "2022-08-19T06:29:29.620Z"
   },
   {
    "duration": 149,
    "start_time": "2022-08-19T06:29:45.366Z"
   },
   {
    "duration": 72,
    "start_time": "2022-08-19T06:29:57.928Z"
   },
   {
    "duration": 1081,
    "start_time": "2022-08-19T06:48:03.632Z"
   },
   {
    "duration": 1192,
    "start_time": "2022-08-19T06:48:42.785Z"
   },
   {
    "duration": 1187,
    "start_time": "2022-08-19T06:49:24.586Z"
   },
   {
    "duration": 2958,
    "start_time": "2022-08-19T07:08:10.148Z"
   },
   {
    "duration": 1734,
    "start_time": "2022-08-19T07:09:05.022Z"
   },
   {
    "duration": 9579,
    "start_time": "2022-08-19T07:09:16.859Z"
   },
   {
    "duration": 7924,
    "start_time": "2022-08-19T07:10:11.329Z"
   },
   {
    "duration": 127,
    "start_time": "2022-08-19T07:16:17.666Z"
   },
   {
    "duration": 418,
    "start_time": "2022-08-19T07:16:54.083Z"
   },
   {
    "duration": 1163,
    "start_time": "2022-08-19T07:17:59.936Z"
   },
   {
    "duration": 1155,
    "start_time": "2022-08-19T07:18:17.239Z"
   },
   {
    "duration": 1099,
    "start_time": "2022-08-19T07:19:58.486Z"
   },
   {
    "duration": 1128,
    "start_time": "2022-08-19T07:20:17.592Z"
   },
   {
    "duration": 1176,
    "start_time": "2022-08-19T07:20:26.832Z"
   },
   {
    "duration": 1155,
    "start_time": "2022-08-19T07:21:45.320Z"
   },
   {
    "duration": 1364,
    "start_time": "2022-08-19T07:22:56.027Z"
   },
   {
    "duration": 1308,
    "start_time": "2022-08-19T07:23:08.561Z"
   },
   {
    "duration": 1300,
    "start_time": "2022-08-19T07:23:25.385Z"
   },
   {
    "duration": 3,
    "start_time": "2022-08-19T08:01:25.391Z"
   },
   {
    "duration": 283,
    "start_time": "2022-08-19T08:01:57.279Z"
   },
   {
    "duration": 202,
    "start_time": "2022-08-19T08:02:20.148Z"
   },
   {
    "duration": 268,
    "start_time": "2022-08-19T08:02:24.577Z"
   },
   {
    "duration": 152,
    "start_time": "2022-08-19T08:06:30.262Z"
   },
   {
    "duration": 381,
    "start_time": "2022-08-19T08:06:38.321Z"
   },
   {
    "duration": 210,
    "start_time": "2022-08-19T08:08:58.023Z"
   },
   {
    "duration": 104,
    "start_time": "2022-08-19T08:09:08.821Z"
   },
   {
    "duration": 101,
    "start_time": "2022-08-19T08:27:22.757Z"
   },
   {
    "duration": 307,
    "start_time": "2022-08-19T08:27:34.734Z"
   },
   {
    "duration": 9,
    "start_time": "2022-08-19T08:30:23.516Z"
   },
   {
    "duration": 15,
    "start_time": "2022-08-19T08:30:47.308Z"
   },
   {
    "duration": 1031,
    "start_time": "2022-08-19T08:32:00.801Z"
   },
   {
    "duration": 394,
    "start_time": "2022-08-19T08:32:30.851Z"
   },
   {
    "duration": 490,
    "start_time": "2022-08-19T08:32:42.218Z"
   },
   {
    "duration": 379,
    "start_time": "2022-08-19T08:32:47.966Z"
   },
   {
    "duration": 3,
    "start_time": "2022-08-19T08:42:37.791Z"
   },
   {
    "duration": 174,
    "start_time": "2022-08-19T08:43:00.070Z"
   },
   {
    "duration": 134,
    "start_time": "2022-08-19T08:43:08.484Z"
   },
   {
    "duration": 185,
    "start_time": "2022-08-19T08:43:32.552Z"
   },
   {
    "duration": 294,
    "start_time": "2022-08-19T08:44:00.887Z"
   },
   {
    "duration": 168,
    "start_time": "2022-08-19T08:44:12.444Z"
   },
   {
    "duration": 158,
    "start_time": "2022-08-19T08:44:38.792Z"
   },
   {
    "duration": 159,
    "start_time": "2022-08-19T08:46:03.489Z"
   },
   {
    "duration": 169,
    "start_time": "2022-08-19T08:48:00.026Z"
   },
   {
    "duration": 164,
    "start_time": "2022-08-19T08:49:03.911Z"
   },
   {
    "duration": 162,
    "start_time": "2022-08-19T08:49:09.755Z"
   },
   {
    "duration": 163,
    "start_time": "2022-08-19T08:49:23.217Z"
   },
   {
    "duration": 168,
    "start_time": "2022-08-19T08:49:38.834Z"
   },
   {
    "duration": 187,
    "start_time": "2022-08-19T08:49:52.343Z"
   },
   {
    "duration": 189,
    "start_time": "2022-08-19T08:50:04.836Z"
   },
   {
    "duration": 175,
    "start_time": "2022-08-19T08:50:16.705Z"
   },
   {
    "duration": 163,
    "start_time": "2022-08-19T08:50:23.374Z"
   },
   {
    "duration": 139,
    "start_time": "2022-08-19T08:50:43.978Z"
   },
   {
    "duration": 126,
    "start_time": "2022-08-19T08:50:53.909Z"
   },
   {
    "duration": 172,
    "start_time": "2022-08-19T08:51:12.103Z"
   },
   {
    "duration": 162,
    "start_time": "2022-08-19T08:51:20.873Z"
   },
   {
    "duration": 174,
    "start_time": "2022-08-19T08:51:39.155Z"
   },
   {
    "duration": 168,
    "start_time": "2022-08-19T08:52:17.374Z"
   },
   {
    "duration": 133,
    "start_time": "2022-08-19T08:52:36.201Z"
   },
   {
    "duration": 160,
    "start_time": "2022-08-19T08:52:42.087Z"
   },
   {
    "duration": 16,
    "start_time": "2022-08-19T08:55:20.570Z"
   },
   {
    "duration": 12,
    "start_time": "2022-08-19T08:55:41.370Z"
   },
   {
    "duration": 122,
    "start_time": "2022-08-19T08:55:47.274Z"
   },
   {
    "duration": 20,
    "start_time": "2022-08-19T09:08:11.116Z"
   },
   {
    "duration": 8,
    "start_time": "2022-08-19T09:11:09.080Z"
   },
   {
    "duration": 8,
    "start_time": "2022-08-19T09:11:27.784Z"
   },
   {
    "duration": 13,
    "start_time": "2022-08-19T09:21:10.080Z"
   },
   {
    "duration": 9,
    "start_time": "2022-08-19T09:21:42.639Z"
   },
   {
    "duration": 443,
    "start_time": "2022-08-19T09:25:52.446Z"
   },
   {
    "duration": 186,
    "start_time": "2022-08-19T09:26:09.105Z"
   },
   {
    "duration": 3,
    "start_time": "2022-08-19T09:29:25.304Z"
   },
   {
    "duration": 129,
    "start_time": "2022-08-19T09:29:52.803Z"
   },
   {
    "duration": 263,
    "start_time": "2022-08-19T09:30:03.829Z"
   },
   {
    "duration": 294,
    "start_time": "2022-08-19T09:30:15.118Z"
   },
   {
    "duration": 108,
    "start_time": "2022-08-19T09:31:16.423Z"
   },
   {
    "duration": 126,
    "start_time": "2022-08-19T09:31:38.495Z"
   },
   {
    "duration": 101,
    "start_time": "2022-08-19T09:32:40.432Z"
   },
   {
    "duration": 169,
    "start_time": "2022-08-19T09:44:01.823Z"
   },
   {
    "duration": 126,
    "start_time": "2022-08-19T09:44:13.365Z"
   },
   {
    "duration": 146,
    "start_time": "2022-08-19T09:44:41.938Z"
   },
   {
    "duration": 145,
    "start_time": "2022-08-19T09:45:02.702Z"
   },
   {
    "duration": 153,
    "start_time": "2022-08-19T09:49:24.569Z"
   },
   {
    "duration": 231,
    "start_time": "2022-08-19T09:52:23.746Z"
   },
   {
    "duration": 149,
    "start_time": "2022-08-19T09:52:41.517Z"
   },
   {
    "duration": 133,
    "start_time": "2022-08-19T09:52:53.523Z"
   },
   {
    "duration": 143,
    "start_time": "2022-08-19T09:53:01.224Z"
   },
   {
    "duration": 905,
    "start_time": "2022-08-19T17:30:36.501Z"
   },
   {
    "duration": 3,
    "start_time": "2022-08-19T17:30:37.408Z"
   },
   {
    "duration": 11045,
    "start_time": "2022-08-19T17:30:37.412Z"
   },
   {
    "duration": 219,
    "start_time": "2022-08-19T17:30:48.459Z"
   },
   {
    "duration": 19,
    "start_time": "2022-08-19T17:30:48.681Z"
   },
   {
    "duration": 155,
    "start_time": "2022-08-19T17:30:48.702Z"
   },
   {
    "duration": 2,
    "start_time": "2022-08-19T17:30:48.859Z"
   },
   {
    "duration": 164,
    "start_time": "2022-08-19T17:30:48.862Z"
   },
   {
    "duration": 3,
    "start_time": "2022-08-19T17:30:49.027Z"
   },
   {
    "duration": 1511,
    "start_time": "2022-08-19T17:30:49.031Z"
   },
   {
    "duration": 2,
    "start_time": "2022-08-19T17:30:50.544Z"
   },
   {
    "duration": 1223,
    "start_time": "2022-08-19T17:30:50.547Z"
   },
   {
    "duration": 128,
    "start_time": "2022-08-19T17:30:51.772Z"
   },
   {
    "duration": 69,
    "start_time": "2022-08-19T17:30:51.902Z"
   },
   {
    "duration": 2,
    "start_time": "2022-08-19T17:30:51.973Z"
   },
   {
    "duration": 1337,
    "start_time": "2022-08-19T17:30:51.977Z"
   },
   {
    "duration": 294,
    "start_time": "2022-08-19T17:30:53.316Z"
   },
   {
    "duration": 855,
    "start_time": "2022-08-19T17:30:53.612Z"
   },
   {
    "duration": 2,
    "start_time": "2022-08-19T17:30:54.469Z"
   },
   {
    "duration": 173,
    "start_time": "2022-08-19T17:30:54.473Z"
   },
   {
    "duration": 190,
    "start_time": "2022-08-19T17:30:54.647Z"
   },
   {
    "duration": 130,
    "start_time": "2022-08-19T17:30:54.838Z"
   },
   {
    "duration": 66,
    "start_time": "2022-08-20T17:30:19.332Z"
   },
   {
    "duration": 1057,
    "start_time": "2022-08-20T17:30:30.559Z"
   },
   {
    "duration": 4,
    "start_time": "2022-08-20T17:30:31.622Z"
   },
   {
    "duration": 10451,
    "start_time": "2022-08-20T17:30:31.628Z"
   },
   {
    "duration": 67,
    "start_time": "2022-08-20T17:30:42.082Z"
   },
   {
    "duration": 20,
    "start_time": "2022-08-20T17:30:42.152Z"
   },
   {
    "duration": 136,
    "start_time": "2022-08-20T17:30:42.174Z"
   },
   {
    "duration": 2,
    "start_time": "2022-08-20T17:30:42.312Z"
   },
   {
    "duration": 119,
    "start_time": "2022-08-20T17:30:42.316Z"
   },
   {
    "duration": 3,
    "start_time": "2022-08-20T17:30:42.438Z"
   },
   {
    "duration": 3963,
    "start_time": "2022-08-20T17:30:42.443Z"
   },
   {
    "duration": 2,
    "start_time": "2022-08-20T17:30:46.409Z"
   },
   {
    "duration": 1432,
    "start_time": "2022-08-20T17:30:46.413Z"
   },
   {
    "duration": 68,
    "start_time": "2022-08-20T17:30:47.847Z"
   },
   {
    "duration": 42,
    "start_time": "2022-08-20T17:30:47.918Z"
   },
   {
    "duration": 3,
    "start_time": "2022-08-20T17:30:47.962Z"
   },
   {
    "duration": 1418,
    "start_time": "2022-08-20T17:30:47.976Z"
   },
   {
    "duration": 269,
    "start_time": "2022-08-20T17:30:49.402Z"
   },
   {
    "duration": 943,
    "start_time": "2022-08-20T17:30:49.682Z"
   },
   {
    "duration": 3,
    "start_time": "2022-08-20T17:30:50.627Z"
   },
   {
    "duration": 133,
    "start_time": "2022-08-20T17:30:50.632Z"
   },
   {
    "duration": 184,
    "start_time": "2022-08-20T17:30:50.767Z"
   },
   {
    "duration": 101,
    "start_time": "2022-08-20T17:30:50.952Z"
   },
   {
    "duration": 774,
    "start_time": "2022-08-20T18:25:48.847Z"
   },
   {
    "duration": 4,
    "start_time": "2022-08-20T18:25:49.623Z"
   },
   {
    "duration": 12032,
    "start_time": "2022-08-20T18:25:49.628Z"
   },
   {
    "duration": 76,
    "start_time": "2022-08-20T18:26:01.662Z"
   },
   {
    "duration": 12,
    "start_time": "2022-08-20T18:26:01.740Z"
   },
   {
    "duration": 134,
    "start_time": "2022-08-20T18:26:01.754Z"
   },
   {
    "duration": 2,
    "start_time": "2022-08-20T18:26:01.889Z"
   },
   {
    "duration": 112,
    "start_time": "2022-08-20T18:26:01.892Z"
   },
   {
    "duration": 2,
    "start_time": "2022-08-20T18:26:02.006Z"
   },
   {
    "duration": 2678,
    "start_time": "2022-08-20T18:26:02.010Z"
   },
   {
    "duration": 2,
    "start_time": "2022-08-20T18:26:04.690Z"
   },
   {
    "duration": 1087,
    "start_time": "2022-08-20T18:26:04.694Z"
   },
   {
    "duration": 63,
    "start_time": "2022-08-20T18:26:05.783Z"
   },
   {
    "duration": 38,
    "start_time": "2022-08-20T18:26:05.848Z"
   },
   {
    "duration": 2,
    "start_time": "2022-08-20T18:26:05.888Z"
   },
   {
    "duration": 1230,
    "start_time": "2022-08-20T18:26:05.891Z"
   },
   {
    "duration": 258,
    "start_time": "2022-08-20T18:26:07.124Z"
   },
   {
    "duration": 878,
    "start_time": "2022-08-20T18:26:07.384Z"
   },
   {
    "duration": 2,
    "start_time": "2022-08-20T18:26:08.264Z"
   },
   {
    "duration": 135,
    "start_time": "2022-08-20T18:26:08.268Z"
   },
   {
    "duration": 166,
    "start_time": "2022-08-20T18:26:08.405Z"
   },
   {
    "duration": 100,
    "start_time": "2022-08-20T18:26:08.572Z"
   }
  ],
  "colab": {
   "name": "AdvansedSQLProjectTemplate.ipynb",
   "provenance": []
  },
  "kernelspec": {
   "display_name": "Python 3 (ipykernel)",
   "language": "python",
   "name": "python3"
  },
  "language_info": {
   "codemirror_mode": {
    "name": "ipython",
    "version": 3
   },
   "file_extension": ".py",
   "mimetype": "text/x-python",
   "name": "python",
   "nbconvert_exporter": "python",
   "pygments_lexer": "ipython3",
   "version": "3.9.7"
  },
  "toc": {
   "base_numbering": 1,
   "nav_menu": {},
   "number_sections": false,
   "sideBar": true,
   "skip_h1_title": false,
   "title_cell": "Table of Contents",
   "title_sidebar": "Contents",
   "toc_cell": false,
   "toc_position": {},
   "toc_section_display": true,
   "toc_window_display": true
  }
 },
 "nbformat": 4,
 "nbformat_minor": 1
}
