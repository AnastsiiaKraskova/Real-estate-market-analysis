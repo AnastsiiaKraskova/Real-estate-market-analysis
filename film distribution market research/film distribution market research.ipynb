{
 "cells": [
  {
   "cell_type": "markdown",
   "id": "eac48137",
   "metadata": {},
   "source": [
    "# Описание проекта\n",
    "\n",
    "Заказчик этого исследования — Министерство культуры Российской Федерации.\n",
    "Нужно изучить рынок российского кинопроката и выявить текущие тренды. Уделить внимание фильмам, которые получили государственную поддержку. Ответить на вопрос, насколько такие фильмы интересны зрителю.\n",
    "Буду работать с данными, опубликованными на портале открытых данных Министерства культуры. Набор данных содержит информацию о прокатных удостоверениях, сборах и государственной поддержке фильмов, а также информацию с сайта КиноПоиск.\n"
   ]
  },
  {
   "cell_type": "markdown",
   "id": "eb95eeaa",
   "metadata": {},
   "source": [
    "## Обзор данных"
   ]
  },
  {
   "cell_type": "code",
   "execution_count": 1,
   "id": "816ecce6",
   "metadata": {},
   "outputs": [],
   "source": [
    "import warnings\n",
    "warnings.filterwarnings(\"ignore\")\n",
    "import pandas as pd\n",
    "import matplotlib.pyplot as plt\n",
    "import seaborn as sns"
   ]
  },
  {
   "cell_type": "code",
   "execution_count": 2,
   "id": "39e6c37c",
   "metadata": {},
   "outputs": [],
   "source": [
    "try:\n",
    "    data_1 = pd.read_csv('C:/Users/User/Desktop/Python/Jupyter/mkrf_movies.csv', sep=',') \n",
    "#если не вышло? то берем файл проекта\n",
    "except:\n",
    "    data_1 = pd.read_csv('/datasets/mkrf_movies.csv')"
   ]
  },
  {
   "cell_type": "code",
   "execution_count": 3,
   "id": "53cba8cb",
   "metadata": {},
   "outputs": [
    {
     "name": "stdout",
     "output_type": "stream",
     "text": [
      "<class 'pandas.core.frame.DataFrame'>\n",
      "RangeIndex: 7486 entries, 0 to 7485\n",
      "Data columns (total 15 columns):\n",
      " #   Column                 Non-Null Count  Dtype  \n",
      "---  ------                 --------------  -----  \n",
      " 0   title                  7486 non-null   object \n",
      " 1   puNumber               7486 non-null   object \n",
      " 2   show_start_date        7486 non-null   object \n",
      " 3   type                   7486 non-null   object \n",
      " 4   film_studio            7468 non-null   object \n",
      " 5   production_country     7484 non-null   object \n",
      " 6   director               7477 non-null   object \n",
      " 7   producer               6918 non-null   object \n",
      " 8   age_restriction        7486 non-null   object \n",
      " 9   refundable_support     332 non-null    float64\n",
      " 10  nonrefundable_support  332 non-null    float64\n",
      " 11  budget                 332 non-null    float64\n",
      " 12  financing_source       332 non-null    object \n",
      " 13  ratings                6519 non-null   object \n",
      " 14  genres                 6510 non-null   object \n",
      "dtypes: float64(3), object(12)\n",
      "memory usage: 877.4+ KB\n"
     ]
    },
    {
     "data": {
      "text/html": [
       "<div>\n",
       "<style scoped>\n",
       "    .dataframe tbody tr th:only-of-type {\n",
       "        vertical-align: middle;\n",
       "    }\n",
       "\n",
       "    .dataframe tbody tr th {\n",
       "        vertical-align: top;\n",
       "    }\n",
       "\n",
       "    .dataframe thead th {\n",
       "        text-align: right;\n",
       "    }\n",
       "</style>\n",
       "<table border=\"1\" class=\"dataframe\">\n",
       "  <thead>\n",
       "    <tr style=\"text-align: right;\">\n",
       "      <th></th>\n",
       "      <th>title</th>\n",
       "      <th>puNumber</th>\n",
       "      <th>show_start_date</th>\n",
       "      <th>type</th>\n",
       "      <th>film_studio</th>\n",
       "      <th>production_country</th>\n",
       "      <th>director</th>\n",
       "      <th>producer</th>\n",
       "      <th>age_restriction</th>\n",
       "      <th>refundable_support</th>\n",
       "      <th>nonrefundable_support</th>\n",
       "      <th>budget</th>\n",
       "      <th>financing_source</th>\n",
       "      <th>ratings</th>\n",
       "      <th>genres</th>\n",
       "    </tr>\n",
       "  </thead>\n",
       "  <tbody>\n",
       "    <tr>\n",
       "      <th>804</th>\n",
       "      <td>Паранормальный Якутск</td>\n",
       "      <td>111004112</td>\n",
       "      <td>2012-08-24T12:00:00.000Z</td>\n",
       "      <td>Художественный</td>\n",
       "      <td>ИП Тимофеев К.П.</td>\n",
       "      <td>Россия</td>\n",
       "      <td>К.Тимофеев</td>\n",
       "      <td>NaN</td>\n",
       "      <td>«16+» - для детей старше 16 лет</td>\n",
       "      <td>NaN</td>\n",
       "      <td>NaN</td>\n",
       "      <td>NaN</td>\n",
       "      <td>NaN</td>\n",
       "      <td>NaN</td>\n",
       "      <td>NaN</td>\n",
       "    </tr>\n",
       "    <tr>\n",
       "      <th>3962</th>\n",
       "      <td>Небесный тихоход (новая цветная версия)</td>\n",
       "      <td>111000110</td>\n",
       "      <td>2010-01-14T12:00:00.000Z</td>\n",
       "      <td>Художественный</td>\n",
       "      <td>Киностудия \"Ленфильм\", ЗАО \"Киновидеообъединен...</td>\n",
       "      <td>СССР, Россия</td>\n",
       "      <td>И.Цветов (режиссер ч/б фильма - С.Тимошенко)</td>\n",
       "      <td>ЗАО \"Киновидеообъединение \"Крупный план\"</td>\n",
       "      <td>«0+» - для любой зрительской аудитории</td>\n",
       "      <td>NaN</td>\n",
       "      <td>NaN</td>\n",
       "      <td>NaN</td>\n",
       "      <td>NaN</td>\n",
       "      <td>8.0</td>\n",
       "      <td>комедия,военный</td>\n",
       "    </tr>\n",
       "    <tr>\n",
       "      <th>4768</th>\n",
       "      <td>И не было лучше брата</td>\n",
       "      <td>111000111</td>\n",
       "      <td>2011-01-13T12:00:00.000Z</td>\n",
       "      <td>Художественный</td>\n",
       "      <td>ООО \"Ибрус\"  при поддержке Киностудии \"Азербай...</td>\n",
       "      <td>Россия - Азербайджан</td>\n",
       "      <td>М.Ибрагимбеков</td>\n",
       "      <td>М.Ибрагимбеков, А.Швыдкой, Д.Шуфутинский</td>\n",
       "      <td>«16+» - для детей старше 16 лет</td>\n",
       "      <td>NaN</td>\n",
       "      <td>NaN</td>\n",
       "      <td>NaN</td>\n",
       "      <td>NaN</td>\n",
       "      <td>6.7</td>\n",
       "      <td>детектив</td>\n",
       "    </tr>\n",
       "    <tr>\n",
       "      <th>729</th>\n",
       "      <td>Детский юмористический киножурнал \"Ералаш\", вы...</td>\n",
       "      <td>111000112</td>\n",
       "      <td>2012-01-16T12:00:00.000Z</td>\n",
       "      <td>Художественный</td>\n",
       "      <td>ООО \"Ералаш\"</td>\n",
       "      <td>Россия</td>\n",
       "      <td>В.Панжев, Г.Курлаев, И.Белостоцкий, М.Сулейман...</td>\n",
       "      <td>ООО \"Ералаш\"</td>\n",
       "      <td>«0+» - для любой зрительской аудитории</td>\n",
       "      <td>NaN</td>\n",
       "      <td>NaN</td>\n",
       "      <td>NaN</td>\n",
       "      <td>NaN</td>\n",
       "      <td>7.2</td>\n",
       "      <td>детский,комедия</td>\n",
       "    </tr>\n",
       "    <tr>\n",
       "      <th>1128</th>\n",
       "      <td>Тайна перевала Дятлова</td>\n",
       "      <td>111000113</td>\n",
       "      <td>2013-01-17T12:00:00.000Z</td>\n",
       "      <td>Художественный</td>\n",
       "      <td>ООО \"Нон-Стоп Продакшн\"</td>\n",
       "      <td>Россия</td>\n",
       "      <td>Ренни Харлин</td>\n",
       "      <td>А.Роднянский, С.Мелькумов, С.Беспалов, Киа Джэм</td>\n",
       "      <td>«16+» - для детей старше 16 лет</td>\n",
       "      <td>NaN</td>\n",
       "      <td>NaN</td>\n",
       "      <td>NaN</td>\n",
       "      <td>NaN</td>\n",
       "      <td>5.1</td>\n",
       "      <td>ужасы,фантастика</td>\n",
       "    </tr>\n",
       "    <tr>\n",
       "      <th>...</th>\n",
       "      <td>...</td>\n",
       "      <td>...</td>\n",
       "      <td>...</td>\n",
       "      <td>...</td>\n",
       "      <td>...</td>\n",
       "      <td>...</td>\n",
       "      <td>...</td>\n",
       "      <td>...</td>\n",
       "      <td>...</td>\n",
       "      <td>...</td>\n",
       "      <td>...</td>\n",
       "      <td>...</td>\n",
       "      <td>...</td>\n",
       "      <td>...</td>\n",
       "      <td>...</td>\n",
       "    </tr>\n",
       "    <tr>\n",
       "      <th>4355</th>\n",
       "      <td>Первый рай</td>\n",
       "      <td>226017410</td>\n",
       "      <td>2010-05-04T12:00:00.000Z</td>\n",
       "      <td>Прочие</td>\n",
       "      <td>Би-Би-Си</td>\n",
       "      <td>Великобритания</td>\n",
       "      <td>Дэвид Аттенборо</td>\n",
       "      <td>NaN</td>\n",
       "      <td>«0+» - для любой зрительской аудитории</td>\n",
       "      <td>NaN</td>\n",
       "      <td>NaN</td>\n",
       "      <td>NaN</td>\n",
       "      <td>NaN</td>\n",
       "      <td>7.4</td>\n",
       "      <td>мультфильм,короткометражка,мелодрама</td>\n",
       "    </tr>\n",
       "    <tr>\n",
       "      <th>3992</th>\n",
       "      <td>Дэвид Гилмор \"Римемба Зет Найт\"</td>\n",
       "      <td>226019110</td>\n",
       "      <td>2010-05-14T12:00:00.000Z</td>\n",
       "      <td>Художественный</td>\n",
       "      <td>Дэвид Гилмор Мьюзик</td>\n",
       "      <td>Великобритания</td>\n",
       "      <td>Дэвид Маллет</td>\n",
       "      <td>Дайоуни Орром</td>\n",
       "      <td>«12+» - для детей старше 12 лет</td>\n",
       "      <td>NaN</td>\n",
       "      <td>NaN</td>\n",
       "      <td>NaN</td>\n",
       "      <td>NaN</td>\n",
       "      <td>7.4</td>\n",
       "      <td>триллер,драма,детектив</td>\n",
       "    </tr>\n",
       "    <tr>\n",
       "      <th>1011</th>\n",
       "      <td>ТотКтоПрошелСквозьОгонь</td>\n",
       "      <td>231001012</td>\n",
       "      <td>2015-04-23T12:00:00.000Z</td>\n",
       "      <td>Художественный</td>\n",
       "      <td>Министерство культуры Украины, Государственное...</td>\n",
       "      <td>Украина</td>\n",
       "      <td>М.Ильенко</td>\n",
       "      <td>В.Филиппов</td>\n",
       "      <td>«16+» - для детей старше 16 лет</td>\n",
       "      <td>NaN</td>\n",
       "      <td>NaN</td>\n",
       "      <td>NaN</td>\n",
       "      <td>NaN</td>\n",
       "      <td>7.2</td>\n",
       "      <td>драма,приключения,биография</td>\n",
       "    </tr>\n",
       "    <tr>\n",
       "      <th>5249</th>\n",
       "      <td>Мелодия для шарманки</td>\n",
       "      <td>231001111</td>\n",
       "      <td>2011-12-27T12:00:00.000Z</td>\n",
       "      <td>Художественный</td>\n",
       "      <td>Сота Синема Груп</td>\n",
       "      <td>Украина</td>\n",
       "      <td>Кира Муратова</td>\n",
       "      <td>Олег Кохан</td>\n",
       "      <td>«12+» - для детей старше 12 лет</td>\n",
       "      <td>NaN</td>\n",
       "      <td>NaN</td>\n",
       "      <td>NaN</td>\n",
       "      <td>NaN</td>\n",
       "      <td>6.7</td>\n",
       "      <td>драма</td>\n",
       "    </tr>\n",
       "    <tr>\n",
       "      <th>1797</th>\n",
       "      <td>Курбан-роман. (История с жертвой)</td>\n",
       "      <td>нет</td>\n",
       "      <td>2014-05-15T12:00:00.000Z</td>\n",
       "      <td>Художественный</td>\n",
       "      <td>ФОНД \"ИННОВАЦИЯ\"</td>\n",
       "      <td>Россия</td>\n",
       "      <td>С.Юзеев</td>\n",
       "      <td>М.Галицкая</td>\n",
       "      <td>«12+» - для детей старше 12 лет</td>\n",
       "      <td>NaN</td>\n",
       "      <td>NaN</td>\n",
       "      <td>NaN</td>\n",
       "      <td>NaN</td>\n",
       "      <td>NaN</td>\n",
       "      <td>NaN</td>\n",
       "    </tr>\n",
       "  </tbody>\n",
       "</table>\n",
       "<p>7486 rows × 15 columns</p>\n",
       "</div>"
      ],
      "text/plain": [
       "                                                  title    puNumber  \\\n",
       "804                               Паранормальный Якутск   111004112   \n",
       "3962            Небесный тихоход (новая цветная версия)   111000110   \n",
       "4768                              И не было лучше брата   111000111   \n",
       "729   Детский юмористический киножурнал \"Ералаш\", вы...   111000112   \n",
       "1128                             Тайна перевала Дятлова   111000113   \n",
       "...                                                 ...         ...   \n",
       "4355                                         Первый рай   226017410   \n",
       "3992                    Дэвид Гилмор \"Римемба Зет Найт\"   226019110   \n",
       "1011                            ТотКтоПрошелСквозьОгонь   231001012   \n",
       "5249                               Мелодия для шарманки   231001111   \n",
       "1797                  Курбан-роман. (История с жертвой)         нет   \n",
       "\n",
       "               show_start_date            type  \\\n",
       "804   2012-08-24T12:00:00.000Z  Художественный   \n",
       "3962  2010-01-14T12:00:00.000Z  Художественный   \n",
       "4768  2011-01-13T12:00:00.000Z  Художественный   \n",
       "729   2012-01-16T12:00:00.000Z  Художественный   \n",
       "1128  2013-01-17T12:00:00.000Z  Художественный   \n",
       "...                        ...             ...   \n",
       "4355  2010-05-04T12:00:00.000Z          Прочие   \n",
       "3992  2010-05-14T12:00:00.000Z  Художественный   \n",
       "1011  2015-04-23T12:00:00.000Z  Художественный   \n",
       "5249  2011-12-27T12:00:00.000Z  Художественный   \n",
       "1797  2014-05-15T12:00:00.000Z  Художественный   \n",
       "\n",
       "                                            film_studio    production_country  \\\n",
       "804                                    ИП Тимофеев К.П.                Россия   \n",
       "3962  Киностудия \"Ленфильм\", ЗАО \"Киновидеообъединен...          СССР, Россия   \n",
       "4768  ООО \"Ибрус\"  при поддержке Киностудии \"Азербай...  Россия - Азербайджан   \n",
       "729                                        ООО \"Ералаш\"                Россия   \n",
       "1128                            ООО \"Нон-Стоп Продакшн\"                Россия   \n",
       "...                                                 ...                   ...   \n",
       "4355                                           Би-Би-Си        Великобритания   \n",
       "3992                                Дэвид Гилмор Мьюзик        Великобритания   \n",
       "1011  Министерство культуры Украины, Государственное...               Украина   \n",
       "5249                                   Сота Синема Груп               Украина   \n",
       "1797                                   ФОНД \"ИННОВАЦИЯ\"                Россия   \n",
       "\n",
       "                                               director  \\\n",
       "804                                          К.Тимофеев   \n",
       "3962       И.Цветов (режиссер ч/б фильма - С.Тимошенко)   \n",
       "4768                                     М.Ибрагимбеков   \n",
       "729   В.Панжев, Г.Курлаев, И.Белостоцкий, М.Сулейман...   \n",
       "1128                                       Ренни Харлин   \n",
       "...                                                 ...   \n",
       "4355                                    Дэвид Аттенборо   \n",
       "3992                                       Дэвид Маллет   \n",
       "1011                                          М.Ильенко   \n",
       "5249                                      Кира Муратова   \n",
       "1797                                            С.Юзеев   \n",
       "\n",
       "                                             producer  \\\n",
       "804                                               NaN   \n",
       "3962         ЗАО \"Киновидеообъединение \"Крупный план\"   \n",
       "4768         М.Ибрагимбеков, А.Швыдкой, Д.Шуфутинский   \n",
       "729                                      ООО \"Ералаш\"   \n",
       "1128  А.Роднянский, С.Мелькумов, С.Беспалов, Киа Джэм   \n",
       "...                                               ...   \n",
       "4355                                              NaN   \n",
       "3992                                    Дайоуни Орром   \n",
       "1011                                       В.Филиппов   \n",
       "5249                                       Олег Кохан   \n",
       "1797                                       М.Галицкая   \n",
       "\n",
       "                             age_restriction  refundable_support  \\\n",
       "804          «16+» - для детей старше 16 лет                 NaN   \n",
       "3962  «0+» - для любой зрительской аудитории                 NaN   \n",
       "4768         «16+» - для детей старше 16 лет                 NaN   \n",
       "729   «0+» - для любой зрительской аудитории                 NaN   \n",
       "1128         «16+» - для детей старше 16 лет                 NaN   \n",
       "...                                      ...                 ...   \n",
       "4355  «0+» - для любой зрительской аудитории                 NaN   \n",
       "3992         «12+» - для детей старше 12 лет                 NaN   \n",
       "1011         «16+» - для детей старше 16 лет                 NaN   \n",
       "5249         «12+» - для детей старше 12 лет                 NaN   \n",
       "1797         «12+» - для детей старше 12 лет                 NaN   \n",
       "\n",
       "      nonrefundable_support  budget financing_source ratings  \\\n",
       "804                     NaN     NaN              NaN     NaN   \n",
       "3962                    NaN     NaN              NaN     8.0   \n",
       "4768                    NaN     NaN              NaN     6.7   \n",
       "729                     NaN     NaN              NaN     7.2   \n",
       "1128                    NaN     NaN              NaN     5.1   \n",
       "...                     ...     ...              ...     ...   \n",
       "4355                    NaN     NaN              NaN     7.4   \n",
       "3992                    NaN     NaN              NaN     7.4   \n",
       "1011                    NaN     NaN              NaN     7.2   \n",
       "5249                    NaN     NaN              NaN     6.7   \n",
       "1797                    NaN     NaN              NaN     NaN   \n",
       "\n",
       "                                    genres  \n",
       "804                                    NaN  \n",
       "3962                       комедия,военный  \n",
       "4768                              детектив  \n",
       "729                        детский,комедия  \n",
       "1128                      ужасы,фантастика  \n",
       "...                                    ...  \n",
       "4355  мультфильм,короткометражка,мелодрама  \n",
       "3992                триллер,драма,детектив  \n",
       "1011           драма,приключения,биография  \n",
       "5249                                 драма  \n",
       "1797                                   NaN  \n",
       "\n",
       "[7486 rows x 15 columns]"
      ]
     },
     "execution_count": 3,
     "metadata": {},
     "output_type": "execute_result"
    }
   ],
   "source": [
    "data_1.info()\n",
    "data_1.sort_values(by='puNumber')"
   ]
  },
  {
   "cell_type": "code",
   "execution_count": 4,
   "id": "43cee45a",
   "metadata": {},
   "outputs": [],
   "source": [
    "try:\n",
    "    data_2 = pd.read_csv('C:/Users/User/Desktop/Python/Jupyter/mkrf_shows.csv', sep=',') \n",
    "except:\n",
    "    data_2 = pd.read_csv('/datasets/mkrf_shows.csv')"
   ]
  },
  {
   "cell_type": "code",
   "execution_count": 5,
   "id": "26a799e0",
   "metadata": {},
   "outputs": [
    {
     "name": "stdout",
     "output_type": "stream",
     "text": [
      "<class 'pandas.core.frame.DataFrame'>\n",
      "RangeIndex: 3158 entries, 0 to 3157\n",
      "Data columns (total 2 columns):\n",
      " #   Column      Non-Null Count  Dtype  \n",
      "---  ------      --------------  -----  \n",
      " 0   puNumber    3158 non-null   int64  \n",
      " 1   box_office  3158 non-null   float64\n",
      "dtypes: float64(1), int64(1)\n",
      "memory usage: 49.5 KB\n"
     ]
    },
    {
     "data": {
      "text/html": [
       "<div>\n",
       "<style scoped>\n",
       "    .dataframe tbody tr th:only-of-type {\n",
       "        vertical-align: middle;\n",
       "    }\n",
       "\n",
       "    .dataframe tbody tr th {\n",
       "        vertical-align: top;\n",
       "    }\n",
       "\n",
       "    .dataframe thead th {\n",
       "        text-align: right;\n",
       "    }\n",
       "</style>\n",
       "<table border=\"1\" class=\"dataframe\">\n",
       "  <thead>\n",
       "    <tr style=\"text-align: right;\">\n",
       "      <th></th>\n",
       "      <th>puNumber</th>\n",
       "      <th>box_office</th>\n",
       "    </tr>\n",
       "  </thead>\n",
       "  <tbody>\n",
       "    <tr>\n",
       "      <th>0</th>\n",
       "      <td>111000113</td>\n",
       "      <td>2.450000e+03</td>\n",
       "    </tr>\n",
       "    <tr>\n",
       "      <th>1</th>\n",
       "      <td>111000115</td>\n",
       "      <td>6.104000e+04</td>\n",
       "    </tr>\n",
       "    <tr>\n",
       "      <th>2</th>\n",
       "      <td>111000116</td>\n",
       "      <td>1.530300e+08</td>\n",
       "    </tr>\n",
       "    <tr>\n",
       "      <th>3</th>\n",
       "      <td>111000117</td>\n",
       "      <td>1.226096e+07</td>\n",
       "    </tr>\n",
       "    <tr>\n",
       "      <th>4</th>\n",
       "      <td>111000118</td>\n",
       "      <td>1.636841e+08</td>\n",
       "    </tr>\n",
       "  </tbody>\n",
       "</table>\n",
       "</div>"
      ],
      "text/plain": [
       "    puNumber    box_office\n",
       "0  111000113  2.450000e+03\n",
       "1  111000115  6.104000e+04\n",
       "2  111000116  1.530300e+08\n",
       "3  111000117  1.226096e+07\n",
       "4  111000118  1.636841e+08"
      ]
     },
     "execution_count": 5,
     "metadata": {},
     "output_type": "execute_result"
    }
   ],
   "source": [
    "data_2.info()\n",
    "data_2.head()"
   ]
  },
  {
   "cell_type": "markdown",
   "id": "59724e30",
   "metadata": {},
   "source": [
    "Сохранила данные в формате csv в 2 переменные - data_1 и data_2 и сразу посмотрела на сводную информацию. Согласно вводной информации таблица *mkrf_movies* содержит информацию из реестра прокатных удостоверений. У одного фильма может быть несколько прокатных удостоверений.\n",
    "\n",
    "* title — название фильма;\n",
    "* puNumber — номер прокатного удостоверения;\n",
    "* show_start_date — дата премьеры фильма;\n",
    "* type — тип фильма;\n",
    "* film_studio — студия-производитель;\n",
    "* production_country — страна-производитель;\n",
    "* director — режиссёр;\n",
    "* producer — продюсер;\n",
    "* age_restriction — возрастная категория;\n",
    "* refundable_support — объём возвратных средств государственной поддержки;\n",
    "* nonrefundable_support — объём невозвратных средств государственной поддержки;\n",
    "* financing_source — источник государственного финансирования;\n",
    "* budget — общий бюджет фильма;\n",
    "* ratings — рейтинг фильма на КиноПоиске;\n",
    "* genres — жанр фильма.\n",
    "\n",
    "Буду учитывать, что столбец budget уже включает в себя полный объём государственной поддержки. Данные в этом столбце указаны только для тех фильмов, которые получили государственную поддержку.\n",
    "\n",
    "Таблица *mkrf_shows* содержит сведения о показах фильмов в российских кинотеатрах.\n",
    "* puNumber — номер прокатного удостоверения;\n",
    "* box_office — сборы в рублях."
   ]
  },
  {
   "cell_type": "markdown",
   "id": "a1adb70a",
   "metadata": {},
   "source": [
    "Объеденим 2 таблицы в одну, чтобы удобно было работать. Возьму все фильмы из таблицы *mkrf_movies* и найду им соответсвие по номеру прокатного удостоверения в таблице *mkrf_shows*. Но для начала изменим тип данных в колонке `puNumber` таблицы *mkrf_shows* т.к. во второй таблице тип этой же колонки object. Иначе не смогу объеденить."
   ]
  },
  {
   "cell_type": "code",
   "execution_count": 6,
   "id": "4a15a25d",
   "metadata": {},
   "outputs": [],
   "source": [
    "data_2['puNumber'] = data_2['puNumber'].astype(str)"
   ]
  },
  {
   "cell_type": "code",
   "execution_count": 7,
   "id": "0bfeb111",
   "metadata": {},
   "outputs": [
    {
     "name": "stdout",
     "output_type": "stream",
     "text": [
      "<class 'pandas.core.frame.DataFrame'>\n",
      "Int64Index: 7486 entries, 0 to 7485\n",
      "Data columns (total 16 columns):\n",
      " #   Column                 Non-Null Count  Dtype  \n",
      "---  ------                 --------------  -----  \n",
      " 0   title                  7486 non-null   object \n",
      " 1   puNumber               7486 non-null   object \n",
      " 2   show_start_date        7486 non-null   object \n",
      " 3   type                   7486 non-null   object \n",
      " 4   film_studio            7468 non-null   object \n",
      " 5   production_country     7484 non-null   object \n",
      " 6   director               7477 non-null   object \n",
      " 7   producer               6918 non-null   object \n",
      " 8   age_restriction        7486 non-null   object \n",
      " 9   refundable_support     332 non-null    float64\n",
      " 10  nonrefundable_support  332 non-null    float64\n",
      " 11  budget                 332 non-null    float64\n",
      " 12  financing_source       332 non-null    object \n",
      " 13  ratings                6519 non-null   object \n",
      " 14  genres                 6510 non-null   object \n",
      " 15  box_office             3158 non-null   float64\n",
      "dtypes: float64(4), object(12)\n",
      "memory usage: 994.2+ KB\n"
     ]
    },
    {
     "data": {
      "text/html": [
       "<div>\n",
       "<style scoped>\n",
       "    .dataframe tbody tr th:only-of-type {\n",
       "        vertical-align: middle;\n",
       "    }\n",
       "\n",
       "    .dataframe tbody tr th {\n",
       "        vertical-align: top;\n",
       "    }\n",
       "\n",
       "    .dataframe thead th {\n",
       "        text-align: right;\n",
       "    }\n",
       "</style>\n",
       "<table border=\"1\" class=\"dataframe\">\n",
       "  <thead>\n",
       "    <tr style=\"text-align: right;\">\n",
       "      <th></th>\n",
       "      <th>title</th>\n",
       "      <th>puNumber</th>\n",
       "      <th>show_start_date</th>\n",
       "      <th>type</th>\n",
       "      <th>film_studio</th>\n",
       "      <th>production_country</th>\n",
       "      <th>director</th>\n",
       "      <th>producer</th>\n",
       "      <th>age_restriction</th>\n",
       "      <th>refundable_support</th>\n",
       "      <th>nonrefundable_support</th>\n",
       "      <th>budget</th>\n",
       "      <th>financing_source</th>\n",
       "      <th>ratings</th>\n",
       "      <th>genres</th>\n",
       "      <th>box_office</th>\n",
       "    </tr>\n",
       "  </thead>\n",
       "  <tbody>\n",
       "    <tr>\n",
       "      <th>0</th>\n",
       "      <td>Открытый простор</td>\n",
       "      <td>221048915</td>\n",
       "      <td>2015-11-27T12:00:00.000Z</td>\n",
       "      <td>Художественный</td>\n",
       "      <td>Тачстоун Пикчерз, Кобальт Пикчерз, Бикон Пикче...</td>\n",
       "      <td>США</td>\n",
       "      <td>Кевин Костнер</td>\n",
       "      <td>Дэвид Валдес, Кевин Костнер, Джейк Эбертс</td>\n",
       "      <td>«18+» - запрещено для детей</td>\n",
       "      <td>NaN</td>\n",
       "      <td>NaN</td>\n",
       "      <td>NaN</td>\n",
       "      <td>NaN</td>\n",
       "      <td>7.2</td>\n",
       "      <td>боевик,драма,мелодрама</td>\n",
       "      <td>NaN</td>\n",
       "    </tr>\n",
       "    <tr>\n",
       "      <th>1</th>\n",
       "      <td>Особо важное задание</td>\n",
       "      <td>111013716</td>\n",
       "      <td>2016-09-13T12:00:00.000Z</td>\n",
       "      <td>Художественный</td>\n",
       "      <td>Киностудия \"Мосфильм\"</td>\n",
       "      <td>СССР</td>\n",
       "      <td>Е.Матвеев</td>\n",
       "      <td>NaN</td>\n",
       "      <td>«6+» - для детей старше 6 лет</td>\n",
       "      <td>NaN</td>\n",
       "      <td>NaN</td>\n",
       "      <td>NaN</td>\n",
       "      <td>NaN</td>\n",
       "      <td>6.6</td>\n",
       "      <td>драма,военный</td>\n",
       "      <td>NaN</td>\n",
       "    </tr>\n",
       "    <tr>\n",
       "      <th>2</th>\n",
       "      <td>Особо опасен</td>\n",
       "      <td>221038416</td>\n",
       "      <td>2016-10-10T12:00:00.000Z</td>\n",
       "      <td>Художественный</td>\n",
       "      <td>Юниверсал Пикчерз, Кикстарт Продакшнз, Марк Пл...</td>\n",
       "      <td>США</td>\n",
       "      <td>Тимур Бекмамбетов</td>\n",
       "      <td>Джим Лемли, Джейсон Нетер, Марк Е.Платт, Яйн Смит</td>\n",
       "      <td>«18+» - запрещено для детей</td>\n",
       "      <td>NaN</td>\n",
       "      <td>NaN</td>\n",
       "      <td>NaN</td>\n",
       "      <td>NaN</td>\n",
       "      <td>6.8</td>\n",
       "      <td>фантастика,боевик,триллер</td>\n",
       "      <td>NaN</td>\n",
       "    </tr>\n",
       "    <tr>\n",
       "      <th>3</th>\n",
       "      <td>Особо опасен</td>\n",
       "      <td>221026916</td>\n",
       "      <td>2016-06-10T12:00:00.000Z</td>\n",
       "      <td>Художественный</td>\n",
       "      <td>Юниверсал Пикчерз, Кикстарт Продакшнз, Марк Пл...</td>\n",
       "      <td>США</td>\n",
       "      <td>Тимур Бекмамбетов</td>\n",
       "      <td>Джим Лемли, Джейсон Нетер, Марк Е.Платт, Яйн Смит</td>\n",
       "      <td>«18+» - запрещено для детей</td>\n",
       "      <td>NaN</td>\n",
       "      <td>NaN</td>\n",
       "      <td>NaN</td>\n",
       "      <td>NaN</td>\n",
       "      <td>6.8</td>\n",
       "      <td>фантастика,боевик,триллер</td>\n",
       "      <td>NaN</td>\n",
       "    </tr>\n",
       "    <tr>\n",
       "      <th>4</th>\n",
       "      <td>Особо опасен</td>\n",
       "      <td>221030815</td>\n",
       "      <td>2015-07-29T12:00:00.000Z</td>\n",
       "      <td>Художественный</td>\n",
       "      <td>Юниверсал Пикчерз, Кикстарт Продакшнз, Марк Пл...</td>\n",
       "      <td>США</td>\n",
       "      <td>Тимур Бекмамбетов</td>\n",
       "      <td>Джим Лемли, Джейсон Нетер, Марк Е.Платт, Яйн Смит</td>\n",
       "      <td>«18+» - запрещено для детей</td>\n",
       "      <td>NaN</td>\n",
       "      <td>NaN</td>\n",
       "      <td>NaN</td>\n",
       "      <td>NaN</td>\n",
       "      <td>6.8</td>\n",
       "      <td>фантастика,боевик,триллер</td>\n",
       "      <td>NaN</td>\n",
       "    </tr>\n",
       "  </tbody>\n",
       "</table>\n",
       "</div>"
      ],
      "text/plain": [
       "                  title   puNumber           show_start_date            type  \\\n",
       "0      Открытый простор  221048915  2015-11-27T12:00:00.000Z  Художественный   \n",
       "1  Особо важное задание  111013716  2016-09-13T12:00:00.000Z  Художественный   \n",
       "2          Особо опасен  221038416  2016-10-10T12:00:00.000Z  Художественный   \n",
       "3          Особо опасен  221026916  2016-06-10T12:00:00.000Z  Художественный   \n",
       "4          Особо опасен  221030815  2015-07-29T12:00:00.000Z  Художественный   \n",
       "\n",
       "                                         film_studio production_country  \\\n",
       "0  Тачстоун Пикчерз, Кобальт Пикчерз, Бикон Пикче...                США   \n",
       "1                              Киностудия \"Мосфильм\"               СССР   \n",
       "2  Юниверсал Пикчерз, Кикстарт Продакшнз, Марк Пл...                США   \n",
       "3  Юниверсал Пикчерз, Кикстарт Продакшнз, Марк Пл...                США   \n",
       "4  Юниверсал Пикчерз, Кикстарт Продакшнз, Марк Пл...                США   \n",
       "\n",
       "            director                                           producer  \\\n",
       "0      Кевин Костнер          Дэвид Валдес, Кевин Костнер, Джейк Эбертс   \n",
       "1          Е.Матвеев                                                NaN   \n",
       "2  Тимур Бекмамбетов  Джим Лемли, Джейсон Нетер, Марк Е.Платт, Яйн Смит   \n",
       "3  Тимур Бекмамбетов  Джим Лемли, Джейсон Нетер, Марк Е.Платт, Яйн Смит   \n",
       "4  Тимур Бекмамбетов  Джим Лемли, Джейсон Нетер, Марк Е.Платт, Яйн Смит   \n",
       "\n",
       "                 age_restriction  refundable_support  nonrefundable_support  \\\n",
       "0    «18+» - запрещено для детей                 NaN                    NaN   \n",
       "1  «6+» - для детей старше 6 лет                 NaN                    NaN   \n",
       "2    «18+» - запрещено для детей                 NaN                    NaN   \n",
       "3    «18+» - запрещено для детей                 NaN                    NaN   \n",
       "4    «18+» - запрещено для детей                 NaN                    NaN   \n",
       "\n",
       "   budget financing_source ratings                     genres  box_office  \n",
       "0     NaN              NaN     7.2     боевик,драма,мелодрама         NaN  \n",
       "1     NaN              NaN     6.6              драма,военный         NaN  \n",
       "2     NaN              NaN     6.8  фантастика,боевик,триллер         NaN  \n",
       "3     NaN              NaN     6.8  фантастика,боевик,триллер         NaN  \n",
       "4     NaN              NaN     6.8  фантастика,боевик,триллер         NaN  "
      ]
     },
     "execution_count": 7,
     "metadata": {},
     "output_type": "execute_result"
    }
   ],
   "source": [
    "data = data_1.merge(data_2, on='puNumber', how='left')\n",
    "data.info()\n",
    "data.head()"
   ]
  },
  {
   "cell_type": "markdown",
   "id": "6164ce75",
   "metadata": {},
   "source": [
    "Объеденила 2 таблицы в одну `data` , проверила, что все строки (по количеству) из таблицы со сборами попали в новую общую таблицу. Перехожу к обработке данных. "
   ]
  },
  {
   "cell_type": "markdown",
   "id": "38ee5944",
   "metadata": {},
   "source": [
    "## Предобработка данных"
   ]
  },
  {
   "cell_type": "markdown",
   "id": "91aba34b",
   "metadata": {},
   "source": [
    "### Изменение типа данных"
   ]
  },
  {
   "cell_type": "markdown",
   "id": "3f56e863",
   "metadata": {},
   "source": [
    "Начнем с преобразования типов данных. Заменим тип данных в колонке `show_start_date`, чтобы потом иметь возможность изъять год. А также изменим тип данных в колонке `ratings` на числовой, чтобы потом сравнивать. И заменим тип в колонках `director` и `genres` на строковый, чтобы после изъять первые слова для других колонок."
   ]
  },
  {
   "cell_type": "code",
   "execution_count": 8,
   "id": "cd612040",
   "metadata": {},
   "outputs": [
    {
     "data": {
      "text/html": [
       "<div>\n",
       "<style scoped>\n",
       "    .dataframe tbody tr th:only-of-type {\n",
       "        vertical-align: middle;\n",
       "    }\n",
       "\n",
       "    .dataframe tbody tr th {\n",
       "        vertical-align: top;\n",
       "    }\n",
       "\n",
       "    .dataframe thead th {\n",
       "        text-align: right;\n",
       "    }\n",
       "</style>\n",
       "<table border=\"1\" class=\"dataframe\">\n",
       "  <thead>\n",
       "    <tr style=\"text-align: right;\">\n",
       "      <th></th>\n",
       "      <th>title</th>\n",
       "      <th>puNumber</th>\n",
       "      <th>show_start_date</th>\n",
       "      <th>type</th>\n",
       "      <th>film_studio</th>\n",
       "      <th>production_country</th>\n",
       "      <th>director</th>\n",
       "      <th>producer</th>\n",
       "      <th>age_restriction</th>\n",
       "      <th>refundable_support</th>\n",
       "      <th>nonrefundable_support</th>\n",
       "      <th>budget</th>\n",
       "      <th>financing_source</th>\n",
       "      <th>ratings</th>\n",
       "      <th>genres</th>\n",
       "      <th>box_office</th>\n",
       "    </tr>\n",
       "  </thead>\n",
       "  <tbody>\n",
       "    <tr>\n",
       "      <th>6882</th>\n",
       "      <td>Животные рядом со Святыми</td>\n",
       "      <td>112003719</td>\n",
       "      <td>2019-05-03 12:00:00+00:00</td>\n",
       "      <td>Документальный</td>\n",
       "      <td>ООО \"Кинопрограмма \"XXI век\"</td>\n",
       "      <td>Россия</td>\n",
       "      <td>Т.Мирошник</td>\n",
       "      <td>В.Есинов, Е.Калинина</td>\n",
       "      <td>«0+» - для любой зрительской аудитории</td>\n",
       "      <td>NaN</td>\n",
       "      <td>NaN</td>\n",
       "      <td>NaN</td>\n",
       "      <td>NaN</td>\n",
       "      <td>99%</td>\n",
       "      <td>криминал,драма</td>\n",
       "      <td>NaN</td>\n",
       "    </tr>\n",
       "    <tr>\n",
       "      <th>259</th>\n",
       "      <td>Прошлое</td>\n",
       "      <td>221030715</td>\n",
       "      <td>2015-07-29 12:00:00+00:00</td>\n",
       "      <td>Художественный</td>\n",
       "      <td>20 Сенчюри Фокс де Архентина, Чемо, ЭйчБи Филм...</td>\n",
       "      <td>Аргентина - Бразилия</td>\n",
       "      <td>Эктор Бабенко</td>\n",
       "      <td>Эктор Бабенко, Оскар Крамер, Хуго Сидмэн</td>\n",
       "      <td>«16+» - для детей старше 16 лет</td>\n",
       "      <td>NaN</td>\n",
       "      <td>NaN</td>\n",
       "      <td>NaN</td>\n",
       "      <td>NaN</td>\n",
       "      <td>99%</td>\n",
       "      <td>ужасы,триллер,драма</td>\n",
       "      <td>NaN</td>\n",
       "    </tr>\n",
       "    <tr>\n",
       "      <th>1341</th>\n",
       "      <td>Сказка о добре и Вре</td>\n",
       "      <td>111008913</td>\n",
       "      <td>2013-11-15 12:00:00+00:00</td>\n",
       "      <td>Художественный</td>\n",
       "      <td>НП \"Студия игрового кино \"Лик\"</td>\n",
       "      <td>Россия</td>\n",
       "      <td>Е.Шиляева</td>\n",
       "      <td>К.Терещенко</td>\n",
       "      <td>«6+» - для детей старше 6 лет</td>\n",
       "      <td>NaN</td>\n",
       "      <td>NaN</td>\n",
       "      <td>NaN</td>\n",
       "      <td>NaN</td>\n",
       "      <td>99%</td>\n",
       "      <td>триллер,драма,детектив</td>\n",
       "      <td>NaN</td>\n",
       "    </tr>\n",
       "    <tr>\n",
       "      <th>1805</th>\n",
       "      <td>Спираль.</td>\n",
       "      <td>111001014</td>\n",
       "      <td>2014-01-30 12:00:00+00:00</td>\n",
       "      <td>Художественный</td>\n",
       "      <td>ООО \"Компания Питон\"</td>\n",
       "      <td>Россия</td>\n",
       "      <td>А.Волгин</td>\n",
       "      <td>Е.Ковалева</td>\n",
       "      <td>«12+» - для детей старше 12 лет</td>\n",
       "      <td>NaN</td>\n",
       "      <td>NaN</td>\n",
       "      <td>NaN</td>\n",
       "      <td>NaN</td>\n",
       "      <td>99%</td>\n",
       "      <td>аниме,мультфильм,ужасы</td>\n",
       "      <td>4295.0</td>\n",
       "    </tr>\n",
       "    <tr>\n",
       "      <th>6616</th>\n",
       "      <td>ОТ ВОЙНЫ ДО НАШИХ ДНЕЙ</td>\n",
       "      <td>111026518</td>\n",
       "      <td>2019-01-21 12:00:00+00:00</td>\n",
       "      <td>Художественный</td>\n",
       "      <td>ИП Вайсман Анатолий Александрович</td>\n",
       "      <td>Россия</td>\n",
       "      <td>А.Сазонов, Е.Климович, А.Коломеец, С.Черникова...</td>\n",
       "      <td>Д.Руюежин, Л.Пятницкая, Д.Колеров, Э.Ким, А.Хомич</td>\n",
       "      <td>«12+» - для детей старше 12 лет</td>\n",
       "      <td>NaN</td>\n",
       "      <td>NaN</td>\n",
       "      <td>NaN</td>\n",
       "      <td>NaN</td>\n",
       "      <td>98%</td>\n",
       "      <td>фантастика,боевик</td>\n",
       "      <td>NaN</td>\n",
       "    </tr>\n",
       "    <tr>\n",
       "      <th>6737</th>\n",
       "      <td>Колесо времени</td>\n",
       "      <td>111003219</td>\n",
       "      <td>2019-03-01 12:00:00+00:00</td>\n",
       "      <td>Художественный</td>\n",
       "      <td>ООО \"БестМедиа\"</td>\n",
       "      <td>Россия</td>\n",
       "      <td>Б.Куломзин</td>\n",
       "      <td>Б.Куломзин</td>\n",
       "      <td>«6+» - для детей старше 6 лет</td>\n",
       "      <td>NaN</td>\n",
       "      <td>NaN</td>\n",
       "      <td>NaN</td>\n",
       "      <td>NaN</td>\n",
       "      <td>98%</td>\n",
       "      <td>фэнтези,приключения</td>\n",
       "      <td>34992.0</td>\n",
       "    </tr>\n",
       "    <tr>\n",
       "      <th>3948</th>\n",
       "      <td>Круиз.</td>\n",
       "      <td>211038210</td>\n",
       "      <td>2010-09-03 12:00:00+00:00</td>\n",
       "      <td>Художественный</td>\n",
       "      <td>ООО \"ЮНАЙТЕД МУЛЬТИМЕДИА ПРОДЖЕКТС\"</td>\n",
       "      <td>Россия</td>\n",
       "      <td>И.Ромащенко</td>\n",
       "      <td>Р.Атамалибеков</td>\n",
       "      <td>«16+» - для детей старше 16 лет</td>\n",
       "      <td>NaN</td>\n",
       "      <td>NaN</td>\n",
       "      <td>NaN</td>\n",
       "      <td>NaN</td>\n",
       "      <td>97%</td>\n",
       "      <td>приключения,комедия,фэнтези</td>\n",
       "      <td>NaN</td>\n",
       "    </tr>\n",
       "    <tr>\n",
       "      <th>3585</th>\n",
       "      <td>Машины Страшилки. Серия \"Жутчайшая повесть о п...</td>\n",
       "      <td>114003916</td>\n",
       "      <td>2016-12-09 12:00:00+00:00</td>\n",
       "      <td>Анимационный</td>\n",
       "      <td>ООО Студия \"АНИМАККОРД\", АНИМАККОРД ЛТД.</td>\n",
       "      <td>Россия, Республика Кипр</td>\n",
       "      <td>Д.Червяцов</td>\n",
       "      <td>Д.Ловейко, О.Кузовков</td>\n",
       "      <td>«0+» - для любой зрительской аудитории</td>\n",
       "      <td>NaN</td>\n",
       "      <td>NaN</td>\n",
       "      <td>NaN</td>\n",
       "      <td>NaN</td>\n",
       "      <td>97%</td>\n",
       "      <td>мультфильм,ужасы,фэнтези</td>\n",
       "      <td>NaN</td>\n",
       "    </tr>\n",
       "    <tr>\n",
       "      <th>1053</th>\n",
       "      <td>Песочный человек</td>\n",
       "      <td>121029212</td>\n",
       "      <td>2012-11-29 12:00:00+00:00</td>\n",
       "      <td>Художественный</td>\n",
       "      <td>Спотлайт Медиа Продакшн</td>\n",
       "      <td>Швейцария</td>\n",
       "      <td>Питер Луизи</td>\n",
       "      <td>Дэвид Луизи, Питер Луизи</td>\n",
       "      <td>«16+» - для детей старше 16 лет</td>\n",
       "      <td>NaN</td>\n",
       "      <td>NaN</td>\n",
       "      <td>NaN</td>\n",
       "      <td>NaN</td>\n",
       "      <td>97%</td>\n",
       "      <td>ужасы,фантастика,фэнтези</td>\n",
       "      <td>NaN</td>\n",
       "    </tr>\n",
       "    <tr>\n",
       "      <th>5910</th>\n",
       "      <td>Мира</td>\n",
       "      <td>112000118</td>\n",
       "      <td>2018-06-04 12:00:00+00:00</td>\n",
       "      <td>Документальный</td>\n",
       "      <td>ООО \"Компания \"Новые люди\"</td>\n",
       "      <td>Россия</td>\n",
       "      <td>Д.Шабаев</td>\n",
       "      <td>Н.Мокрицкая</td>\n",
       "      <td>«18+» - запрещено для детей</td>\n",
       "      <td>NaN</td>\n",
       "      <td>NaN</td>\n",
       "      <td>NaN</td>\n",
       "      <td>NaN</td>\n",
       "      <td>94%</td>\n",
       "      <td>драма</td>\n",
       "      <td>NaN</td>\n",
       "    </tr>\n",
       "  </tbody>\n",
       "</table>\n",
       "</div>"
      ],
      "text/plain": [
       "                                                  title   puNumber  \\\n",
       "6882                          Животные рядом со Святыми  112003719   \n",
       "259                                             Прошлое  221030715   \n",
       "1341                               Сказка о добре и Вре  111008913   \n",
       "1805                                           Спираль.  111001014   \n",
       "6616                             ОТ ВОЙНЫ ДО НАШИХ ДНЕЙ  111026518   \n",
       "6737                                     Колесо времени  111003219   \n",
       "3948                                             Круиз.  211038210   \n",
       "3585  Машины Страшилки. Серия \"Жутчайшая повесть о п...  114003916   \n",
       "1053                                   Песочный человек  121029212   \n",
       "5910                                               Мира  112000118   \n",
       "\n",
       "               show_start_date             type  \\\n",
       "6882 2019-05-03 12:00:00+00:00   Документальный   \n",
       "259  2015-07-29 12:00:00+00:00   Художественный   \n",
       "1341 2013-11-15 12:00:00+00:00   Художественный   \n",
       "1805 2014-01-30 12:00:00+00:00   Художественный   \n",
       "6616 2019-01-21 12:00:00+00:00   Художественный   \n",
       "6737 2019-03-01 12:00:00+00:00   Художественный   \n",
       "3948 2010-09-03 12:00:00+00:00   Художественный   \n",
       "3585 2016-12-09 12:00:00+00:00     Анимационный   \n",
       "1053 2012-11-29 12:00:00+00:00   Художественный   \n",
       "5910 2018-06-04 12:00:00+00:00   Документальный   \n",
       "\n",
       "                                            film_studio  \\\n",
       "6882                       ООО \"Кинопрограмма \"XXI век\"   \n",
       "259   20 Сенчюри Фокс де Архентина, Чемо, ЭйчБи Филм...   \n",
       "1341                     НП \"Студия игрового кино \"Лик\"   \n",
       "1805                               ООО \"Компания Питон\"   \n",
       "6616                  ИП Вайсман Анатолий Александрович   \n",
       "6737                                    ООО \"БестМедиа\"   \n",
       "3948                ООО \"ЮНАЙТЕД МУЛЬТИМЕДИА ПРОДЖЕКТС\"   \n",
       "3585           ООО Студия \"АНИМАККОРД\", АНИМАККОРД ЛТД.   \n",
       "1053                            Спотлайт Медиа Продакшн   \n",
       "5910                         ООО \"Компания \"Новые люди\"   \n",
       "\n",
       "           production_country  \\\n",
       "6882                   Россия   \n",
       "259      Аргентина - Бразилия   \n",
       "1341                   Россия   \n",
       "1805                   Россия   \n",
       "6616                   Россия   \n",
       "6737                   Россия   \n",
       "3948                   Россия   \n",
       "3585  Россия, Республика Кипр   \n",
       "1053                Швейцария   \n",
       "5910                   Россия   \n",
       "\n",
       "                                               director  \\\n",
       "6882                                         Т.Мирошник   \n",
       "259                                       Эктор Бабенко   \n",
       "1341                                          Е.Шиляева   \n",
       "1805                                           А.Волгин   \n",
       "6616  А.Сазонов, Е.Климович, А.Коломеец, С.Черникова...   \n",
       "6737                                         Б.Куломзин   \n",
       "3948                                        И.Ромащенко   \n",
       "3585                                         Д.Червяцов   \n",
       "1053                                        Питер Луизи   \n",
       "5910                                           Д.Шабаев   \n",
       "\n",
       "                                               producer  \\\n",
       "6882                               В.Есинов, Е.Калинина   \n",
       "259            Эктор Бабенко, Оскар Крамер, Хуго Сидмэн   \n",
       "1341                                        К.Терещенко   \n",
       "1805                                         Е.Ковалева   \n",
       "6616  Д.Руюежин, Л.Пятницкая, Д.Колеров, Э.Ким, А.Хомич   \n",
       "6737                                         Б.Куломзин   \n",
       "3948                                     Р.Атамалибеков   \n",
       "3585                              Д.Ловейко, О.Кузовков   \n",
       "1053                           Дэвид Луизи, Питер Луизи   \n",
       "5910                                        Н.Мокрицкая   \n",
       "\n",
       "                             age_restriction  refundable_support  \\\n",
       "6882  «0+» - для любой зрительской аудитории                 NaN   \n",
       "259          «16+» - для детей старше 16 лет                 NaN   \n",
       "1341           «6+» - для детей старше 6 лет                 NaN   \n",
       "1805         «12+» - для детей старше 12 лет                 NaN   \n",
       "6616         «12+» - для детей старше 12 лет                 NaN   \n",
       "6737           «6+» - для детей старше 6 лет                 NaN   \n",
       "3948         «16+» - для детей старше 16 лет                 NaN   \n",
       "3585  «0+» - для любой зрительской аудитории                 NaN   \n",
       "1053         «16+» - для детей старше 16 лет                 NaN   \n",
       "5910             «18+» - запрещено для детей                 NaN   \n",
       "\n",
       "      nonrefundable_support  budget financing_source ratings  \\\n",
       "6882                    NaN     NaN              NaN     99%   \n",
       "259                     NaN     NaN              NaN     99%   \n",
       "1341                    NaN     NaN              NaN     99%   \n",
       "1805                    NaN     NaN              NaN     99%   \n",
       "6616                    NaN     NaN              NaN     98%   \n",
       "6737                    NaN     NaN              NaN     98%   \n",
       "3948                    NaN     NaN              NaN     97%   \n",
       "3585                    NaN     NaN              NaN     97%   \n",
       "1053                    NaN     NaN              NaN     97%   \n",
       "5910                    NaN     NaN              NaN     94%   \n",
       "\n",
       "                           genres  box_office  \n",
       "6882               криминал,драма         NaN  \n",
       "259           ужасы,триллер,драма         NaN  \n",
       "1341       триллер,драма,детектив         NaN  \n",
       "1805       аниме,мультфильм,ужасы      4295.0  \n",
       "6616            фантастика,боевик         NaN  \n",
       "6737          фэнтези,приключения     34992.0  \n",
       "3948  приключения,комедия,фэнтези         NaN  \n",
       "3585     мультфильм,ужасы,фэнтези         NaN  \n",
       "1053     ужасы,фантастика,фэнтези         NaN  \n",
       "5910                        драма         NaN  "
      ]
     },
     "execution_count": 8,
     "metadata": {},
     "output_type": "execute_result"
    }
   ],
   "source": [
    "data['show_start_date'] = pd.to_datetime(data['show_start_date'], format='%Y.%m.%dT%H:%M:%S')\n",
    "data.sort_values(by='ratings', ascending=False).head(10)"
   ]
  },
  {
   "cell_type": "markdown",
   "id": "d7d7dfe2",
   "metadata": {},
   "source": [
    "Прежде чем заменить тип в колонке рейтинг, придется ее обработать. т.к. в ней есть проценты. Пытаясь понять, что они значат, поискав на кинопоиске первые 10 фильмов с максимальным рейтингом в процентах, можно сказать,  что это ошибка. Из этих 10 части фильмов вообще нет на кинопоиске, а у части очень низкий рейтинг (меньше 5). Посмотрим сколько вообще таких строчек с процентами."
   ]
  },
  {
   "cell_type": "code",
   "execution_count": 9,
   "id": "c5ebc82a",
   "metadata": {},
   "outputs": [
    {
     "data": {
      "text/plain": [
       "6.6    312\n",
       "6.7    308\n",
       "6.8    261\n",
       "7.2    252\n",
       "6.2    243\n",
       "      ... \n",
       "1.8      1\n",
       "1.9      1\n",
       "19%      1\n",
       "28%      1\n",
       "1.0      1\n",
       "Name: ratings, Length: 94, dtype: int64"
      ]
     },
     "execution_count": 9,
     "metadata": {},
     "output_type": "execute_result"
    }
   ],
   "source": [
    "#pd.set_option('display.max_rows', None) # Сброс ограничений на количество выводимых рядов (использовала и закомментировала)\n",
    "data['ratings'].sort_values().value_counts()"
   ]
  },
  {
   "cell_type": "markdown",
   "id": "04d1f8a8",
   "metadata": {},
   "source": [
    "Выше я увидела что только 29 строк содержат рейтинг в процентах и при  этом 10 из них я уже проверила на кинопоиске и части фильмов либо нет, либо низкий рейтинг. Пожертвуем ими при смене типа и превратим в Nan."
   ]
  },
  {
   "cell_type": "code",
   "execution_count": 10,
   "id": "f7f21272",
   "metadata": {},
   "outputs": [],
   "source": [
    "data['ratings'] = pd.to_numeric(data['ratings'], errors='coerce') #меняем тип, ошибки исправляем на nan"
   ]
  },
  {
   "cell_type": "code",
   "execution_count": 11,
   "id": "cee2f294",
   "metadata": {},
   "outputs": [],
   "source": [
    "data['director'] = data['director'].astype('str')\n",
    "data['genres'] = data['genres'].astype('str')"
   ]
  },
  {
   "cell_type": "markdown",
   "id": "88fc6fdb",
   "metadata": {},
   "source": [
    "### Обработка пропусков"
   ]
  },
  {
   "cell_type": "markdown",
   "id": "c978de0d",
   "metadata": {},
   "source": [
    "Посмотрим пропуски в колонке `film_studio`"
   ]
  },
  {
   "cell_type": "code",
   "execution_count": 12,
   "id": "2ad3b879",
   "metadata": {},
   "outputs": [
    {
     "data": {
      "text/html": [
       "<div>\n",
       "<style scoped>\n",
       "    .dataframe tbody tr th:only-of-type {\n",
       "        vertical-align: middle;\n",
       "    }\n",
       "\n",
       "    .dataframe tbody tr th {\n",
       "        vertical-align: top;\n",
       "    }\n",
       "\n",
       "    .dataframe thead th {\n",
       "        text-align: right;\n",
       "    }\n",
       "</style>\n",
       "<table border=\"1\" class=\"dataframe\">\n",
       "  <thead>\n",
       "    <tr style=\"text-align: right;\">\n",
       "      <th></th>\n",
       "      <th>title</th>\n",
       "      <th>puNumber</th>\n",
       "      <th>show_start_date</th>\n",
       "      <th>type</th>\n",
       "      <th>film_studio</th>\n",
       "      <th>production_country</th>\n",
       "      <th>director</th>\n",
       "      <th>producer</th>\n",
       "      <th>age_restriction</th>\n",
       "      <th>refundable_support</th>\n",
       "      <th>nonrefundable_support</th>\n",
       "      <th>budget</th>\n",
       "      <th>financing_source</th>\n",
       "      <th>ratings</th>\n",
       "      <th>genres</th>\n",
       "      <th>box_office</th>\n",
       "    </tr>\n",
       "  </thead>\n",
       "  <tbody>\n",
       "    <tr>\n",
       "      <th>1293</th>\n",
       "      <td>Stars in Shorts</td>\n",
       "      <td>121011114</td>\n",
       "      <td>2014-06-03 12:00:00+00:00</td>\n",
       "      <td>Художественный</td>\n",
       "      <td>NaN</td>\n",
       "      <td>США, Великобритания</td>\n",
       "      <td>Роберт Фестингер, Руперт Френд, Джей Камен, Ни...</td>\n",
       "      <td>Татьяна Келли, Роберта Мунро, Руперт Френд, До...</td>\n",
       "      <td>«16+» - для детей старше 16 лет</td>\n",
       "      <td>NaN</td>\n",
       "      <td>NaN</td>\n",
       "      <td>NaN</td>\n",
       "      <td>NaN</td>\n",
       "      <td>7.3</td>\n",
       "      <td>комедия</td>\n",
       "      <td>NaN</td>\n",
       "    </tr>\n",
       "    <tr>\n",
       "      <th>4441</th>\n",
       "      <td>Мульт личности. Выпуск 5</td>\n",
       "      <td>214000410</td>\n",
       "      <td>2010-01-25 12:00:00+00:00</td>\n",
       "      <td>Художественный</td>\n",
       "      <td>NaN</td>\n",
       "      <td>NaN</td>\n",
       "      <td>nan</td>\n",
       "      <td>NaN</td>\n",
       "      <td>«0+» - для любой зрительской аудитории</td>\n",
       "      <td>NaN</td>\n",
       "      <td>NaN</td>\n",
       "      <td>NaN</td>\n",
       "      <td>NaN</td>\n",
       "      <td>4.0</td>\n",
       "      <td>мультфильм,комедия</td>\n",
       "      <td>NaN</td>\n",
       "    </tr>\n",
       "    <tr>\n",
       "      <th>6105</th>\n",
       "      <td>Значит любит</td>\n",
       "      <td>111013818</td>\n",
       "      <td>2018-08-10 12:00:00+00:00</td>\n",
       "      <td>Художественный</td>\n",
       "      <td>NaN</td>\n",
       "      <td>Россия</td>\n",
       "      <td>А.Краевский</td>\n",
       "      <td>Е.Щербакова</td>\n",
       "      <td>«18+» - запрещено для детей</td>\n",
       "      <td>NaN</td>\n",
       "      <td>NaN</td>\n",
       "      <td>NaN</td>\n",
       "      <td>NaN</td>\n",
       "      <td>NaN</td>\n",
       "      <td>nan</td>\n",
       "      <td>NaN</td>\n",
       "    </tr>\n",
       "    <tr>\n",
       "      <th>6181</th>\n",
       "      <td>Несейка. Младшая дочь</td>\n",
       "      <td>112007018</td>\n",
       "      <td>2018-09-01 12:00:00+00:00</td>\n",
       "      <td>Документальный</td>\n",
       "      <td>NaN</td>\n",
       "      <td>Россия</td>\n",
       "      <td>В.Марин</td>\n",
       "      <td>Д.Якунин, Ф.Абрютин, О.Филонова</td>\n",
       "      <td>«6+» - для детей старше 6 лет</td>\n",
       "      <td>NaN</td>\n",
       "      <td>NaN</td>\n",
       "      <td>NaN</td>\n",
       "      <td>NaN</td>\n",
       "      <td>NaN</td>\n",
       "      <td>nan</td>\n",
       "      <td>NaN</td>\n",
       "    </tr>\n",
       "    <tr>\n",
       "      <th>6379</th>\n",
       "      <td>Ян Антонышев</td>\n",
       "      <td>112011818</td>\n",
       "      <td>2018-11-15 12:00:00+00:00</td>\n",
       "      <td>Документальный</td>\n",
       "      <td>NaN</td>\n",
       "      <td>Россия</td>\n",
       "      <td>Е.Окопная</td>\n",
       "      <td>Е.Герасимов</td>\n",
       "      <td>«12+» - для детей старше 12 лет</td>\n",
       "      <td>NaN</td>\n",
       "      <td>NaN</td>\n",
       "      <td>NaN</td>\n",
       "      <td>NaN</td>\n",
       "      <td>NaN</td>\n",
       "      <td>nan</td>\n",
       "      <td>NaN</td>\n",
       "    </tr>\n",
       "    <tr>\n",
       "      <th>6380</th>\n",
       "      <td>Ян Антонышев</td>\n",
       "      <td>112011918</td>\n",
       "      <td>2018-11-15 12:00:00+00:00</td>\n",
       "      <td>Документальный</td>\n",
       "      <td>NaN</td>\n",
       "      <td>Россия</td>\n",
       "      <td>Е.Окопная</td>\n",
       "      <td>Е.Герасимов</td>\n",
       "      <td>«12+» - для детей старше 12 лет</td>\n",
       "      <td>NaN</td>\n",
       "      <td>NaN</td>\n",
       "      <td>NaN</td>\n",
       "      <td>NaN</td>\n",
       "      <td>NaN</td>\n",
       "      <td>nan</td>\n",
       "      <td>NaN</td>\n",
       "    </tr>\n",
       "    <tr>\n",
       "      <th>6399</th>\n",
       "      <td>Доживем до каникул?..</td>\n",
       "      <td>111021918</td>\n",
       "      <td>2018-11-15 12:00:00+00:00</td>\n",
       "      <td>Художественный</td>\n",
       "      <td>NaN</td>\n",
       "      <td>Россия</td>\n",
       "      <td>Я.Хальпукова (псевдоним Яна Мартынец)</td>\n",
       "      <td>Я.Хальпукова (псевдоним Яна Мартынец)</td>\n",
       "      <td>«12+» - для детей старше 12 лет</td>\n",
       "      <td>NaN</td>\n",
       "      <td>NaN</td>\n",
       "      <td>NaN</td>\n",
       "      <td>NaN</td>\n",
       "      <td>NaN</td>\n",
       "      <td>nan</td>\n",
       "      <td>41225.0</td>\n",
       "    </tr>\n",
       "    <tr>\n",
       "      <th>6485</th>\n",
       "      <td>До и После</td>\n",
       "      <td>112014418</td>\n",
       "      <td>2018-12-05 12:00:00+00:00</td>\n",
       "      <td>Документальный</td>\n",
       "      <td>NaN</td>\n",
       "      <td>Россия</td>\n",
       "      <td>А.Новокреповская</td>\n",
       "      <td>А.Новокреповская</td>\n",
       "      <td>«6+» - для детей старше 6 лет</td>\n",
       "      <td>NaN</td>\n",
       "      <td>NaN</td>\n",
       "      <td>NaN</td>\n",
       "      <td>NaN</td>\n",
       "      <td>6.9</td>\n",
       "      <td>драма,криминал,детектив</td>\n",
       "      <td>NaN</td>\n",
       "    </tr>\n",
       "    <tr>\n",
       "      <th>6494</th>\n",
       "      <td>Калмыцкий геше Нгаванг Вангьял</td>\n",
       "      <td>113002018</td>\n",
       "      <td>2018-12-05 12:00:00+00:00</td>\n",
       "      <td>Научно-популярный</td>\n",
       "      <td>NaN</td>\n",
       "      <td>Россия</td>\n",
       "      <td>И.Долгина</td>\n",
       "      <td>И.Долгина</td>\n",
       "      <td>«12+» - для детей старше 12 лет</td>\n",
       "      <td>NaN</td>\n",
       "      <td>NaN</td>\n",
       "      <td>NaN</td>\n",
       "      <td>NaN</td>\n",
       "      <td>NaN</td>\n",
       "      <td>nan</td>\n",
       "      <td>NaN</td>\n",
       "    </tr>\n",
       "    <tr>\n",
       "      <th>6497</th>\n",
       "      <td>Мой папа Чингисхан</td>\n",
       "      <td>112014918</td>\n",
       "      <td>2018-12-06 12:00:00+00:00</td>\n",
       "      <td>Документальный</td>\n",
       "      <td>NaN</td>\n",
       "      <td>Россия</td>\n",
       "      <td>А.Сайфуллина</td>\n",
       "      <td>А.Сайфуллина</td>\n",
       "      <td>«12+» - для детей старше 12 лет</td>\n",
       "      <td>NaN</td>\n",
       "      <td>NaN</td>\n",
       "      <td>NaN</td>\n",
       "      <td>NaN</td>\n",
       "      <td>NaN</td>\n",
       "      <td>nan</td>\n",
       "      <td>NaN</td>\n",
       "    </tr>\n",
       "    <tr>\n",
       "      <th>6498</th>\n",
       "      <td>В плену города грёз</td>\n",
       "      <td>112014818</td>\n",
       "      <td>2018-12-06 12:00:00+00:00</td>\n",
       "      <td>Документальный</td>\n",
       "      <td>NaN</td>\n",
       "      <td>Россия</td>\n",
       "      <td>В.Витовцев</td>\n",
       "      <td>О.Мичи</td>\n",
       "      <td>«18+» - запрещено для детей</td>\n",
       "      <td>NaN</td>\n",
       "      <td>NaN</td>\n",
       "      <td>NaN</td>\n",
       "      <td>NaN</td>\n",
       "      <td>7.9</td>\n",
       "      <td>фантастика,боевик,триллер</td>\n",
       "      <td>NaN</td>\n",
       "    </tr>\n",
       "    <tr>\n",
       "      <th>6499</th>\n",
       "      <td>Последнее фото</td>\n",
       "      <td>112014518</td>\n",
       "      <td>2018-12-06 12:00:00+00:00</td>\n",
       "      <td>Документальный</td>\n",
       "      <td>NaN</td>\n",
       "      <td>Россия</td>\n",
       "      <td>Е.Севастьянов</td>\n",
       "      <td>Е.Севастьянов</td>\n",
       "      <td>«18+» - запрещено для детей</td>\n",
       "      <td>NaN</td>\n",
       "      <td>NaN</td>\n",
       "      <td>NaN</td>\n",
       "      <td>NaN</td>\n",
       "      <td>NaN</td>\n",
       "      <td>nan</td>\n",
       "      <td>NaN</td>\n",
       "    </tr>\n",
       "    <tr>\n",
       "      <th>6507</th>\n",
       "      <td>Мой селфхарм</td>\n",
       "      <td>113001918</td>\n",
       "      <td>2018-12-06 12:00:00+00:00</td>\n",
       "      <td>Научно-популярный</td>\n",
       "      <td>NaN</td>\n",
       "      <td>Россия</td>\n",
       "      <td>Я.Лаптев (псевдоним Яков Раскалов)</td>\n",
       "      <td>Я.Лаптев (псевдоним Яков Раскалов)</td>\n",
       "      <td>«18+» - запрещено для детей</td>\n",
       "      <td>NaN</td>\n",
       "      <td>NaN</td>\n",
       "      <td>NaN</td>\n",
       "      <td>NaN</td>\n",
       "      <td>NaN</td>\n",
       "      <td>nan</td>\n",
       "      <td>NaN</td>\n",
       "    </tr>\n",
       "    <tr>\n",
       "      <th>6511</th>\n",
       "      <td>Обстоятельства места и времени</td>\n",
       "      <td>112015018</td>\n",
       "      <td>2018-12-12 12:00:00+00:00</td>\n",
       "      <td>Документальный</td>\n",
       "      <td>NaN</td>\n",
       "      <td>Россия</td>\n",
       "      <td>Д.Кабаков</td>\n",
       "      <td>Д.Кабаков</td>\n",
       "      <td>«12+» - для детей старше 12 лет</td>\n",
       "      <td>NaN</td>\n",
       "      <td>NaN</td>\n",
       "      <td>NaN</td>\n",
       "      <td>NaN</td>\n",
       "      <td>NaN</td>\n",
       "      <td>nan</td>\n",
       "      <td>NaN</td>\n",
       "    </tr>\n",
       "    <tr>\n",
       "      <th>6638</th>\n",
       "      <td>Эрик Булатов. Моя Третьяковка, серии 1-2</td>\n",
       "      <td>113000319</td>\n",
       "      <td>2019-01-28 12:00:00+00:00</td>\n",
       "      <td>Научно-популярный</td>\n",
       "      <td>NaN</td>\n",
       "      <td>Россия</td>\n",
       "      <td>С.Гарькавый</td>\n",
       "      <td>Т.Пинская</td>\n",
       "      <td>«6+» - для детей старше 6 лет</td>\n",
       "      <td>NaN</td>\n",
       "      <td>NaN</td>\n",
       "      <td>NaN</td>\n",
       "      <td>NaN</td>\n",
       "      <td>NaN</td>\n",
       "      <td>nan</td>\n",
       "      <td>NaN</td>\n",
       "    </tr>\n",
       "    <tr>\n",
       "      <th>6639</th>\n",
       "      <td>Брови</td>\n",
       "      <td>111000719</td>\n",
       "      <td>2019-03-01 12:00:00+00:00</td>\n",
       "      <td>Художественный</td>\n",
       "      <td>NaN</td>\n",
       "      <td>Россия</td>\n",
       "      <td>О.Штром</td>\n",
       "      <td>В.Максимов, В.Степанов, Г.Киракосян, О.Штром</td>\n",
       "      <td>«16+» - для детей старше 16 лет</td>\n",
       "      <td>NaN</td>\n",
       "      <td>NaN</td>\n",
       "      <td>NaN</td>\n",
       "      <td>NaN</td>\n",
       "      <td>NaN</td>\n",
       "      <td>nan</td>\n",
       "      <td>NaN</td>\n",
       "    </tr>\n",
       "    <tr>\n",
       "      <th>6662</th>\n",
       "      <td>Топливо</td>\n",
       "      <td>111001419</td>\n",
       "      <td>2019-02-12 12:00:00+00:00</td>\n",
       "      <td>Художественный</td>\n",
       "      <td>NaN</td>\n",
       "      <td>Россия</td>\n",
       "      <td>М.Архипов</td>\n",
       "      <td>М.Архипов</td>\n",
       "      <td>«12+» - для детей старше 12 лет</td>\n",
       "      <td>NaN</td>\n",
       "      <td>NaN</td>\n",
       "      <td>NaN</td>\n",
       "      <td>NaN</td>\n",
       "      <td>6.1</td>\n",
       "      <td>короткометражка,фантастика</td>\n",
       "      <td>NaN</td>\n",
       "    </tr>\n",
       "    <tr>\n",
       "      <th>6722</th>\n",
       "      <td>Путешествие в Париж</td>\n",
       "      <td>111002919</td>\n",
       "      <td>2019-03-01 12:00:00+00:00</td>\n",
       "      <td>Художественный</td>\n",
       "      <td>NaN</td>\n",
       "      <td>Россия</td>\n",
       "      <td>М.Олейник (псевдоним - Мария Полякова)</td>\n",
       "      <td>Н.Савко</td>\n",
       "      <td>«16+» - для детей старше 16 лет</td>\n",
       "      <td>NaN</td>\n",
       "      <td>NaN</td>\n",
       "      <td>NaN</td>\n",
       "      <td>NaN</td>\n",
       "      <td>NaN</td>\n",
       "      <td>nan</td>\n",
       "      <td>NaN</td>\n",
       "    </tr>\n",
       "  </tbody>\n",
       "</table>\n",
       "</div>"
      ],
      "text/plain": [
       "                                         title   puNumber  \\\n",
       "1293                           Stars in Shorts  121011114   \n",
       "4441                  Мульт личности. Выпуск 5  214000410   \n",
       "6105                              Значит любит  111013818   \n",
       "6181                     Несейка. Младшая дочь  112007018   \n",
       "6379                              Ян Антонышев  112011818   \n",
       "6380                              Ян Антонышев  112011918   \n",
       "6399                     Доживем до каникул?..  111021918   \n",
       "6485                                До и После  112014418   \n",
       "6494            Калмыцкий геше Нгаванг Вангьял  113002018   \n",
       "6497                        Мой папа Чингисхан  112014918   \n",
       "6498                       В плену города грёз  112014818   \n",
       "6499                            Последнее фото  112014518   \n",
       "6507                              Мой селфхарм  113001918   \n",
       "6511            Обстоятельства места и времени  112015018   \n",
       "6638  Эрик Булатов. Моя Третьяковка, серии 1-2  113000319   \n",
       "6639                                     Брови  111000719   \n",
       "6662                                   Топливо  111001419   \n",
       "6722                       Путешествие в Париж  111002919   \n",
       "\n",
       "               show_start_date               type film_studio  \\\n",
       "1293 2014-06-03 12:00:00+00:00     Художественный         NaN   \n",
       "4441 2010-01-25 12:00:00+00:00     Художественный         NaN   \n",
       "6105 2018-08-10 12:00:00+00:00     Художественный         NaN   \n",
       "6181 2018-09-01 12:00:00+00:00     Документальный         NaN   \n",
       "6379 2018-11-15 12:00:00+00:00     Документальный         NaN   \n",
       "6380 2018-11-15 12:00:00+00:00     Документальный         NaN   \n",
       "6399 2018-11-15 12:00:00+00:00     Художественный         NaN   \n",
       "6485 2018-12-05 12:00:00+00:00     Документальный         NaN   \n",
       "6494 2018-12-05 12:00:00+00:00  Научно-популярный         NaN   \n",
       "6497 2018-12-06 12:00:00+00:00     Документальный         NaN   \n",
       "6498 2018-12-06 12:00:00+00:00     Документальный         NaN   \n",
       "6499 2018-12-06 12:00:00+00:00     Документальный         NaN   \n",
       "6507 2018-12-06 12:00:00+00:00  Научно-популярный         NaN   \n",
       "6511 2018-12-12 12:00:00+00:00     Документальный         NaN   \n",
       "6638 2019-01-28 12:00:00+00:00  Научно-популярный         NaN   \n",
       "6639 2019-03-01 12:00:00+00:00     Художественный         NaN   \n",
       "6662 2019-02-12 12:00:00+00:00     Художественный         NaN   \n",
       "6722 2019-03-01 12:00:00+00:00     Художественный         NaN   \n",
       "\n",
       "       production_country                                           director  \\\n",
       "1293  США, Великобритания  Роберт Фестингер, Руперт Френд, Джей Камен, Ни...   \n",
       "4441                  NaN                                                nan   \n",
       "6105               Россия                                        А.Краевский   \n",
       "6181               Россия                                            В.Марин   \n",
       "6379               Россия                                          Е.Окопная   \n",
       "6380               Россия                                          Е.Окопная   \n",
       "6399               Россия              Я.Хальпукова (псевдоним Яна Мартынец)   \n",
       "6485               Россия                                   А.Новокреповская   \n",
       "6494               Россия                                          И.Долгина   \n",
       "6497               Россия                                       А.Сайфуллина   \n",
       "6498               Россия                                         В.Витовцев   \n",
       "6499               Россия                                      Е.Севастьянов   \n",
       "6507               Россия                 Я.Лаптев (псевдоним Яков Раскалов)   \n",
       "6511               Россия                                          Д.Кабаков   \n",
       "6638               Россия                                        С.Гарькавый   \n",
       "6639               Россия                                            О.Штром   \n",
       "6662               Россия                                          М.Архипов   \n",
       "6722               Россия             М.Олейник (псевдоним - Мария Полякова)   \n",
       "\n",
       "                                               producer  \\\n",
       "1293  Татьяна Келли, Роберта Мунро, Руперт Френд, До...   \n",
       "4441                                                NaN   \n",
       "6105                                        Е.Щербакова   \n",
       "6181                    Д.Якунин, Ф.Абрютин, О.Филонова   \n",
       "6379                                        Е.Герасимов   \n",
       "6380                                        Е.Герасимов   \n",
       "6399              Я.Хальпукова (псевдоним Яна Мартынец)   \n",
       "6485                                   А.Новокреповская   \n",
       "6494                                          И.Долгина   \n",
       "6497                                       А.Сайфуллина   \n",
       "6498                                             О.Мичи   \n",
       "6499                                      Е.Севастьянов   \n",
       "6507                 Я.Лаптев (псевдоним Яков Раскалов)   \n",
       "6511                                          Д.Кабаков   \n",
       "6638                                          Т.Пинская   \n",
       "6639       В.Максимов, В.Степанов, Г.Киракосян, О.Штром   \n",
       "6662                                          М.Архипов   \n",
       "6722                                            Н.Савко   \n",
       "\n",
       "                             age_restriction  refundable_support  \\\n",
       "1293         «16+» - для детей старше 16 лет                 NaN   \n",
       "4441  «0+» - для любой зрительской аудитории                 NaN   \n",
       "6105             «18+» - запрещено для детей                 NaN   \n",
       "6181           «6+» - для детей старше 6 лет                 NaN   \n",
       "6379         «12+» - для детей старше 12 лет                 NaN   \n",
       "6380         «12+» - для детей старше 12 лет                 NaN   \n",
       "6399         «12+» - для детей старше 12 лет                 NaN   \n",
       "6485           «6+» - для детей старше 6 лет                 NaN   \n",
       "6494         «12+» - для детей старше 12 лет                 NaN   \n",
       "6497         «12+» - для детей старше 12 лет                 NaN   \n",
       "6498             «18+» - запрещено для детей                 NaN   \n",
       "6499             «18+» - запрещено для детей                 NaN   \n",
       "6507             «18+» - запрещено для детей                 NaN   \n",
       "6511         «12+» - для детей старше 12 лет                 NaN   \n",
       "6638           «6+» - для детей старше 6 лет                 NaN   \n",
       "6639         «16+» - для детей старше 16 лет                 NaN   \n",
       "6662         «12+» - для детей старше 12 лет                 NaN   \n",
       "6722         «16+» - для детей старше 16 лет                 NaN   \n",
       "\n",
       "      nonrefundable_support  budget financing_source  ratings  \\\n",
       "1293                    NaN     NaN              NaN      7.3   \n",
       "4441                    NaN     NaN              NaN      4.0   \n",
       "6105                    NaN     NaN              NaN      NaN   \n",
       "6181                    NaN     NaN              NaN      NaN   \n",
       "6379                    NaN     NaN              NaN      NaN   \n",
       "6380                    NaN     NaN              NaN      NaN   \n",
       "6399                    NaN     NaN              NaN      NaN   \n",
       "6485                    NaN     NaN              NaN      6.9   \n",
       "6494                    NaN     NaN              NaN      NaN   \n",
       "6497                    NaN     NaN              NaN      NaN   \n",
       "6498                    NaN     NaN              NaN      7.9   \n",
       "6499                    NaN     NaN              NaN      NaN   \n",
       "6507                    NaN     NaN              NaN      NaN   \n",
       "6511                    NaN     NaN              NaN      NaN   \n",
       "6638                    NaN     NaN              NaN      NaN   \n",
       "6639                    NaN     NaN              NaN      NaN   \n",
       "6662                    NaN     NaN              NaN      6.1   \n",
       "6722                    NaN     NaN              NaN      NaN   \n",
       "\n",
       "                          genres  box_office  \n",
       "1293                     комедия         NaN  \n",
       "4441          мультфильм,комедия         NaN  \n",
       "6105                         nan         NaN  \n",
       "6181                         nan         NaN  \n",
       "6379                         nan         NaN  \n",
       "6380                         nan         NaN  \n",
       "6399                         nan     41225.0  \n",
       "6485     драма,криминал,детектив         NaN  \n",
       "6494                         nan         NaN  \n",
       "6497                         nan         NaN  \n",
       "6498   фантастика,боевик,триллер         NaN  \n",
       "6499                         nan         NaN  \n",
       "6507                         nan         NaN  \n",
       "6511                         nan         NaN  \n",
       "6638                         nan         NaN  \n",
       "6639                         nan         NaN  \n",
       "6662  короткометражка,фантастика         NaN  \n",
       "6722                         nan         NaN  "
      ]
     },
     "execution_count": 12,
     "metadata": {},
     "output_type": "execute_result"
    }
   ],
   "source": [
    "data[pd.isnull(data['film_studio'])]"
   ]
  },
  {
   "cell_type": "markdown",
   "id": "37dc8cbe",
   "metadata": {},
   "source": [
    "Пропуски в колонке студия-производитель заменить не на что, никакой подсказки в остальных колонках я не вижу, поэтому оставляем так. Смотрим следующие колонки с пропусками."
   ]
  },
  {
   "cell_type": "code",
   "execution_count": 13,
   "id": "f160dcea",
   "metadata": {},
   "outputs": [
    {
     "data": {
      "text/html": [
       "<div>\n",
       "<style scoped>\n",
       "    .dataframe tbody tr th:only-of-type {\n",
       "        vertical-align: middle;\n",
       "    }\n",
       "\n",
       "    .dataframe tbody tr th {\n",
       "        vertical-align: top;\n",
       "    }\n",
       "\n",
       "    .dataframe thead th {\n",
       "        text-align: right;\n",
       "    }\n",
       "</style>\n",
       "<table border=\"1\" class=\"dataframe\">\n",
       "  <thead>\n",
       "    <tr style=\"text-align: right;\">\n",
       "      <th></th>\n",
       "      <th>title</th>\n",
       "      <th>puNumber</th>\n",
       "      <th>show_start_date</th>\n",
       "      <th>type</th>\n",
       "      <th>film_studio</th>\n",
       "      <th>production_country</th>\n",
       "      <th>director</th>\n",
       "      <th>producer</th>\n",
       "      <th>age_restriction</th>\n",
       "      <th>refundable_support</th>\n",
       "      <th>nonrefundable_support</th>\n",
       "      <th>budget</th>\n",
       "      <th>financing_source</th>\n",
       "      <th>ratings</th>\n",
       "      <th>genres</th>\n",
       "      <th>box_office</th>\n",
       "    </tr>\n",
       "  </thead>\n",
       "  <tbody>\n",
       "    <tr>\n",
       "      <th>3186</th>\n",
       "      <td>Детский юмористический киножурнал \"Ералаш. Ну ...</td>\n",
       "      <td>111001216</td>\n",
       "      <td>2016-02-09 12:00:00+00:00</td>\n",
       "      <td>Художественный</td>\n",
       "      <td>ООО \"Продюсерский центр ЕРАЛАШ\"</td>\n",
       "      <td>NaN</td>\n",
       "      <td>Р.Светлов, И.Магитон, А.Арутюнян, Л.Мирский, А...</td>\n",
       "      <td>ООО \"Продюсерский центр ЕРАЛАШ\"</td>\n",
       "      <td>«0+» - для любой зрительской аудитории</td>\n",
       "      <td>NaN</td>\n",
       "      <td>NaN</td>\n",
       "      <td>NaN</td>\n",
       "      <td>NaN</td>\n",
       "      <td>7.2</td>\n",
       "      <td>детский,комедия</td>\n",
       "      <td>194527.0</td>\n",
       "    </tr>\n",
       "    <tr>\n",
       "      <th>4441</th>\n",
       "      <td>Мульт личности. Выпуск 5</td>\n",
       "      <td>214000410</td>\n",
       "      <td>2010-01-25 12:00:00+00:00</td>\n",
       "      <td>Художественный</td>\n",
       "      <td>NaN</td>\n",
       "      <td>NaN</td>\n",
       "      <td>nan</td>\n",
       "      <td>NaN</td>\n",
       "      <td>«0+» - для любой зрительской аудитории</td>\n",
       "      <td>NaN</td>\n",
       "      <td>NaN</td>\n",
       "      <td>NaN</td>\n",
       "      <td>NaN</td>\n",
       "      <td>4.0</td>\n",
       "      <td>мультфильм,комедия</td>\n",
       "      <td>NaN</td>\n",
       "    </tr>\n",
       "  </tbody>\n",
       "</table>\n",
       "</div>"
      ],
      "text/plain": [
       "                                                  title   puNumber  \\\n",
       "3186  Детский юмористический киножурнал \"Ералаш. Ну ...  111001216   \n",
       "4441                           Мульт личности. Выпуск 5  214000410   \n",
       "\n",
       "               show_start_date            type  \\\n",
       "3186 2016-02-09 12:00:00+00:00  Художественный   \n",
       "4441 2010-01-25 12:00:00+00:00  Художественный   \n",
       "\n",
       "                          film_studio production_country  \\\n",
       "3186  ООО \"Продюсерский центр ЕРАЛАШ\"                NaN   \n",
       "4441                              NaN                NaN   \n",
       "\n",
       "                                               director  \\\n",
       "3186  Р.Светлов, И.Магитон, А.Арутюнян, Л.Мирский, А...   \n",
       "4441                                                nan   \n",
       "\n",
       "                             producer                         age_restriction  \\\n",
       "3186  ООО \"Продюсерский центр ЕРАЛАШ\"  «0+» - для любой зрительской аудитории   \n",
       "4441                              NaN  «0+» - для любой зрительской аудитории   \n",
       "\n",
       "      refundable_support  nonrefundable_support  budget financing_source  \\\n",
       "3186                 NaN                    NaN     NaN              NaN   \n",
       "4441                 NaN                    NaN     NaN              NaN   \n",
       "\n",
       "      ratings              genres  box_office  \n",
       "3186      7.2     детский,комедия    194527.0  \n",
       "4441      4.0  мультфильм,комедия         NaN  "
      ]
     },
     "execution_count": 13,
     "metadata": {},
     "output_type": "execute_result"
    }
   ],
   "source": [
    "data[pd.isnull(data['production_country'])]"
   ]
  },
  {
   "cell_type": "markdown",
   "id": "2c05c6df",
   "metadata": {},
   "source": [
    "Страна-производитель, пропуски лишь в 2х строках. Можно удалить, а можно обработать руками. Выбираю обработать руками. \n",
    "\n",
    "Ералаш и Мульт личности производится в России. Гугл помог :)"
   ]
  },
  {
   "cell_type": "code",
   "execution_count": 14,
   "id": "b4c56cb8",
   "metadata": {},
   "outputs": [
    {
     "data": {
      "text/html": [
       "<div>\n",
       "<style scoped>\n",
       "    .dataframe tbody tr th:only-of-type {\n",
       "        vertical-align: middle;\n",
       "    }\n",
       "\n",
       "    .dataframe tbody tr th {\n",
       "        vertical-align: top;\n",
       "    }\n",
       "\n",
       "    .dataframe thead th {\n",
       "        text-align: right;\n",
       "    }\n",
       "</style>\n",
       "<table border=\"1\" class=\"dataframe\">\n",
       "  <thead>\n",
       "    <tr style=\"text-align: right;\">\n",
       "      <th></th>\n",
       "      <th>title</th>\n",
       "      <th>puNumber</th>\n",
       "      <th>show_start_date</th>\n",
       "      <th>type</th>\n",
       "      <th>film_studio</th>\n",
       "      <th>production_country</th>\n",
       "      <th>director</th>\n",
       "      <th>producer</th>\n",
       "      <th>age_restriction</th>\n",
       "      <th>refundable_support</th>\n",
       "      <th>nonrefundable_support</th>\n",
       "      <th>budget</th>\n",
       "      <th>financing_source</th>\n",
       "      <th>ratings</th>\n",
       "      <th>genres</th>\n",
       "      <th>box_office</th>\n",
       "    </tr>\n",
       "  </thead>\n",
       "  <tbody>\n",
       "  </tbody>\n",
       "</table>\n",
       "</div>"
      ],
      "text/plain": [
       "Empty DataFrame\n",
       "Columns: [title, puNumber, show_start_date, type, film_studio, production_country, director, producer, age_restriction, refundable_support, nonrefundable_support, budget, financing_source, ratings, genres, box_office]\n",
       "Index: []"
      ]
     },
     "execution_count": 14,
     "metadata": {},
     "output_type": "execute_result"
    }
   ],
   "source": [
    "data['production_country'][3186] = 'Россия'\n",
    "data['production_country'][4441] = 'Россия'\n",
    "data[pd.isnull(data['production_country'])]"
   ]
  },
  {
   "cell_type": "markdown",
   "id": "bed12e19",
   "metadata": {},
   "source": [
    "Смотрим следующую колонку с пропусками `director`"
   ]
  },
  {
   "cell_type": "code",
   "execution_count": 15,
   "id": "c0b6ac39",
   "metadata": {},
   "outputs": [
    {
     "data": {
      "text/html": [
       "<div>\n",
       "<style scoped>\n",
       "    .dataframe tbody tr th:only-of-type {\n",
       "        vertical-align: middle;\n",
       "    }\n",
       "\n",
       "    .dataframe tbody tr th {\n",
       "        vertical-align: top;\n",
       "    }\n",
       "\n",
       "    .dataframe thead th {\n",
       "        text-align: right;\n",
       "    }\n",
       "</style>\n",
       "<table border=\"1\" class=\"dataframe\">\n",
       "  <thead>\n",
       "    <tr style=\"text-align: right;\">\n",
       "      <th></th>\n",
       "      <th>title</th>\n",
       "      <th>puNumber</th>\n",
       "      <th>show_start_date</th>\n",
       "      <th>type</th>\n",
       "      <th>film_studio</th>\n",
       "      <th>production_country</th>\n",
       "      <th>director</th>\n",
       "      <th>producer</th>\n",
       "      <th>age_restriction</th>\n",
       "      <th>refundable_support</th>\n",
       "      <th>nonrefundable_support</th>\n",
       "      <th>budget</th>\n",
       "      <th>financing_source</th>\n",
       "      <th>ratings</th>\n",
       "      <th>genres</th>\n",
       "      <th>box_office</th>\n",
       "    </tr>\n",
       "  </thead>\n",
       "  <tbody>\n",
       "    <tr>\n",
       "      <th>764</th>\n",
       "      <td>Три звезды. Концерт в Waldbuhne Theater, Берли...</td>\n",
       "      <td>126003512</td>\n",
       "      <td>2012-12-04 12:00:00+00:00</td>\n",
       "      <td>Прочие</td>\n",
       "      <td>Райзинг Алтернатив</td>\n",
       "      <td>Великобритания</td>\n",
       "      <td>nan</td>\n",
       "      <td>Вальдбюне Театр</td>\n",
       "      <td>«0+» - для любой зрительской аудитории</td>\n",
       "      <td>NaN</td>\n",
       "      <td>NaN</td>\n",
       "      <td>NaN</td>\n",
       "      <td>NaN</td>\n",
       "      <td>NaN</td>\n",
       "      <td>nan</td>\n",
       "      <td>44350.0</td>\n",
       "    </tr>\n",
       "    <tr>\n",
       "      <th>1735</th>\n",
       "      <td>Помпеи. Британский музей</td>\n",
       "      <td>126003413</td>\n",
       "      <td>2013-09-11 12:00:00+00:00</td>\n",
       "      <td>Прочие</td>\n",
       "      <td>МортуСкрин, Британский музей</td>\n",
       "      <td>Великобритания</td>\n",
       "      <td>nan</td>\n",
       "      <td>Британский музей</td>\n",
       "      <td>«0+» - для любой зрительской аудитории</td>\n",
       "      <td>NaN</td>\n",
       "      <td>NaN</td>\n",
       "      <td>NaN</td>\n",
       "      <td>NaN</td>\n",
       "      <td>NaN</td>\n",
       "      <td>nan</td>\n",
       "      <td>NaN</td>\n",
       "    </tr>\n",
       "    <tr>\n",
       "      <th>3840</th>\n",
       "      <td>Зур концерт (Большой концерт).</td>\n",
       "      <td>217027010</td>\n",
       "      <td>2010-06-24 12:00:00+00:00</td>\n",
       "      <td>Художественный</td>\n",
       "      <td>ООО \"Барс Рекордс\"</td>\n",
       "      <td>Россия</td>\n",
       "      <td>nan</td>\n",
       "      <td>NaN</td>\n",
       "      <td>«12+» - для детей старше 12 лет</td>\n",
       "      <td>NaN</td>\n",
       "      <td>NaN</td>\n",
       "      <td>NaN</td>\n",
       "      <td>NaN</td>\n",
       "      <td>NaN</td>\n",
       "      <td>nan</td>\n",
       "      <td>NaN</td>\n",
       "    </tr>\n",
       "    <tr>\n",
       "      <th>4052</th>\n",
       "      <td>Ганс Сэйфуллин \"Авылым чишмэлэре. Ганс Сэйфулл...</td>\n",
       "      <td>217017310</td>\n",
       "      <td>2010-04-22 12:00:00+00:00</td>\n",
       "      <td>Художественный</td>\n",
       "      <td>ООО \"Барс-Рекордс\"</td>\n",
       "      <td>Россия</td>\n",
       "      <td>nan</td>\n",
       "      <td>NaN</td>\n",
       "      <td>«0+» - для любой зрительской аудитории</td>\n",
       "      <td>NaN</td>\n",
       "      <td>NaN</td>\n",
       "      <td>NaN</td>\n",
       "      <td>NaN</td>\n",
       "      <td>NaN</td>\n",
       "      <td>nan</td>\n",
       "      <td>NaN</td>\n",
       "    </tr>\n",
       "    <tr>\n",
       "      <th>4298</th>\n",
       "      <td>Изге Вэли (Святой Валентин)</td>\n",
       "      <td>217020610</td>\n",
       "      <td>2010-05-20 12:00:00+00:00</td>\n",
       "      <td>Художественный</td>\n",
       "      <td>ООО \"Барс Рекордс\"</td>\n",
       "      <td>Россия</td>\n",
       "      <td>nan</td>\n",
       "      <td>NaN</td>\n",
       "      <td>«12+» - для детей старше 12 лет</td>\n",
       "      <td>NaN</td>\n",
       "      <td>NaN</td>\n",
       "      <td>NaN</td>\n",
       "      <td>NaN</td>\n",
       "      <td>NaN</td>\n",
       "      <td>nan</td>\n",
       "      <td>NaN</td>\n",
       "    </tr>\n",
       "    <tr>\n",
       "      <th>4415</th>\n",
       "      <td>Bon Jovi. The Circle Tour</td>\n",
       "      <td>126001710</td>\n",
       "      <td>2010-11-11 12:00:00+00:00</td>\n",
       "      <td>Прочие</td>\n",
       "      <td>Эншутц Интертейнмент Груп</td>\n",
       "      <td>США</td>\n",
       "      <td>nan</td>\n",
       "      <td>Эншутц Интертейнмент Груп</td>\n",
       "      <td>«0+» - для любой зрительской аудитории</td>\n",
       "      <td>NaN</td>\n",
       "      <td>NaN</td>\n",
       "      <td>NaN</td>\n",
       "      <td>NaN</td>\n",
       "      <td>7.9</td>\n",
       "      <td>концерт,музыка</td>\n",
       "      <td>NaN</td>\n",
       "    </tr>\n",
       "    <tr>\n",
       "      <th>4441</th>\n",
       "      <td>Мульт личности. Выпуск 5</td>\n",
       "      <td>214000410</td>\n",
       "      <td>2010-01-25 12:00:00+00:00</td>\n",
       "      <td>Художественный</td>\n",
       "      <td>NaN</td>\n",
       "      <td>Россия</td>\n",
       "      <td>nan</td>\n",
       "      <td>NaN</td>\n",
       "      <td>«0+» - для любой зрительской аудитории</td>\n",
       "      <td>NaN</td>\n",
       "      <td>NaN</td>\n",
       "      <td>NaN</td>\n",
       "      <td>NaN</td>\n",
       "      <td>4.0</td>\n",
       "      <td>мультфильм,комедия</td>\n",
       "      <td>NaN</td>\n",
       "    </tr>\n",
       "    <tr>\n",
       "      <th>4923</th>\n",
       "      <td>Георг Фридрих Гендель. Мессия. Оратория. Корол...</td>\n",
       "      <td>126001111</td>\n",
       "      <td>2011-04-25 12:00:00+00:00</td>\n",
       "      <td>Прочие</td>\n",
       "      <td>Опус Арт</td>\n",
       "      <td>Великобритания</td>\n",
       "      <td>nan</td>\n",
       "      <td>Короевский колледж Кембриджа</td>\n",
       "      <td>«0+» - для любой зрительской аудитории</td>\n",
       "      <td>NaN</td>\n",
       "      <td>NaN</td>\n",
       "      <td>NaN</td>\n",
       "      <td>NaN</td>\n",
       "      <td>NaN</td>\n",
       "      <td>nan</td>\n",
       "      <td>NaN</td>\n",
       "    </tr>\n",
       "    <tr>\n",
       "      <th>4942</th>\n",
       "      <td>Питер Гэбриэл и New Blood Orchestra 3D</td>\n",
       "      <td>126002711</td>\n",
       "      <td>2011-11-11 12:00:00+00:00</td>\n",
       "      <td>Прочие</td>\n",
       "      <td>Омниверс Визион</td>\n",
       "      <td>Великобритания</td>\n",
       "      <td>nan</td>\n",
       "      <td>Омниверс Визион</td>\n",
       "      <td>«0+» - для любой зрительской аудитории</td>\n",
       "      <td>NaN</td>\n",
       "      <td>NaN</td>\n",
       "      <td>NaN</td>\n",
       "      <td>NaN</td>\n",
       "      <td>6.7</td>\n",
       "      <td>концерт,музыка</td>\n",
       "      <td>NaN</td>\n",
       "    </tr>\n",
       "  </tbody>\n",
       "</table>\n",
       "</div>"
      ],
      "text/plain": [
       "                                                  title   puNumber  \\\n",
       "764   Три звезды. Концерт в Waldbuhne Theater, Берли...  126003512   \n",
       "1735                           Помпеи. Британский музей  126003413   \n",
       "3840                     Зур концерт (Большой концерт).  217027010   \n",
       "4052  Ганс Сэйфуллин \"Авылым чишмэлэре. Ганс Сэйфулл...  217017310   \n",
       "4298                        Изге Вэли (Святой Валентин)  217020610   \n",
       "4415                          Bon Jovi. The Circle Tour  126001710   \n",
       "4441                           Мульт личности. Выпуск 5  214000410   \n",
       "4923  Георг Фридрих Гендель. Мессия. Оратория. Корол...  126001111   \n",
       "4942             Питер Гэбриэл и New Blood Orchestra 3D  126002711   \n",
       "\n",
       "               show_start_date            type                   film_studio  \\\n",
       "764  2012-12-04 12:00:00+00:00          Прочие            Райзинг Алтернатив   \n",
       "1735 2013-09-11 12:00:00+00:00          Прочие  МортуСкрин, Британский музей   \n",
       "3840 2010-06-24 12:00:00+00:00  Художественный            ООО \"Барс Рекордс\"   \n",
       "4052 2010-04-22 12:00:00+00:00  Художественный            ООО \"Барс-Рекордс\"   \n",
       "4298 2010-05-20 12:00:00+00:00  Художественный            ООО \"Барс Рекордс\"   \n",
       "4415 2010-11-11 12:00:00+00:00          Прочие     Эншутц Интертейнмент Груп   \n",
       "4441 2010-01-25 12:00:00+00:00  Художественный                           NaN   \n",
       "4923 2011-04-25 12:00:00+00:00          Прочие                      Опус Арт   \n",
       "4942 2011-11-11 12:00:00+00:00          Прочие               Омниверс Визион   \n",
       "\n",
       "     production_country director                      producer  \\\n",
       "764      Великобритания      nan               Вальдбюне Театр   \n",
       "1735     Великобритания      nan              Британский музей   \n",
       "3840             Россия      nan                           NaN   \n",
       "4052             Россия      nan                           NaN   \n",
       "4298             Россия      nan                           NaN   \n",
       "4415                США      nan     Эншутц Интертейнмент Груп   \n",
       "4441             Россия      nan                           NaN   \n",
       "4923     Великобритания      nan  Короевский колледж Кембриджа   \n",
       "4942     Великобритания      nan               Омниверс Визион   \n",
       "\n",
       "                             age_restriction  refundable_support  \\\n",
       "764   «0+» - для любой зрительской аудитории                 NaN   \n",
       "1735  «0+» - для любой зрительской аудитории                 NaN   \n",
       "3840         «12+» - для детей старше 12 лет                 NaN   \n",
       "4052  «0+» - для любой зрительской аудитории                 NaN   \n",
       "4298         «12+» - для детей старше 12 лет                 NaN   \n",
       "4415  «0+» - для любой зрительской аудитории                 NaN   \n",
       "4441  «0+» - для любой зрительской аудитории                 NaN   \n",
       "4923  «0+» - для любой зрительской аудитории                 NaN   \n",
       "4942  «0+» - для любой зрительской аудитории                 NaN   \n",
       "\n",
       "      nonrefundable_support  budget financing_source  ratings  \\\n",
       "764                     NaN     NaN              NaN      NaN   \n",
       "1735                    NaN     NaN              NaN      NaN   \n",
       "3840                    NaN     NaN              NaN      NaN   \n",
       "4052                    NaN     NaN              NaN      NaN   \n",
       "4298                    NaN     NaN              NaN      NaN   \n",
       "4415                    NaN     NaN              NaN      7.9   \n",
       "4441                    NaN     NaN              NaN      4.0   \n",
       "4923                    NaN     NaN              NaN      NaN   \n",
       "4942                    NaN     NaN              NaN      6.7   \n",
       "\n",
       "                  genres  box_office  \n",
       "764                  nan     44350.0  \n",
       "1735                 nan         NaN  \n",
       "3840                 nan         NaN  \n",
       "4052                 nan         NaN  \n",
       "4298                 nan         NaN  \n",
       "4415      концерт,музыка         NaN  \n",
       "4441  мультфильм,комедия         NaN  \n",
       "4923                 nan         NaN  \n",
       "4942      концерт,музыка         NaN  "
      ]
     },
     "execution_count": 15,
     "metadata": {},
     "output_type": "execute_result"
    }
   ],
   "source": [
    "data[data['director'] == 'nan']"
   ]
  },
  {
   "cell_type": "markdown",
   "id": "0042b253",
   "metadata": {},
   "source": [
    "Пропуски в колонке `director` также нечем заменить, поэтому оставим так. Смортим `producer`"
   ]
  },
  {
   "cell_type": "code",
   "execution_count": 16,
   "id": "05e9ec63",
   "metadata": {},
   "outputs": [
    {
     "data": {
      "text/html": [
       "<div>\n",
       "<style scoped>\n",
       "    .dataframe tbody tr th:only-of-type {\n",
       "        vertical-align: middle;\n",
       "    }\n",
       "\n",
       "    .dataframe tbody tr th {\n",
       "        vertical-align: top;\n",
       "    }\n",
       "\n",
       "    .dataframe thead th {\n",
       "        text-align: right;\n",
       "    }\n",
       "</style>\n",
       "<table border=\"1\" class=\"dataframe\">\n",
       "  <thead>\n",
       "    <tr style=\"text-align: right;\">\n",
       "      <th></th>\n",
       "      <th>title</th>\n",
       "      <th>puNumber</th>\n",
       "      <th>show_start_date</th>\n",
       "      <th>type</th>\n",
       "      <th>film_studio</th>\n",
       "      <th>production_country</th>\n",
       "      <th>director</th>\n",
       "      <th>producer</th>\n",
       "      <th>age_restriction</th>\n",
       "      <th>refundable_support</th>\n",
       "      <th>nonrefundable_support</th>\n",
       "      <th>budget</th>\n",
       "      <th>financing_source</th>\n",
       "      <th>ratings</th>\n",
       "      <th>genres</th>\n",
       "      <th>box_office</th>\n",
       "    </tr>\n",
       "  </thead>\n",
       "  <tbody>\n",
       "    <tr>\n",
       "      <th>1</th>\n",
       "      <td>Особо важное задание</td>\n",
       "      <td>111013716</td>\n",
       "      <td>2016-09-13 12:00:00+00:00</td>\n",
       "      <td>Художественный</td>\n",
       "      <td>Киностудия \"Мосфильм\"</td>\n",
       "      <td>СССР</td>\n",
       "      <td>Е.Матвеев</td>\n",
       "      <td>NaN</td>\n",
       "      <td>«6+» - для детей старше 6 лет</td>\n",
       "      <td>NaN</td>\n",
       "      <td>NaN</td>\n",
       "      <td>NaN</td>\n",
       "      <td>NaN</td>\n",
       "      <td>6.6</td>\n",
       "      <td>драма,военный</td>\n",
       "      <td>NaN</td>\n",
       "    </tr>\n",
       "    <tr>\n",
       "      <th>5</th>\n",
       "      <td>Остановился поезд</td>\n",
       "      <td>111013816</td>\n",
       "      <td>2016-09-13 12:00:00+00:00</td>\n",
       "      <td>Художественный</td>\n",
       "      <td>Киностудия \"Мосфильм\"</td>\n",
       "      <td>СССР</td>\n",
       "      <td>В.Абдрашитов</td>\n",
       "      <td>NaN</td>\n",
       "      <td>«6+» - для детей старше 6 лет</td>\n",
       "      <td>NaN</td>\n",
       "      <td>NaN</td>\n",
       "      <td>NaN</td>\n",
       "      <td>NaN</td>\n",
       "      <td>7.7</td>\n",
       "      <td>драма</td>\n",
       "      <td>NaN</td>\n",
       "    </tr>\n",
       "    <tr>\n",
       "      <th>6</th>\n",
       "      <td>Любовь и голуби</td>\n",
       "      <td>111007013</td>\n",
       "      <td>2013-10-18 12:00:00+00:00</td>\n",
       "      <td>Художественный</td>\n",
       "      <td>Киностудия \"Мосфильм\"</td>\n",
       "      <td>СССР</td>\n",
       "      <td>В.Меньшов</td>\n",
       "      <td>NaN</td>\n",
       "      <td>«12+» - для детей старше 12 лет</td>\n",
       "      <td>NaN</td>\n",
       "      <td>NaN</td>\n",
       "      <td>NaN</td>\n",
       "      <td>NaN</td>\n",
       "      <td>8.3</td>\n",
       "      <td>мелодрама,комедия</td>\n",
       "      <td>2700.0</td>\n",
       "    </tr>\n",
       "    <tr>\n",
       "      <th>9</th>\n",
       "      <td>Отпуск за свой счет</td>\n",
       "      <td>111019114</td>\n",
       "      <td>2014-12-01 12:00:00+00:00</td>\n",
       "      <td>Художественный</td>\n",
       "      <td>Киностудия \"Мосфильм\", Телевидение ВНР</td>\n",
       "      <td>СССР, Венгрия</td>\n",
       "      <td>В.Титов</td>\n",
       "      <td>NaN</td>\n",
       "      <td>«12+» - для детей старше 12 лет</td>\n",
       "      <td>NaN</td>\n",
       "      <td>NaN</td>\n",
       "      <td>NaN</td>\n",
       "      <td>NaN</td>\n",
       "      <td>7.8</td>\n",
       "      <td>мелодрама,комедия</td>\n",
       "      <td>NaN</td>\n",
       "    </tr>\n",
       "    <tr>\n",
       "      <th>11</th>\n",
       "      <td>Ответный ход</td>\n",
       "      <td>111019014</td>\n",
       "      <td>2014-12-01 12:00:00+00:00</td>\n",
       "      <td>Художественный</td>\n",
       "      <td>Киностудия \"Мосфильм\"</td>\n",
       "      <td>СССР</td>\n",
       "      <td>М.Туманишвили</td>\n",
       "      <td>NaN</td>\n",
       "      <td>«12+» - для детей старше 12 лет</td>\n",
       "      <td>NaN</td>\n",
       "      <td>NaN</td>\n",
       "      <td>NaN</td>\n",
       "      <td>NaN</td>\n",
       "      <td>7.8</td>\n",
       "      <td>боевик,драма,приключения</td>\n",
       "      <td>NaN</td>\n",
       "    </tr>\n",
       "    <tr>\n",
       "      <th>...</th>\n",
       "      <td>...</td>\n",
       "      <td>...</td>\n",
       "      <td>...</td>\n",
       "      <td>...</td>\n",
       "      <td>...</td>\n",
       "      <td>...</td>\n",
       "      <td>...</td>\n",
       "      <td>...</td>\n",
       "      <td>...</td>\n",
       "      <td>...</td>\n",
       "      <td>...</td>\n",
       "      <td>...</td>\n",
       "      <td>...</td>\n",
       "      <td>...</td>\n",
       "      <td>...</td>\n",
       "      <td>...</td>\n",
       "    </tr>\n",
       "    <tr>\n",
       "      <th>7405</th>\n",
       "      <td>Отряд специального назначения</td>\n",
       "      <td>111020419</td>\n",
       "      <td>2019-12-01 12:00:00+00:00</td>\n",
       "      <td>Художественный</td>\n",
       "      <td>Свердловская киностудия</td>\n",
       "      <td>СССР</td>\n",
       "      <td>Г.Кузнецов</td>\n",
       "      <td>NaN</td>\n",
       "      <td>«6+» - для детей старше 6 лет</td>\n",
       "      <td>NaN</td>\n",
       "      <td>NaN</td>\n",
       "      <td>NaN</td>\n",
       "      <td>NaN</td>\n",
       "      <td>7.0</td>\n",
       "      <td>приключения,военный</td>\n",
       "      <td>NaN</td>\n",
       "    </tr>\n",
       "    <tr>\n",
       "      <th>7406</th>\n",
       "      <td>Назначаешься внучкой</td>\n",
       "      <td>111020519</td>\n",
       "      <td>2019-12-01 12:00:00+00:00</td>\n",
       "      <td>Художественный</td>\n",
       "      <td>Свердловская киностудия</td>\n",
       "      <td>СССР</td>\n",
       "      <td>Я.Лапшин</td>\n",
       "      <td>NaN</td>\n",
       "      <td>«12+» - для детей старше 12 лет</td>\n",
       "      <td>NaN</td>\n",
       "      <td>NaN</td>\n",
       "      <td>NaN</td>\n",
       "      <td>NaN</td>\n",
       "      <td>7.0</td>\n",
       "      <td>военный</td>\n",
       "      <td>NaN</td>\n",
       "    </tr>\n",
       "    <tr>\n",
       "      <th>7407</th>\n",
       "      <td>Перед рассветом</td>\n",
       "      <td>111020619</td>\n",
       "      <td>2019-12-01 12:00:00+00:00</td>\n",
       "      <td>Художественный</td>\n",
       "      <td>Свердловская киностудия</td>\n",
       "      <td>СССР</td>\n",
       "      <td>Я.Лапшин</td>\n",
       "      <td>NaN</td>\n",
       "      <td>«16+» - для детей старше 16 лет</td>\n",
       "      <td>NaN</td>\n",
       "      <td>NaN</td>\n",
       "      <td>NaN</td>\n",
       "      <td>NaN</td>\n",
       "      <td>7.9</td>\n",
       "      <td>драма,мелодрама</td>\n",
       "      <td>NaN</td>\n",
       "    </tr>\n",
       "    <tr>\n",
       "      <th>7408</th>\n",
       "      <td>Ты помнишь</td>\n",
       "      <td>111020719</td>\n",
       "      <td>2019-12-01 12:00:00+00:00</td>\n",
       "      <td>Художественный</td>\n",
       "      <td>Свердловская киностудия</td>\n",
       "      <td>СССР</td>\n",
       "      <td>О.Николаевский</td>\n",
       "      <td>NaN</td>\n",
       "      <td>«12+» - для детей старше 12 лет</td>\n",
       "      <td>NaN</td>\n",
       "      <td>NaN</td>\n",
       "      <td>NaN</td>\n",
       "      <td>NaN</td>\n",
       "      <td>7.0</td>\n",
       "      <td>драма,мелодрама,военный</td>\n",
       "      <td>NaN</td>\n",
       "    </tr>\n",
       "    <tr>\n",
       "      <th>7409</th>\n",
       "      <td>Здесь твой фронт</td>\n",
       "      <td>111020819</td>\n",
       "      <td>2019-12-01 12:00:00+00:00</td>\n",
       "      <td>Художественный</td>\n",
       "      <td>Свердловская киностудия</td>\n",
       "      <td>СССР</td>\n",
       "      <td>Э.Гаврилов</td>\n",
       "      <td>NaN</td>\n",
       "      <td>«16+» - для детей старше 16 лет</td>\n",
       "      <td>NaN</td>\n",
       "      <td>NaN</td>\n",
       "      <td>NaN</td>\n",
       "      <td>NaN</td>\n",
       "      <td>5.8</td>\n",
       "      <td>драма,военный</td>\n",
       "      <td>NaN</td>\n",
       "    </tr>\n",
       "  </tbody>\n",
       "</table>\n",
       "<p>568 rows × 16 columns</p>\n",
       "</div>"
      ],
      "text/plain": [
       "                              title   puNumber           show_start_date  \\\n",
       "1              Особо важное задание  111013716 2016-09-13 12:00:00+00:00   \n",
       "5                 Остановился поезд  111013816 2016-09-13 12:00:00+00:00   \n",
       "6                   Любовь и голуби  111007013 2013-10-18 12:00:00+00:00   \n",
       "9               Отпуск за свой счет  111019114 2014-12-01 12:00:00+00:00   \n",
       "11                     Ответный ход  111019014 2014-12-01 12:00:00+00:00   \n",
       "...                             ...        ...                       ...   \n",
       "7405  Отряд специального назначения  111020419 2019-12-01 12:00:00+00:00   \n",
       "7406           Назначаешься внучкой  111020519 2019-12-01 12:00:00+00:00   \n",
       "7407                Перед рассветом  111020619 2019-12-01 12:00:00+00:00   \n",
       "7408                     Ты помнишь  111020719 2019-12-01 12:00:00+00:00   \n",
       "7409               Здесь твой фронт  111020819 2019-12-01 12:00:00+00:00   \n",
       "\n",
       "                 type                             film_studio  \\\n",
       "1      Художественный                   Киностудия \"Мосфильм\"   \n",
       "5      Художественный                   Киностудия \"Мосфильм\"   \n",
       "6      Художественный                   Киностудия \"Мосфильм\"   \n",
       "9      Художественный  Киностудия \"Мосфильм\", Телевидение ВНР   \n",
       "11     Художественный                   Киностудия \"Мосфильм\"   \n",
       "...               ...                                     ...   \n",
       "7405   Художественный                 Свердловская киностудия   \n",
       "7406   Художественный                 Свердловская киностудия   \n",
       "7407   Художественный                 Свердловская киностудия   \n",
       "7408   Художественный                 Свердловская киностудия   \n",
       "7409   Художественный                 Свердловская киностудия   \n",
       "\n",
       "     production_country        director producer  \\\n",
       "1                  СССР       Е.Матвеев      NaN   \n",
       "5                  СССР    В.Абдрашитов      NaN   \n",
       "6                  СССР       В.Меньшов      NaN   \n",
       "9         СССР, Венгрия         В.Титов      NaN   \n",
       "11                 СССР   М.Туманишвили      NaN   \n",
       "...                 ...             ...      ...   \n",
       "7405               СССР      Г.Кузнецов      NaN   \n",
       "7406               СССР        Я.Лапшин      NaN   \n",
       "7407               СССР        Я.Лапшин      NaN   \n",
       "7408               СССР  О.Николаевский      NaN   \n",
       "7409               СССР      Э.Гаврилов      NaN   \n",
       "\n",
       "                      age_restriction  refundable_support  \\\n",
       "1       «6+» - для детей старше 6 лет                 NaN   \n",
       "5       «6+» - для детей старше 6 лет                 NaN   \n",
       "6     «12+» - для детей старше 12 лет                 NaN   \n",
       "9     «12+» - для детей старше 12 лет                 NaN   \n",
       "11    «12+» - для детей старше 12 лет                 NaN   \n",
       "...                               ...                 ...   \n",
       "7405    «6+» - для детей старше 6 лет                 NaN   \n",
       "7406  «12+» - для детей старше 12 лет                 NaN   \n",
       "7407  «16+» - для детей старше 16 лет                 NaN   \n",
       "7408  «12+» - для детей старше 12 лет                 NaN   \n",
       "7409  «16+» - для детей старше 16 лет                 NaN   \n",
       "\n",
       "      nonrefundable_support  budget financing_source  ratings  \\\n",
       "1                       NaN     NaN              NaN      6.6   \n",
       "5                       NaN     NaN              NaN      7.7   \n",
       "6                       NaN     NaN              NaN      8.3   \n",
       "9                       NaN     NaN              NaN      7.8   \n",
       "11                      NaN     NaN              NaN      7.8   \n",
       "...                     ...     ...              ...      ...   \n",
       "7405                    NaN     NaN              NaN      7.0   \n",
       "7406                    NaN     NaN              NaN      7.0   \n",
       "7407                    NaN     NaN              NaN      7.9   \n",
       "7408                    NaN     NaN              NaN      7.0   \n",
       "7409                    NaN     NaN              NaN      5.8   \n",
       "\n",
       "                        genres  box_office  \n",
       "1                драма,военный         NaN  \n",
       "5                        драма         NaN  \n",
       "6            мелодрама,комедия      2700.0  \n",
       "9            мелодрама,комедия         NaN  \n",
       "11    боевик,драма,приключения         NaN  \n",
       "...                        ...         ...  \n",
       "7405       приключения,военный         NaN  \n",
       "7406                   военный         NaN  \n",
       "7407           драма,мелодрама         NaN  \n",
       "7408   драма,мелодрама,военный         NaN  \n",
       "7409             драма,военный         NaN  \n",
       "\n",
       "[568 rows x 16 columns]"
      ]
     },
     "execution_count": 16,
     "metadata": {},
     "output_type": "execute_result"
    }
   ],
   "source": [
    "data[pd.isnull(data['producer'])]"
   ]
  },
  {
   "cell_type": "markdown",
   "id": "42b6fa8c",
   "metadata": {},
   "source": [
    "Пропуски в колонке `producer` также нечем заменить, поэтому оставим так. Смортим `refundable_support`"
   ]
  },
  {
   "cell_type": "code",
   "execution_count": 17,
   "id": "e402276b",
   "metadata": {},
   "outputs": [
    {
     "data": {
      "text/html": [
       "<div>\n",
       "<style scoped>\n",
       "    .dataframe tbody tr th:only-of-type {\n",
       "        vertical-align: middle;\n",
       "    }\n",
       "\n",
       "    .dataframe tbody tr th {\n",
       "        vertical-align: top;\n",
       "    }\n",
       "\n",
       "    .dataframe thead th {\n",
       "        text-align: right;\n",
       "    }\n",
       "</style>\n",
       "<table border=\"1\" class=\"dataframe\">\n",
       "  <thead>\n",
       "    <tr style=\"text-align: right;\">\n",
       "      <th></th>\n",
       "      <th>title</th>\n",
       "      <th>puNumber</th>\n",
       "      <th>show_start_date</th>\n",
       "      <th>type</th>\n",
       "      <th>film_studio</th>\n",
       "      <th>production_country</th>\n",
       "      <th>director</th>\n",
       "      <th>producer</th>\n",
       "      <th>age_restriction</th>\n",
       "      <th>refundable_support</th>\n",
       "      <th>nonrefundable_support</th>\n",
       "      <th>budget</th>\n",
       "      <th>financing_source</th>\n",
       "      <th>ratings</th>\n",
       "      <th>genres</th>\n",
       "      <th>box_office</th>\n",
       "    </tr>\n",
       "  </thead>\n",
       "  <tbody>\n",
       "    <tr>\n",
       "      <th>0</th>\n",
       "      <td>Открытый простор</td>\n",
       "      <td>221048915</td>\n",
       "      <td>2015-11-27 12:00:00+00:00</td>\n",
       "      <td>Художественный</td>\n",
       "      <td>Тачстоун Пикчерз, Кобальт Пикчерз, Бикон Пикче...</td>\n",
       "      <td>США</td>\n",
       "      <td>Кевин Костнер</td>\n",
       "      <td>Дэвид Валдес, Кевин Костнер, Джейк Эбертс</td>\n",
       "      <td>«18+» - запрещено для детей</td>\n",
       "      <td>NaN</td>\n",
       "      <td>NaN</td>\n",
       "      <td>NaN</td>\n",
       "      <td>NaN</td>\n",
       "      <td>7.2</td>\n",
       "      <td>боевик,драма,мелодрама</td>\n",
       "      <td>NaN</td>\n",
       "    </tr>\n",
       "    <tr>\n",
       "      <th>1</th>\n",
       "      <td>Особо важное задание</td>\n",
       "      <td>111013716</td>\n",
       "      <td>2016-09-13 12:00:00+00:00</td>\n",
       "      <td>Художественный</td>\n",
       "      <td>Киностудия \"Мосфильм\"</td>\n",
       "      <td>СССР</td>\n",
       "      <td>Е.Матвеев</td>\n",
       "      <td>NaN</td>\n",
       "      <td>«6+» - для детей старше 6 лет</td>\n",
       "      <td>NaN</td>\n",
       "      <td>NaN</td>\n",
       "      <td>NaN</td>\n",
       "      <td>NaN</td>\n",
       "      <td>6.6</td>\n",
       "      <td>драма,военный</td>\n",
       "      <td>NaN</td>\n",
       "    </tr>\n",
       "    <tr>\n",
       "      <th>2</th>\n",
       "      <td>Особо опасен</td>\n",
       "      <td>221038416</td>\n",
       "      <td>2016-10-10 12:00:00+00:00</td>\n",
       "      <td>Художественный</td>\n",
       "      <td>Юниверсал Пикчерз, Кикстарт Продакшнз, Марк Пл...</td>\n",
       "      <td>США</td>\n",
       "      <td>Тимур Бекмамбетов</td>\n",
       "      <td>Джим Лемли, Джейсон Нетер, Марк Е.Платт, Яйн Смит</td>\n",
       "      <td>«18+» - запрещено для детей</td>\n",
       "      <td>NaN</td>\n",
       "      <td>NaN</td>\n",
       "      <td>NaN</td>\n",
       "      <td>NaN</td>\n",
       "      <td>6.8</td>\n",
       "      <td>фантастика,боевик,триллер</td>\n",
       "      <td>NaN</td>\n",
       "    </tr>\n",
       "    <tr>\n",
       "      <th>3</th>\n",
       "      <td>Особо опасен</td>\n",
       "      <td>221026916</td>\n",
       "      <td>2016-06-10 12:00:00+00:00</td>\n",
       "      <td>Художественный</td>\n",
       "      <td>Юниверсал Пикчерз, Кикстарт Продакшнз, Марк Пл...</td>\n",
       "      <td>США</td>\n",
       "      <td>Тимур Бекмамбетов</td>\n",
       "      <td>Джим Лемли, Джейсон Нетер, Марк Е.Платт, Яйн Смит</td>\n",
       "      <td>«18+» - запрещено для детей</td>\n",
       "      <td>NaN</td>\n",
       "      <td>NaN</td>\n",
       "      <td>NaN</td>\n",
       "      <td>NaN</td>\n",
       "      <td>6.8</td>\n",
       "      <td>фантастика,боевик,триллер</td>\n",
       "      <td>NaN</td>\n",
       "    </tr>\n",
       "    <tr>\n",
       "      <th>4</th>\n",
       "      <td>Особо опасен</td>\n",
       "      <td>221030815</td>\n",
       "      <td>2015-07-29 12:00:00+00:00</td>\n",
       "      <td>Художественный</td>\n",
       "      <td>Юниверсал Пикчерз, Кикстарт Продакшнз, Марк Пл...</td>\n",
       "      <td>США</td>\n",
       "      <td>Тимур Бекмамбетов</td>\n",
       "      <td>Джим Лемли, Джейсон Нетер, Марк Е.Платт, Яйн Смит</td>\n",
       "      <td>«18+» - запрещено для детей</td>\n",
       "      <td>NaN</td>\n",
       "      <td>NaN</td>\n",
       "      <td>NaN</td>\n",
       "      <td>NaN</td>\n",
       "      <td>6.8</td>\n",
       "      <td>фантастика,боевик,триллер</td>\n",
       "      <td>NaN</td>\n",
       "    </tr>\n",
       "    <tr>\n",
       "      <th>...</th>\n",
       "      <td>...</td>\n",
       "      <td>...</td>\n",
       "      <td>...</td>\n",
       "      <td>...</td>\n",
       "      <td>...</td>\n",
       "      <td>...</td>\n",
       "      <td>...</td>\n",
       "      <td>...</td>\n",
       "      <td>...</td>\n",
       "      <td>...</td>\n",
       "      <td>...</td>\n",
       "      <td>...</td>\n",
       "      <td>...</td>\n",
       "      <td>...</td>\n",
       "      <td>...</td>\n",
       "      <td>...</td>\n",
       "    </tr>\n",
       "    <tr>\n",
       "      <th>7481</th>\n",
       "      <td>Сад художника: Американский импрессионизм</td>\n",
       "      <td>126008019</td>\n",
       "      <td>2019-12-23 12:00:00+00:00</td>\n",
       "      <td>Прочие</td>\n",
       "      <td>Севен Артс Продакшнз</td>\n",
       "      <td>Великобритания</td>\n",
       "      <td>Фил Грабски</td>\n",
       "      <td>Фил Грабски</td>\n",
       "      <td>«12+» - для детей старше 12 лет</td>\n",
       "      <td>NaN</td>\n",
       "      <td>NaN</td>\n",
       "      <td>NaN</td>\n",
       "      <td>NaN</td>\n",
       "      <td>NaN</td>\n",
       "      <td>nan</td>\n",
       "      <td>NaN</td>\n",
       "    </tr>\n",
       "    <tr>\n",
       "      <th>7482</th>\n",
       "      <td>Звериная ярость</td>\n",
       "      <td>121037819</td>\n",
       "      <td>2019-12-24 12:00:00+00:00</td>\n",
       "      <td>Художественный</td>\n",
       "      <td>Дэниел Гродник Продакшнз, Вандерфилм Медиа Кор...</td>\n",
       "      <td>США</td>\n",
       "      <td>Ник Пауэлл</td>\n",
       "      <td>Джефф Боулер, Дэниэл Гродник, Луильо Руис, Брэ...</td>\n",
       "      <td>«16+» - для детей старше 16 лет</td>\n",
       "      <td>NaN</td>\n",
       "      <td>NaN</td>\n",
       "      <td>NaN</td>\n",
       "      <td>NaN</td>\n",
       "      <td>5.4</td>\n",
       "      <td>боевик,триллер</td>\n",
       "      <td>NaN</td>\n",
       "    </tr>\n",
       "    <tr>\n",
       "      <th>7483</th>\n",
       "      <td>Щенячий патруль: Скорей спешим на помощь!</td>\n",
       "      <td>124010819</td>\n",
       "      <td>2019-12-28 12:00:00+00:00</td>\n",
       "      <td>Художественный</td>\n",
       "      <td>Никелодеон Анимейшн Студиос, Спин Мастер</td>\n",
       "      <td>США - Канада</td>\n",
       "      <td>Чарльз Е.Бастьен</td>\n",
       "      <td>Дженнифер Додж</td>\n",
       "      <td>«0+» - для любой зрительской аудитории</td>\n",
       "      <td>NaN</td>\n",
       "      <td>NaN</td>\n",
       "      <td>NaN</td>\n",
       "      <td>NaN</td>\n",
       "      <td>NaN</td>\n",
       "      <td>nan</td>\n",
       "      <td>NaN</td>\n",
       "    </tr>\n",
       "    <tr>\n",
       "      <th>7484</th>\n",
       "      <td>Машины песенки. Серия \"Испанские мотивы\"</td>\n",
       "      <td>124010619</td>\n",
       "      <td>2019-12-30 12:00:00+00:00</td>\n",
       "      <td>Анимационный</td>\n",
       "      <td>Анимаккорд Лтд., ООО Студия \"АНИМАККОРД\"</td>\n",
       "      <td>Республика Кипр, Россия</td>\n",
       "      <td>А.Беляев</td>\n",
       "      <td>Д.Ловейко</td>\n",
       "      <td>«0+» - для любой зрительской аудитории</td>\n",
       "      <td>NaN</td>\n",
       "      <td>NaN</td>\n",
       "      <td>NaN</td>\n",
       "      <td>NaN</td>\n",
       "      <td>NaN</td>\n",
       "      <td>nan</td>\n",
       "      <td>NaN</td>\n",
       "    </tr>\n",
       "    <tr>\n",
       "      <th>7485</th>\n",
       "      <td>Машины песенки. Серия \"Когда цветут кактусы\"</td>\n",
       "      <td>124010719</td>\n",
       "      <td>2019-12-30 12:00:00+00:00</td>\n",
       "      <td>Анимационный</td>\n",
       "      <td>Анимаккорд Лтд., ООО Студия \"АНИМАККОРД\"</td>\n",
       "      <td>Республика Кипр, Россия</td>\n",
       "      <td>И.Трусов</td>\n",
       "      <td>Д.Ловейко</td>\n",
       "      <td>«0+» - для любой зрительской аудитории</td>\n",
       "      <td>NaN</td>\n",
       "      <td>NaN</td>\n",
       "      <td>NaN</td>\n",
       "      <td>NaN</td>\n",
       "      <td>6.3</td>\n",
       "      <td>комедия,вестерн</td>\n",
       "      <td>NaN</td>\n",
       "    </tr>\n",
       "  </tbody>\n",
       "</table>\n",
       "<p>7154 rows × 16 columns</p>\n",
       "</div>"
      ],
      "text/plain": [
       "                                             title   puNumber  \\\n",
       "0                                 Открытый простор  221048915   \n",
       "1                             Особо важное задание  111013716   \n",
       "2                                     Особо опасен  221038416   \n",
       "3                                     Особо опасен  221026916   \n",
       "4                                     Особо опасен  221030815   \n",
       "...                                            ...        ...   \n",
       "7481     Сад художника: Американский импрессионизм  126008019   \n",
       "7482                               Звериная ярость  121037819   \n",
       "7483     Щенячий патруль: Скорей спешим на помощь!  124010819   \n",
       "7484      Машины песенки. Серия \"Испанские мотивы\"  124010619   \n",
       "7485  Машины песенки. Серия \"Когда цветут кактусы\"  124010719   \n",
       "\n",
       "               show_start_date             type  \\\n",
       "0    2015-11-27 12:00:00+00:00   Художественный   \n",
       "1    2016-09-13 12:00:00+00:00   Художественный   \n",
       "2    2016-10-10 12:00:00+00:00   Художественный   \n",
       "3    2016-06-10 12:00:00+00:00   Художественный   \n",
       "4    2015-07-29 12:00:00+00:00   Художественный   \n",
       "...                        ...              ...   \n",
       "7481 2019-12-23 12:00:00+00:00           Прочие   \n",
       "7482 2019-12-24 12:00:00+00:00   Художественный   \n",
       "7483 2019-12-28 12:00:00+00:00   Художественный   \n",
       "7484 2019-12-30 12:00:00+00:00     Анимационный   \n",
       "7485 2019-12-30 12:00:00+00:00     Анимационный   \n",
       "\n",
       "                                            film_studio  \\\n",
       "0     Тачстоун Пикчерз, Кобальт Пикчерз, Бикон Пикче...   \n",
       "1                                 Киностудия \"Мосфильм\"   \n",
       "2     Юниверсал Пикчерз, Кикстарт Продакшнз, Марк Пл...   \n",
       "3     Юниверсал Пикчерз, Кикстарт Продакшнз, Марк Пл...   \n",
       "4     Юниверсал Пикчерз, Кикстарт Продакшнз, Марк Пл...   \n",
       "...                                                 ...   \n",
       "7481                               Севен Артс Продакшнз   \n",
       "7482  Дэниел Гродник Продакшнз, Вандерфилм Медиа Кор...   \n",
       "7483           Никелодеон Анимейшн Студиос, Спин Мастер   \n",
       "7484           Анимаккорд Лтд., ООО Студия \"АНИМАККОРД\"   \n",
       "7485           Анимаккорд Лтд., ООО Студия \"АНИМАККОРД\"   \n",
       "\n",
       "           production_country           director  \\\n",
       "0                         США      Кевин Костнер   \n",
       "1                        СССР          Е.Матвеев   \n",
       "2                         США  Тимур Бекмамбетов   \n",
       "3                         США  Тимур Бекмамбетов   \n",
       "4                         США  Тимур Бекмамбетов   \n",
       "...                       ...                ...   \n",
       "7481           Великобритания        Фил Грабски   \n",
       "7482                      США         Ник Пауэлл   \n",
       "7483             США - Канада   Чарльз Е.Бастьен   \n",
       "7484  Республика Кипр, Россия           А.Беляев   \n",
       "7485  Республика Кипр, Россия           И.Трусов   \n",
       "\n",
       "                                               producer  \\\n",
       "0             Дэвид Валдес, Кевин Костнер, Джейк Эбертс   \n",
       "1                                                   NaN   \n",
       "2     Джим Лемли, Джейсон Нетер, Марк Е.Платт, Яйн Смит   \n",
       "3     Джим Лемли, Джейсон Нетер, Марк Е.Платт, Яйн Смит   \n",
       "4     Джим Лемли, Джейсон Нетер, Марк Е.Платт, Яйн Смит   \n",
       "...                                                 ...   \n",
       "7481                                        Фил Грабски   \n",
       "7482  Джефф Боулер, Дэниэл Гродник, Луильо Руис, Брэ...   \n",
       "7483                                     Дженнифер Додж   \n",
       "7484                                          Д.Ловейко   \n",
       "7485                                          Д.Ловейко   \n",
       "\n",
       "                             age_restriction  refundable_support  \\\n",
       "0                «18+» - запрещено для детей                 NaN   \n",
       "1              «6+» - для детей старше 6 лет                 NaN   \n",
       "2                «18+» - запрещено для детей                 NaN   \n",
       "3                «18+» - запрещено для детей                 NaN   \n",
       "4                «18+» - запрещено для детей                 NaN   \n",
       "...                                      ...                 ...   \n",
       "7481         «12+» - для детей старше 12 лет                 NaN   \n",
       "7482         «16+» - для детей старше 16 лет                 NaN   \n",
       "7483  «0+» - для любой зрительской аудитории                 NaN   \n",
       "7484  «0+» - для любой зрительской аудитории                 NaN   \n",
       "7485  «0+» - для любой зрительской аудитории                 NaN   \n",
       "\n",
       "      nonrefundable_support  budget financing_source  ratings  \\\n",
       "0                       NaN     NaN              NaN      7.2   \n",
       "1                       NaN     NaN              NaN      6.6   \n",
       "2                       NaN     NaN              NaN      6.8   \n",
       "3                       NaN     NaN              NaN      6.8   \n",
       "4                       NaN     NaN              NaN      6.8   \n",
       "...                     ...     ...              ...      ...   \n",
       "7481                    NaN     NaN              NaN      NaN   \n",
       "7482                    NaN     NaN              NaN      5.4   \n",
       "7483                    NaN     NaN              NaN      NaN   \n",
       "7484                    NaN     NaN              NaN      NaN   \n",
       "7485                    NaN     NaN              NaN      6.3   \n",
       "\n",
       "                         genres  box_office  \n",
       "0        боевик,драма,мелодрама         NaN  \n",
       "1                 драма,военный         NaN  \n",
       "2     фантастика,боевик,триллер         NaN  \n",
       "3     фантастика,боевик,триллер         NaN  \n",
       "4     фантастика,боевик,триллер         NaN  \n",
       "...                         ...         ...  \n",
       "7481                        nan         NaN  \n",
       "7482             боевик,триллер         NaN  \n",
       "7483                        nan         NaN  \n",
       "7484                        nan         NaN  \n",
       "7485            комедия,вестерн         NaN  \n",
       "\n",
       "[7154 rows x 16 columns]"
      ]
     },
     "execution_count": 17,
     "metadata": {},
     "output_type": "execute_result"
    }
   ],
   "source": [
    "data[pd.isnull(data['refundable_support'])]"
   ]
  },
  {
   "cell_type": "markdown",
   "id": "7afee9f4",
   "metadata": {},
   "source": [
    "В 96% данных пропуски в колонках `refundable_support`, `nonrefundable_support`, `budget`, `financing_source` говорят о том, что из всего анализируемого объема лишь 4% фильмов с господдержкой, а остальные 96% без (к примеру иностранные фильмы не нуждаются в поддержке Россией), отсюда и пропуски в колонках.\n",
    "\n",
    "Смотрю пропуске в колонке рейтинг."
   ]
  },
  {
   "cell_type": "code",
   "execution_count": 18,
   "id": "3ea1e686",
   "metadata": {},
   "outputs": [
    {
     "data": {
      "text/html": [
       "<div>\n",
       "<style scoped>\n",
       "    .dataframe tbody tr th:only-of-type {\n",
       "        vertical-align: middle;\n",
       "    }\n",
       "\n",
       "    .dataframe tbody tr th {\n",
       "        vertical-align: top;\n",
       "    }\n",
       "\n",
       "    .dataframe thead th {\n",
       "        text-align: right;\n",
       "    }\n",
       "</style>\n",
       "<table border=\"1\" class=\"dataframe\">\n",
       "  <thead>\n",
       "    <tr style=\"text-align: right;\">\n",
       "      <th></th>\n",
       "      <th>title</th>\n",
       "      <th>puNumber</th>\n",
       "      <th>show_start_date</th>\n",
       "      <th>type</th>\n",
       "      <th>film_studio</th>\n",
       "      <th>production_country</th>\n",
       "      <th>director</th>\n",
       "      <th>producer</th>\n",
       "      <th>age_restriction</th>\n",
       "      <th>refundable_support</th>\n",
       "      <th>nonrefundable_support</th>\n",
       "      <th>budget</th>\n",
       "      <th>financing_source</th>\n",
       "      <th>ratings</th>\n",
       "      <th>genres</th>\n",
       "      <th>box_office</th>\n",
       "    </tr>\n",
       "  </thead>\n",
       "  <tbody>\n",
       "    <tr>\n",
       "      <th>43</th>\n",
       "      <td>Мемуары гейши (по роману Артура Голдена)</td>\n",
       "      <td>121000606</td>\n",
       "      <td>2012-12-14 12:00:00+00:00</td>\n",
       "      <td>Художественный</td>\n",
       "      <td>Коламбия Пикчерз Корпорейшн, ДримУоркс ЭсКейДж...</td>\n",
       "      <td>США</td>\n",
       "      <td>Роб Маршалл</td>\n",
       "      <td>Стивен Спилберг, Люси Фишер, Дуглас Уик, Джон ...</td>\n",
       "      <td>«12+» - для детей старше 12 лет</td>\n",
       "      <td>NaN</td>\n",
       "      <td>NaN</td>\n",
       "      <td>NaN</td>\n",
       "      <td>NaN</td>\n",
       "      <td>NaN</td>\n",
       "      <td>nan</td>\n",
       "      <td>NaN</td>\n",
       "    </tr>\n",
       "    <tr>\n",
       "      <th>150</th>\n",
       "      <td>Жди меня</td>\n",
       "      <td>111013615</td>\n",
       "      <td>2015-08-25 12:00:00+00:00</td>\n",
       "      <td>Художественный</td>\n",
       "      <td>Киностудия \"Мосфильм\"</td>\n",
       "      <td>СССР</td>\n",
       "      <td>А.Столпер, Б.Иванов</td>\n",
       "      <td>NaN</td>\n",
       "      <td>«6+» - для детей старше 6 лет</td>\n",
       "      <td>NaN</td>\n",
       "      <td>NaN</td>\n",
       "      <td>NaN</td>\n",
       "      <td>NaN</td>\n",
       "      <td>NaN</td>\n",
       "      <td>nan</td>\n",
       "      <td>NaN</td>\n",
       "    </tr>\n",
       "    <tr>\n",
       "      <th>154</th>\n",
       "      <td>Дом из песка и тумана (по книге Андре Дюбуи III)</td>\n",
       "      <td>221037813</td>\n",
       "      <td>2013-10-25 12:00:00+00:00</td>\n",
       "      <td>Художественный</td>\n",
       "      <td>Кобальт Пикчерз</td>\n",
       "      <td>США</td>\n",
       "      <td>Вадим Перельман</td>\n",
       "      <td>Майкл Лондон</td>\n",
       "      <td>«16+» - для детей старше 16 лет</td>\n",
       "      <td>NaN</td>\n",
       "      <td>NaN</td>\n",
       "      <td>NaN</td>\n",
       "      <td>NaN</td>\n",
       "      <td>NaN</td>\n",
       "      <td>nan</td>\n",
       "      <td>NaN</td>\n",
       "    </tr>\n",
       "    <tr>\n",
       "      <th>159</th>\n",
       "      <td>Жемчужная девушка</td>\n",
       "      <td>224011014</td>\n",
       "      <td>2014-08-28 12:00:00+00:00</td>\n",
       "      <td>Художественный</td>\n",
       "      <td>Чешское телевидение,Студия \"Три брата\" агентск...</td>\n",
       "      <td>Чехия</td>\n",
       "      <td>Владимир Дрга</td>\n",
       "      <td>NaN</td>\n",
       "      <td>«0+» - для любой зрительской аудитории</td>\n",
       "      <td>NaN</td>\n",
       "      <td>NaN</td>\n",
       "      <td>NaN</td>\n",
       "      <td>NaN</td>\n",
       "      <td>NaN</td>\n",
       "      <td>nan</td>\n",
       "      <td>NaN</td>\n",
       "    </tr>\n",
       "    <tr>\n",
       "      <th>227</th>\n",
       "      <td>Полустанок</td>\n",
       "      <td>111026714</td>\n",
       "      <td>2014-12-24 12:00:00+00:00</td>\n",
       "      <td>Художественный</td>\n",
       "      <td>Киностудия \"Мосфильм\"</td>\n",
       "      <td>СССР</td>\n",
       "      <td>Б.Барнет</td>\n",
       "      <td>NaN</td>\n",
       "      <td>«12+» - для детей старше 12 лет</td>\n",
       "      <td>NaN</td>\n",
       "      <td>NaN</td>\n",
       "      <td>NaN</td>\n",
       "      <td>NaN</td>\n",
       "      <td>NaN</td>\n",
       "      <td>nan</td>\n",
       "      <td>NaN</td>\n",
       "    </tr>\n",
       "    <tr>\n",
       "      <th>...</th>\n",
       "      <td>...</td>\n",
       "      <td>...</td>\n",
       "      <td>...</td>\n",
       "      <td>...</td>\n",
       "      <td>...</td>\n",
       "      <td>...</td>\n",
       "      <td>...</td>\n",
       "      <td>...</td>\n",
       "      <td>...</td>\n",
       "      <td>...</td>\n",
       "      <td>...</td>\n",
       "      <td>...</td>\n",
       "      <td>...</td>\n",
       "      <td>...</td>\n",
       "      <td>...</td>\n",
       "      <td>...</td>\n",
       "    </tr>\n",
       "    <tr>\n",
       "      <th>7479</th>\n",
       "      <td>Эколав</td>\n",
       "      <td>111023219</td>\n",
       "      <td>2019-12-26 12:00:00+00:00</td>\n",
       "      <td>Художественный</td>\n",
       "      <td>ВГИК</td>\n",
       "      <td>Россия</td>\n",
       "      <td>Д.Григорьев</td>\n",
       "      <td>ВГИК</td>\n",
       "      <td>«18+» - запрещено для детей</td>\n",
       "      <td>NaN</td>\n",
       "      <td>NaN</td>\n",
       "      <td>NaN</td>\n",
       "      <td>NaN</td>\n",
       "      <td>NaN</td>\n",
       "      <td>nan</td>\n",
       "      <td>NaN</td>\n",
       "    </tr>\n",
       "    <tr>\n",
       "      <th>7480</th>\n",
       "      <td>Акрам Хан: Родом из Карри Хауса</td>\n",
       "      <td>126007919</td>\n",
       "      <td>2019-12-23 12:00:00+00:00</td>\n",
       "      <td>Прочие</td>\n",
       "      <td>Свон Филмз</td>\n",
       "      <td>Великобритания</td>\n",
       "      <td>Ник Пойнц</td>\n",
       "      <td>Поппи Бегум, Ник Пойнц</td>\n",
       "      <td>«12+» - для детей старше 12 лет</td>\n",
       "      <td>NaN</td>\n",
       "      <td>NaN</td>\n",
       "      <td>NaN</td>\n",
       "      <td>NaN</td>\n",
       "      <td>NaN</td>\n",
       "      <td>nan</td>\n",
       "      <td>219569.0</td>\n",
       "    </tr>\n",
       "    <tr>\n",
       "      <th>7481</th>\n",
       "      <td>Сад художника: Американский импрессионизм</td>\n",
       "      <td>126008019</td>\n",
       "      <td>2019-12-23 12:00:00+00:00</td>\n",
       "      <td>Прочие</td>\n",
       "      <td>Севен Артс Продакшнз</td>\n",
       "      <td>Великобритания</td>\n",
       "      <td>Фил Грабски</td>\n",
       "      <td>Фил Грабски</td>\n",
       "      <td>«12+» - для детей старше 12 лет</td>\n",
       "      <td>NaN</td>\n",
       "      <td>NaN</td>\n",
       "      <td>NaN</td>\n",
       "      <td>NaN</td>\n",
       "      <td>NaN</td>\n",
       "      <td>nan</td>\n",
       "      <td>NaN</td>\n",
       "    </tr>\n",
       "    <tr>\n",
       "      <th>7483</th>\n",
       "      <td>Щенячий патруль: Скорей спешим на помощь!</td>\n",
       "      <td>124010819</td>\n",
       "      <td>2019-12-28 12:00:00+00:00</td>\n",
       "      <td>Художественный</td>\n",
       "      <td>Никелодеон Анимейшн Студиос, Спин Мастер</td>\n",
       "      <td>США - Канада</td>\n",
       "      <td>Чарльз Е.Бастьен</td>\n",
       "      <td>Дженнифер Додж</td>\n",
       "      <td>«0+» - для любой зрительской аудитории</td>\n",
       "      <td>NaN</td>\n",
       "      <td>NaN</td>\n",
       "      <td>NaN</td>\n",
       "      <td>NaN</td>\n",
       "      <td>NaN</td>\n",
       "      <td>nan</td>\n",
       "      <td>NaN</td>\n",
       "    </tr>\n",
       "    <tr>\n",
       "      <th>7484</th>\n",
       "      <td>Машины песенки. Серия \"Испанские мотивы\"</td>\n",
       "      <td>124010619</td>\n",
       "      <td>2019-12-30 12:00:00+00:00</td>\n",
       "      <td>Анимационный</td>\n",
       "      <td>Анимаккорд Лтд., ООО Студия \"АНИМАККОРД\"</td>\n",
       "      <td>Республика Кипр, Россия</td>\n",
       "      <td>А.Беляев</td>\n",
       "      <td>Д.Ловейко</td>\n",
       "      <td>«0+» - для любой зрительской аудитории</td>\n",
       "      <td>NaN</td>\n",
       "      <td>NaN</td>\n",
       "      <td>NaN</td>\n",
       "      <td>NaN</td>\n",
       "      <td>NaN</td>\n",
       "      <td>nan</td>\n",
       "      <td>NaN</td>\n",
       "    </tr>\n",
       "  </tbody>\n",
       "</table>\n",
       "<p>996 rows × 16 columns</p>\n",
       "</div>"
      ],
      "text/plain": [
       "                                                 title   puNumber  \\\n",
       "43            Мемуары гейши (по роману Артура Голдена)  121000606   \n",
       "150                                           Жди меня  111013615   \n",
       "154   Дом из песка и тумана (по книге Андре Дюбуи III)  221037813   \n",
       "159                                  Жемчужная девушка  224011014   \n",
       "227                                         Полустанок  111026714   \n",
       "...                                                ...        ...   \n",
       "7479                                            Эколав  111023219   \n",
       "7480                   Акрам Хан: Родом из Карри Хауса  126007919   \n",
       "7481         Сад художника: Американский импрессионизм  126008019   \n",
       "7483         Щенячий патруль: Скорей спешим на помощь!  124010819   \n",
       "7484          Машины песенки. Серия \"Испанские мотивы\"  124010619   \n",
       "\n",
       "               show_start_date             type  \\\n",
       "43   2012-12-14 12:00:00+00:00   Художественный   \n",
       "150  2015-08-25 12:00:00+00:00   Художественный   \n",
       "154  2013-10-25 12:00:00+00:00   Художественный   \n",
       "159  2014-08-28 12:00:00+00:00   Художественный   \n",
       "227  2014-12-24 12:00:00+00:00   Художественный   \n",
       "...                        ...              ...   \n",
       "7479 2019-12-26 12:00:00+00:00   Художественный   \n",
       "7480 2019-12-23 12:00:00+00:00           Прочие   \n",
       "7481 2019-12-23 12:00:00+00:00           Прочие   \n",
       "7483 2019-12-28 12:00:00+00:00   Художественный   \n",
       "7484 2019-12-30 12:00:00+00:00     Анимационный   \n",
       "\n",
       "                                            film_studio  \\\n",
       "43    Коламбия Пикчерз Корпорейшн, ДримУоркс ЭсКейДж...   \n",
       "150                               Киностудия \"Мосфильм\"   \n",
       "154                                     Кобальт Пикчерз   \n",
       "159   Чешское телевидение,Студия \"Три брата\" агентск...   \n",
       "227                               Киностудия \"Мосфильм\"   \n",
       "...                                                 ...   \n",
       "7479                                               ВГИК   \n",
       "7480                                         Свон Филмз   \n",
       "7481                               Севен Артс Продакшнз   \n",
       "7483           Никелодеон Анимейшн Студиос, Спин Мастер   \n",
       "7484           Анимаккорд Лтд., ООО Студия \"АНИМАККОРД\"   \n",
       "\n",
       "           production_country             director  \\\n",
       "43                        США          Роб Маршалл   \n",
       "150                      СССР  А.Столпер, Б.Иванов   \n",
       "154                       США      Вадим Перельман   \n",
       "159                     Чехия        Владимир Дрга   \n",
       "227                      СССР             Б.Барнет   \n",
       "...                       ...                  ...   \n",
       "7479                   Россия          Д.Григорьев   \n",
       "7480           Великобритания            Ник Пойнц   \n",
       "7481           Великобритания          Фил Грабски   \n",
       "7483             США - Канада     Чарльз Е.Бастьен   \n",
       "7484  Республика Кипр, Россия             А.Беляев   \n",
       "\n",
       "                                               producer  \\\n",
       "43    Стивен Спилберг, Люси Фишер, Дуглас Уик, Джон ...   \n",
       "150                                                 NaN   \n",
       "154                                        Майкл Лондон   \n",
       "159                                                 NaN   \n",
       "227                                                 NaN   \n",
       "...                                                 ...   \n",
       "7479                                               ВГИК   \n",
       "7480                             Поппи Бегум, Ник Пойнц   \n",
       "7481                                        Фил Грабски   \n",
       "7483                                     Дженнифер Додж   \n",
       "7484                                          Д.Ловейко   \n",
       "\n",
       "                             age_restriction  refundable_support  \\\n",
       "43           «12+» - для детей старше 12 лет                 NaN   \n",
       "150            «6+» - для детей старше 6 лет                 NaN   \n",
       "154          «16+» - для детей старше 16 лет                 NaN   \n",
       "159   «0+» - для любой зрительской аудитории                 NaN   \n",
       "227          «12+» - для детей старше 12 лет                 NaN   \n",
       "...                                      ...                 ...   \n",
       "7479             «18+» - запрещено для детей                 NaN   \n",
       "7480         «12+» - для детей старше 12 лет                 NaN   \n",
       "7481         «12+» - для детей старше 12 лет                 NaN   \n",
       "7483  «0+» - для любой зрительской аудитории                 NaN   \n",
       "7484  «0+» - для любой зрительской аудитории                 NaN   \n",
       "\n",
       "      nonrefundable_support  budget financing_source  ratings genres  \\\n",
       "43                      NaN     NaN              NaN      NaN    nan   \n",
       "150                     NaN     NaN              NaN      NaN    nan   \n",
       "154                     NaN     NaN              NaN      NaN    nan   \n",
       "159                     NaN     NaN              NaN      NaN    nan   \n",
       "227                     NaN     NaN              NaN      NaN    nan   \n",
       "...                     ...     ...              ...      ...    ...   \n",
       "7479                    NaN     NaN              NaN      NaN    nan   \n",
       "7480                    NaN     NaN              NaN      NaN    nan   \n",
       "7481                    NaN     NaN              NaN      NaN    nan   \n",
       "7483                    NaN     NaN              NaN      NaN    nan   \n",
       "7484                    NaN     NaN              NaN      NaN    nan   \n",
       "\n",
       "      box_office  \n",
       "43           NaN  \n",
       "150          NaN  \n",
       "154          NaN  \n",
       "159          NaN  \n",
       "227          NaN  \n",
       "...          ...  \n",
       "7479         NaN  \n",
       "7480    219569.0  \n",
       "7481         NaN  \n",
       "7483         NaN  \n",
       "7484         NaN  \n",
       "\n",
       "[996 rows x 16 columns]"
      ]
     },
     "execution_count": 18,
     "metadata": {},
     "output_type": "execute_result"
    }
   ],
   "source": [
    "data[pd.isnull(data['ratings'])]"
   ]
  },
  {
   "cell_type": "markdown",
   "id": "20e5d2e5",
   "metadata": {},
   "source": [
    "Пропуски в колонке рейтинг ничем не примечательны, составляют 13% и пока оставлю без изменений.\n",
    "Смотрю `genres`."
   ]
  },
  {
   "cell_type": "code",
   "execution_count": 19,
   "id": "853d4d6f",
   "metadata": {},
   "outputs": [
    {
     "data": {
      "text/html": [
       "<div>\n",
       "<style scoped>\n",
       "    .dataframe tbody tr th:only-of-type {\n",
       "        vertical-align: middle;\n",
       "    }\n",
       "\n",
       "    .dataframe tbody tr th {\n",
       "        vertical-align: top;\n",
       "    }\n",
       "\n",
       "    .dataframe thead th {\n",
       "        text-align: right;\n",
       "    }\n",
       "</style>\n",
       "<table border=\"1\" class=\"dataframe\">\n",
       "  <thead>\n",
       "    <tr style=\"text-align: right;\">\n",
       "      <th></th>\n",
       "      <th>title</th>\n",
       "      <th>puNumber</th>\n",
       "      <th>show_start_date</th>\n",
       "      <th>type</th>\n",
       "      <th>film_studio</th>\n",
       "      <th>production_country</th>\n",
       "      <th>director</th>\n",
       "      <th>producer</th>\n",
       "      <th>age_restriction</th>\n",
       "      <th>refundable_support</th>\n",
       "      <th>nonrefundable_support</th>\n",
       "      <th>budget</th>\n",
       "      <th>financing_source</th>\n",
       "      <th>ratings</th>\n",
       "      <th>genres</th>\n",
       "      <th>box_office</th>\n",
       "    </tr>\n",
       "  </thead>\n",
       "  <tbody>\n",
       "    <tr>\n",
       "      <th>43</th>\n",
       "      <td>Мемуары гейши (по роману Артура Голдена)</td>\n",
       "      <td>121000606</td>\n",
       "      <td>2012-12-14 12:00:00+00:00</td>\n",
       "      <td>Художественный</td>\n",
       "      <td>Коламбия Пикчерз Корпорейшн, ДримУоркс ЭсКейДж...</td>\n",
       "      <td>США</td>\n",
       "      <td>Роб Маршалл</td>\n",
       "      <td>Стивен Спилберг, Люси Фишер, Дуглас Уик, Джон ...</td>\n",
       "      <td>«12+» - для детей старше 12 лет</td>\n",
       "      <td>NaN</td>\n",
       "      <td>NaN</td>\n",
       "      <td>NaN</td>\n",
       "      <td>NaN</td>\n",
       "      <td>NaN</td>\n",
       "      <td>nan</td>\n",
       "      <td>NaN</td>\n",
       "    </tr>\n",
       "    <tr>\n",
       "      <th>150</th>\n",
       "      <td>Жди меня</td>\n",
       "      <td>111013615</td>\n",
       "      <td>2015-08-25 12:00:00+00:00</td>\n",
       "      <td>Художественный</td>\n",
       "      <td>Киностудия \"Мосфильм\"</td>\n",
       "      <td>СССР</td>\n",
       "      <td>А.Столпер, Б.Иванов</td>\n",
       "      <td>NaN</td>\n",
       "      <td>«6+» - для детей старше 6 лет</td>\n",
       "      <td>NaN</td>\n",
       "      <td>NaN</td>\n",
       "      <td>NaN</td>\n",
       "      <td>NaN</td>\n",
       "      <td>NaN</td>\n",
       "      <td>nan</td>\n",
       "      <td>NaN</td>\n",
       "    </tr>\n",
       "    <tr>\n",
       "      <th>154</th>\n",
       "      <td>Дом из песка и тумана (по книге Андре Дюбуи III)</td>\n",
       "      <td>221037813</td>\n",
       "      <td>2013-10-25 12:00:00+00:00</td>\n",
       "      <td>Художественный</td>\n",
       "      <td>Кобальт Пикчерз</td>\n",
       "      <td>США</td>\n",
       "      <td>Вадим Перельман</td>\n",
       "      <td>Майкл Лондон</td>\n",
       "      <td>«16+» - для детей старше 16 лет</td>\n",
       "      <td>NaN</td>\n",
       "      <td>NaN</td>\n",
       "      <td>NaN</td>\n",
       "      <td>NaN</td>\n",
       "      <td>NaN</td>\n",
       "      <td>nan</td>\n",
       "      <td>NaN</td>\n",
       "    </tr>\n",
       "    <tr>\n",
       "      <th>159</th>\n",
       "      <td>Жемчужная девушка</td>\n",
       "      <td>224011014</td>\n",
       "      <td>2014-08-28 12:00:00+00:00</td>\n",
       "      <td>Художественный</td>\n",
       "      <td>Чешское телевидение,Студия \"Три брата\" агентск...</td>\n",
       "      <td>Чехия</td>\n",
       "      <td>Владимир Дрга</td>\n",
       "      <td>NaN</td>\n",
       "      <td>«0+» - для любой зрительской аудитории</td>\n",
       "      <td>NaN</td>\n",
       "      <td>NaN</td>\n",
       "      <td>NaN</td>\n",
       "      <td>NaN</td>\n",
       "      <td>NaN</td>\n",
       "      <td>nan</td>\n",
       "      <td>NaN</td>\n",
       "    </tr>\n",
       "    <tr>\n",
       "      <th>227</th>\n",
       "      <td>Полустанок</td>\n",
       "      <td>111026714</td>\n",
       "      <td>2014-12-24 12:00:00+00:00</td>\n",
       "      <td>Художественный</td>\n",
       "      <td>Киностудия \"Мосфильм\"</td>\n",
       "      <td>СССР</td>\n",
       "      <td>Б.Барнет</td>\n",
       "      <td>NaN</td>\n",
       "      <td>«12+» - для детей старше 12 лет</td>\n",
       "      <td>NaN</td>\n",
       "      <td>NaN</td>\n",
       "      <td>NaN</td>\n",
       "      <td>NaN</td>\n",
       "      <td>NaN</td>\n",
       "      <td>nan</td>\n",
       "      <td>NaN</td>\n",
       "    </tr>\n",
       "    <tr>\n",
       "      <th>...</th>\n",
       "      <td>...</td>\n",
       "      <td>...</td>\n",
       "      <td>...</td>\n",
       "      <td>...</td>\n",
       "      <td>...</td>\n",
       "      <td>...</td>\n",
       "      <td>...</td>\n",
       "      <td>...</td>\n",
       "      <td>...</td>\n",
       "      <td>...</td>\n",
       "      <td>...</td>\n",
       "      <td>...</td>\n",
       "      <td>...</td>\n",
       "      <td>...</td>\n",
       "      <td>...</td>\n",
       "      <td>...</td>\n",
       "    </tr>\n",
       "    <tr>\n",
       "      <th>7479</th>\n",
       "      <td>Эколав</td>\n",
       "      <td>111023219</td>\n",
       "      <td>2019-12-26 12:00:00+00:00</td>\n",
       "      <td>Художественный</td>\n",
       "      <td>ВГИК</td>\n",
       "      <td>Россия</td>\n",
       "      <td>Д.Григорьев</td>\n",
       "      <td>ВГИК</td>\n",
       "      <td>«18+» - запрещено для детей</td>\n",
       "      <td>NaN</td>\n",
       "      <td>NaN</td>\n",
       "      <td>NaN</td>\n",
       "      <td>NaN</td>\n",
       "      <td>NaN</td>\n",
       "      <td>nan</td>\n",
       "      <td>NaN</td>\n",
       "    </tr>\n",
       "    <tr>\n",
       "      <th>7480</th>\n",
       "      <td>Акрам Хан: Родом из Карри Хауса</td>\n",
       "      <td>126007919</td>\n",
       "      <td>2019-12-23 12:00:00+00:00</td>\n",
       "      <td>Прочие</td>\n",
       "      <td>Свон Филмз</td>\n",
       "      <td>Великобритания</td>\n",
       "      <td>Ник Пойнц</td>\n",
       "      <td>Поппи Бегум, Ник Пойнц</td>\n",
       "      <td>«12+» - для детей старше 12 лет</td>\n",
       "      <td>NaN</td>\n",
       "      <td>NaN</td>\n",
       "      <td>NaN</td>\n",
       "      <td>NaN</td>\n",
       "      <td>NaN</td>\n",
       "      <td>nan</td>\n",
       "      <td>219569.0</td>\n",
       "    </tr>\n",
       "    <tr>\n",
       "      <th>7481</th>\n",
       "      <td>Сад художника: Американский импрессионизм</td>\n",
       "      <td>126008019</td>\n",
       "      <td>2019-12-23 12:00:00+00:00</td>\n",
       "      <td>Прочие</td>\n",
       "      <td>Севен Артс Продакшнз</td>\n",
       "      <td>Великобритания</td>\n",
       "      <td>Фил Грабски</td>\n",
       "      <td>Фил Грабски</td>\n",
       "      <td>«12+» - для детей старше 12 лет</td>\n",
       "      <td>NaN</td>\n",
       "      <td>NaN</td>\n",
       "      <td>NaN</td>\n",
       "      <td>NaN</td>\n",
       "      <td>NaN</td>\n",
       "      <td>nan</td>\n",
       "      <td>NaN</td>\n",
       "    </tr>\n",
       "    <tr>\n",
       "      <th>7483</th>\n",
       "      <td>Щенячий патруль: Скорей спешим на помощь!</td>\n",
       "      <td>124010819</td>\n",
       "      <td>2019-12-28 12:00:00+00:00</td>\n",
       "      <td>Художественный</td>\n",
       "      <td>Никелодеон Анимейшн Студиос, Спин Мастер</td>\n",
       "      <td>США - Канада</td>\n",
       "      <td>Чарльз Е.Бастьен</td>\n",
       "      <td>Дженнифер Додж</td>\n",
       "      <td>«0+» - для любой зрительской аудитории</td>\n",
       "      <td>NaN</td>\n",
       "      <td>NaN</td>\n",
       "      <td>NaN</td>\n",
       "      <td>NaN</td>\n",
       "      <td>NaN</td>\n",
       "      <td>nan</td>\n",
       "      <td>NaN</td>\n",
       "    </tr>\n",
       "    <tr>\n",
       "      <th>7484</th>\n",
       "      <td>Машины песенки. Серия \"Испанские мотивы\"</td>\n",
       "      <td>124010619</td>\n",
       "      <td>2019-12-30 12:00:00+00:00</td>\n",
       "      <td>Анимационный</td>\n",
       "      <td>Анимаккорд Лтд., ООО Студия \"АНИМАККОРД\"</td>\n",
       "      <td>Республика Кипр, Россия</td>\n",
       "      <td>А.Беляев</td>\n",
       "      <td>Д.Ловейко</td>\n",
       "      <td>«0+» - для любой зрительской аудитории</td>\n",
       "      <td>NaN</td>\n",
       "      <td>NaN</td>\n",
       "      <td>NaN</td>\n",
       "      <td>NaN</td>\n",
       "      <td>NaN</td>\n",
       "      <td>nan</td>\n",
       "      <td>NaN</td>\n",
       "    </tr>\n",
       "  </tbody>\n",
       "</table>\n",
       "<p>976 rows × 16 columns</p>\n",
       "</div>"
      ],
      "text/plain": [
       "                                                 title   puNumber  \\\n",
       "43            Мемуары гейши (по роману Артура Голдена)  121000606   \n",
       "150                                           Жди меня  111013615   \n",
       "154   Дом из песка и тумана (по книге Андре Дюбуи III)  221037813   \n",
       "159                                  Жемчужная девушка  224011014   \n",
       "227                                         Полустанок  111026714   \n",
       "...                                                ...        ...   \n",
       "7479                                            Эколав  111023219   \n",
       "7480                   Акрам Хан: Родом из Карри Хауса  126007919   \n",
       "7481         Сад художника: Американский импрессионизм  126008019   \n",
       "7483         Щенячий патруль: Скорей спешим на помощь!  124010819   \n",
       "7484          Машины песенки. Серия \"Испанские мотивы\"  124010619   \n",
       "\n",
       "               show_start_date             type  \\\n",
       "43   2012-12-14 12:00:00+00:00   Художественный   \n",
       "150  2015-08-25 12:00:00+00:00   Художественный   \n",
       "154  2013-10-25 12:00:00+00:00   Художественный   \n",
       "159  2014-08-28 12:00:00+00:00   Художественный   \n",
       "227  2014-12-24 12:00:00+00:00   Художественный   \n",
       "...                        ...              ...   \n",
       "7479 2019-12-26 12:00:00+00:00   Художественный   \n",
       "7480 2019-12-23 12:00:00+00:00           Прочие   \n",
       "7481 2019-12-23 12:00:00+00:00           Прочие   \n",
       "7483 2019-12-28 12:00:00+00:00   Художественный   \n",
       "7484 2019-12-30 12:00:00+00:00     Анимационный   \n",
       "\n",
       "                                            film_studio  \\\n",
       "43    Коламбия Пикчерз Корпорейшн, ДримУоркс ЭсКейДж...   \n",
       "150                               Киностудия \"Мосфильм\"   \n",
       "154                                     Кобальт Пикчерз   \n",
       "159   Чешское телевидение,Студия \"Три брата\" агентск...   \n",
       "227                               Киностудия \"Мосфильм\"   \n",
       "...                                                 ...   \n",
       "7479                                               ВГИК   \n",
       "7480                                         Свон Филмз   \n",
       "7481                               Севен Артс Продакшнз   \n",
       "7483           Никелодеон Анимейшн Студиос, Спин Мастер   \n",
       "7484           Анимаккорд Лтд., ООО Студия \"АНИМАККОРД\"   \n",
       "\n",
       "           production_country             director  \\\n",
       "43                        США          Роб Маршалл   \n",
       "150                      СССР  А.Столпер, Б.Иванов   \n",
       "154                       США      Вадим Перельман   \n",
       "159                     Чехия        Владимир Дрга   \n",
       "227                      СССР             Б.Барнет   \n",
       "...                       ...                  ...   \n",
       "7479                   Россия          Д.Григорьев   \n",
       "7480           Великобритания            Ник Пойнц   \n",
       "7481           Великобритания          Фил Грабски   \n",
       "7483             США - Канада     Чарльз Е.Бастьен   \n",
       "7484  Республика Кипр, Россия             А.Беляев   \n",
       "\n",
       "                                               producer  \\\n",
       "43    Стивен Спилберг, Люси Фишер, Дуглас Уик, Джон ...   \n",
       "150                                                 NaN   \n",
       "154                                        Майкл Лондон   \n",
       "159                                                 NaN   \n",
       "227                                                 NaN   \n",
       "...                                                 ...   \n",
       "7479                                               ВГИК   \n",
       "7480                             Поппи Бегум, Ник Пойнц   \n",
       "7481                                        Фил Грабски   \n",
       "7483                                     Дженнифер Додж   \n",
       "7484                                          Д.Ловейко   \n",
       "\n",
       "                             age_restriction  refundable_support  \\\n",
       "43           «12+» - для детей старше 12 лет                 NaN   \n",
       "150            «6+» - для детей старше 6 лет                 NaN   \n",
       "154          «16+» - для детей старше 16 лет                 NaN   \n",
       "159   «0+» - для любой зрительской аудитории                 NaN   \n",
       "227          «12+» - для детей старше 12 лет                 NaN   \n",
       "...                                      ...                 ...   \n",
       "7479             «18+» - запрещено для детей                 NaN   \n",
       "7480         «12+» - для детей старше 12 лет                 NaN   \n",
       "7481         «12+» - для детей старше 12 лет                 NaN   \n",
       "7483  «0+» - для любой зрительской аудитории                 NaN   \n",
       "7484  «0+» - для любой зрительской аудитории                 NaN   \n",
       "\n",
       "      nonrefundable_support  budget financing_source  ratings genres  \\\n",
       "43                      NaN     NaN              NaN      NaN    nan   \n",
       "150                     NaN     NaN              NaN      NaN    nan   \n",
       "154                     NaN     NaN              NaN      NaN    nan   \n",
       "159                     NaN     NaN              NaN      NaN    nan   \n",
       "227                     NaN     NaN              NaN      NaN    nan   \n",
       "...                     ...     ...              ...      ...    ...   \n",
       "7479                    NaN     NaN              NaN      NaN    nan   \n",
       "7480                    NaN     NaN              NaN      NaN    nan   \n",
       "7481                    NaN     NaN              NaN      NaN    nan   \n",
       "7483                    NaN     NaN              NaN      NaN    nan   \n",
       "7484                    NaN     NaN              NaN      NaN    nan   \n",
       "\n",
       "      box_office  \n",
       "43           NaN  \n",
       "150          NaN  \n",
       "154          NaN  \n",
       "159          NaN  \n",
       "227          NaN  \n",
       "...          ...  \n",
       "7479         NaN  \n",
       "7480    219569.0  \n",
       "7481         NaN  \n",
       "7483         NaN  \n",
       "7484         NaN  \n",
       "\n",
       "[976 rows x 16 columns]"
      ]
     },
     "execution_count": 19,
     "metadata": {},
     "output_type": "execute_result"
    }
   ],
   "source": [
    "data[data['genres'] == 'nan']"
   ]
  },
  {
   "cell_type": "markdown",
   "id": "a64cc2d2",
   "metadata": {},
   "source": [
    "Пропуски в колонке рейтинг ничем не примечательны, составляют 13% и пока оставлю без изменений, т.к. заменить нечем и взять информацию неоткуда. Пропуски в колонке `box_office` объяснимы, т.к эта колонка взята из второй таблицы и там было только 3158 строк, все они и есть сейчас в итоговой таблице."
   ]
  },
  {
   "cell_type": "markdown",
   "id": "dd726edf",
   "metadata": {},
   "source": [
    "### Обработка дубликатов"
   ]
  },
  {
   "cell_type": "markdown",
   "id": "bfa4b57d",
   "metadata": {},
   "source": [
    "Перейдем к дубликатам.\n",
    "\n",
    "Но прежде, надо исправить ошибку во всех категориальных колонках, а именно их написание в колонках, приведем категориальные колонки к формату только строчных букв."
   ]
  },
  {
   "cell_type": "code",
   "execution_count": 20,
   "id": "64846d19",
   "metadata": {},
   "outputs": [
    {
     "data": {
      "text/html": [
       "<div>\n",
       "<style scoped>\n",
       "    .dataframe tbody tr th:only-of-type {\n",
       "        vertical-align: middle;\n",
       "    }\n",
       "\n",
       "    .dataframe tbody tr th {\n",
       "        vertical-align: top;\n",
       "    }\n",
       "\n",
       "    .dataframe thead th {\n",
       "        text-align: right;\n",
       "    }\n",
       "</style>\n",
       "<table border=\"1\" class=\"dataframe\">\n",
       "  <thead>\n",
       "    <tr style=\"text-align: right;\">\n",
       "      <th></th>\n",
       "      <th>title</th>\n",
       "      <th>puNumber</th>\n",
       "      <th>show_start_date</th>\n",
       "      <th>type</th>\n",
       "      <th>film_studio</th>\n",
       "      <th>production_country</th>\n",
       "      <th>director</th>\n",
       "      <th>producer</th>\n",
       "      <th>age_restriction</th>\n",
       "      <th>refundable_support</th>\n",
       "      <th>nonrefundable_support</th>\n",
       "      <th>budget</th>\n",
       "      <th>financing_source</th>\n",
       "      <th>ratings</th>\n",
       "      <th>genres</th>\n",
       "      <th>box_office</th>\n",
       "    </tr>\n",
       "  </thead>\n",
       "  <tbody>\n",
       "    <tr>\n",
       "      <th>0</th>\n",
       "      <td>открытый простор</td>\n",
       "      <td>221048915</td>\n",
       "      <td>2015-11-27 12:00:00+00:00</td>\n",
       "      <td>художественный</td>\n",
       "      <td>тачстоун пикчерз, кобальт пикчерз, бикон пикче...</td>\n",
       "      <td>сша</td>\n",
       "      <td>кевин костнер</td>\n",
       "      <td>дэвид валдес, кевин костнер, джейк эбертс</td>\n",
       "      <td>«18+» - запрещено для детей</td>\n",
       "      <td>NaN</td>\n",
       "      <td>NaN</td>\n",
       "      <td>NaN</td>\n",
       "      <td>NaN</td>\n",
       "      <td>7.2</td>\n",
       "      <td>боевик,драма,мелодрама</td>\n",
       "      <td>NaN</td>\n",
       "    </tr>\n",
       "    <tr>\n",
       "      <th>1</th>\n",
       "      <td>особо важное задание</td>\n",
       "      <td>111013716</td>\n",
       "      <td>2016-09-13 12:00:00+00:00</td>\n",
       "      <td>художественный</td>\n",
       "      <td>киностудия \"мосфильм\"</td>\n",
       "      <td>ссср</td>\n",
       "      <td>е.матвеев</td>\n",
       "      <td>NaN</td>\n",
       "      <td>«6+» - для детей старше 6 лет</td>\n",
       "      <td>NaN</td>\n",
       "      <td>NaN</td>\n",
       "      <td>NaN</td>\n",
       "      <td>NaN</td>\n",
       "      <td>6.6</td>\n",
       "      <td>драма,военный</td>\n",
       "      <td>NaN</td>\n",
       "    </tr>\n",
       "    <tr>\n",
       "      <th>2</th>\n",
       "      <td>особо опасен</td>\n",
       "      <td>221038416</td>\n",
       "      <td>2016-10-10 12:00:00+00:00</td>\n",
       "      <td>художественный</td>\n",
       "      <td>юниверсал пикчерз, кикстарт продакшнз, марк пл...</td>\n",
       "      <td>сша</td>\n",
       "      <td>тимур бекмамбетов</td>\n",
       "      <td>джим лемли, джейсон нетер, марк е.платт, яйн смит</td>\n",
       "      <td>«18+» - запрещено для детей</td>\n",
       "      <td>NaN</td>\n",
       "      <td>NaN</td>\n",
       "      <td>NaN</td>\n",
       "      <td>NaN</td>\n",
       "      <td>6.8</td>\n",
       "      <td>фантастика,боевик,триллер</td>\n",
       "      <td>NaN</td>\n",
       "    </tr>\n",
       "    <tr>\n",
       "      <th>3</th>\n",
       "      <td>особо опасен</td>\n",
       "      <td>221026916</td>\n",
       "      <td>2016-06-10 12:00:00+00:00</td>\n",
       "      <td>художественный</td>\n",
       "      <td>юниверсал пикчерз, кикстарт продакшнз, марк пл...</td>\n",
       "      <td>сша</td>\n",
       "      <td>тимур бекмамбетов</td>\n",
       "      <td>джим лемли, джейсон нетер, марк е.платт, яйн смит</td>\n",
       "      <td>«18+» - запрещено для детей</td>\n",
       "      <td>NaN</td>\n",
       "      <td>NaN</td>\n",
       "      <td>NaN</td>\n",
       "      <td>NaN</td>\n",
       "      <td>6.8</td>\n",
       "      <td>фантастика,боевик,триллер</td>\n",
       "      <td>NaN</td>\n",
       "    </tr>\n",
       "    <tr>\n",
       "      <th>4</th>\n",
       "      <td>особо опасен</td>\n",
       "      <td>221030815</td>\n",
       "      <td>2015-07-29 12:00:00+00:00</td>\n",
       "      <td>художественный</td>\n",
       "      <td>юниверсал пикчерз, кикстарт продакшнз, марк пл...</td>\n",
       "      <td>сша</td>\n",
       "      <td>тимур бекмамбетов</td>\n",
       "      <td>джим лемли, джейсон нетер, марк е.платт, яйн смит</td>\n",
       "      <td>«18+» - запрещено для детей</td>\n",
       "      <td>NaN</td>\n",
       "      <td>NaN</td>\n",
       "      <td>NaN</td>\n",
       "      <td>NaN</td>\n",
       "      <td>6.8</td>\n",
       "      <td>фантастика,боевик,триллер</td>\n",
       "      <td>NaN</td>\n",
       "    </tr>\n",
       "  </tbody>\n",
       "</table>\n",
       "</div>"
      ],
      "text/plain": [
       "                  title   puNumber           show_start_date            type  \\\n",
       "0      открытый простор  221048915 2015-11-27 12:00:00+00:00  художественный   \n",
       "1  особо важное задание  111013716 2016-09-13 12:00:00+00:00  художественный   \n",
       "2          особо опасен  221038416 2016-10-10 12:00:00+00:00  художественный   \n",
       "3          особо опасен  221026916 2016-06-10 12:00:00+00:00  художественный   \n",
       "4          особо опасен  221030815 2015-07-29 12:00:00+00:00  художественный   \n",
       "\n",
       "                                         film_studio production_country  \\\n",
       "0  тачстоун пикчерз, кобальт пикчерз, бикон пикче...                сша   \n",
       "1                              киностудия \"мосфильм\"               ссср   \n",
       "2  юниверсал пикчерз, кикстарт продакшнз, марк пл...                сша   \n",
       "3  юниверсал пикчерз, кикстарт продакшнз, марк пл...                сша   \n",
       "4  юниверсал пикчерз, кикстарт продакшнз, марк пл...                сша   \n",
       "\n",
       "            director                                           producer  \\\n",
       "0      кевин костнер          дэвид валдес, кевин костнер, джейк эбертс   \n",
       "1          е.матвеев                                                NaN   \n",
       "2  тимур бекмамбетов  джим лемли, джейсон нетер, марк е.платт, яйн смит   \n",
       "3  тимур бекмамбетов  джим лемли, джейсон нетер, марк е.платт, яйн смит   \n",
       "4  тимур бекмамбетов  джим лемли, джейсон нетер, марк е.платт, яйн смит   \n",
       "\n",
       "                 age_restriction  refundable_support  nonrefundable_support  \\\n",
       "0    «18+» - запрещено для детей                 NaN                    NaN   \n",
       "1  «6+» - для детей старше 6 лет                 NaN                    NaN   \n",
       "2    «18+» - запрещено для детей                 NaN                    NaN   \n",
       "3    «18+» - запрещено для детей                 NaN                    NaN   \n",
       "4    «18+» - запрещено для детей                 NaN                    NaN   \n",
       "\n",
       "   budget financing_source  ratings                     genres  box_office  \n",
       "0     NaN              NaN      7.2     боевик,драма,мелодрама         NaN  \n",
       "1     NaN              NaN      6.6              драма,военный         NaN  \n",
       "2     NaN              NaN      6.8  фантастика,боевик,триллер         NaN  \n",
       "3     NaN              NaN      6.8  фантастика,боевик,триллер         NaN  \n",
       "4     NaN              NaN      6.8  фантастика,боевик,триллер         NaN  "
      ]
     },
     "execution_count": 20,
     "metadata": {},
     "output_type": "execute_result"
    }
   ],
   "source": [
    "columns = ['title', 'type', 'film_studio', 'production_country', 'director', 'producer', 'financing_source']\n",
    "for name in columns:\n",
    "    data[name] = data[name].str.lower()\n",
    "    \n",
    "data.head()"
   ]
  },
  {
   "cell_type": "markdown",
   "id": "9a2d9ba9",
   "metadata": {},
   "source": [
    "По первым 5 строчкам сразу видны дубликаты, но они отличаются номером удостоверения, о чем и было указано в вводной информации, а еще датой премьеры. Отсортируем таблицу по дате от ранней к поздней и после удалим дубликаты, оставив строчку с более ранней датой. Но прежде еще посмотрим на колонки, где не должно быть много уникальных значений, такие как: `type`, `age_restriction` вдруг там есть ошибки."
   ]
  },
  {
   "cell_type": "code",
   "execution_count": 21,
   "id": "f1ddb1ca",
   "metadata": {},
   "outputs": [
    {
     "data": {
      "text/plain": [
       "array(['художественный', 'анимационный', 'прочие', 'документальный',\n",
       "       'научно-популярный', ' художественный', ' анимационный',\n",
       "       'музыкально-развлекательный'], dtype=object)"
      ]
     },
     "execution_count": 21,
     "metadata": {},
     "output_type": "execute_result"
    }
   ],
   "source": [
    "data['type'].unique()"
   ]
  },
  {
   "cell_type": "markdown",
   "id": "ea766628",
   "metadata": {},
   "source": [
    "Сразу видно, 2 варианта написания \"художественный\" и \"анимационный\". Исправлю это."
   ]
  },
  {
   "cell_type": "code",
   "execution_count": 22,
   "id": "0a9fedd4",
   "metadata": {},
   "outputs": [
    {
     "data": {
      "text/plain": [
       "array(['художественный', 'анимационный', 'прочие', 'документальный',\n",
       "       'научно-популярный', 'музыкально-развлекательный'], dtype=object)"
      ]
     },
     "execution_count": 22,
     "metadata": {},
     "output_type": "execute_result"
    }
   ],
   "source": [
    "data['type'] = data['type'].replace(' художественный', 'художественный')\n",
    "data['type'] = data['type'].replace(' анимационный', 'анимационный')\n",
    "data['type'].unique()"
   ]
  },
  {
   "cell_type": "markdown",
   "id": "2b835da1",
   "metadata": {},
   "source": [
    "Теперь посмотрим на `age_restriction`"
   ]
  },
  {
   "cell_type": "code",
   "execution_count": 23,
   "id": "68899262",
   "metadata": {},
   "outputs": [
    {
     "data": {
      "text/plain": [
       "array(['«18+» - запрещено для детей', '«6+» - для детей старше 6 лет',\n",
       "       '«12+» - для детей старше 12 лет',\n",
       "       '«16+» - для детей старше 16 лет',\n",
       "       '«0+» - для любой зрительской аудитории'], dtype=object)"
      ]
     },
     "execution_count": 23,
     "metadata": {},
     "output_type": "execute_result"
    }
   ],
   "source": [
    "data['age_restriction'].unique()"
   ]
  },
  {
   "cell_type": "markdown",
   "id": "aa18edcd",
   "metadata": {},
   "source": [
    "С возратсными категориями все в порядке. Теперь можно удалять дубликаты."
   ]
  },
  {
   "cell_type": "code",
   "execution_count": 24,
   "id": "ce2d8631",
   "metadata": {},
   "outputs": [
    {
     "data": {
      "text/plain": [
       "Index(['title', 'puNumber', 'show_start_date', 'type', 'film_studio',\n",
       "       'production_country', 'director', 'producer', 'age_restriction',\n",
       "       'refundable_support', 'nonrefundable_support', 'budget',\n",
       "       'financing_source', 'ratings', 'genres', 'box_office'],\n",
       "      dtype='object')"
      ]
     },
     "execution_count": 24,
     "metadata": {},
     "output_type": "execute_result"
    }
   ],
   "source": [
    "data.columns #выведем список всех колонок, чтобы записать его в выборку для удаления дубликатов"
   ]
  },
  {
   "cell_type": "code",
   "execution_count": 25,
   "id": "449073f5",
   "metadata": {},
   "outputs": [
    {
     "data": {
      "text/plain": [
       "0"
      ]
     },
     "execution_count": 25,
     "metadata": {},
     "output_type": "execute_result"
    }
   ],
   "source": [
    "data.duplicated().sum()"
   ]
  },
  {
   "cell_type": "code",
   "execution_count": 26,
   "id": "fe30db64",
   "metadata": {},
   "outputs": [
    {
     "data": {
      "text/plain": [
       "724"
      ]
     },
     "execution_count": 26,
     "metadata": {},
     "output_type": "execute_result"
    }
   ],
   "source": [
    "data.duplicated(['title']).sum()"
   ]
  },
  {
   "cell_type": "markdown",
   "id": "c2b3e72b",
   "metadata": {},
   "source": [
    "Дублирующихся названий в таблице 724. Посмотрим на дубликаты, которые хотим удалить, но учтем практически все колонки, т.к. дубликатов считая по всем колонкам нет. Ранее мы уже выяснили, что отличие в дате и номере удостоверения."
   ]
  },
  {
   "cell_type": "code",
   "execution_count": 27,
   "id": "0ba00ce1",
   "metadata": {},
   "outputs": [
    {
     "data": {
      "text/html": [
       "<div>\n",
       "<style scoped>\n",
       "    .dataframe tbody tr th:only-of-type {\n",
       "        vertical-align: middle;\n",
       "    }\n",
       "\n",
       "    .dataframe tbody tr th {\n",
       "        vertical-align: top;\n",
       "    }\n",
       "\n",
       "    .dataframe thead th {\n",
       "        text-align: right;\n",
       "    }\n",
       "</style>\n",
       "<table border=\"1\" class=\"dataframe\">\n",
       "  <thead>\n",
       "    <tr style=\"text-align: right;\">\n",
       "      <th></th>\n",
       "      <th>title</th>\n",
       "      <th>puNumber</th>\n",
       "      <th>show_start_date</th>\n",
       "      <th>type</th>\n",
       "      <th>film_studio</th>\n",
       "      <th>production_country</th>\n",
       "      <th>director</th>\n",
       "      <th>producer</th>\n",
       "      <th>age_restriction</th>\n",
       "      <th>refundable_support</th>\n",
       "      <th>nonrefundable_support</th>\n",
       "      <th>budget</th>\n",
       "      <th>financing_source</th>\n",
       "      <th>ratings</th>\n",
       "      <th>genres</th>\n",
       "      <th>box_office</th>\n",
       "    </tr>\n",
       "  </thead>\n",
       "  <tbody>\n",
       "    <tr>\n",
       "      <th>3</th>\n",
       "      <td>особо опасен</td>\n",
       "      <td>221026916</td>\n",
       "      <td>2016-06-10 12:00:00+00:00</td>\n",
       "      <td>художественный</td>\n",
       "      <td>юниверсал пикчерз, кикстарт продакшнз, марк пл...</td>\n",
       "      <td>сша</td>\n",
       "      <td>тимур бекмамбетов</td>\n",
       "      <td>джим лемли, джейсон нетер, марк е.платт, яйн смит</td>\n",
       "      <td>«18+» - запрещено для детей</td>\n",
       "      <td>NaN</td>\n",
       "      <td>NaN</td>\n",
       "      <td>NaN</td>\n",
       "      <td>NaN</td>\n",
       "      <td>6.8</td>\n",
       "      <td>фантастика,боевик,триллер</td>\n",
       "      <td>NaN</td>\n",
       "    </tr>\n",
       "    <tr>\n",
       "      <th>4</th>\n",
       "      <td>особо опасен</td>\n",
       "      <td>221030815</td>\n",
       "      <td>2015-07-29 12:00:00+00:00</td>\n",
       "      <td>художественный</td>\n",
       "      <td>юниверсал пикчерз, кикстарт продакшнз, марк пл...</td>\n",
       "      <td>сша</td>\n",
       "      <td>тимур бекмамбетов</td>\n",
       "      <td>джим лемли, джейсон нетер, марк е.платт, яйн смит</td>\n",
       "      <td>«18+» - запрещено для детей</td>\n",
       "      <td>NaN</td>\n",
       "      <td>NaN</td>\n",
       "      <td>NaN</td>\n",
       "      <td>NaN</td>\n",
       "      <td>6.8</td>\n",
       "      <td>фантастика,боевик,триллер</td>\n",
       "      <td>NaN</td>\n",
       "    </tr>\n",
       "    <tr>\n",
       "      <th>41</th>\n",
       "      <td>алекс и эмма</td>\n",
       "      <td>221004616</td>\n",
       "      <td>2016-02-09 12:00:00+00:00</td>\n",
       "      <td>художественный</td>\n",
       "      <td>эскейп артистс, франчайз пикчерз, рейнер-грэйс...</td>\n",
       "      <td>сша</td>\n",
       "      <td>роб райнер</td>\n",
       "      <td>тодд блэк, элан грейсман, джереми левен, роб р...</td>\n",
       "      <td>«16+» - для детей старше 16 лет</td>\n",
       "      <td>NaN</td>\n",
       "      <td>NaN</td>\n",
       "      <td>NaN</td>\n",
       "      <td>NaN</td>\n",
       "      <td>6.4</td>\n",
       "      <td>мелодрама,комедия</td>\n",
       "      <td>NaN</td>\n",
       "    </tr>\n",
       "    <tr>\n",
       "      <th>132</th>\n",
       "      <td>джейн эйр /по одноименному роману шарлотты бро...</td>\n",
       "      <td>221035716</td>\n",
       "      <td>2016-06-07 12:00:00+00:00</td>\n",
       "      <td>художественный</td>\n",
       "      <td>чинеритино, флаш фильм, медиасет, мирамакс, ро...</td>\n",
       "      <td>франция - италия - великобритания - сша</td>\n",
       "      <td>франко дзеффирелли</td>\n",
       "      <td>NaN</td>\n",
       "      <td>«12+» - для детей старше 12 лет</td>\n",
       "      <td>NaN</td>\n",
       "      <td>NaN</td>\n",
       "      <td>NaN</td>\n",
       "      <td>NaN</td>\n",
       "      <td>7.4</td>\n",
       "      <td>драма,мелодрама</td>\n",
       "      <td>NaN</td>\n",
       "    </tr>\n",
       "    <tr>\n",
       "      <th>205</th>\n",
       "      <td>кинг конг _</td>\n",
       "      <td>221001815</td>\n",
       "      <td>2015-02-11 12:00:00+00:00</td>\n",
       "      <td>художественный</td>\n",
       "      <td>биг праймейт пикчерз, юниверсал пикчерз, вингн...</td>\n",
       "      <td>новая зеландия - сша</td>\n",
       "      <td>питер джексон</td>\n",
       "      <td>йен бленкин, питер джексон, кэролайн каннингэм...</td>\n",
       "      <td>«16+» - для детей старше 16 лет</td>\n",
       "      <td>NaN</td>\n",
       "      <td>NaN</td>\n",
       "      <td>NaN</td>\n",
       "      <td>NaN</td>\n",
       "      <td>7.6</td>\n",
       "      <td>боевик,драма,мелодрама</td>\n",
       "      <td>NaN</td>\n",
       "    </tr>\n",
       "    <tr>\n",
       "      <th>...</th>\n",
       "      <td>...</td>\n",
       "      <td>...</td>\n",
       "      <td>...</td>\n",
       "      <td>...</td>\n",
       "      <td>...</td>\n",
       "      <td>...</td>\n",
       "      <td>...</td>\n",
       "      <td>...</td>\n",
       "      <td>...</td>\n",
       "      <td>...</td>\n",
       "      <td>...</td>\n",
       "      <td>...</td>\n",
       "      <td>...</td>\n",
       "      <td>...</td>\n",
       "      <td>...</td>\n",
       "      <td>...</td>\n",
       "    </tr>\n",
       "    <tr>\n",
       "      <th>5390</th>\n",
       "      <td>знакомство с факерами 2.</td>\n",
       "      <td>221117511</td>\n",
       "      <td>2011-11-15 12:00:00+00:00</td>\n",
       "      <td>художественный</td>\n",
       "      <td>парамаунт пикчерз, юниверсал пикчерз, ду студи...</td>\n",
       "      <td>сша</td>\n",
       "      <td>пол вайц</td>\n",
       "      <td>роберт де ниро, джон гамбург, джей роач, джейн...</td>\n",
       "      <td>«16+» - для детей старше 16 лет</td>\n",
       "      <td>NaN</td>\n",
       "      <td>NaN</td>\n",
       "      <td>NaN</td>\n",
       "      <td>NaN</td>\n",
       "      <td>6.2</td>\n",
       "      <td>мелодрама,комедия</td>\n",
       "      <td>NaN</td>\n",
       "    </tr>\n",
       "    <tr>\n",
       "      <th>6029</th>\n",
       "      <td>забытые войны россии</td>\n",
       "      <td>112002818</td>\n",
       "      <td>2018-07-16 12:00:00+00:00</td>\n",
       "      <td>документальный</td>\n",
       "      <td>ооо \"стар медиа дистрибьюшн\"</td>\n",
       "      <td>россия</td>\n",
       "      <td>п.сергацков, а.верещагин</td>\n",
       "      <td>ооо \"стар медиа дистрибьюшн\"</td>\n",
       "      <td>«12+» - для детей старше 12 лет</td>\n",
       "      <td>NaN</td>\n",
       "      <td>NaN</td>\n",
       "      <td>NaN</td>\n",
       "      <td>NaN</td>\n",
       "      <td>NaN</td>\n",
       "      <td>nan</td>\n",
       "      <td>NaN</td>\n",
       "    </tr>\n",
       "    <tr>\n",
       "      <th>6228</th>\n",
       "      <td>великие битвы россии</td>\n",
       "      <td>112008518</td>\n",
       "      <td>2018-09-19 12:00:00+00:00</td>\n",
       "      <td>документальный</td>\n",
       "      <td>ооо \"стар медиа дистрибьюшн\"</td>\n",
       "      <td>россия</td>\n",
       "      <td>а.верещагин, о.филипенко, д.ушаков</td>\n",
       "      <td>ооо \"стар медиа дистрибьюшн\"</td>\n",
       "      <td>«12+» - для детей старше 12 лет</td>\n",
       "      <td>NaN</td>\n",
       "      <td>NaN</td>\n",
       "      <td>NaN</td>\n",
       "      <td>NaN</td>\n",
       "      <td>6.7</td>\n",
       "      <td>боевик,военный,история</td>\n",
       "      <td>NaN</td>\n",
       "    </tr>\n",
       "    <tr>\n",
       "      <th>6380</th>\n",
       "      <td>ян антонышев</td>\n",
       "      <td>112011918</td>\n",
       "      <td>2018-11-15 12:00:00+00:00</td>\n",
       "      <td>документальный</td>\n",
       "      <td>NaN</td>\n",
       "      <td>россия</td>\n",
       "      <td>е.окопная</td>\n",
       "      <td>е.герасимов</td>\n",
       "      <td>«12+» - для детей старше 12 лет</td>\n",
       "      <td>NaN</td>\n",
       "      <td>NaN</td>\n",
       "      <td>NaN</td>\n",
       "      <td>NaN</td>\n",
       "      <td>NaN</td>\n",
       "      <td>nan</td>\n",
       "      <td>NaN</td>\n",
       "    </tr>\n",
       "    <tr>\n",
       "      <th>6429</th>\n",
       "      <td>зоя</td>\n",
       "      <td>111022718</td>\n",
       "      <td>2018-11-25 12:00:00+00:00</td>\n",
       "      <td>художественный</td>\n",
       "      <td>тарханова юлия олеговна</td>\n",
       "      <td>россия</td>\n",
       "      <td>о.товма</td>\n",
       "      <td>ю.тарханова</td>\n",
       "      <td>«16+» - для детей старше 16 лет</td>\n",
       "      <td>NaN</td>\n",
       "      <td>NaN</td>\n",
       "      <td>NaN</td>\n",
       "      <td>NaN</td>\n",
       "      <td>3.9</td>\n",
       "      <td>история,биография,военный</td>\n",
       "      <td>NaN</td>\n",
       "    </tr>\n",
       "  </tbody>\n",
       "</table>\n",
       "<p>486 rows × 16 columns</p>\n",
       "</div>"
      ],
      "text/plain": [
       "                                                  title   puNumber  \\\n",
       "3                                          особо опасен  221026916   \n",
       "4                                          особо опасен  221030815   \n",
       "41                                         алекс и эмма  221004616   \n",
       "132   джейн эйр /по одноименному роману шарлотты бро...  221035716   \n",
       "205                                         кинг конг _  221001815   \n",
       "...                                                 ...        ...   \n",
       "5390                           знакомство с факерами 2.  221117511   \n",
       "6029                               забытые войны россии  112002818   \n",
       "6228                               великие битвы россии  112008518   \n",
       "6380                                       ян антонышев  112011918   \n",
       "6429                                                зоя  111022718   \n",
       "\n",
       "               show_start_date            type  \\\n",
       "3    2016-06-10 12:00:00+00:00  художественный   \n",
       "4    2015-07-29 12:00:00+00:00  художественный   \n",
       "41   2016-02-09 12:00:00+00:00  художественный   \n",
       "132  2016-06-07 12:00:00+00:00  художественный   \n",
       "205  2015-02-11 12:00:00+00:00  художественный   \n",
       "...                        ...             ...   \n",
       "5390 2011-11-15 12:00:00+00:00  художественный   \n",
       "6029 2018-07-16 12:00:00+00:00  документальный   \n",
       "6228 2018-09-19 12:00:00+00:00  документальный   \n",
       "6380 2018-11-15 12:00:00+00:00  документальный   \n",
       "6429 2018-11-25 12:00:00+00:00  художественный   \n",
       "\n",
       "                                            film_studio  \\\n",
       "3     юниверсал пикчерз, кикстарт продакшнз, марк пл...   \n",
       "4     юниверсал пикчерз, кикстарт продакшнз, марк пл...   \n",
       "41    эскейп артистс, франчайз пикчерз, рейнер-грэйс...   \n",
       "132   чинеритино, флаш фильм, медиасет, мирамакс, ро...   \n",
       "205   биг праймейт пикчерз, юниверсал пикчерз, вингн...   \n",
       "...                                                 ...   \n",
       "5390  парамаунт пикчерз, юниверсал пикчерз, ду студи...   \n",
       "6029                       ооо \"стар медиа дистрибьюшн\"   \n",
       "6228                       ооо \"стар медиа дистрибьюшн\"   \n",
       "6380                                                NaN   \n",
       "6429                            тарханова юлия олеговна   \n",
       "\n",
       "                           production_country  \\\n",
       "3                                         сша   \n",
       "4                                         сша   \n",
       "41                                        сша   \n",
       "132   франция - италия - великобритания - сша   \n",
       "205                      новая зеландия - сша   \n",
       "...                                       ...   \n",
       "5390                                      сша   \n",
       "6029                                   россия   \n",
       "6228                                   россия   \n",
       "6380                                   россия   \n",
       "6429                                   россия   \n",
       "\n",
       "                                director  \\\n",
       "3                      тимур бекмамбетов   \n",
       "4                      тимур бекмамбетов   \n",
       "41                            роб райнер   \n",
       "132                   франко дзеффирелли   \n",
       "205                        питер джексон   \n",
       "...                                  ...   \n",
       "5390                            пол вайц   \n",
       "6029            п.сергацков, а.верещагин   \n",
       "6228  а.верещагин, о.филипенко, д.ушаков   \n",
       "6380                           е.окопная   \n",
       "6429                             о.товма   \n",
       "\n",
       "                                               producer  \\\n",
       "3     джим лемли, джейсон нетер, марк е.платт, яйн смит   \n",
       "4     джим лемли, джейсон нетер, марк е.платт, яйн смит   \n",
       "41    тодд блэк, элан грейсман, джереми левен, роб р...   \n",
       "132                                                 NaN   \n",
       "205   йен бленкин, питер джексон, кэролайн каннингэм...   \n",
       "...                                                 ...   \n",
       "5390  роберт де ниро, джон гамбург, джей роач, джейн...   \n",
       "6029                       ооо \"стар медиа дистрибьюшн\"   \n",
       "6228                       ооо \"стар медиа дистрибьюшн\"   \n",
       "6380                                        е.герасимов   \n",
       "6429                                        ю.тарханова   \n",
       "\n",
       "                      age_restriction  refundable_support  \\\n",
       "3         «18+» - запрещено для детей                 NaN   \n",
       "4         «18+» - запрещено для детей                 NaN   \n",
       "41    «16+» - для детей старше 16 лет                 NaN   \n",
       "132   «12+» - для детей старше 12 лет                 NaN   \n",
       "205   «16+» - для детей старше 16 лет                 NaN   \n",
       "...                               ...                 ...   \n",
       "5390  «16+» - для детей старше 16 лет                 NaN   \n",
       "6029  «12+» - для детей старше 12 лет                 NaN   \n",
       "6228  «12+» - для детей старше 12 лет                 NaN   \n",
       "6380  «12+» - для детей старше 12 лет                 NaN   \n",
       "6429  «16+» - для детей старше 16 лет                 NaN   \n",
       "\n",
       "      nonrefundable_support  budget financing_source  ratings  \\\n",
       "3                       NaN     NaN              NaN      6.8   \n",
       "4                       NaN     NaN              NaN      6.8   \n",
       "41                      NaN     NaN              NaN      6.4   \n",
       "132                     NaN     NaN              NaN      7.4   \n",
       "205                     NaN     NaN              NaN      7.6   \n",
       "...                     ...     ...              ...      ...   \n",
       "5390                    NaN     NaN              NaN      6.2   \n",
       "6029                    NaN     NaN              NaN      NaN   \n",
       "6228                    NaN     NaN              NaN      6.7   \n",
       "6380                    NaN     NaN              NaN      NaN   \n",
       "6429                    NaN     NaN              NaN      3.9   \n",
       "\n",
       "                         genres  box_office  \n",
       "3     фантастика,боевик,триллер         NaN  \n",
       "4     фантастика,боевик,триллер         NaN  \n",
       "41            мелодрама,комедия         NaN  \n",
       "132             драма,мелодрама         NaN  \n",
       "205      боевик,драма,мелодрама         NaN  \n",
       "...                         ...         ...  \n",
       "5390          мелодрама,комедия         NaN  \n",
       "6029                        nan         NaN  \n",
       "6228     боевик,военный,история         NaN  \n",
       "6380                        nan         NaN  \n",
       "6429  история,биография,военный         NaN  \n",
       "\n",
       "[486 rows x 16 columns]"
      ]
     },
     "execution_count": 27,
     "metadata": {},
     "output_type": "execute_result"
    }
   ],
   "source": [
    "data.loc[data.duplicated(subset=['title', 'type', 'film_studio', \n",
    "                                    'production_country', 'director', 'producer', 'age_restriction',\n",
    "                                    'refundable_support', 'nonrefundable_support', 'budget',\n",
    "                                    'financing_source', 'ratings', 'genres', 'box_office'])]"
   ]
  },
  {
   "cell_type": "markdown",
   "id": "e7aa63e5",
   "metadata": {},
   "source": [
    "Как ранее уже видели, дубликатов 486 строк, исключая номер удосоверения и дату, т.е. 6,5% это дубликаты. Глобально не так много. По примеру \"Особо опасен\", остальные колонки идентичны и нет смысла оставлять такие строки, т.к. по фактй фильм снят 1 раз, а далее видимо повторно крутили в кинотеатрах. Для целей анализа я считаю можно удалить 6,5% данных, т.к. дубликаты будут искажать картину."
   ]
  },
  {
   "cell_type": "code",
   "execution_count": 28,
   "id": "56b76668",
   "metadata": {},
   "outputs": [],
   "source": [
    "data = data.sort_values(by='show_start_date').drop_duplicates(subset=['title', 'type', 'film_studio', \n",
    "                                    'production_country', 'director', 'producer', 'age_restriction',\n",
    "                                    'refundable_support', 'nonrefundable_support', 'budget',\n",
    "                                    'financing_source', 'ratings', 'genres', 'box_office']).reset_index(drop=True)"
   ]
  },
  {
   "cell_type": "code",
   "execution_count": 29,
   "id": "53c1a8ea",
   "metadata": {},
   "outputs": [
    {
     "name": "stdout",
     "output_type": "stream",
     "text": [
      "<class 'pandas.core.frame.DataFrame'>\n",
      "RangeIndex: 7000 entries, 0 to 6999\n",
      "Data columns (total 16 columns):\n",
      " #   Column                 Non-Null Count  Dtype              \n",
      "---  ------                 --------------  -----              \n",
      " 0   title                  7000 non-null   object             \n",
      " 1   puNumber               7000 non-null   object             \n",
      " 2   show_start_date        7000 non-null   datetime64[ns, UTC]\n",
      " 3   type                   7000 non-null   object             \n",
      " 4   film_studio            6983 non-null   object             \n",
      " 5   production_country     7000 non-null   object             \n",
      " 6   director               7000 non-null   object             \n",
      " 7   producer               6440 non-null   object             \n",
      " 8   age_restriction        7000 non-null   object             \n",
      " 9   refundable_support     332 non-null    float64            \n",
      " 10  nonrefundable_support  332 non-null    float64            \n",
      " 11  budget                 332 non-null    float64            \n",
      " 12  financing_source       332 non-null    object             \n",
      " 13  ratings                6009 non-null   float64            \n",
      " 14  genres                 7000 non-null   object             \n",
      " 15  box_office             3158 non-null   float64            \n",
      "dtypes: datetime64[ns, UTC](1), float64(5), object(10)\n",
      "memory usage: 875.1+ KB\n"
     ]
    }
   ],
   "source": [
    "data.info()"
   ]
  },
  {
   "cell_type": "markdown",
   "id": "10c12569",
   "metadata": {},
   "source": [
    "Получилось 7000 строк, а было 7486. Можно предположить, что дубликаты например появились из-за разницы написания названий (регистры разные), а также возможно переиздание фильмов, релиз новый или другой перевод, поэтому некоторые есть с разными датами."
   ]
  },
  {
   "cell_type": "markdown",
   "id": "257d74e4",
   "metadata": {},
   "source": [
    "### Анализ данных на полноту и адекватность"
   ]
  },
  {
   "cell_type": "markdown",
   "id": "05763f58",
   "metadata": {},
   "source": [
    "Теперь проверим адекватность данных. Начнем с дат, чтобы убедиться, что нет неадекватных (к примеру 1900)."
   ]
  },
  {
   "cell_type": "code",
   "execution_count": 30,
   "id": "8d05ad1f",
   "metadata": {},
   "outputs": [
    {
     "data": {
      "image/png": "[encoded data removed]",
      "text/plain": [
       "<Figure size 432x288 with 1 Axes>"
      ]
     },
     "metadata": {
      "needs_background": "light"
     },
     "output_type": "display_data"
    }
   ],
   "source": [
    "data['show_start_date'].hist(bins=50)\n",
    "plt.show()"
   ]
  },
  {
   "cell_type": "markdown",
   "id": "679dd57d",
   "metadata": {},
   "source": [
    "В таблице представлены данные за 10 лет с 2010 по 2020 год, видно что в 2011, 2015 и 2019 годах были всплески по объему премьер. Подробнее посмотрю дальше. "
   ]
  },
  {
   "cell_type": "markdown",
   "id": "a5ac7b4b",
   "metadata": {},
   "source": [
    "Посмотрим теперь на числа. Сначала посмотрим описательную статистику."
   ]
  },
  {
   "cell_type": "code",
   "execution_count": 31,
   "id": "650031c4",
   "metadata": {},
   "outputs": [
    {
     "data": {
      "text/html": [
       "<div>\n",
       "<style scoped>\n",
       "    .dataframe tbody tr th:only-of-type {\n",
       "        vertical-align: middle;\n",
       "    }\n",
       "\n",
       "    .dataframe tbody tr th {\n",
       "        vertical-align: top;\n",
       "    }\n",
       "\n",
       "    .dataframe thead th {\n",
       "        text-align: right;\n",
       "    }\n",
       "</style>\n",
       "<table border=\"1\" class=\"dataframe\">\n",
       "  <thead>\n",
       "    <tr style=\"text-align: right;\">\n",
       "      <th></th>\n",
       "      <th>refundable_support</th>\n",
       "      <th>nonrefundable_support</th>\n",
       "      <th>budget</th>\n",
       "      <th>ratings</th>\n",
       "      <th>box_office</th>\n",
       "    </tr>\n",
       "  </thead>\n",
       "  <tbody>\n",
       "    <tr>\n",
       "      <th>count</th>\n",
       "      <td>3.320000e+02</td>\n",
       "      <td>3.320000e+02</td>\n",
       "      <td>3.320000e+02</td>\n",
       "      <td>6009.000000</td>\n",
       "      <td>3.158000e+03</td>\n",
       "    </tr>\n",
       "    <tr>\n",
       "      <th>mean</th>\n",
       "      <td>1.186446e+07</td>\n",
       "      <td>4.898099e+07</td>\n",
       "      <td>1.272297e+08</td>\n",
       "      <td>6.459378</td>\n",
       "      <td>7.647870e+07</td>\n",
       "    </tr>\n",
       "    <tr>\n",
       "      <th>std</th>\n",
       "      <td>2.491656e+07</td>\n",
       "      <td>5.998012e+07</td>\n",
       "      <td>1.885883e+08</td>\n",
       "      <td>1.109583</td>\n",
       "      <td>2.403531e+08</td>\n",
       "    </tr>\n",
       "    <tr>\n",
       "      <th>min</th>\n",
       "      <td>0.000000e+00</td>\n",
       "      <td>0.000000e+00</td>\n",
       "      <td>0.000000e+00</td>\n",
       "      <td>1.000000</td>\n",
       "      <td>0.000000e+00</td>\n",
       "    </tr>\n",
       "    <tr>\n",
       "      <th>25%</th>\n",
       "      <td>0.000000e+00</td>\n",
       "      <td>2.500000e+07</td>\n",
       "      <td>4.200000e+07</td>\n",
       "      <td>5.800000</td>\n",
       "      <td>8.623900e+04</td>\n",
       "    </tr>\n",
       "    <tr>\n",
       "      <th>50%</th>\n",
       "      <td>0.000000e+00</td>\n",
       "      <td>3.000000e+07</td>\n",
       "      <td>6.864992e+07</td>\n",
       "      <td>6.600000</td>\n",
       "      <td>2.327988e+06</td>\n",
       "    </tr>\n",
       "    <tr>\n",
       "      <th>75%</th>\n",
       "      <td>1.500000e+07</td>\n",
       "      <td>4.037500e+07</td>\n",
       "      <td>1.419853e+08</td>\n",
       "      <td>7.200000</td>\n",
       "      <td>2.397967e+07</td>\n",
       "    </tr>\n",
       "    <tr>\n",
       "      <th>max</th>\n",
       "      <td>1.800000e+08</td>\n",
       "      <td>4.000000e+08</td>\n",
       "      <td>2.305074e+09</td>\n",
       "      <td>9.200000</td>\n",
       "      <td>3.073569e+09</td>\n",
       "    </tr>\n",
       "  </tbody>\n",
       "</table>\n",
       "</div>"
      ],
      "text/plain": [
       "       refundable_support  nonrefundable_support        budget      ratings  \\\n",
       "count        3.320000e+02           3.320000e+02  3.320000e+02  6009.000000   \n",
       "mean         1.186446e+07           4.898099e+07  1.272297e+08     6.459378   \n",
       "std          2.491656e+07           5.998012e+07  1.885883e+08     1.109583   \n",
       "min          0.000000e+00           0.000000e+00  0.000000e+00     1.000000   \n",
       "25%          0.000000e+00           2.500000e+07  4.200000e+07     5.800000   \n",
       "50%          0.000000e+00           3.000000e+07  6.864992e+07     6.600000   \n",
       "75%          1.500000e+07           4.037500e+07  1.419853e+08     7.200000   \n",
       "max          1.800000e+08           4.000000e+08  2.305074e+09     9.200000   \n",
       "\n",
       "         box_office  \n",
       "count  3.158000e+03  \n",
       "mean   7.647870e+07  \n",
       "std    2.403531e+08  \n",
       "min    0.000000e+00  \n",
       "25%    8.623900e+04  \n",
       "50%    2.327988e+06  \n",
       "75%    2.397967e+07  \n",
       "max    3.073569e+09  "
      ]
     },
     "execution_count": 31,
     "metadata": {},
     "output_type": "execute_result"
    }
   ],
   "source": [
    "data.describe()"
   ]
  },
  {
   "cell_type": "markdown",
   "id": "9730dc50",
   "metadata": {},
   "source": [
    "Создадим выборку только с данными в колонке `refundable_support` отличной от 0 и пропусков. Посмотрим как распределяются значения."
   ]
  },
  {
   "cell_type": "code",
   "execution_count": 32,
   "id": "8ed40dfe",
   "metadata": {},
   "outputs": [
    {
     "data": {
      "text/plain": [
       "<AxesSubplot:>"
      ]
     },
     "execution_count": 32,
     "metadata": {},
     "output_type": "execute_result"
    },
    {
     "data": {
      "image/png": "[encoded data removed]",
      "text/plain": [
       "<Figure size 432x288 with 1 Axes>"
      ]
     },
     "metadata": {
      "needs_background": "light"
     },
     "output_type": "display_data"
    }
   ],
   "source": [
    "check_1 = data[~data['refundable_support'].isna()].query('refundable_support != 0')\n",
    "check_1['refundable_support'].hist(bins=10)"
   ]
  },
  {
   "cell_type": "markdown",
   "id": "2c07ccef",
   "metadata": {},
   "source": [
    "В основном объём возвратных средств государственной поддержки до 110 млн. но есть выбивающиеся максимальные значения, посмотрим."
   ]
  },
  {
   "cell_type": "code",
   "execution_count": 33,
   "id": "e4b51277",
   "metadata": {},
   "outputs": [
    {
     "data": {
      "text/html": [
       "<div>\n",
       "<style scoped>\n",
       "    .dataframe tbody tr th:only-of-type {\n",
       "        vertical-align: middle;\n",
       "    }\n",
       "\n",
       "    .dataframe tbody tr th {\n",
       "        vertical-align: top;\n",
       "    }\n",
       "\n",
       "    .dataframe thead th {\n",
       "        text-align: right;\n",
       "    }\n",
       "</style>\n",
       "<table border=\"1\" class=\"dataframe\">\n",
       "  <thead>\n",
       "    <tr style=\"text-align: right;\">\n",
       "      <th></th>\n",
       "      <th>title</th>\n",
       "      <th>puNumber</th>\n",
       "      <th>show_start_date</th>\n",
       "      <th>type</th>\n",
       "      <th>film_studio</th>\n",
       "      <th>production_country</th>\n",
       "      <th>director</th>\n",
       "      <th>producer</th>\n",
       "      <th>age_restriction</th>\n",
       "      <th>refundable_support</th>\n",
       "      <th>nonrefundable_support</th>\n",
       "      <th>budget</th>\n",
       "      <th>financing_source</th>\n",
       "      <th>ratings</th>\n",
       "      <th>genres</th>\n",
       "      <th>box_office</th>\n",
       "    </tr>\n",
       "  </thead>\n",
       "  <tbody>\n",
       "    <tr>\n",
       "      <th>6707</th>\n",
       "      <td>тайна печати дракона</td>\n",
       "      <td>111012819</td>\n",
       "      <td>2019-09-12 12:00:00+00:00</td>\n",
       "      <td>художественный</td>\n",
       "      <td>ооо \"кинокомпания \"ств\"; ооо \"рфг корп\"; ооо \"...</td>\n",
       "      <td>россия-китай</td>\n",
       "      <td>о.степченко</td>\n",
       "      <td>с.сельянов, а.петрухин</td>\n",
       "      <td>«6+» - для детей старше 6 лет</td>\n",
       "      <td>180000000.0</td>\n",
       "      <td>90000000.0</td>\n",
       "      <td>2.305074e+09</td>\n",
       "      <td>фонд кино</td>\n",
       "      <td>5.8</td>\n",
       "      <td>приключения,фэнтези</td>\n",
       "      <td>3.335971e+08</td>\n",
       "    </tr>\n",
       "    <tr>\n",
       "      <th>4493</th>\n",
       "      <td>дуэлянт</td>\n",
       "      <td>111015416</td>\n",
       "      <td>2016-09-14 12:00:00+00:00</td>\n",
       "      <td>художественный</td>\n",
       "      <td>ооо \"нон-стоп продакшн\"</td>\n",
       "      <td>россия</td>\n",
       "      <td>а.мизгирев</td>\n",
       "      <td>а.роднянский, с.мелькумов</td>\n",
       "      <td>«16+» - для детей старше 16 лет</td>\n",
       "      <td>150000000.0</td>\n",
       "      <td>300000000.0</td>\n",
       "      <td>6.842005e+08</td>\n",
       "      <td>фонд кино</td>\n",
       "      <td>6.6</td>\n",
       "      <td>драма</td>\n",
       "      <td>3.642851e+08</td>\n",
       "    </tr>\n",
       "    <tr>\n",
       "      <th>6025</th>\n",
       "      <td>три богатыря и наследница престола</td>\n",
       "      <td>114008818</td>\n",
       "      <td>2018-12-15 12:00:00+00:00</td>\n",
       "      <td>анимационный</td>\n",
       "      <td>ооо \"студия анимационного кино \"мельница\"</td>\n",
       "      <td>россия</td>\n",
       "      <td>к.бронзит</td>\n",
       "      <td>с.сельянов, а.боярский</td>\n",
       "      <td>«6+» - для детей старше 6 лет</td>\n",
       "      <td>115000000.0</td>\n",
       "      <td>0.0</td>\n",
       "      <td>1.855007e+08</td>\n",
       "      <td>фонд кино</td>\n",
       "      <td>6.5</td>\n",
       "      <td>мультфильм,приключения,семейный</td>\n",
       "      <td>5.773689e+08</td>\n",
       "    </tr>\n",
       "    <tr>\n",
       "      <th>4959</th>\n",
       "      <td>матильда</td>\n",
       "      <td>111005717</td>\n",
       "      <td>2017-08-17 12:00:00+00:00</td>\n",
       "      <td>художественный</td>\n",
       "      <td>ооо \"тпо \"рок\", ооо \"матильда\"</td>\n",
       "      <td>россия</td>\n",
       "      <td>а.учитель</td>\n",
       "      <td>а.учитель, а.достман, в.винокур</td>\n",
       "      <td>«16+» - для детей старше 16 лет</td>\n",
       "      <td>110000000.0</td>\n",
       "      <td>190000000.0</td>\n",
       "      <td>1.032906e+09</td>\n",
       "      <td>фонд кино</td>\n",
       "      <td>7.7</td>\n",
       "      <td>фэнтези,комедия,семейный</td>\n",
       "      <td>5.117755e+08</td>\n",
       "    </tr>\n",
       "    <tr>\n",
       "      <th>3989</th>\n",
       "      <td>герой (2015)</td>\n",
       "      <td>111000416</td>\n",
       "      <td>2016-01-22 12:00:00+00:00</td>\n",
       "      <td>художественный</td>\n",
       "      <td>ооо \"студия 25\", ооо \"медиа арт студио\", ооо ...</td>\n",
       "      <td>россия</td>\n",
       "      <td>ю.васильев</td>\n",
       "      <td>э.айнулова, н.дорошкевич, м.журомская</td>\n",
       "      <td>«12+» - для детей старше 12 лет</td>\n",
       "      <td>110000000.0</td>\n",
       "      <td>30000000.0</td>\n",
       "      <td>2.221778e+08</td>\n",
       "      <td>министерство культуры, фонд кино</td>\n",
       "      <td>7.1</td>\n",
       "      <td>мюзикл,боевик,драма</td>\n",
       "      <td>8.143063e+07</td>\n",
       "    </tr>\n",
       "  </tbody>\n",
       "</table>\n",
       "</div>"
      ],
      "text/plain": [
       "                                   title   puNumber           show_start_date  \\\n",
       "6707                тайна печати дракона  111012819 2019-09-12 12:00:00+00:00   \n",
       "4493                             дуэлянт  111015416 2016-09-14 12:00:00+00:00   \n",
       "6025  три богатыря и наследница престола  114008818 2018-12-15 12:00:00+00:00   \n",
       "4959                            матильда  111005717 2017-08-17 12:00:00+00:00   \n",
       "3989                        герой (2015)  111000416 2016-01-22 12:00:00+00:00   \n",
       "\n",
       "                type                                        film_studio  \\\n",
       "6707  художественный  ооо \"кинокомпания \"ств\"; ооо \"рфг корп\"; ооо \"...   \n",
       "4493  художественный                            ооо \"нон-стоп продакшн\"   \n",
       "6025    анимационный          ооо \"студия анимационного кино \"мельница\"   \n",
       "4959  художественный                     ооо \"тпо \"рок\", ооо \"матильда\"   \n",
       "3989  художественный   ооо \"студия 25\", ооо \"медиа арт студио\", ооо ...   \n",
       "\n",
       "     production_country     director                               producer  \\\n",
       "6707       россия-китай  о.степченко                 с.сельянов, а.петрухин   \n",
       "4493             россия   а.мизгирев              а.роднянский, с.мелькумов   \n",
       "6025             россия    к.бронзит                 с.сельянов, а.боярский   \n",
       "4959             россия    а.учитель        а.учитель, а.достман, в.винокур   \n",
       "3989             россия   ю.васильев  э.айнулова, н.дорошкевич, м.журомская   \n",
       "\n",
       "                      age_restriction  refundable_support  \\\n",
       "6707    «6+» - для детей старше 6 лет         180000000.0   \n",
       "4493  «16+» - для детей старше 16 лет         150000000.0   \n",
       "6025    «6+» - для детей старше 6 лет         115000000.0   \n",
       "4959  «16+» - для детей старше 16 лет         110000000.0   \n",
       "3989  «12+» - для детей старше 12 лет         110000000.0   \n",
       "\n",
       "      nonrefundable_support        budget                  financing_source  \\\n",
       "6707             90000000.0  2.305074e+09                         фонд кино   \n",
       "4493            300000000.0  6.842005e+08                         фонд кино   \n",
       "6025                    0.0  1.855007e+08                         фонд кино   \n",
       "4959            190000000.0  1.032906e+09                         фонд кино   \n",
       "3989             30000000.0  2.221778e+08  министерство культуры, фонд кино   \n",
       "\n",
       "      ratings                           genres    box_office  \n",
       "6707      5.8              приключения,фэнтези  3.335971e+08  \n",
       "4493      6.6                            драма  3.642851e+08  \n",
       "6025      6.5  мультфильм,приключения,семейный  5.773689e+08  \n",
       "4959      7.7         фэнтези,комедия,семейный  5.117755e+08  \n",
       "3989      7.1              мюзикл,боевик,драма  8.143063e+07  "
      ]
     },
     "execution_count": 33,
     "metadata": {},
     "output_type": "execute_result"
    }
   ],
   "source": [
    "check_1.sort_values(by='refundable_support', ascending=False).head()"
   ]
  },
  {
   "cell_type": "markdown",
   "id": "f8be919e",
   "metadata": {},
   "source": [
    "Фильмов с большой суммой возвращаемой госудасртсву только 3. Сказать однозначно, что это ошибка нельзя, оставим. Посмотрим на следующую колонку."
   ]
  },
  {
   "cell_type": "code",
   "execution_count": 34,
   "id": "cc7c9e13",
   "metadata": {},
   "outputs": [
    {
     "data": {
      "text/plain": [
       "<AxesSubplot:>"
      ]
     },
     "execution_count": 34,
     "metadata": {},
     "output_type": "execute_result"
    },
    {
     "data": {
      "image/png": "[encoded data removed]",
      "text/plain": [
       "<Figure size 432x288 with 1 Axes>"
      ]
     },
     "metadata": {
      "needs_background": "light"
     },
     "output_type": "display_data"
    }
   ],
   "source": [
    "check_2 = data[~data['nonrefundable_support'].isna()].query('nonrefundable_support != 0')\n",
    "check_2['nonrefundable_support'].hist(bins=10)"
   ]
  },
  {
   "cell_type": "markdown",
   "id": "a96d5e10",
   "metadata": {},
   "source": [
    "В основном объём невозвратных средств государственной поддержки до 110 млн. но есть выбивающиеся максимальные значения, посмотрим сначала на гистограмме."
   ]
  },
  {
   "cell_type": "code",
   "execution_count": 35,
   "id": "78ae8b4d",
   "metadata": {},
   "outputs": [
    {
     "data": {
      "text/plain": [
       "<AxesSubplot:>"
      ]
     },
     "execution_count": 35,
     "metadata": {},
     "output_type": "execute_result"
    },
    {
     "data": {
      "image/png": "[encoded data removed]",
      "text/plain": [
       "<Figure size 432x288 with 1 Axes>"
      ]
     },
     "metadata": {
      "needs_background": "light"
     },
     "output_type": "display_data"
    }
   ],
   "source": [
    "check_2['nonrefundable_support'].hist(bins=10, range=(110000000, 400000000))"
   ]
  },
  {
   "cell_type": "code",
   "execution_count": 36,
   "id": "b8c1d0bb",
   "metadata": {},
   "outputs": [
    {
     "data": {
      "text/html": [
       "<div>\n",
       "<style scoped>\n",
       "    .dataframe tbody tr th:only-of-type {\n",
       "        vertical-align: middle;\n",
       "    }\n",
       "\n",
       "    .dataframe tbody tr th {\n",
       "        vertical-align: top;\n",
       "    }\n",
       "\n",
       "    .dataframe thead th {\n",
       "        text-align: right;\n",
       "    }\n",
       "</style>\n",
       "<table border=\"1\" class=\"dataframe\">\n",
       "  <thead>\n",
       "    <tr style=\"text-align: right;\">\n",
       "      <th></th>\n",
       "      <th>title</th>\n",
       "      <th>puNumber</th>\n",
       "      <th>show_start_date</th>\n",
       "      <th>type</th>\n",
       "      <th>film_studio</th>\n",
       "      <th>production_country</th>\n",
       "      <th>director</th>\n",
       "      <th>producer</th>\n",
       "      <th>age_restriction</th>\n",
       "      <th>refundable_support</th>\n",
       "      <th>nonrefundable_support</th>\n",
       "      <th>budget</th>\n",
       "      <th>financing_source</th>\n",
       "      <th>ratings</th>\n",
       "      <th>genres</th>\n",
       "      <th>box_office</th>\n",
       "    </tr>\n",
       "  </thead>\n",
       "  <tbody>\n",
       "    <tr>\n",
       "      <th>6992</th>\n",
       "      <td>союз спасения</td>\n",
       "      <td>111022019</td>\n",
       "      <td>2019-12-26 12:00:00+00:00</td>\n",
       "      <td>художественный</td>\n",
       "      <td>зао \"дирекция кино\"</td>\n",
       "      <td>россия</td>\n",
       "      <td>а.кравчук</td>\n",
       "      <td>а.максимов, к.эрнст</td>\n",
       "      <td>«12+» - для детей старше 12 лет</td>\n",
       "      <td>100000000.0</td>\n",
       "      <td>400000000.0</td>\n",
       "      <td>980000000.0</td>\n",
       "      <td>фонд кино</td>\n",
       "      <td>6.0</td>\n",
       "      <td>история,биография,драма</td>\n",
       "      <td>7.177032e+08</td>\n",
       "    </tr>\n",
       "    <tr>\n",
       "      <th>6986</th>\n",
       "      <td>вторжение</td>\n",
       "      <td>111022519</td>\n",
       "      <td>2019-12-23 12:00:00+00:00</td>\n",
       "      <td>художественный</td>\n",
       "      <td>ооо \"арт пикчерс студия\", ооо \"водород 2011\"</td>\n",
       "      <td>россия</td>\n",
       "      <td>ф.бондарчук</td>\n",
       "      <td>ф.бондарчук, м.врубель, а.андрющенко, д.рудовский</td>\n",
       "      <td>«12+» - для детей старше 12 лет</td>\n",
       "      <td>100000000.0</td>\n",
       "      <td>400000000.0</td>\n",
       "      <td>944000000.0</td>\n",
       "      <td>фонд кино</td>\n",
       "      <td>5.7</td>\n",
       "      <td>фантастика,боевик</td>\n",
       "      <td>NaN</td>\n",
       "    </tr>\n",
       "    <tr>\n",
       "      <th>5170</th>\n",
       "      <td>движение вверх</td>\n",
       "      <td>111011817</td>\n",
       "      <td>2017-12-21 12:00:00+00:00</td>\n",
       "      <td>художественный</td>\n",
       "      <td>ооо \"студия \"тритэ\" никиты михалкова\"</td>\n",
       "      <td>россия</td>\n",
       "      <td>а.мегердичев</td>\n",
       "      <td>л.верещагин, а.златопольский, н.михалков, ооо ...</td>\n",
       "      <td>«6+» - для детей старше 6 лет</td>\n",
       "      <td>0.0</td>\n",
       "      <td>400000000.0</td>\n",
       "      <td>590192191.0</td>\n",
       "      <td>фонд кино</td>\n",
       "      <td>7.5</td>\n",
       "      <td>спорт,драма</td>\n",
       "      <td>2.779686e+09</td>\n",
       "    </tr>\n",
       "    <tr>\n",
       "      <th>4126</th>\n",
       "      <td>экипаж .</td>\n",
       "      <td>111005416</td>\n",
       "      <td>2016-03-21 12:00:00+00:00</td>\n",
       "      <td>художественный</td>\n",
       "      <td>ооо \"студия \"тритэ\" никиты михалкова\"</td>\n",
       "      <td>россия</td>\n",
       "      <td>н.лебедев</td>\n",
       "      <td>л.верещагин, а.златопольский, н.михалков, ооо ...</td>\n",
       "      <td>«6+» - для детей старше 6 лет</td>\n",
       "      <td>50000000.0</td>\n",
       "      <td>392104482.0</td>\n",
       "      <td>635283867.0</td>\n",
       "      <td>фонд кино</td>\n",
       "      <td>7.6</td>\n",
       "      <td>драма,триллер,приключения</td>\n",
       "      <td>1.402255e+09</td>\n",
       "    </tr>\n",
       "    <tr>\n",
       "      <th>4493</th>\n",
       "      <td>дуэлянт</td>\n",
       "      <td>111015416</td>\n",
       "      <td>2016-09-14 12:00:00+00:00</td>\n",
       "      <td>художественный</td>\n",
       "      <td>ооо \"нон-стоп продакшн\"</td>\n",
       "      <td>россия</td>\n",
       "      <td>а.мизгирев</td>\n",
       "      <td>а.роднянский, с.мелькумов</td>\n",
       "      <td>«16+» - для детей старше 16 лет</td>\n",
       "      <td>150000000.0</td>\n",
       "      <td>300000000.0</td>\n",
       "      <td>684200536.0</td>\n",
       "      <td>фонд кино</td>\n",
       "      <td>6.6</td>\n",
       "      <td>драма</td>\n",
       "      <td>3.642851e+08</td>\n",
       "    </tr>\n",
       "  </tbody>\n",
       "</table>\n",
       "</div>"
      ],
      "text/plain": [
       "               title   puNumber           show_start_date            type  \\\n",
       "6992   союз спасения  111022019 2019-12-26 12:00:00+00:00  художественный   \n",
       "6986       вторжение  111022519 2019-12-23 12:00:00+00:00  художественный   \n",
       "5170  движение вверх  111011817 2017-12-21 12:00:00+00:00  художественный   \n",
       "4126        экипаж .  111005416 2016-03-21 12:00:00+00:00  художественный   \n",
       "4493         дуэлянт  111015416 2016-09-14 12:00:00+00:00  художественный   \n",
       "\n",
       "                                       film_studio production_country  \\\n",
       "6992                           зао \"дирекция кино\"             россия   \n",
       "6986  ооо \"арт пикчерс студия\", ооо \"водород 2011\"             россия   \n",
       "5170         ооо \"студия \"тритэ\" никиты михалкова\"             россия   \n",
       "4126         ооо \"студия \"тритэ\" никиты михалкова\"             россия   \n",
       "4493                       ооо \"нон-стоп продакшн\"             россия   \n",
       "\n",
       "          director                                           producer  \\\n",
       "6992     а.кравчук                                а.максимов, к.эрнст   \n",
       "6986   ф.бондарчук  ф.бондарчук, м.врубель, а.андрющенко, д.рудовский   \n",
       "5170  а.мегердичев  л.верещагин, а.златопольский, н.михалков, ооо ...   \n",
       "4126     н.лебедев  л.верещагин, а.златопольский, н.михалков, ооо ...   \n",
       "4493    а.мизгирев                          а.роднянский, с.мелькумов   \n",
       "\n",
       "                      age_restriction  refundable_support  \\\n",
       "6992  «12+» - для детей старше 12 лет         100000000.0   \n",
       "6986  «12+» - для детей старше 12 лет         100000000.0   \n",
       "5170    «6+» - для детей старше 6 лет                 0.0   \n",
       "4126    «6+» - для детей старше 6 лет          50000000.0   \n",
       "4493  «16+» - для детей старше 16 лет         150000000.0   \n",
       "\n",
       "      nonrefundable_support       budget financing_source  ratings  \\\n",
       "6992            400000000.0  980000000.0        фонд кино      6.0   \n",
       "6986            400000000.0  944000000.0        фонд кино      5.7   \n",
       "5170            400000000.0  590192191.0        фонд кино      7.5   \n",
       "4126            392104482.0  635283867.0        фонд кино      7.6   \n",
       "4493            300000000.0  684200536.0        фонд кино      6.6   \n",
       "\n",
       "                         genres    box_office  \n",
       "6992    история,биография,драма  7.177032e+08  \n",
       "6986          фантастика,боевик           NaN  \n",
       "5170                спорт,драма  2.779686e+09  \n",
       "4126  драма,триллер,приключения  1.402255e+09  \n",
       "4493                      драма  3.642851e+08  "
      ]
     },
     "execution_count": 36,
     "metadata": {},
     "output_type": "execute_result"
    }
   ],
   "source": [
    "check_2.sort_values(by='nonrefundable_support', ascending=False).head()"
   ]
  },
  {
   "cell_type": "markdown",
   "id": "734cd640",
   "metadata": {},
   "source": [
    "Есть фильмы с господдержкой 400 млн., но сказать что это ошибка нельзя. Оставляю как есть. Смотрим колонку `budget`"
   ]
  },
  {
   "cell_type": "code",
   "execution_count": 37,
   "id": "5e859963",
   "metadata": {},
   "outputs": [
    {
     "data": {
      "text/plain": [
       "<AxesSubplot:>"
      ]
     },
     "execution_count": 37,
     "metadata": {},
     "output_type": "execute_result"
    },
    {
     "data": {
      "image/png": "[encoded data removed]",
      "text/plain": [
       "<Figure size 432x288 with 1 Axes>"
      ]
     },
     "metadata": {
      "needs_background": "light"
     },
     "output_type": "display_data"
    }
   ],
   "source": [
    "check_3 = data[~data['budget'].isna()].query('budget != 0')\n",
    "check_3['budget'].hist(range=(0, 50000000))"
   ]
  },
  {
   "cell_type": "markdown",
   "id": "d52ea9ad",
   "metadata": {},
   "source": [
    "Странно выглядят минимальные значения."
   ]
  },
  {
   "cell_type": "code",
   "execution_count": 38,
   "id": "c4611014",
   "metadata": {},
   "outputs": [
    {
     "data": {
      "text/html": [
       "<div>\n",
       "<style scoped>\n",
       "    .dataframe tbody tr th:only-of-type {\n",
       "        vertical-align: middle;\n",
       "    }\n",
       "\n",
       "    .dataframe tbody tr th {\n",
       "        vertical-align: top;\n",
       "    }\n",
       "\n",
       "    .dataframe thead th {\n",
       "        text-align: right;\n",
       "    }\n",
       "</style>\n",
       "<table border=\"1\" class=\"dataframe\">\n",
       "  <thead>\n",
       "    <tr style=\"text-align: right;\">\n",
       "      <th></th>\n",
       "      <th>title</th>\n",
       "      <th>puNumber</th>\n",
       "      <th>show_start_date</th>\n",
       "      <th>type</th>\n",
       "      <th>film_studio</th>\n",
       "      <th>production_country</th>\n",
       "      <th>director</th>\n",
       "      <th>producer</th>\n",
       "      <th>age_restriction</th>\n",
       "      <th>refundable_support</th>\n",
       "      <th>nonrefundable_support</th>\n",
       "      <th>budget</th>\n",
       "      <th>financing_source</th>\n",
       "      <th>ratings</th>\n",
       "      <th>genres</th>\n",
       "      <th>box_office</th>\n",
       "    </tr>\n",
       "  </thead>\n",
       "  <tbody>\n",
       "    <tr>\n",
       "      <th>3893</th>\n",
       "      <td>я умею вязать</td>\n",
       "      <td>111019615</td>\n",
       "      <td>2015-11-27 12:00:00+00:00</td>\n",
       "      <td>художественный</td>\n",
       "      <td>ооо \"белое зеркало\"</td>\n",
       "      <td>россия</td>\n",
       "      <td>н.степанова при участии с.иванова</td>\n",
       "      <td>с.кикнавелидзе, д.улюкаев</td>\n",
       "      <td>«16+» - для детей старше 16 лет</td>\n",
       "      <td>0.0</td>\n",
       "      <td>4700000.0</td>\n",
       "      <td>14462464.0</td>\n",
       "      <td>министерство культуры</td>\n",
       "      <td>NaN</td>\n",
       "      <td>драма</td>\n",
       "      <td>801370.0</td>\n",
       "    </tr>\n",
       "    <tr>\n",
       "      <th>6541</th>\n",
       "      <td>ленин неизбежность</td>\n",
       "      <td>111010619</td>\n",
       "      <td>2019-07-01 12:00:00+00:00</td>\n",
       "      <td>художественный</td>\n",
       "      <td>ооо \"студия \"рой\"</td>\n",
       "      <td>россия</td>\n",
       "      <td>в.хотиненко</td>\n",
       "      <td>в.хотиненко, д.литвинов</td>\n",
       "      <td>«16+» - для детей старше 16 лет</td>\n",
       "      <td>0.0</td>\n",
       "      <td>10000000.0</td>\n",
       "      <td>15010000.0</td>\n",
       "      <td>министерство культуры</td>\n",
       "      <td>5.4</td>\n",
       "      <td>драма,история,биография</td>\n",
       "      <td>1957979.5</td>\n",
       "    </tr>\n",
       "    <tr>\n",
       "      <th>5137</th>\n",
       "      <td>исповедь содержанки</td>\n",
       "      <td>111007817</td>\n",
       "      <td>2017-11-30 12:00:00+00:00</td>\n",
       "      <td>художественный</td>\n",
       "      <td>ооо \"корпорация русская фильм группа\", ооо \"ма...</td>\n",
       "      <td>россия</td>\n",
       "      <td>е.жигаева</td>\n",
       "      <td>ооо \"корпорация русская фильм группа\", ооо \"ма...</td>\n",
       "      <td>«18+» - запрещено для детей</td>\n",
       "      <td>0.0</td>\n",
       "      <td>8000000.0</td>\n",
       "      <td>18166418.0</td>\n",
       "      <td>министерство культуры</td>\n",
       "      <td>5.4</td>\n",
       "      <td>мелодрама,криминал</td>\n",
       "      <td>270497.0</td>\n",
       "    </tr>\n",
       "    <tr>\n",
       "      <th>4540</th>\n",
       "      <td>колобанга. только для пользователей интернета ...</td>\n",
       "      <td>214010116</td>\n",
       "      <td>2016-10-06 12:00:00+00:00</td>\n",
       "      <td>анимационный</td>\n",
       "      <td>ооо \"колобанга\"</td>\n",
       "      <td>россия</td>\n",
       "      <td>а.романец</td>\n",
       "      <td>а.ревва</td>\n",
       "      <td>«0+» - для любой зрительской аудитории</td>\n",
       "      <td>0.0</td>\n",
       "      <td>11520000.0</td>\n",
       "      <td>18706080.0</td>\n",
       "      <td>министерство культуры</td>\n",
       "      <td>7.0</td>\n",
       "      <td>мультфильм,приключения,детектив</td>\n",
       "      <td>NaN</td>\n",
       "    </tr>\n",
       "    <tr>\n",
       "      <th>3542</th>\n",
       "      <td>пионеры-герои.</td>\n",
       "      <td>111008315</td>\n",
       "      <td>2015-04-27 12:00:00+00:00</td>\n",
       "      <td>художественный</td>\n",
       "      <td>ооо \"кинокомпания \"ств\"</td>\n",
       "      <td>россия</td>\n",
       "      <td>н.кудряшова</td>\n",
       "      <td>с.сельянов</td>\n",
       "      <td>«16+» - для детей старше 16 лет</td>\n",
       "      <td>0.0</td>\n",
       "      <td>15000000.0</td>\n",
       "      <td>27000000.0</td>\n",
       "      <td>министерство культуры</td>\n",
       "      <td>5.9</td>\n",
       "      <td>драма</td>\n",
       "      <td>1109238.0</td>\n",
       "    </tr>\n",
       "  </tbody>\n",
       "</table>\n",
       "</div>"
      ],
      "text/plain": [
       "                                                  title   puNumber  \\\n",
       "3893                                      я умею вязать  111019615   \n",
       "6541                                 ленин неизбежность  111010619   \n",
       "5137                                исповедь содержанки  111007817   \n",
       "4540  колобанга. только для пользователей интернета ...  214010116   \n",
       "3542                                     пионеры-герои.  111008315   \n",
       "\n",
       "               show_start_date            type  \\\n",
       "3893 2015-11-27 12:00:00+00:00  художественный   \n",
       "6541 2019-07-01 12:00:00+00:00  художественный   \n",
       "5137 2017-11-30 12:00:00+00:00  художественный   \n",
       "4540 2016-10-06 12:00:00+00:00    анимационный   \n",
       "3542 2015-04-27 12:00:00+00:00  художественный   \n",
       "\n",
       "                                            film_studio production_country  \\\n",
       "3893                                ооо \"белое зеркало\"             россия   \n",
       "6541                                  ооо \"студия \"рой\"             россия   \n",
       "5137  ооо \"корпорация русская фильм группа\", ооо \"ма...             россия   \n",
       "4540                                    ооо \"колобанга\"             россия   \n",
       "3542                            ооо \"кинокомпания \"ств\"             россия   \n",
       "\n",
       "                               director  \\\n",
       "3893  н.степанова при участии с.иванова   \n",
       "6541                        в.хотиненко   \n",
       "5137                          е.жигаева   \n",
       "4540                          а.романец   \n",
       "3542                        н.кудряшова   \n",
       "\n",
       "                                               producer  \\\n",
       "3893                          с.кикнавелидзе, д.улюкаев   \n",
       "6541                            в.хотиненко, д.литвинов   \n",
       "5137  ооо \"корпорация русская фильм группа\", ооо \"ма...   \n",
       "4540                                            а.ревва   \n",
       "3542                                         с.сельянов   \n",
       "\n",
       "                             age_restriction  refundable_support  \\\n",
       "3893         «16+» - для детей старше 16 лет                 0.0   \n",
       "6541         «16+» - для детей старше 16 лет                 0.0   \n",
       "5137             «18+» - запрещено для детей                 0.0   \n",
       "4540  «0+» - для любой зрительской аудитории                 0.0   \n",
       "3542         «16+» - для детей старше 16 лет                 0.0   \n",
       "\n",
       "      nonrefundable_support      budget       financing_source  ratings  \\\n",
       "3893              4700000.0  14462464.0  министерство культуры      NaN   \n",
       "6541             10000000.0  15010000.0  министерство культуры      5.4   \n",
       "5137              8000000.0  18166418.0  министерство культуры      5.4   \n",
       "4540             11520000.0  18706080.0  министерство культуры      7.0   \n",
       "3542             15000000.0  27000000.0  министерство культуры      5.9   \n",
       "\n",
       "                               genres  box_office  \n",
       "3893                            драма    801370.0  \n",
       "6541          драма,история,биография   1957979.5  \n",
       "5137               мелодрама,криминал    270497.0  \n",
       "4540  мультфильм,приключения,детектив         NaN  \n",
       "3542                            драма   1109238.0  "
      ]
     },
     "execution_count": 38,
     "metadata": {},
     "output_type": "execute_result"
    }
   ],
   "source": [
    "check_3.sort_values(by='budget', ascending=True).head()"
   ]
  },
  {
   "cell_type": "markdown",
   "id": "c9d4be02",
   "metadata": {},
   "source": [
    "Судя по таблице, минимальные суммы бюджета фильмов 14 млн и выше имеют право на существование. Во-первых по 5 строкам видно, что все фильмы с невозвратной суммой господдержки и суммы коррелируются, а значит если это ошибка то сразу в 2х столбцах, что уже маловероятно. Во-вторых можно проверить на кинопоиске и убедиться, что суммы верные (например по 2й строке).\n",
    "\n",
    "Посмотрим на максимум."
   ]
  },
  {
   "cell_type": "code",
   "execution_count": 39,
   "id": "59f498c7",
   "metadata": {},
   "outputs": [
    {
     "data": {
      "text/html": [
       "<div>\n",
       "<style scoped>\n",
       "    .dataframe tbody tr th:only-of-type {\n",
       "        vertical-align: middle;\n",
       "    }\n",
       "\n",
       "    .dataframe tbody tr th {\n",
       "        vertical-align: top;\n",
       "    }\n",
       "\n",
       "    .dataframe thead th {\n",
       "        text-align: right;\n",
       "    }\n",
       "</style>\n",
       "<table border=\"1\" class=\"dataframe\">\n",
       "  <thead>\n",
       "    <tr style=\"text-align: right;\">\n",
       "      <th></th>\n",
       "      <th>title</th>\n",
       "      <th>puNumber</th>\n",
       "      <th>show_start_date</th>\n",
       "      <th>type</th>\n",
       "      <th>film_studio</th>\n",
       "      <th>production_country</th>\n",
       "      <th>director</th>\n",
       "      <th>producer</th>\n",
       "      <th>age_restriction</th>\n",
       "      <th>refundable_support</th>\n",
       "      <th>nonrefundable_support</th>\n",
       "      <th>budget</th>\n",
       "      <th>financing_source</th>\n",
       "      <th>ratings</th>\n",
       "      <th>genres</th>\n",
       "      <th>box_office</th>\n",
       "    </tr>\n",
       "  </thead>\n",
       "  <tbody>\n",
       "    <tr>\n",
       "      <th>6707</th>\n",
       "      <td>тайна печати дракона</td>\n",
       "      <td>111012819</td>\n",
       "      <td>2019-09-12 12:00:00+00:00</td>\n",
       "      <td>художественный</td>\n",
       "      <td>ооо \"кинокомпания \"ств\"; ооо \"рфг корп\"; ооо \"...</td>\n",
       "      <td>россия-китай</td>\n",
       "      <td>о.степченко</td>\n",
       "      <td>с.сельянов, а.петрухин</td>\n",
       "      <td>«6+» - для детей старше 6 лет</td>\n",
       "      <td>180000000.0</td>\n",
       "      <td>90000000.0</td>\n",
       "      <td>2.305074e+09</td>\n",
       "      <td>фонд кино</td>\n",
       "      <td>5.8</td>\n",
       "      <td>приключения,фэнтези</td>\n",
       "      <td>3.335971e+08</td>\n",
       "    </tr>\n",
       "    <tr>\n",
       "      <th>4959</th>\n",
       "      <td>матильда</td>\n",
       "      <td>111005717</td>\n",
       "      <td>2017-08-17 12:00:00+00:00</td>\n",
       "      <td>художественный</td>\n",
       "      <td>ооо \"тпо \"рок\", ооо \"матильда\"</td>\n",
       "      <td>россия</td>\n",
       "      <td>а.учитель</td>\n",
       "      <td>а.учитель, а.достман, в.винокур</td>\n",
       "      <td>«16+» - для детей старше 16 лет</td>\n",
       "      <td>110000000.0</td>\n",
       "      <td>190000000.0</td>\n",
       "      <td>1.032906e+09</td>\n",
       "      <td>фонд кино</td>\n",
       "      <td>7.7</td>\n",
       "      <td>фэнтези,комедия,семейный</td>\n",
       "      <td>5.117755e+08</td>\n",
       "    </tr>\n",
       "    <tr>\n",
       "      <th>6992</th>\n",
       "      <td>союз спасения</td>\n",
       "      <td>111022019</td>\n",
       "      <td>2019-12-26 12:00:00+00:00</td>\n",
       "      <td>художественный</td>\n",
       "      <td>зао \"дирекция кино\"</td>\n",
       "      <td>россия</td>\n",
       "      <td>а.кравчук</td>\n",
       "      <td>а.максимов, к.эрнст</td>\n",
       "      <td>«12+» - для детей старше 12 лет</td>\n",
       "      <td>100000000.0</td>\n",
       "      <td>400000000.0</td>\n",
       "      <td>9.800000e+08</td>\n",
       "      <td>фонд кино</td>\n",
       "      <td>6.0</td>\n",
       "      <td>история,биография,драма</td>\n",
       "      <td>7.177032e+08</td>\n",
       "    </tr>\n",
       "    <tr>\n",
       "      <th>6986</th>\n",
       "      <td>вторжение</td>\n",
       "      <td>111022519</td>\n",
       "      <td>2019-12-23 12:00:00+00:00</td>\n",
       "      <td>художественный</td>\n",
       "      <td>ооо \"арт пикчерс студия\", ооо \"водород 2011\"</td>\n",
       "      <td>россия</td>\n",
       "      <td>ф.бондарчук</td>\n",
       "      <td>ф.бондарчук, м.врубель, а.андрющенко, д.рудовский</td>\n",
       "      <td>«12+» - для детей старше 12 лет</td>\n",
       "      <td>100000000.0</td>\n",
       "      <td>400000000.0</td>\n",
       "      <td>9.440000e+08</td>\n",
       "      <td>фонд кино</td>\n",
       "      <td>5.7</td>\n",
       "      <td>фантастика,боевик</td>\n",
       "      <td>NaN</td>\n",
       "    </tr>\n",
       "    <tr>\n",
       "      <th>6682</th>\n",
       "      <td>грех</td>\n",
       "      <td>111014419</td>\n",
       "      <td>2019-08-31 12:00:00+00:00</td>\n",
       "      <td>художественный</td>\n",
       "      <td>но фонд андрея кончаловского по поддержке кино...</td>\n",
       "      <td>россия, италия</td>\n",
       "      <td>а.михалков (псевдоним а.кончаловский)</td>\n",
       "      <td>но фонд андрея кончаловского по поддержке кино...</td>\n",
       "      <td>«16+» - для детей старше 16 лет</td>\n",
       "      <td>0.0</td>\n",
       "      <td>60000000.0</td>\n",
       "      <td>7.799420e+08</td>\n",
       "      <td>министерство культуры</td>\n",
       "      <td>6.9</td>\n",
       "      <td>драма,биография,история</td>\n",
       "      <td>5.424320e+07</td>\n",
       "    </tr>\n",
       "  </tbody>\n",
       "</table>\n",
       "</div>"
      ],
      "text/plain": [
       "                     title   puNumber           show_start_date  \\\n",
       "6707  тайна печати дракона  111012819 2019-09-12 12:00:00+00:00   \n",
       "4959              матильда  111005717 2017-08-17 12:00:00+00:00   \n",
       "6992         союз спасения  111022019 2019-12-26 12:00:00+00:00   \n",
       "6986             вторжение  111022519 2019-12-23 12:00:00+00:00   \n",
       "6682                  грех  111014419 2019-08-31 12:00:00+00:00   \n",
       "\n",
       "                type                                        film_studio  \\\n",
       "6707  художественный  ооо \"кинокомпания \"ств\"; ооо \"рфг корп\"; ооо \"...   \n",
       "4959  художественный                     ооо \"тпо \"рок\", ооо \"матильда\"   \n",
       "6992  художественный                                зао \"дирекция кино\"   \n",
       "6986  художественный       ооо \"арт пикчерс студия\", ооо \"водород 2011\"   \n",
       "6682  художественный  но фонд андрея кончаловского по поддержке кино...   \n",
       "\n",
       "     production_country                               director  \\\n",
       "6707       россия-китай                            о.степченко   \n",
       "4959             россия                              а.учитель   \n",
       "6992             россия                              а.кравчук   \n",
       "6986             россия                            ф.бондарчук   \n",
       "6682     россия, италия  а.михалков (псевдоним а.кончаловский)   \n",
       "\n",
       "                                               producer  \\\n",
       "6707                             с.сельянов, а.петрухин   \n",
       "4959                    а.учитель, а.достман, в.винокур   \n",
       "6992                                а.максимов, к.эрнст   \n",
       "6986  ф.бондарчук, м.врубель, а.андрющенко, д.рудовский   \n",
       "6682  но фонд андрея кончаловского по поддержке кино...   \n",
       "\n",
       "                      age_restriction  refundable_support  \\\n",
       "6707    «6+» - для детей старше 6 лет         180000000.0   \n",
       "4959  «16+» - для детей старше 16 лет         110000000.0   \n",
       "6992  «12+» - для детей старше 12 лет         100000000.0   \n",
       "6986  «12+» - для детей старше 12 лет         100000000.0   \n",
       "6682  «16+» - для детей старше 16 лет                 0.0   \n",
       "\n",
       "      nonrefundable_support        budget       financing_source  ratings  \\\n",
       "6707             90000000.0  2.305074e+09              фонд кино      5.8   \n",
       "4959            190000000.0  1.032906e+09              фонд кино      7.7   \n",
       "6992            400000000.0  9.800000e+08              фонд кино      6.0   \n",
       "6986            400000000.0  9.440000e+08              фонд кино      5.7   \n",
       "6682             60000000.0  7.799420e+08  министерство культуры      6.9   \n",
       "\n",
       "                        genres    box_office  \n",
       "6707       приключения,фэнтези  3.335971e+08  \n",
       "4959  фэнтези,комедия,семейный  5.117755e+08  \n",
       "6992   история,биография,драма  7.177032e+08  \n",
       "6986         фантастика,боевик           NaN  \n",
       "6682   драма,биография,история  5.424320e+07  "
      ]
     },
     "execution_count": 39,
     "metadata": {},
     "output_type": "execute_result"
    }
   ],
   "source": [
    "check_3.sort_values(by='budget', ascending=False).head()"
   ]
  },
  {
   "cell_type": "markdown",
   "id": "e64b7efe",
   "metadata": {},
   "source": [
    "Самый дорогой фильм \"Тайна печати дракона\" обошелся в 2,3 млрд рублей, и это действительно не ошибка согласно открытым источникам на кинопоиске, бюджет был 49 млн долларов, что эквивалентно 2,3 млрд рублей. Вывод, такие дорогие фильмы также остаются в нашей таблице. Осталось проверить нули в колонке `budget`, если есть значения в колонках `refundable_support` и/или `nonrefundable_support`, то в `budget` нуля быть не может, а также не может сумма бюджета быть меньше сумм обеих колонок (как указано в вводных данных). Проверим."
   ]
  },
  {
   "cell_type": "code",
   "execution_count": 40,
   "id": "5ee8d90a",
   "metadata": {},
   "outputs": [
    {
     "data": {
      "text/plain": [
       "17"
      ]
     },
     "metadata": {},
     "output_type": "display_data"
    },
    {
     "data": {
      "text/plain": [
       "17"
      ]
     },
     "metadata": {},
     "output_type": "display_data"
    }
   ],
   "source": [
    "display (len(data.query('budget <= 0')))\n",
    "display (len(data.query('(budget-nonrefundable_support-refundable_support) <= 0')))"
   ]
  },
  {
   "cell_type": "markdown",
   "id": "475cfe4d",
   "metadata": {},
   "source": [
    "Выходит, что в 17 строчках не верная сумма бюджета, а точнее она равна 0. По условию столбец `budget` уже включает в себя полный объём государственной поддержки. Значит можно было бы сказать, что если в колонке 0, а в колонках `nonrefundable_support` и `refundable_support` есть суммы, то бюджет данного фильма равен сумме этих колонок, но опять таки при проверке в гугле по первому же фильму \"Притяжение\" выдает бюджет 380 млн, а сумма двух колонок лишь 250 млн., понятно, что есть еще сумма собственных вложений. Руками исправить 17 строк не получится, поэтому пока оставим их для общих целей анализа, а когда перейдем только к фильмам с господдержкой будем использовать строки где бюджет больше 0."
   ]
  },
  {
   "cell_type": "code",
   "execution_count": 41,
   "id": "635be124",
   "metadata": {},
   "outputs": [
    {
     "data": {
      "text/plain": [
       "<AxesSubplot:>"
      ]
     },
     "execution_count": 41,
     "metadata": {},
     "output_type": "execute_result"
    },
    {
     "data": {
      "image/png": "[encoded data removed]",
      "text/plain": [
       "<Figure size 432x288 with 1 Axes>"
      ]
     },
     "metadata": {
      "needs_background": "light"
     },
     "output_type": "display_data"
    }
   ],
   "source": [
    "check_4 = data[~data['box_office'].isna()].query('box_office != 0')\n",
    "check_4['box_office'].hist(bins=50)\n"
   ]
  },
  {
   "cell_type": "markdown",
   "id": "81a4bf1c",
   "metadata": {},
   "source": [
    "Значения около 0 очень подозрительны, посмотрим на строки."
   ]
  },
  {
   "cell_type": "code",
   "execution_count": 42,
   "id": "c159fa8d",
   "metadata": {},
   "outputs": [
    {
     "data": {
      "text/html": [
       "<div>\n",
       "<style scoped>\n",
       "    .dataframe tbody tr th:only-of-type {\n",
       "        vertical-align: middle;\n",
       "    }\n",
       "\n",
       "    .dataframe tbody tr th {\n",
       "        vertical-align: top;\n",
       "    }\n",
       "\n",
       "    .dataframe thead th {\n",
       "        text-align: right;\n",
       "    }\n",
       "</style>\n",
       "<table border=\"1\" class=\"dataframe\">\n",
       "  <thead>\n",
       "    <tr style=\"text-align: right;\">\n",
       "      <th></th>\n",
       "      <th>title</th>\n",
       "      <th>puNumber</th>\n",
       "      <th>show_start_date</th>\n",
       "      <th>type</th>\n",
       "      <th>film_studio</th>\n",
       "      <th>production_country</th>\n",
       "      <th>director</th>\n",
       "      <th>producer</th>\n",
       "      <th>age_restriction</th>\n",
       "      <th>refundable_support</th>\n",
       "      <th>nonrefundable_support</th>\n",
       "      <th>budget</th>\n",
       "      <th>financing_source</th>\n",
       "      <th>ratings</th>\n",
       "      <th>genres</th>\n",
       "      <th>box_office</th>\n",
       "    </tr>\n",
       "  </thead>\n",
       "  <tbody>\n",
       "    <tr>\n",
       "      <th>2349</th>\n",
       "      <td>жестокий романс</td>\n",
       "      <td>111006013</td>\n",
       "      <td>2013-10-18 12:00:00+00:00</td>\n",
       "      <td>художественный</td>\n",
       "      <td>киностудия \"мосфильм\"</td>\n",
       "      <td>ссср</td>\n",
       "      <td>э.рязанов</td>\n",
       "      <td>NaN</td>\n",
       "      <td>«12+» - для детей старше 12 лет</td>\n",
       "      <td>NaN</td>\n",
       "      <td>NaN</td>\n",
       "      <td>NaN</td>\n",
       "      <td>NaN</td>\n",
       "      <td>8.1</td>\n",
       "      <td>драма,мелодрама,история</td>\n",
       "      <td>40.0</td>\n",
       "    </tr>\n",
       "    <tr>\n",
       "      <th>3154</th>\n",
       "      <td>каменный цветок.</td>\n",
       "      <td>111016714</td>\n",
       "      <td>2014-12-01 12:00:00+00:00</td>\n",
       "      <td>художественный</td>\n",
       "      <td>киностудия \"мосфильм\"</td>\n",
       "      <td>ссср</td>\n",
       "      <td>а.птушко</td>\n",
       "      <td>NaN</td>\n",
       "      <td>«0+» - для любой зрительской аудитории</td>\n",
       "      <td>NaN</td>\n",
       "      <td>NaN</td>\n",
       "      <td>NaN</td>\n",
       "      <td>NaN</td>\n",
       "      <td>7.1</td>\n",
       "      <td>фэнтези,драма,мелодрама</td>\n",
       "      <td>50.0</td>\n",
       "    </tr>\n",
       "    <tr>\n",
       "      <th>183</th>\n",
       "      <td>22 пули: бессмертный</td>\n",
       "      <td>121006410</td>\n",
       "      <td>2010-04-01 12:00:00+00:00</td>\n",
       "      <td>художественный</td>\n",
       "      <td>еуроп корпорейшн</td>\n",
       "      <td>франция</td>\n",
       "      <td>ришар бери</td>\n",
       "      <td>люк бессон, дидье хорау, пьер-анж ле погам</td>\n",
       "      <td>«16+» - для детей старше 16 лет</td>\n",
       "      <td>NaN</td>\n",
       "      <td>NaN</td>\n",
       "      <td>NaN</td>\n",
       "      <td>NaN</td>\n",
       "      <td>7.1</td>\n",
       "      <td>боевик,драма,криминал</td>\n",
       "      <td>75.0</td>\n",
       "    </tr>\n",
       "    <tr>\n",
       "      <th>1779</th>\n",
       "      <td>астерикс и обеликс в британии 3d</td>\n",
       "      <td>121025012</td>\n",
       "      <td>2012-10-05 12:00:00+00:00</td>\n",
       "      <td>художественный</td>\n",
       "      <td>уайлд банч, фиделите фильм, филм кайрос, синет...</td>\n",
       "      <td>франция-италия-испания-венгрия</td>\n",
       "      <td>лоран тирар</td>\n",
       "      <td>оливье делбоск, марк миссонье</td>\n",
       "      <td>«6+» - для детей старше 6 лет</td>\n",
       "      <td>NaN</td>\n",
       "      <td>NaN</td>\n",
       "      <td>NaN</td>\n",
       "      <td>NaN</td>\n",
       "      <td>5.6</td>\n",
       "      <td>комедия,приключения,семейный</td>\n",
       "      <td>80.0</td>\n",
       "    </tr>\n",
       "    <tr>\n",
       "      <th>3126</th>\n",
       "      <td>одиноким предоставляется общежитие</td>\n",
       "      <td>111018614</td>\n",
       "      <td>2014-12-01 12:00:00+00:00</td>\n",
       "      <td>художественный</td>\n",
       "      <td>киностудия \"мосфильм\"</td>\n",
       "      <td>ссср</td>\n",
       "      <td>с.самсонов</td>\n",
       "      <td>NaN</td>\n",
       "      <td>«12+» - для детей старше 12 лет</td>\n",
       "      <td>NaN</td>\n",
       "      <td>NaN</td>\n",
       "      <td>NaN</td>\n",
       "      <td>NaN</td>\n",
       "      <td>7.8</td>\n",
       "      <td>мелодрама,комедия</td>\n",
       "      <td>100.0</td>\n",
       "    </tr>\n",
       "  </tbody>\n",
       "</table>\n",
       "</div>"
      ],
      "text/plain": [
       "                                   title   puNumber           show_start_date  \\\n",
       "2349                     жестокий романс  111006013 2013-10-18 12:00:00+00:00   \n",
       "3154                    каменный цветок.  111016714 2014-12-01 12:00:00+00:00   \n",
       "183                 22 пули: бессмертный  121006410 2010-04-01 12:00:00+00:00   \n",
       "1779    астерикс и обеликс в британии 3d  121025012 2012-10-05 12:00:00+00:00   \n",
       "3126  одиноким предоставляется общежитие  111018614 2014-12-01 12:00:00+00:00   \n",
       "\n",
       "                type                                        film_studio  \\\n",
       "2349  художественный                              киностудия \"мосфильм\"   \n",
       "3154  художественный                              киностудия \"мосфильм\"   \n",
       "183   художественный                                   еуроп корпорейшн   \n",
       "1779  художественный  уайлд банч, фиделите фильм, филм кайрос, синет...   \n",
       "3126  художественный                              киностудия \"мосфильм\"   \n",
       "\n",
       "                  production_country     director  \\\n",
       "2349                            ссср    э.рязанов   \n",
       "3154                            ссср     а.птушко   \n",
       "183                          франция   ришар бери   \n",
       "1779  франция-италия-испания-венгрия  лоран тирар   \n",
       "3126                            ссср   с.самсонов   \n",
       "\n",
       "                                        producer  \\\n",
       "2349                                         NaN   \n",
       "3154                                         NaN   \n",
       "183   люк бессон, дидье хорау, пьер-анж ле погам   \n",
       "1779               оливье делбоск, марк миссонье   \n",
       "3126                                         NaN   \n",
       "\n",
       "                             age_restriction  refundable_support  \\\n",
       "2349         «12+» - для детей старше 12 лет                 NaN   \n",
       "3154  «0+» - для любой зрительской аудитории                 NaN   \n",
       "183          «16+» - для детей старше 16 лет                 NaN   \n",
       "1779           «6+» - для детей старше 6 лет                 NaN   \n",
       "3126         «12+» - для детей старше 12 лет                 NaN   \n",
       "\n",
       "      nonrefundable_support  budget financing_source  ratings  \\\n",
       "2349                    NaN     NaN              NaN      8.1   \n",
       "3154                    NaN     NaN              NaN      7.1   \n",
       "183                     NaN     NaN              NaN      7.1   \n",
       "1779                    NaN     NaN              NaN      5.6   \n",
       "3126                    NaN     NaN              NaN      7.8   \n",
       "\n",
       "                            genres  box_office  \n",
       "2349       драма,мелодрама,история        40.0  \n",
       "3154       фэнтези,драма,мелодрама        50.0  \n",
       "183          боевик,драма,криминал        75.0  \n",
       "1779  комедия,приключения,семейный        80.0  \n",
       "3126             мелодрама,комедия       100.0  "
      ]
     },
     "execution_count": 42,
     "metadata": {},
     "output_type": "execute_result"
    }
   ],
   "source": [
    "check_4.sort_values(by='box_office', ascending=True).head()"
   ]
  },
  {
   "cell_type": "code",
   "execution_count": 43,
   "id": "c52d5ad3",
   "metadata": {},
   "outputs": [
    {
     "data": {
      "text/plain": [
       "<AxesSubplot:>"
      ]
     },
     "execution_count": 43,
     "metadata": {},
     "output_type": "execute_result"
    },
    {
     "data": {
      "image/png": "[encoded data removed]",
      "text/plain": [
       "<Figure size 432x288 with 1 Axes>"
      ]
     },
     "metadata": {
      "needs_background": "light"
     },
     "output_type": "display_data"
    }
   ],
   "source": [
    "check_4['box_office'].hist(bins=50, range=(0, 10000))"
   ]
  },
  {
   "cell_type": "markdown",
   "id": "1822e997",
   "metadata": {},
   "source": [
    "Выходит значительное количество фильмов имеют кассовые сборы меньше 10 000 рублей, это явно ошибка. Конечно существуют фильмы с кассовысм сборами 30 долларов (\"Путь Зинкс\"), но в нашем случае к примеру \"Астерикс и Обеликс в Британии\" собрали не 80 рублей точно. И нельзя сказать что это ошибка в нолях, к примеру 80 это 8 или 80 миллионов, потому как это тоже не сопадает с данными кинопоиска."
   ]
  },
  {
   "cell_type": "code",
   "execution_count": 44,
   "id": "88949a0a",
   "metadata": {},
   "outputs": [
    {
     "data": {
      "text/plain": [
       "<AxesSubplot:>"
      ]
     },
     "execution_count": 44,
     "metadata": {},
     "output_type": "execute_result"
    },
    {
     "data": {
      "image/png": "[encoded data removed]",
      "text/plain": [
       "<Figure size 432x288 with 1 Axes>"
      ]
     },
     "metadata": {
      "needs_background": "light"
     },
     "output_type": "display_data"
    }
   ],
   "source": [
    "check_4['box_office'].hist(bins=50, range=(10000, 100000))"
   ]
  },
  {
   "cell_type": "code",
   "execution_count": 45,
   "id": "e0f8a1f2",
   "metadata": {},
   "outputs": [
    {
     "data": {
      "text/plain": [
       "<AxesSubplot:>"
      ]
     },
     "execution_count": 45,
     "metadata": {},
     "output_type": "execute_result"
    },
    {
     "data": {
      "image/png": "[encoded data removed]",
      "text/plain": [
       "<Figure size 432x288 with 1 Axes>"
      ]
     },
     "metadata": {
      "needs_background": "light"
     },
     "output_type": "display_data"
    }
   ],
   "source": [
    "check_4['box_office'].hist(bins=50, range=(100000, 2000000))"
   ]
  },
  {
   "cell_type": "code",
   "execution_count": 46,
   "id": "4c6e5b73",
   "metadata": {},
   "outputs": [
    {
     "data": {
      "text/html": [
       "<div>\n",
       "<style scoped>\n",
       "    .dataframe tbody tr th:only-of-type {\n",
       "        vertical-align: middle;\n",
       "    }\n",
       "\n",
       "    .dataframe tbody tr th {\n",
       "        vertical-align: top;\n",
       "    }\n",
       "\n",
       "    .dataframe thead th {\n",
       "        text-align: right;\n",
       "    }\n",
       "</style>\n",
       "<table border=\"1\" class=\"dataframe\">\n",
       "  <thead>\n",
       "    <tr style=\"text-align: right;\">\n",
       "      <th></th>\n",
       "      <th>title</th>\n",
       "      <th>puNumber</th>\n",
       "      <th>show_start_date</th>\n",
       "      <th>type</th>\n",
       "      <th>film_studio</th>\n",
       "      <th>production_country</th>\n",
       "      <th>director</th>\n",
       "      <th>producer</th>\n",
       "      <th>age_restriction</th>\n",
       "      <th>refundable_support</th>\n",
       "      <th>nonrefundable_support</th>\n",
       "      <th>budget</th>\n",
       "      <th>financing_source</th>\n",
       "      <th>ratings</th>\n",
       "      <th>genres</th>\n",
       "      <th>box_office</th>\n",
       "    </tr>\n",
       "  </thead>\n",
       "  <tbody>\n",
       "    <tr>\n",
       "      <th>1020</th>\n",
       "      <td>возвращение в \"а\"</td>\n",
       "      <td>111003011</td>\n",
       "      <td>2011-04-14 12:00:00+00:00</td>\n",
       "      <td>художественный</td>\n",
       "      <td>ао \"казахфильм\" им.ш.айманова, тоо рпо нпц \"ба...</td>\n",
       "      <td>россия-казахстан</td>\n",
       "      <td>е.михалков-кончаловский</td>\n",
       "      <td>ооо \"пс тивиси\" киностудия\"</td>\n",
       "      <td>«16+» - для детей старше 16 лет</td>\n",
       "      <td>NaN</td>\n",
       "      <td>NaN</td>\n",
       "      <td>NaN</td>\n",
       "      <td>NaN</td>\n",
       "      <td>6.5</td>\n",
       "      <td>драма,военный</td>\n",
       "      <td>50200.0</td>\n",
       "    </tr>\n",
       "    <tr>\n",
       "      <th>3544</th>\n",
       "      <td>ромео и джульетта. бродвей</td>\n",
       "      <td>126001315</td>\n",
       "      <td>2015-04-27 12:00:00+00:00</td>\n",
       "      <td>прочие</td>\n",
       "      <td>мортускрин</td>\n",
       "      <td>сша</td>\n",
       "      <td>давид лево</td>\n",
       "      <td>бонни камли, стэфарт лэйн, алан ньюман</td>\n",
       "      <td>«12+» - для детей старше 12 лет</td>\n",
       "      <td>NaN</td>\n",
       "      <td>NaN</td>\n",
       "      <td>NaN</td>\n",
       "      <td>NaN</td>\n",
       "      <td>5.6</td>\n",
       "      <td>мелодрама</td>\n",
       "      <td>50672.4</td>\n",
       "    </tr>\n",
       "    <tr>\n",
       "      <th>4236</th>\n",
       "      <td>мультфильмы по выходным. непослушные истории</td>\n",
       "      <td>214006116</td>\n",
       "      <td>2016-04-29 12:00:00+00:00</td>\n",
       "      <td>анимационный</td>\n",
       "      <td>некоммерческая организация \"фонд поддержки ани...</td>\n",
       "      <td>россия</td>\n",
       "      <td>а.демин, р.синкевич, н.березовая, о.ужинов и др.</td>\n",
       "      <td>т.семенов, и.гелашвили, а.добрунов, н.маковски...</td>\n",
       "      <td>«6+» - для детей старше 6 лет</td>\n",
       "      <td>NaN</td>\n",
       "      <td>NaN</td>\n",
       "      <td>NaN</td>\n",
       "      <td>NaN</td>\n",
       "      <td>5.8</td>\n",
       "      <td>ужасы,фэнтези,драма</td>\n",
       "      <td>51164.0</td>\n",
       "    </tr>\n",
       "    <tr>\n",
       "      <th>3954</th>\n",
       "      <td>завтра утром</td>\n",
       "      <td>111021715</td>\n",
       "      <td>2015-12-28 12:00:00+00:00</td>\n",
       "      <td>художественный</td>\n",
       "      <td>ооо \"кинофабрика\"</td>\n",
       "      <td>россия</td>\n",
       "      <td>а.майовер, д.крылова</td>\n",
       "      <td>в.рубан, а.тельнов, а.львович</td>\n",
       "      <td>«12+» - для детей старше 12 лет</td>\n",
       "      <td>0.0</td>\n",
       "      <td>35000000.0</td>\n",
       "      <td>50000000.0</td>\n",
       "      <td>министерство культуры</td>\n",
       "      <td>5.7</td>\n",
       "      <td>мелодрама,комедия,спорт</td>\n",
       "      <td>51220.0</td>\n",
       "    </tr>\n",
       "    <tr>\n",
       "      <th>5423</th>\n",
       "      <td>кто есть кто или ограбление по...</td>\n",
       "      <td>111007118</td>\n",
       "      <td>2018-06-04 12:00:00+00:00</td>\n",
       "      <td>художественный</td>\n",
       "      <td>храмых сергей владимирович</td>\n",
       "      <td>россия</td>\n",
       "      <td>с.храмых</td>\n",
       "      <td>с.храмых</td>\n",
       "      <td>«18+» - запрещено для детей</td>\n",
       "      <td>NaN</td>\n",
       "      <td>NaN</td>\n",
       "      <td>NaN</td>\n",
       "      <td>NaN</td>\n",
       "      <td>4.5</td>\n",
       "      <td>боевик,триллер,приключения</td>\n",
       "      <td>51280.0</td>\n",
       "    </tr>\n",
       "    <tr>\n",
       "      <th>3391</th>\n",
       "      <td>ведьма .</td>\n",
       "      <td>111002215</td>\n",
       "      <td>2015-03-05 12:00:00+00:00</td>\n",
       "      <td>художественный</td>\n",
       "      <td>ооо \"кинокомпания \"ракурс\"</td>\n",
       "      <td>россия</td>\n",
       "      <td>д.федоров</td>\n",
       "      <td>в.сидоренко</td>\n",
       "      <td>«16+» - для детей старше 16 лет</td>\n",
       "      <td>0.0</td>\n",
       "      <td>34000000.0</td>\n",
       "      <td>48571430.0</td>\n",
       "      <td>министерство культуры</td>\n",
       "      <td>7.4</td>\n",
       "      <td>фэнтези,приключения,драма</td>\n",
       "      <td>51907.5</td>\n",
       "    </tr>\n",
       "    <tr>\n",
       "      <th>1216</th>\n",
       "      <td>хаббл 3d</td>\n",
       "      <td>122001411</td>\n",
       "      <td>2011-09-15 12:00:00+00:00</td>\n",
       "      <td>документальный</td>\n",
       "      <td>аймакс спейс, уорнер бразерс</td>\n",
       "      <td>сша</td>\n",
       "      <td>тони майерс</td>\n",
       "      <td>тони майерс</td>\n",
       "      <td>«0+» - для любой зрительской аудитории</td>\n",
       "      <td>NaN</td>\n",
       "      <td>NaN</td>\n",
       "      <td>NaN</td>\n",
       "      <td>NaN</td>\n",
       "      <td>7.6</td>\n",
       "      <td>документальный</td>\n",
       "      <td>52115.0</td>\n",
       "    </tr>\n",
       "    <tr>\n",
       "      <th>1816</th>\n",
       "      <td>болт и блип спешат на помощь</td>\n",
       "      <td>124003112</td>\n",
       "      <td>2012-11-06 12:00:00+00:00</td>\n",
       "      <td>анимационный</td>\n",
       "      <td>рид ровер интернэшнл, тунбокс интертейнмент</td>\n",
       "      <td>канада - южная корея</td>\n",
       "      <td>тим диасон, питер лепениотис</td>\n",
       "      <td>хонг ким</td>\n",
       "      <td>«0+» - для любой зрительской аудитории</td>\n",
       "      <td>NaN</td>\n",
       "      <td>NaN</td>\n",
       "      <td>NaN</td>\n",
       "      <td>NaN</td>\n",
       "      <td>4.2</td>\n",
       "      <td>мультфильм,фантастика,приключения</td>\n",
       "      <td>52446.0</td>\n",
       "    </tr>\n",
       "    <tr>\n",
       "      <th>3428</th>\n",
       "      <td>последние пять лет.</td>\n",
       "      <td>121005715</td>\n",
       "      <td>2015-03-25 12:00:00+00:00</td>\n",
       "      <td>художественный</td>\n",
       "      <td>гранд пикс интертейнмент, лаки манки пикчерз, ...</td>\n",
       "      <td>сша</td>\n",
       "      <td>ричард лагравенес</td>\n",
       "      <td>джанет бреннер, лорен версель, курт дойтч, рич...</td>\n",
       "      <td>«16+» - для детей старше 16 лет</td>\n",
       "      <td>NaN</td>\n",
       "      <td>NaN</td>\n",
       "      <td>NaN</td>\n",
       "      <td>NaN</td>\n",
       "      <td>5.7</td>\n",
       "      <td>мюзикл,драма,мелодрама</td>\n",
       "      <td>52495.0</td>\n",
       "    </tr>\n",
       "    <tr>\n",
       "      <th>517</th>\n",
       "      <td>стоун</td>\n",
       "      <td>121018410</td>\n",
       "      <td>2010-10-07 12:00:00+00:00</td>\n",
       "      <td>художественный</td>\n",
       "      <td>мимран шур пикчерз, холли виерсма продакшнз, м...</td>\n",
       "      <td>сша</td>\n",
       "      <td>джон кёрран</td>\n",
       "      <td>рене бессон, дэнни димборт, уилл френч</td>\n",
       "      <td>«16+» - для детей старше 16 лет</td>\n",
       "      <td>NaN</td>\n",
       "      <td>NaN</td>\n",
       "      <td>NaN</td>\n",
       "      <td>NaN</td>\n",
       "      <td>8.1</td>\n",
       "      <td>аниме,мультфильм,боевик</td>\n",
       "      <td>54060.0</td>\n",
       "    </tr>\n",
       "  </tbody>\n",
       "</table>\n",
       "</div>"
      ],
      "text/plain": [
       "                                             title   puNumber  \\\n",
       "1020                             возвращение в \"а\"  111003011   \n",
       "3544                    ромео и джульетта. бродвей  126001315   \n",
       "4236  мультфильмы по выходным. непослушные истории  214006116   \n",
       "3954                                  завтра утром  111021715   \n",
       "5423             кто есть кто или ограбление по...  111007118   \n",
       "3391                                      ведьма .  111002215   \n",
       "1216                                      хаббл 3d  122001411   \n",
       "1816                  болт и блип спешат на помощь  124003112   \n",
       "3428                           последние пять лет.  121005715   \n",
       "517                                          стоун  121018410   \n",
       "\n",
       "               show_start_date            type  \\\n",
       "1020 2011-04-14 12:00:00+00:00  художественный   \n",
       "3544 2015-04-27 12:00:00+00:00          прочие   \n",
       "4236 2016-04-29 12:00:00+00:00    анимационный   \n",
       "3954 2015-12-28 12:00:00+00:00  художественный   \n",
       "5423 2018-06-04 12:00:00+00:00  художественный   \n",
       "3391 2015-03-05 12:00:00+00:00  художественный   \n",
       "1216 2011-09-15 12:00:00+00:00  документальный   \n",
       "1816 2012-11-06 12:00:00+00:00    анимационный   \n",
       "3428 2015-03-25 12:00:00+00:00  художественный   \n",
       "517  2010-10-07 12:00:00+00:00  художественный   \n",
       "\n",
       "                                            film_studio    production_country  \\\n",
       "1020  ао \"казахфильм\" им.ш.айманова, тоо рпо нпц \"ба...      россия-казахстан   \n",
       "3544                                         мортускрин                   сша   \n",
       "4236  некоммерческая организация \"фонд поддержки ани...                россия   \n",
       "3954                                  ооо \"кинофабрика\"                россия   \n",
       "5423                         храмых сергей владимирович                россия   \n",
       "3391                         ооо \"кинокомпания \"ракурс\"                россия   \n",
       "1216                       аймакс спейс, уорнер бразерс                   сша   \n",
       "1816        рид ровер интернэшнл, тунбокс интертейнмент  канада - южная корея   \n",
       "3428  гранд пикс интертейнмент, лаки манки пикчерз, ...                   сша   \n",
       "517   мимран шур пикчерз, холли виерсма продакшнз, м...                   сша   \n",
       "\n",
       "                                              director  \\\n",
       "1020                           е.михалков-кончаловский   \n",
       "3544                                        давид лево   \n",
       "4236  а.демин, р.синкевич, н.березовая, о.ужинов и др.   \n",
       "3954                              а.майовер, д.крылова   \n",
       "5423                                          с.храмых   \n",
       "3391                                         д.федоров   \n",
       "1216                                       тони майерс   \n",
       "1816                      тим диасон, питер лепениотис   \n",
       "3428                                 ричард лагравенес   \n",
       "517                                        джон кёрран   \n",
       "\n",
       "                                               producer  \\\n",
       "1020                        ооо \"пс тивиси\" киностудия\"   \n",
       "3544             бонни камли, стэфарт лэйн, алан ньюман   \n",
       "4236  т.семенов, и.гелашвили, а.добрунов, н.маковски...   \n",
       "3954                      в.рубан, а.тельнов, а.львович   \n",
       "5423                                           с.храмых   \n",
       "3391                                        в.сидоренко   \n",
       "1216                                        тони майерс   \n",
       "1816                                           хонг ким   \n",
       "3428  джанет бреннер, лорен версель, курт дойтч, рич...   \n",
       "517              рене бессон, дэнни димборт, уилл френч   \n",
       "\n",
       "                             age_restriction  refundable_support  \\\n",
       "1020         «16+» - для детей старше 16 лет                 NaN   \n",
       "3544         «12+» - для детей старше 12 лет                 NaN   \n",
       "4236           «6+» - для детей старше 6 лет                 NaN   \n",
       "3954         «12+» - для детей старше 12 лет                 0.0   \n",
       "5423             «18+» - запрещено для детей                 NaN   \n",
       "3391         «16+» - для детей старше 16 лет                 0.0   \n",
       "1216  «0+» - для любой зрительской аудитории                 NaN   \n",
       "1816  «0+» - для любой зрительской аудитории                 NaN   \n",
       "3428         «16+» - для детей старше 16 лет                 NaN   \n",
       "517          «16+» - для детей старше 16 лет                 NaN   \n",
       "\n",
       "      nonrefundable_support      budget       financing_source  ratings  \\\n",
       "1020                    NaN         NaN                    NaN      6.5   \n",
       "3544                    NaN         NaN                    NaN      5.6   \n",
       "4236                    NaN         NaN                    NaN      5.8   \n",
       "3954             35000000.0  50000000.0  министерство культуры      5.7   \n",
       "5423                    NaN         NaN                    NaN      4.5   \n",
       "3391             34000000.0  48571430.0  министерство культуры      7.4   \n",
       "1216                    NaN         NaN                    NaN      7.6   \n",
       "1816                    NaN         NaN                    NaN      4.2   \n",
       "3428                    NaN         NaN                    NaN      5.7   \n",
       "517                     NaN         NaN                    NaN      8.1   \n",
       "\n",
       "                                 genres  box_office  \n",
       "1020                      драма,военный     50200.0  \n",
       "3544                          мелодрама     50672.4  \n",
       "4236                ужасы,фэнтези,драма     51164.0  \n",
       "3954            мелодрама,комедия,спорт     51220.0  \n",
       "5423         боевик,триллер,приключения     51280.0  \n",
       "3391          фэнтези,приключения,драма     51907.5  \n",
       "1216                     документальный     52115.0  \n",
       "1816  мультфильм,фантастика,приключения     52446.0  \n",
       "3428             мюзикл,драма,мелодрама     52495.0  \n",
       "517             аниме,мультфильм,боевик     54060.0  "
      ]
     },
     "execution_count": 46,
     "metadata": {},
     "output_type": "execute_result"
    }
   ],
   "source": [
    "check_4 = check_4.query('box_office > 50000')\n",
    "check_4.sort_values(by='box_office', ascending=True).head(10)"
   ]
  },
  {
   "cell_type": "markdown",
   "id": "5f1dd782",
   "metadata": {},
   "source": [
    "Перебрав фильмы с кассовыми сборами в России больше 10000, больше 50 000, больше 100 000 и больше 200 000 сопоставив по первым строчкам с данными в интернете решено оставить для дальнейшего анализа только фильмы с кассовыми сборами больше 200 тыс  рублей, т.к. первые несколько срок действительно имеют такие сборы, а в более меньших суммах точно есть ошибки. Прововдя анализ сборов сделаем 2: Убрав только сборы до 1000 рублей и убрав сборы до 200 тыс и сравним."
   ]
  },
  {
   "cell_type": "markdown",
   "id": "3d9a4242",
   "metadata": {},
   "source": [
    "Оценим адекватность данных в категориальных колонках, ранее я убедилась, что пропуски в этих колонках заменить не на что. Выведем количество уникальных значений."
   ]
  },
  {
   "cell_type": "code",
   "execution_count": 47,
   "id": "34492742",
   "metadata": {},
   "outputs": [
    {
     "data": {
      "text/plain": [
       "'Уникальных значений в колонке title - 6762'"
      ]
     },
     "metadata": {},
     "output_type": "display_data"
    },
    {
     "data": {
      "text/plain": [
       "'Уникальных значений в колонке film_studio - 5451'"
      ]
     },
     "metadata": {},
     "output_type": "display_data"
    },
    {
     "data": {
      "text/plain": [
       "'Уникальных значений в колонке production_country - 949'"
      ]
     },
     "metadata": {},
     "output_type": "display_data"
    },
    {
     "data": {
      "text/plain": [
       "'Уникальных значений в колонке director - 4807'"
      ]
     },
     "metadata": {},
     "output_type": "display_data"
    },
    {
     "data": {
      "text/plain": [
       "'Уникальных значений в колонке producer - 5343'"
      ]
     },
     "metadata": {},
     "output_type": "display_data"
    },
    {
     "data": {
      "text/plain": [
       "'Уникальных значений в колонке genres - 743'"
      ]
     },
     "metadata": {},
     "output_type": "display_data"
    },
    {
     "data": {
      "text/plain": [
       "'ВСЕГО СТРОК - 7000'"
      ]
     },
     "metadata": {},
     "output_type": "display_data"
    }
   ],
   "source": [
    "col = ['title', 'film_studio', 'production_country', 'director', 'producer', 'genres']\n",
    "for name in col:\n",
    "    display (f'Уникальных значений в колонке {name} - {len (data[name].unique())}')\n",
    "    \n",
    "display (f'ВСЕГО СТРОК - {len (data)}')"
   ]
  },
  {
   "cell_type": "markdown",
   "id": "3aaa8cfb",
   "metadata": {},
   "source": [
    "По количеству уникальных значений можно сказать, что уникальных значений слишком много, вероятнее всего проблема написания. Иностранные названия написаны в транскрипции, но возможно по разному и отсюда одно название превращается в несколько. Но, к сожалению, просмотреть на подобные ошибки 7000 слишком долго и для целей анализа неоправдано, т.к. количество фильмов от этого не изменится."
   ]
  },
  {
   "cell_type": "markdown",
   "id": "d5b82683",
   "metadata": {},
   "source": [
    "Добавим несколько колонок для последующего анализа:\n",
    "* столбец с информацией о годе проката (возьмем из даты премьеры)\n",
    "* столбец с долей государственной поддержки от общего бюджета фильма\n",
    "* столбец с именем и фамилией главного режиссёра (первое имя в списке)\n",
    "* столбец с основным жанром фильма (первый жанр в списке)\n",
    "\n",
    "Добавим в исходную таблицу `data` а выборки будем использовать для конкретных целей анализа."
   ]
  },
  {
   "cell_type": "code",
   "execution_count": 48,
   "id": "383042d1",
   "metadata": {},
   "outputs": [],
   "source": [
    "data['year_start'] = data['show_start_date'].dt.year #добавили колонку с годом премьеры\n",
    "data['ratio'] = (data['refundable_support']+data['nonrefundable_support'])/data['budget']#добавили колонку с долей гос поддержки"
   ]
  },
  {
   "cell_type": "code",
   "execution_count": 49,
   "id": "fcb4f788",
   "metadata": {},
   "outputs": [
    {
     "data": {
      "text/html": [
       "<div>\n",
       "<style scoped>\n",
       "    .dataframe tbody tr th:only-of-type {\n",
       "        vertical-align: middle;\n",
       "    }\n",
       "\n",
       "    .dataframe tbody tr th {\n",
       "        vertical-align: top;\n",
       "    }\n",
       "\n",
       "    .dataframe thead th {\n",
       "        text-align: right;\n",
       "    }\n",
       "</style>\n",
       "<table border=\"1\" class=\"dataframe\">\n",
       "  <thead>\n",
       "    <tr style=\"text-align: right;\">\n",
       "      <th></th>\n",
       "      <th>title</th>\n",
       "      <th>puNumber</th>\n",
       "      <th>show_start_date</th>\n",
       "      <th>type</th>\n",
       "      <th>film_studio</th>\n",
       "      <th>production_country</th>\n",
       "      <th>director</th>\n",
       "      <th>producer</th>\n",
       "      <th>age_restriction</th>\n",
       "      <th>refundable_support</th>\n",
       "      <th>nonrefundable_support</th>\n",
       "      <th>budget</th>\n",
       "      <th>financing_source</th>\n",
       "      <th>ratings</th>\n",
       "      <th>genres</th>\n",
       "      <th>box_office</th>\n",
       "      <th>year_start</th>\n",
       "      <th>ratio</th>\n",
       "      <th>main_director</th>\n",
       "    </tr>\n",
       "  </thead>\n",
       "  <tbody>\n",
       "    <tr>\n",
       "      <th>0</th>\n",
       "      <td>книга илая</td>\n",
       "      <td>121000210</td>\n",
       "      <td>2010-01-11 12:00:00+00:00</td>\n",
       "      <td>художественный</td>\n",
       "      <td>элкон интертейнмент, силвер пикчерз</td>\n",
       "      <td>сша</td>\n",
       "      <td>алберт хьюз, эллен хьюз</td>\n",
       "      <td>бродерик джонсон, джоэл силвер</td>\n",
       "      <td>«16+» - для детей старше 16 лет</td>\n",
       "      <td>NaN</td>\n",
       "      <td>NaN</td>\n",
       "      <td>NaN</td>\n",
       "      <td>NaN</td>\n",
       "      <td>7.1</td>\n",
       "      <td>фантастика,боевик,драма</td>\n",
       "      <td>NaN</td>\n",
       "      <td>2010</td>\n",
       "      <td>NaN</td>\n",
       "      <td>алберт хьюз</td>\n",
       "    </tr>\n",
       "    <tr>\n",
       "      <th>1</th>\n",
       "      <td>вечный зов.</td>\n",
       "      <td>213000210</td>\n",
       "      <td>2010-01-13 12:00:00+00:00</td>\n",
       "      <td>художественный</td>\n",
       "      <td>оао \"леннаучфильм\"</td>\n",
       "      <td>россия</td>\n",
       "      <td>в.ефремов, и.ефремова, в.лопач</td>\n",
       "      <td>в.бажин</td>\n",
       "      <td>«0+» - для любой зрительской аудитории</td>\n",
       "      <td>NaN</td>\n",
       "      <td>NaN</td>\n",
       "      <td>NaN</td>\n",
       "      <td>NaN</td>\n",
       "      <td>8.3</td>\n",
       "      <td>драма</td>\n",
       "      <td>NaN</td>\n",
       "      <td>2010</td>\n",
       "      <td>NaN</td>\n",
       "      <td>в.ефремов</td>\n",
       "    </tr>\n",
       "    <tr>\n",
       "      <th>2</th>\n",
       "      <td>последний король шотландии</td>\n",
       "      <td>221002410</td>\n",
       "      <td>2010-01-13 12:00:00+00:00</td>\n",
       "      <td>художественный</td>\n",
       "      <td>дэ эн а филмз, фокс серчлайт пикчерз, филм фо,...</td>\n",
       "      <td>великобритания - сша</td>\n",
       "      <td>кевин макдональд</td>\n",
       "      <td>лиза брайер, андреа колдервуд, кристин рупперт...</td>\n",
       "      <td>«16+» - для детей старше 16 лет</td>\n",
       "      <td>NaN</td>\n",
       "      <td>NaN</td>\n",
       "      <td>NaN</td>\n",
       "      <td>NaN</td>\n",
       "      <td>7.7</td>\n",
       "      <td>триллер,драма,биография</td>\n",
       "      <td>NaN</td>\n",
       "      <td>2010</td>\n",
       "      <td>NaN</td>\n",
       "      <td>кевин макдональд</td>\n",
       "    </tr>\n",
       "    <tr>\n",
       "      <th>3</th>\n",
       "      <td>другой мужчина</td>\n",
       "      <td>221009610</td>\n",
       "      <td>2010-01-14 12:00:00+00:00</td>\n",
       "      <td>художественный</td>\n",
       "      <td>готэм продакшнз, рэйнмарк филмз, илинг студиос...</td>\n",
       "      <td>сша - великобритания</td>\n",
       "      <td>ричардэйр</td>\n",
       "      <td>ричард эйр, майкл дрейер, фрэнк дулгер</td>\n",
       "      <td>«16+» - для детей старше 16 лет</td>\n",
       "      <td>NaN</td>\n",
       "      <td>NaN</td>\n",
       "      <td>NaN</td>\n",
       "      <td>NaN</td>\n",
       "      <td>5.9</td>\n",
       "      <td>триллер,драма,мелодрама</td>\n",
       "      <td>NaN</td>\n",
       "      <td>2010</td>\n",
       "      <td>NaN</td>\n",
       "      <td>ричардэйр</td>\n",
       "    </tr>\n",
       "    <tr>\n",
       "      <th>4</th>\n",
       "      <td>бомж.</td>\n",
       "      <td>211000910</td>\n",
       "      <td>2010-01-14 12:00:00+00:00</td>\n",
       "      <td>художественный</td>\n",
       "      <td>ооо \"студия \"панорама\"</td>\n",
       "      <td>россия</td>\n",
       "      <td>а.богданов</td>\n",
       "      <td>ооо \"форвард-фильм\"</td>\n",
       "      <td>«16+» - для детей старше 16 лет</td>\n",
       "      <td>NaN</td>\n",
       "      <td>NaN</td>\n",
       "      <td>NaN</td>\n",
       "      <td>NaN</td>\n",
       "      <td>6.0</td>\n",
       "      <td>боевик,триллер,криминал</td>\n",
       "      <td>NaN</td>\n",
       "      <td>2010</td>\n",
       "      <td>NaN</td>\n",
       "      <td>а.богданов</td>\n",
       "    </tr>\n",
       "  </tbody>\n",
       "</table>\n",
       "</div>"
      ],
      "text/plain": [
       "                        title   puNumber           show_start_date  \\\n",
       "0                  книга илая  121000210 2010-01-11 12:00:00+00:00   \n",
       "1                 вечный зов.  213000210 2010-01-13 12:00:00+00:00   \n",
       "2  последний король шотландии  221002410 2010-01-13 12:00:00+00:00   \n",
       "3              другой мужчина  221009610 2010-01-14 12:00:00+00:00   \n",
       "4                       бомж.  211000910 2010-01-14 12:00:00+00:00   \n",
       "\n",
       "             type                                        film_studio  \\\n",
       "0  художественный                элкон интертейнмент, силвер пикчерз   \n",
       "1  художественный                                 оао \"леннаучфильм\"   \n",
       "2  художественный  дэ эн а филмз, фокс серчлайт пикчерз, филм фо,...   \n",
       "3  художественный  готэм продакшнз, рэйнмарк филмз, илинг студиос...   \n",
       "4  художественный                             ооо \"студия \"панорама\"   \n",
       "\n",
       "     production_country                        director  \\\n",
       "0                   сша         алберт хьюз, эллен хьюз   \n",
       "1                россия  в.ефремов, и.ефремова, в.лопач   \n",
       "2  великобритания - сша                кевин макдональд   \n",
       "3  сша - великобритания                       ричардэйр   \n",
       "4                россия                      а.богданов   \n",
       "\n",
       "                                            producer  \\\n",
       "0                     бродерик джонсон, джоэл силвер   \n",
       "1                                            в.бажин   \n",
       "2  лиза брайер, андреа колдервуд, кристин рупперт...   \n",
       "3             ричард эйр, майкл дрейер, фрэнк дулгер   \n",
       "4                                ооо \"форвард-фильм\"   \n",
       "\n",
       "                          age_restriction  refundable_support  \\\n",
       "0         «16+» - для детей старше 16 лет                 NaN   \n",
       "1  «0+» - для любой зрительской аудитории                 NaN   \n",
       "2         «16+» - для детей старше 16 лет                 NaN   \n",
       "3         «16+» - для детей старше 16 лет                 NaN   \n",
       "4         «16+» - для детей старше 16 лет                 NaN   \n",
       "\n",
       "   nonrefundable_support  budget financing_source  ratings  \\\n",
       "0                    NaN     NaN              NaN      7.1   \n",
       "1                    NaN     NaN              NaN      8.3   \n",
       "2                    NaN     NaN              NaN      7.7   \n",
       "3                    NaN     NaN              NaN      5.9   \n",
       "4                    NaN     NaN              NaN      6.0   \n",
       "\n",
       "                    genres  box_office  year_start  ratio     main_director  \n",
       "0  фантастика,боевик,драма         NaN        2010    NaN       алберт хьюз  \n",
       "1                    драма         NaN        2010    NaN         в.ефремов  \n",
       "2  триллер,драма,биография         NaN        2010    NaN  кевин макдональд  \n",
       "3  триллер,драма,мелодрама         NaN        2010    NaN         ричардэйр  \n",
       "4  боевик,триллер,криминал         NaN        2010    NaN        а.богданов  "
      ]
     },
     "execution_count": 49,
     "metadata": {},
     "output_type": "execute_result"
    }
   ],
   "source": [
    "def name_director (row):#создаем функцию чтобы добавить имя главного режиссера в отдельную колонку\n",
    "    name = row['director']\n",
    "    if name != 'NaN':\n",
    "        return name.split(', ')[0]\n",
    "data['main_director'] = data.apply(name_director, axis=1)\n",
    "data.head()#проверка"
   ]
  },
  {
   "cell_type": "code",
   "execution_count": 50,
   "id": "85344272",
   "metadata": {},
   "outputs": [
    {
     "data": {
      "text/html": [
       "<div>\n",
       "<style scoped>\n",
       "    .dataframe tbody tr th:only-of-type {\n",
       "        vertical-align: middle;\n",
       "    }\n",
       "\n",
       "    .dataframe tbody tr th {\n",
       "        vertical-align: top;\n",
       "    }\n",
       "\n",
       "    .dataframe thead th {\n",
       "        text-align: right;\n",
       "    }\n",
       "</style>\n",
       "<table border=\"1\" class=\"dataframe\">\n",
       "  <thead>\n",
       "    <tr style=\"text-align: right;\">\n",
       "      <th></th>\n",
       "      <th>title</th>\n",
       "      <th>puNumber</th>\n",
       "      <th>show_start_date</th>\n",
       "      <th>type</th>\n",
       "      <th>film_studio</th>\n",
       "      <th>production_country</th>\n",
       "      <th>director</th>\n",
       "      <th>producer</th>\n",
       "      <th>age_restriction</th>\n",
       "      <th>refundable_support</th>\n",
       "      <th>nonrefundable_support</th>\n",
       "      <th>budget</th>\n",
       "      <th>financing_source</th>\n",
       "      <th>ratings</th>\n",
       "      <th>genres</th>\n",
       "      <th>box_office</th>\n",
       "      <th>year_start</th>\n",
       "      <th>ratio</th>\n",
       "      <th>main_director</th>\n",
       "      <th>main_genres</th>\n",
       "    </tr>\n",
       "  </thead>\n",
       "  <tbody>\n",
       "    <tr>\n",
       "      <th>0</th>\n",
       "      <td>книга илая</td>\n",
       "      <td>121000210</td>\n",
       "      <td>2010-01-11 12:00:00+00:00</td>\n",
       "      <td>художественный</td>\n",
       "      <td>элкон интертейнмент, силвер пикчерз</td>\n",
       "      <td>сша</td>\n",
       "      <td>алберт хьюз, эллен хьюз</td>\n",
       "      <td>бродерик джонсон, джоэл силвер</td>\n",
       "      <td>«16+» - для детей старше 16 лет</td>\n",
       "      <td>NaN</td>\n",
       "      <td>NaN</td>\n",
       "      <td>NaN</td>\n",
       "      <td>NaN</td>\n",
       "      <td>7.1</td>\n",
       "      <td>фантастика,боевик,драма</td>\n",
       "      <td>NaN</td>\n",
       "      <td>2010</td>\n",
       "      <td>NaN</td>\n",
       "      <td>алберт хьюз</td>\n",
       "      <td>фантастика</td>\n",
       "    </tr>\n",
       "    <tr>\n",
       "      <th>1</th>\n",
       "      <td>вечный зов.</td>\n",
       "      <td>213000210</td>\n",
       "      <td>2010-01-13 12:00:00+00:00</td>\n",
       "      <td>художественный</td>\n",
       "      <td>оао \"леннаучфильм\"</td>\n",
       "      <td>россия</td>\n",
       "      <td>в.ефремов, и.ефремова, в.лопач</td>\n",
       "      <td>в.бажин</td>\n",
       "      <td>«0+» - для любой зрительской аудитории</td>\n",
       "      <td>NaN</td>\n",
       "      <td>NaN</td>\n",
       "      <td>NaN</td>\n",
       "      <td>NaN</td>\n",
       "      <td>8.3</td>\n",
       "      <td>драма</td>\n",
       "      <td>NaN</td>\n",
       "      <td>2010</td>\n",
       "      <td>NaN</td>\n",
       "      <td>в.ефремов</td>\n",
       "      <td>драма</td>\n",
       "    </tr>\n",
       "    <tr>\n",
       "      <th>2</th>\n",
       "      <td>последний король шотландии</td>\n",
       "      <td>221002410</td>\n",
       "      <td>2010-01-13 12:00:00+00:00</td>\n",
       "      <td>художественный</td>\n",
       "      <td>дэ эн а филмз, фокс серчлайт пикчерз, филм фо,...</td>\n",
       "      <td>великобритания - сша</td>\n",
       "      <td>кевин макдональд</td>\n",
       "      <td>лиза брайер, андреа колдервуд, кристин рупперт...</td>\n",
       "      <td>«16+» - для детей старше 16 лет</td>\n",
       "      <td>NaN</td>\n",
       "      <td>NaN</td>\n",
       "      <td>NaN</td>\n",
       "      <td>NaN</td>\n",
       "      <td>7.7</td>\n",
       "      <td>триллер,драма,биография</td>\n",
       "      <td>NaN</td>\n",
       "      <td>2010</td>\n",
       "      <td>NaN</td>\n",
       "      <td>кевин макдональд</td>\n",
       "      <td>триллер</td>\n",
       "    </tr>\n",
       "    <tr>\n",
       "      <th>3</th>\n",
       "      <td>другой мужчина</td>\n",
       "      <td>221009610</td>\n",
       "      <td>2010-01-14 12:00:00+00:00</td>\n",
       "      <td>художественный</td>\n",
       "      <td>готэм продакшнз, рэйнмарк филмз, илинг студиос...</td>\n",
       "      <td>сша - великобритания</td>\n",
       "      <td>ричардэйр</td>\n",
       "      <td>ричард эйр, майкл дрейер, фрэнк дулгер</td>\n",
       "      <td>«16+» - для детей старше 16 лет</td>\n",
       "      <td>NaN</td>\n",
       "      <td>NaN</td>\n",
       "      <td>NaN</td>\n",
       "      <td>NaN</td>\n",
       "      <td>5.9</td>\n",
       "      <td>триллер,драма,мелодрама</td>\n",
       "      <td>NaN</td>\n",
       "      <td>2010</td>\n",
       "      <td>NaN</td>\n",
       "      <td>ричардэйр</td>\n",
       "      <td>триллер</td>\n",
       "    </tr>\n",
       "    <tr>\n",
       "      <th>4</th>\n",
       "      <td>бомж.</td>\n",
       "      <td>211000910</td>\n",
       "      <td>2010-01-14 12:00:00+00:00</td>\n",
       "      <td>художественный</td>\n",
       "      <td>ооо \"студия \"панорама\"</td>\n",
       "      <td>россия</td>\n",
       "      <td>а.богданов</td>\n",
       "      <td>ооо \"форвард-фильм\"</td>\n",
       "      <td>«16+» - для детей старше 16 лет</td>\n",
       "      <td>NaN</td>\n",
       "      <td>NaN</td>\n",
       "      <td>NaN</td>\n",
       "      <td>NaN</td>\n",
       "      <td>6.0</td>\n",
       "      <td>боевик,триллер,криминал</td>\n",
       "      <td>NaN</td>\n",
       "      <td>2010</td>\n",
       "      <td>NaN</td>\n",
       "      <td>а.богданов</td>\n",
       "      <td>боевик</td>\n",
       "    </tr>\n",
       "  </tbody>\n",
       "</table>\n",
       "</div>"
      ],
      "text/plain": [
       "                        title   puNumber           show_start_date  \\\n",
       "0                  книга илая  121000210 2010-01-11 12:00:00+00:00   \n",
       "1                 вечный зов.  213000210 2010-01-13 12:00:00+00:00   \n",
       "2  последний король шотландии  221002410 2010-01-13 12:00:00+00:00   \n",
       "3              другой мужчина  221009610 2010-01-14 12:00:00+00:00   \n",
       "4                       бомж.  211000910 2010-01-14 12:00:00+00:00   \n",
       "\n",
       "             type                                        film_studio  \\\n",
       "0  художественный                элкон интертейнмент, силвер пикчерз   \n",
       "1  художественный                                 оао \"леннаучфильм\"   \n",
       "2  художественный  дэ эн а филмз, фокс серчлайт пикчерз, филм фо,...   \n",
       "3  художественный  готэм продакшнз, рэйнмарк филмз, илинг студиос...   \n",
       "4  художественный                             ооо \"студия \"панорама\"   \n",
       "\n",
       "     production_country                        director  \\\n",
       "0                   сша         алберт хьюз, эллен хьюз   \n",
       "1                россия  в.ефремов, и.ефремова, в.лопач   \n",
       "2  великобритания - сша                кевин макдональд   \n",
       "3  сша - великобритания                       ричардэйр   \n",
       "4                россия                      а.богданов   \n",
       "\n",
       "                                            producer  \\\n",
       "0                     бродерик джонсон, джоэл силвер   \n",
       "1                                            в.бажин   \n",
       "2  лиза брайер, андреа колдервуд, кристин рупперт...   \n",
       "3             ричард эйр, майкл дрейер, фрэнк дулгер   \n",
       "4                                ооо \"форвард-фильм\"   \n",
       "\n",
       "                          age_restriction  refundable_support  \\\n",
       "0         «16+» - для детей старше 16 лет                 NaN   \n",
       "1  «0+» - для любой зрительской аудитории                 NaN   \n",
       "2         «16+» - для детей старше 16 лет                 NaN   \n",
       "3         «16+» - для детей старше 16 лет                 NaN   \n",
       "4         «16+» - для детей старше 16 лет                 NaN   \n",
       "\n",
       "   nonrefundable_support  budget financing_source  ratings  \\\n",
       "0                    NaN     NaN              NaN      7.1   \n",
       "1                    NaN     NaN              NaN      8.3   \n",
       "2                    NaN     NaN              NaN      7.7   \n",
       "3                    NaN     NaN              NaN      5.9   \n",
       "4                    NaN     NaN              NaN      6.0   \n",
       "\n",
       "                    genres  box_office  year_start  ratio     main_director  \\\n",
       "0  фантастика,боевик,драма         NaN        2010    NaN       алберт хьюз   \n",
       "1                    драма         NaN        2010    NaN         в.ефремов   \n",
       "2  триллер,драма,биография         NaN        2010    NaN  кевин макдональд   \n",
       "3  триллер,драма,мелодрама         NaN        2010    NaN         ричардэйр   \n",
       "4  боевик,триллер,криминал         NaN        2010    NaN        а.богданов   \n",
       "\n",
       "  main_genres  \n",
       "0  фантастика  \n",
       "1       драма  \n",
       "2     триллер  \n",
       "3     триллер  \n",
       "4      боевик  "
      ]
     },
     "execution_count": 50,
     "metadata": {},
     "output_type": "execute_result"
    }
   ],
   "source": [
    "def name_genres (row):#создаем функцию чтобы добавить основной жанр в отдельную колонку\n",
    "    name = row['genres']\n",
    "    if name != 'NaN':\n",
    "        return name.split(',')[0]\n",
    "data['main_genres'] = data.apply(name_genres, axis=1)\n",
    "data.head()#проверка"
   ]
  },
  {
   "cell_type": "markdown",
   "id": "674c2b4f",
   "metadata": {},
   "source": [
    "Итак, типы данных где необходимо исправили, пропуски обработали, дубликаты удалили. Цифры привели к адекватным. Добавили колонки для последующего анализа. Могу переходить непосредственно к анализу данных."
   ]
  },
  {
   "cell_type": "markdown",
   "id": "d0866143",
   "metadata": {},
   "source": [
    "## Анализ данных"
   ]
  },
  {
   "cell_type": "markdown",
   "id": "822df283",
   "metadata": {},
   "source": [
    "Для начала посмотрю, сколько фильмов выходило в прокат каждый год. Помним, что данные о прокате в кинотеатрах известны не для всех фильмов. Посмотрю, какую долю составляют фильмы с указанной информацией о прокате в кинотеатрах и проанализирую, как эта доля менялась по годам. Выясню какой период полнее всего представлен в данных."
   ]
  },
  {
   "cell_type": "code",
   "execution_count": 51,
   "id": "7b69d04a",
   "metadata": {},
   "outputs": [
    {
     "data": {
      "text/plain": [
       "2019    930\n",
       "2018    887\n",
       "2010    848\n",
       "2014    758\n",
       "2016    719\n",
       "2015    670\n",
       "2013    604\n",
       "2012    549\n",
       "2011    538\n",
       "2017    497\n",
       "Name: year_start, dtype: int64"
      ]
     },
     "execution_count": 51,
     "metadata": {},
     "output_type": "execute_result"
    }
   ],
   "source": [
    "data['year_start'].value_counts()"
   ]
  },
  {
   "cell_type": "code",
   "execution_count": 52,
   "id": "7d88c963",
   "metadata": {},
   "outputs": [
    {
     "data": {
      "image/png": "[encoded data removed]",
      "text/plain": [
       "<Figure size 432x288 with 1 Axes>"
      ]
     },
     "metadata": {
      "needs_background": "light"
     },
     "output_type": "display_data"
    }
   ],
   "source": [
    "d1 = data.groupby('year_start').agg(year_start_count=('year_start', 'count'), year=('year_start', 'mean'))\n",
    "d1['year'] = d1['year'].astype('int')\n",
    "d2 = data.query('box_office > 0').groupby('year_start').agg(year_start_count=('year_start', 'count'),year=('year_start', 'mean'))\n",
    "d2['year'] = d2['year'].astype('int')\n",
    "ratio = d1.merge(d2, on='year_start')\n",
    "d1['hue']='Total'\n",
    "d2['hue']='At the box office'\n",
    "res=pd.concat([d1,d2])\n",
    "sns.barplot(x='year',y='year_start_count',data=res,hue='hue')\n",
    "plt.show()"
   ]
  },
  {
   "cell_type": "markdown",
   "id": "aa3088fa",
   "metadata": {},
   "source": [
    "По графику видно, что в 2019 году было больше всего премьер, согласно полученным данным. Однако не значительно меньше было в 2010 и 2018 годам, это же видно конкретно в цифрах при подсчете методом `value_counts`. Самый провальный год 2017.\n",
    "\n",
    "А вот с фильмами по которым есть данные в кинопрокате наоброт выходит, в 2010 году информации практически нет, также провальный 2017, но это соотвествует провалу и по количеству фильмов в принципе. По прежнему самый полный 2019 год. Однако посмотрим сколько в процентном  соотношении составляют фильмы в прокате от общего числа за каждый год."
   ]
  },
  {
   "cell_type": "code",
   "execution_count": 53,
   "id": "d328279f",
   "metadata": {},
   "outputs": [
    {
     "data": {
      "image/png": "[encoded data removed]",
      "text/plain": [
       "<Figure size 432x288 with 1 Axes>"
      ]
     },
     "metadata": {
      "needs_background": "light"
     },
     "output_type": "display_data"
    }
   ],
   "source": [
    "ratio = d1.merge(d2, on='year_start')\n",
    "ratio['ratio'] = ratio['year_start_count_y']/ratio['year_start_count_x']\n",
    "sns.barplot(x='year_x',y='ratio',data=ratio)\n",
    "plt.show()"
   ]
  },
  {
   "cell_type": "markdown",
   "id": "d6d2fab1",
   "metadata": {},
   "source": [
    "Оказалось, что самый полный год по кинопрокату это 2016. До 2016 идет рост доли, а после снижение."
   ]
  },
  {
   "cell_type": "code",
   "execution_count": 54,
   "id": "88e19864",
   "metadata": {},
   "outputs": [
    {
     "data": {
      "image/png": "[encoded data removed]",
      "text/plain": [
       "<Figure size 432x288 with 1 Axes>"
      ]
     },
     "metadata": {
      "needs_background": "light"
     },
     "output_type": "display_data"
    }
   ],
   "source": [
    "d3 = data.query('box_office > 1000').groupby('year_start').agg(year_start_count=('year_start', 'count'),year=('year_start', 'mean'))\n",
    "d3['year'] = d3['year'].astype('int')\n",
    "ratio = d1.merge(d3, on='year_start')\n",
    "ratio['ratio'] = ratio['year_start_count_y']/ratio['year_start_count_x']\n",
    "sns.barplot(x='year_x',y='ratio',data=ratio)\n",
    "plt.show()"
   ]
  },
  {
   "cell_type": "markdown",
   "id": "dfe035f4",
   "metadata": {},
   "source": [
    "Помня, что в данных по сумме в кинопрокате есть ошибки, откинув строки со сборами меньше 1000, картина меняется но незначительно. 2017 год становится равным 2016 и оба можно считать как самые полные. Посмотрим как изменится картина, если взять только данные свыше 200 тыс."
   ]
  },
  {
   "cell_type": "code",
   "execution_count": 55,
   "id": "7baf5140",
   "metadata": {},
   "outputs": [
    {
     "data": {
      "image/png": "[encoded data removed]",
      "text/plain": [
       "<Figure size 432x288 with 1 Axes>"
      ]
     },
     "metadata": {
      "needs_background": "light"
     },
     "output_type": "display_data"
    }
   ],
   "source": [
    "d3 = data.query('box_office > 200000').groupby('year_start').agg(year_start_count=('year_start', 'count'),year=('year_start', 'mean'))\n",
    "d3['year'] = d3['year'].astype('int')\n",
    "ratio = d1.merge(d3, on='year_start')\n",
    "ratio['ratio'] = ratio['year_start_count_y']/ratio['year_start_count_x']\n",
    "sns.barplot(x='year_x',y='ratio',data=ratio)\n",
    "plt.show()"
   ]
  },
  {
   "cell_type": "markdown",
   "id": "daca2b45",
   "metadata": {},
   "source": [
    "Если откинуть сборы менее 200 тыс. рублей выходит что самый полный год это 2017, а до 2013 сборов практически не было. Пока можно точно сказать, что самые полные года в базе это 2016 и 2017."
   ]
  },
  {
   "cell_type": "markdown",
   "id": "f7491ed9",
   "metadata": {},
   "source": [
    "### Анализ суммы сборов"
   ]
  },
  {
   "cell_type": "markdown",
   "id": "e6f952fd",
   "metadata": {},
   "source": [
    "Для начала посмотрим как менялась динамика проката по годам. В каком году сумма сборов была минимальной? А максимальной?\n",
    "\n",
    "Будем сравнивать 2 варианта, сумма сборов не менее 1000 рублей и сумма сборов не менее 200 тыс. рублей."
   ]
  },
  {
   "cell_type": "code",
   "execution_count": 56,
   "id": "f9d3734f",
   "metadata": {},
   "outputs": [],
   "source": [
    "v1 = data.query('box_office > 1000')\n",
    "v2 = data.query('box_office > 200000')"
   ]
  },
  {
   "cell_type": "code",
   "execution_count": 57,
   "id": "8317c65e",
   "metadata": {},
   "outputs": [
    {
     "data": {
      "image/png": "[encoded data removed]",
      "text/plain": [
       "<Figure size 432x288 with 1 Axes>"
      ]
     },
     "metadata": {
      "needs_background": "light"
     },
     "output_type": "display_data"
    },
    {
     "data": {
      "image/png": "[encoded data removed]",
      "text/plain": [
       "<Figure size 432x288 with 1 Axes>"
      ]
     },
     "metadata": {
      "needs_background": "light"
     },
     "output_type": "display_data"
    }
   ],
   "source": [
    "sns.barplot(x=\"year_start\", y=\"box_office\", data=v1, ci=None)\n",
    "plt.show()\n",
    "sns.barplot(x=\"year_start\", y=\"box_office\", data=v2, ci=None)\n",
    "plt.show()"
   ]
  },
  {
   "cell_type": "markdown",
   "id": "5867ebf2",
   "metadata": {},
   "source": [
    "Независимо от выборки (более 1000 или 200 000) динамика одинаковая, до 2014 года практически нет данных о прокате. С 2015 по 2017 суммы растут, после снижаются. Самый кассовый год это 2017, возможно это связано с тем, что количество фильмов упало, а сходить в кино \"хочется\". Грубо говоря тоже количество людей, но фильмов меньше, поэтому сборы выше.\n",
    "\n",
    "Выведем в таблице среднюю и медианную сумму сборов для каждого года, также в 2х вариантах."
   ]
  },
  {
   "cell_type": "code",
   "execution_count": 58,
   "id": "36ebd940",
   "metadata": {},
   "outputs": [
    {
     "data": {
      "text/html": [
       "<div>\n",
       "<style scoped>\n",
       "    .dataframe tbody tr th:only-of-type {\n",
       "        vertical-align: middle;\n",
       "    }\n",
       "\n",
       "    .dataframe tbody tr th {\n",
       "        vertical-align: top;\n",
       "    }\n",
       "\n",
       "    .dataframe thead th {\n",
       "        text-align: right;\n",
       "    }\n",
       "</style>\n",
       "<table border=\"1\" class=\"dataframe\">\n",
       "  <thead>\n",
       "    <tr style=\"text-align: right;\">\n",
       "      <th></th>\n",
       "      <th>mean</th>\n",
       "      <th>median</th>\n",
       "    </tr>\n",
       "    <tr>\n",
       "      <th>year_start</th>\n",
       "      <th></th>\n",
       "      <th></th>\n",
       "    </tr>\n",
       "  </thead>\n",
       "  <tbody>\n",
       "    <tr>\n",
       "      <th>2010</th>\n",
       "      <td>39,552.11</td>\n",
       "      <td>4,530.00</td>\n",
       "    </tr>\n",
       "    <tr>\n",
       "      <th>2011</th>\n",
       "      <td>178,346.33</td>\n",
       "      <td>5,695.00</td>\n",
       "    </tr>\n",
       "    <tr>\n",
       "      <th>2012</th>\n",
       "      <td>75,459.60</td>\n",
       "      <td>11,677.50</td>\n",
       "    </tr>\n",
       "    <tr>\n",
       "      <th>2013</th>\n",
       "      <td>225,589.33</td>\n",
       "      <td>7,127.00</td>\n",
       "    </tr>\n",
       "    <tr>\n",
       "      <th>2014</th>\n",
       "      <td>33,236,282.27</td>\n",
       "      <td>136,185.00</td>\n",
       "    </tr>\n",
       "    <tr>\n",
       "      <th>2015</th>\n",
       "      <td>86,427,491.68</td>\n",
       "      <td>5,223,563.00</td>\n",
       "    </tr>\n",
       "    <tr>\n",
       "      <th>2016</th>\n",
       "      <td>92,764,139.09</td>\n",
       "      <td>4,177,689.05</td>\n",
       "    </tr>\n",
       "    <tr>\n",
       "      <th>2017</th>\n",
       "      <td>136,032,793.33</td>\n",
       "      <td>9,968,340.00</td>\n",
       "    </tr>\n",
       "    <tr>\n",
       "      <th>2018</th>\n",
       "      <td>104,565,059.23</td>\n",
       "      <td>8,891,102.21</td>\n",
       "    </tr>\n",
       "    <tr>\n",
       "      <th>2019</th>\n",
       "      <td>91,369,261.85</td>\n",
       "      <td>4,627,798.34</td>\n",
       "    </tr>\n",
       "  </tbody>\n",
       "</table>\n",
       "</div>"
      ],
      "text/plain": [
       "                     mean       median\n",
       "year_start                            \n",
       "2010            39,552.11     4,530.00\n",
       "2011           178,346.33     5,695.00\n",
       "2012            75,459.60    11,677.50\n",
       "2013           225,589.33     7,127.00\n",
       "2014        33,236,282.27   136,185.00\n",
       "2015        86,427,491.68 5,223,563.00\n",
       "2016        92,764,139.09 4,177,689.05\n",
       "2017       136,032,793.33 9,968,340.00\n",
       "2018       104,565,059.23 8,891,102.21\n",
       "2019        91,369,261.85 4,627,798.34"
      ]
     },
     "execution_count": 58,
     "metadata": {},
     "output_type": "execute_result"
    }
   ],
   "source": [
    "pd.options.display.float_format ='{:,.2f}'.format #формат отражения чисел, чтобы убрать степени\n",
    "v1.pivot_table(index='year_start', values='box_office', aggfunc=('mean', 'median'))"
   ]
  },
  {
   "cell_type": "code",
   "execution_count": 59,
   "id": "fca8b49a",
   "metadata": {},
   "outputs": [
    {
     "data": {
      "text/html": [
       "<div>\n",
       "<style scoped>\n",
       "    .dataframe tbody tr th:only-of-type {\n",
       "        vertical-align: middle;\n",
       "    }\n",
       "\n",
       "    .dataframe tbody tr th {\n",
       "        vertical-align: top;\n",
       "    }\n",
       "\n",
       "    .dataframe thead th {\n",
       "        text-align: right;\n",
       "    }\n",
       "</style>\n",
       "<table border=\"1\" class=\"dataframe\">\n",
       "  <thead>\n",
       "    <tr style=\"text-align: right;\">\n",
       "      <th></th>\n",
       "      <th>mean</th>\n",
       "      <th>median</th>\n",
       "    </tr>\n",
       "    <tr>\n",
       "      <th>year_start</th>\n",
       "      <th></th>\n",
       "      <th></th>\n",
       "    </tr>\n",
       "  </thead>\n",
       "  <tbody>\n",
       "    <tr>\n",
       "      <th>2010</th>\n",
       "      <td>846,015.00</td>\n",
       "      <td>846,015.00</td>\n",
       "    </tr>\n",
       "    <tr>\n",
       "      <th>2011</th>\n",
       "      <td>4,300,278.33</td>\n",
       "      <td>860,810.00</td>\n",
       "    </tr>\n",
       "    <tr>\n",
       "      <th>2012</th>\n",
       "      <td>743,232.86</td>\n",
       "      <td>470,427.00</td>\n",
       "    </tr>\n",
       "    <tr>\n",
       "      <th>2013</th>\n",
       "      <td>4,469,740.62</td>\n",
       "      <td>930,412.30</td>\n",
       "    </tr>\n",
       "    <tr>\n",
       "      <th>2014</th>\n",
       "      <td>76,702,188.76</td>\n",
       "      <td>1,819,529.00</td>\n",
       "    </tr>\n",
       "    <tr>\n",
       "      <th>2015</th>\n",
       "      <td>100,748,203.09</td>\n",
       "      <td>10,518,878.50</td>\n",
       "    </tr>\n",
       "    <tr>\n",
       "      <th>2016</th>\n",
       "      <td>107,313,542.27</td>\n",
       "      <td>7,471,464.27</td>\n",
       "    </tr>\n",
       "    <tr>\n",
       "      <th>2017</th>\n",
       "      <td>141,580,809.90</td>\n",
       "      <td>11,031,012.00</td>\n",
       "    </tr>\n",
       "    <tr>\n",
       "      <th>2018</th>\n",
       "      <td>109,637,538.70</td>\n",
       "      <td>10,583,414.44</td>\n",
       "    </tr>\n",
       "    <tr>\n",
       "      <th>2019</th>\n",
       "      <td>96,651,914.92</td>\n",
       "      <td>5,192,182.20</td>\n",
       "    </tr>\n",
       "  </tbody>\n",
       "</table>\n",
       "</div>"
      ],
      "text/plain": [
       "                     mean        median\n",
       "year_start                             \n",
       "2010           846,015.00    846,015.00\n",
       "2011         4,300,278.33    860,810.00\n",
       "2012           743,232.86    470,427.00\n",
       "2013         4,469,740.62    930,412.30\n",
       "2014        76,702,188.76  1,819,529.00\n",
       "2015       100,748,203.09 10,518,878.50\n",
       "2016       107,313,542.27  7,471,464.27\n",
       "2017       141,580,809.90 11,031,012.00\n",
       "2018       109,637,538.70 10,583,414.44\n",
       "2019        96,651,914.92  5,192,182.20"
      ]
     },
     "execution_count": 59,
     "metadata": {},
     "output_type": "execute_result"
    }
   ],
   "source": [
    "v2.pivot_table(index='year_start', values='box_office', aggfunc=('mean', 'median'))"
   ]
  },
  {
   "cell_type": "markdown",
   "id": "b671f901",
   "metadata": {},
   "source": [
    "Средняя и медиана для варианта \"больше 1000\" до 2015 года выглядит неадекватно, во втором варианте более правдиво, но также до 2015 года данных очень мало. Судя по обоим вариантам можно сказать, что с точки зрения кассовых сборов наиболее адекватно оценивать период с 2015 по 2019 года. В обоих вариантах средняя и медиана кардинально отличаются начиная с 2015 года. Это означает что есть фильмы с очень высокими кассовыми сборами, но их не много.\n",
    "\n",
    "\n",
    "Теперь посмотрим, влияет ли возрастное ограничение аудитории («6+», «12+», «16+», «18+» и т. д.) на сборы фильма в прокате в период с 2015 по 2019 год? Фильмы с каким возрастным ограничением собрали больше всего денег в прокате? Меняется ли картина в зависимости от года? "
   ]
  },
  {
   "cell_type": "code",
   "execution_count": 60,
   "id": "479ef13c",
   "metadata": {},
   "outputs": [
    {
     "data": {
      "text/html": [
       "<div>\n",
       "<style scoped>\n",
       "    .dataframe tbody tr th:only-of-type {\n",
       "        vertical-align: middle;\n",
       "    }\n",
       "\n",
       "    .dataframe tbody tr th {\n",
       "        vertical-align: top;\n",
       "    }\n",
       "\n",
       "    .dataframe thead th {\n",
       "        text-align: right;\n",
       "    }\n",
       "</style>\n",
       "<table border=\"1\" class=\"dataframe\">\n",
       "  <thead>\n",
       "    <tr style=\"text-align: right;\">\n",
       "      <th>age_restriction</th>\n",
       "      <th>«0+» - для любой зрительской аудитории</th>\n",
       "      <th>«12+» - для детей старше 12 лет</th>\n",
       "      <th>«16+» - для детей старше 16 лет</th>\n",
       "      <th>«18+» - запрещено для детей</th>\n",
       "      <th>«6+» - для детей старше 6 лет</th>\n",
       "    </tr>\n",
       "    <tr>\n",
       "      <th>year_start</th>\n",
       "      <th></th>\n",
       "      <th></th>\n",
       "      <th></th>\n",
       "      <th></th>\n",
       "      <th></th>\n",
       "    </tr>\n",
       "  </thead>\n",
       "  <tbody>\n",
       "    <tr>\n",
       "      <th>2015</th>\n",
       "      <td>10,529,287.73</td>\n",
       "      <td>189,112,250.12</td>\n",
       "      <td>68,482,654.94</td>\n",
       "      <td>41,153,851.27</td>\n",
       "      <td>170,623,494.93</td>\n",
       "    </tr>\n",
       "    <tr>\n",
       "      <th>2016</th>\n",
       "      <td>3,852,009.20</td>\n",
       "      <td>148,834,713.71</td>\n",
       "      <td>92,580,823.57</td>\n",
       "      <td>45,292,861.46</td>\n",
       "      <td>185,432,975.82</td>\n",
       "    </tr>\n",
       "    <tr>\n",
       "      <th>2017</th>\n",
       "      <td>76,532,976.67</td>\n",
       "      <td>191,498,235.63</td>\n",
       "      <td>154,917,709.92</td>\n",
       "      <td>65,656,432.52</td>\n",
       "      <td>268,580,936.57</td>\n",
       "    </tr>\n",
       "    <tr>\n",
       "      <th>2018</th>\n",
       "      <td>6,489,800.42</td>\n",
       "      <td>212,944,651.65</td>\n",
       "      <td>105,792,322.74</td>\n",
       "      <td>48,939,025.15</td>\n",
       "      <td>148,602,567.99</td>\n",
       "    </tr>\n",
       "    <tr>\n",
       "      <th>2019</th>\n",
       "      <td>5,915,355.61</td>\n",
       "      <td>149,178,809.10</td>\n",
       "      <td>71,648,421.26</td>\n",
       "      <td>55,310,362.31</td>\n",
       "      <td>158,673,440.13</td>\n",
       "    </tr>\n",
       "  </tbody>\n",
       "</table>\n",
       "</div>"
      ],
      "text/plain": [
       "age_restriction  «0+» - для любой зрительской аудитории  \\\n",
       "year_start                                                \n",
       "2015                                      10,529,287.73   \n",
       "2016                                       3,852,009.20   \n",
       "2017                                      76,532,976.67   \n",
       "2018                                       6,489,800.42   \n",
       "2019                                       5,915,355.61   \n",
       "\n",
       "age_restriction  «12+» - для детей старше 12 лет  \\\n",
       "year_start                                         \n",
       "2015                              189,112,250.12   \n",
       "2016                              148,834,713.71   \n",
       "2017                              191,498,235.63   \n",
       "2018                              212,944,651.65   \n",
       "2019                              149,178,809.10   \n",
       "\n",
       "age_restriction  «16+» - для детей старше 16 лет  «18+» - запрещено для детей  \\\n",
       "year_start                                                                      \n",
       "2015                               68,482,654.94                41,153,851.27   \n",
       "2016                               92,580,823.57                45,292,861.46   \n",
       "2017                              154,917,709.92                65,656,432.52   \n",
       "2018                              105,792,322.74                48,939,025.15   \n",
       "2019                               71,648,421.26                55,310,362.31   \n",
       "\n",
       "age_restriction  «6+» - для детей старше 6 лет  \n",
       "year_start                                      \n",
       "2015                            170,623,494.93  \n",
       "2016                            185,432,975.82  \n",
       "2017                            268,580,936.57  \n",
       "2018                            148,602,567.99  \n",
       "2019                            158,673,440.13  "
      ]
     },
     "execution_count": 60,
     "metadata": {},
     "output_type": "execute_result"
    }
   ],
   "source": [
    "v1.query('year_start >2014').pivot_table(index='year_start', columns='age_restriction', values='box_office', aggfunc=('mean'))"
   ]
  },
  {
   "cell_type": "markdown",
   "id": "585f3e75",
   "metadata": {},
   "source": [
    "По таблице видно, что больше всего денег собирали фильмы 12+ и 6+ в разные года. За все года больше всего денег собрали фильмы 6+ в 2017 году. Практически во всех годах картина распределения одинаковая, 0+ потом 18+ потом 16+ потом 6+ или 12+.\n",
    "\n",
    "Теперь проверим изменится ли картина, если в выборке отанутся фильмы со сборами более 200 тыс."
   ]
  },
  {
   "cell_type": "code",
   "execution_count": 61,
   "id": "43660c96",
   "metadata": {},
   "outputs": [
    {
     "data": {
      "text/html": [
       "<div>\n",
       "<style scoped>\n",
       "    .dataframe tbody tr th:only-of-type {\n",
       "        vertical-align: middle;\n",
       "    }\n",
       "\n",
       "    .dataframe tbody tr th {\n",
       "        vertical-align: top;\n",
       "    }\n",
       "\n",
       "    .dataframe thead th {\n",
       "        text-align: right;\n",
       "    }\n",
       "</style>\n",
       "<table border=\"1\" class=\"dataframe\">\n",
       "  <thead>\n",
       "    <tr style=\"text-align: right;\">\n",
       "      <th>age_restriction</th>\n",
       "      <th>«0+» - для любой зрительской аудитории</th>\n",
       "      <th>«12+» - для детей старше 12 лет</th>\n",
       "      <th>«16+» - для детей старше 16 лет</th>\n",
       "      <th>«18+» - запрещено для детей</th>\n",
       "      <th>«6+» - для детей старше 6 лет</th>\n",
       "    </tr>\n",
       "    <tr>\n",
       "      <th>year_start</th>\n",
       "      <th></th>\n",
       "      <th></th>\n",
       "      <th></th>\n",
       "      <th></th>\n",
       "      <th></th>\n",
       "    </tr>\n",
       "  </thead>\n",
       "  <tbody>\n",
       "    <tr>\n",
       "      <th>2015</th>\n",
       "      <td>12,218,998.33</td>\n",
       "      <td>252,134,571.17</td>\n",
       "      <td>78,936,260.97</td>\n",
       "      <td>46,026,695.42</td>\n",
       "      <td>193,361,515.15</td>\n",
       "    </tr>\n",
       "    <tr>\n",
       "      <th>2016</th>\n",
       "      <td>4,986,812.42</td>\n",
       "      <td>184,903,957.87</td>\n",
       "      <td>106,131,622.60</td>\n",
       "      <td>49,585,381.00</td>\n",
       "      <td>215,227,005.66</td>\n",
       "    </tr>\n",
       "    <tr>\n",
       "      <th>2017</th>\n",
       "      <td>76,532,976.67</td>\n",
       "      <td>218,087,316.77</td>\n",
       "      <td>158,852,014.47</td>\n",
       "      <td>68,445,358.92</td>\n",
       "      <td>268,580,936.57</td>\n",
       "    </tr>\n",
       "    <tr>\n",
       "      <th>2018</th>\n",
       "      <td>8,085,255.78</td>\n",
       "      <td>241,805,111.55</td>\n",
       "      <td>110,017,748.55</td>\n",
       "      <td>50,926,311.18</td>\n",
       "      <td>148,602,567.99</td>\n",
       "    </tr>\n",
       "    <tr>\n",
       "      <th>2019</th>\n",
       "      <td>8,832,533.41</td>\n",
       "      <td>162,557,214.87</td>\n",
       "      <td>76,820,091.85</td>\n",
       "      <td>56,860,460.52</td>\n",
       "      <td>166,911,484.79</td>\n",
       "    </tr>\n",
       "  </tbody>\n",
       "</table>\n",
       "</div>"
      ],
      "text/plain": [
       "age_restriction  «0+» - для любой зрительской аудитории  \\\n",
       "year_start                                                \n",
       "2015                                      12,218,998.33   \n",
       "2016                                       4,986,812.42   \n",
       "2017                                      76,532,976.67   \n",
       "2018                                       8,085,255.78   \n",
       "2019                                       8,832,533.41   \n",
       "\n",
       "age_restriction  «12+» - для детей старше 12 лет  \\\n",
       "year_start                                         \n",
       "2015                              252,134,571.17   \n",
       "2016                              184,903,957.87   \n",
       "2017                              218,087,316.77   \n",
       "2018                              241,805,111.55   \n",
       "2019                              162,557,214.87   \n",
       "\n",
       "age_restriction  «16+» - для детей старше 16 лет  «18+» - запрещено для детей  \\\n",
       "year_start                                                                      \n",
       "2015                               78,936,260.97                46,026,695.42   \n",
       "2016                              106,131,622.60                49,585,381.00   \n",
       "2017                              158,852,014.47                68,445,358.92   \n",
       "2018                              110,017,748.55                50,926,311.18   \n",
       "2019                               76,820,091.85                56,860,460.52   \n",
       "\n",
       "age_restriction  «6+» - для детей старше 6 лет  \n",
       "year_start                                      \n",
       "2015                            193,361,515.15  \n",
       "2016                            215,227,005.66  \n",
       "2017                            268,580,936.57  \n",
       "2018                            148,602,567.99  \n",
       "2019                            166,911,484.79  "
      ]
     },
     "execution_count": 61,
     "metadata": {},
     "output_type": "execute_result"
    }
   ],
   "source": [
    "v2.query('year_start >2014').pivot_table(index='year_start', columns='age_restriction', values='box_office', aggfunc=('mean'))"
   ]
  },
  {
   "cell_type": "markdown",
   "id": "0c02245d",
   "metadata": {},
   "source": [
    "В выборке сборы более 200 тыс. картина идентична."
   ]
  },
  {
   "cell_type": "code",
   "execution_count": 62,
   "id": "32f4e7ab",
   "metadata": {},
   "outputs": [
    {
     "data": {
      "text/plain": [
       "«16+» - для детей старше 16 лет           801\n",
       "«18+» - запрещено для детей               791\n",
       "«12+» - для детей старше 12 лет           347\n",
       "«6+» - для детей старше 6 лет             310\n",
       "«0+» - для любой зрительской аудитории     86\n",
       "Name: age_restriction, dtype: int64"
      ]
     },
     "execution_count": 62,
     "metadata": {},
     "output_type": "execute_result"
    }
   ],
   "source": [
    "v1.query('year_start >2014')['age_restriction'].value_counts()#проверка предположения что 6+ и 12+ больше всего снято"
   ]
  },
  {
   "cell_type": "markdown",
   "id": "b290796e",
   "metadata": {},
   "source": [
    "В итоге, ответ на вопрос влияет ли категория фильма на сборы - однозначно да. Самые кассовые фильмы это 6+ и 12+. Вероятно это связано с тем, что в кино часто ходят всей семьей, т.е. с детьми, но и так чтобы было интересно взрослым."
   ]
  },
  {
   "cell_type": "markdown",
   "id": "58bca3b3",
   "metadata": {},
   "source": [
    "### Исследование фильмов с гос. поддержкой"
   ]
  },
  {
   "cell_type": "markdown",
   "id": "61d997bd",
   "metadata": {},
   "source": [
    "Сначала посмотрим какой категории фильмы снимаются с гос. поддержкой. Во время проверки данных, было решено что для анализа фильмов с гос. поддержкой правильно использовать строки, где колонка `budget` больше 0."
   ]
  },
  {
   "cell_type": "code",
   "execution_count": 63,
   "id": "4702f1ed",
   "metadata": {},
   "outputs": [
    {
     "data": {
      "text/plain": [
       "'4.5% составялет доля фильмов с государственной поддержкой от всех фильмов в базе'"
      ]
     },
     "metadata": {},
     "output_type": "display_data"
    },
    {
     "name": "stdout",
     "output_type": "stream",
     "text": [
      "<class 'pandas.core.frame.DataFrame'>\n",
      "Int64Index: 315 entries, 2280 to 6994\n",
      "Data columns (total 20 columns):\n",
      " #   Column                 Non-Null Count  Dtype              \n",
      "---  ------                 --------------  -----              \n",
      " 0   title                  315 non-null    object             \n",
      " 1   puNumber               315 non-null    object             \n",
      " 2   show_start_date        315 non-null    datetime64[ns, UTC]\n",
      " 3   type                   315 non-null    object             \n",
      " 4   film_studio            315 non-null    object             \n",
      " 5   production_country     315 non-null    object             \n",
      " 6   director               315 non-null    object             \n",
      " 7   producer               313 non-null    object             \n",
      " 8   age_restriction        315 non-null    object             \n",
      " 9   refundable_support     315 non-null    float64            \n",
      " 10  nonrefundable_support  315 non-null    float64            \n",
      " 11  budget                 315 non-null    float64            \n",
      " 12  financing_source       315 non-null    object             \n",
      " 13  ratings                298 non-null    float64            \n",
      " 14  genres                 315 non-null    object             \n",
      " 15  box_office             301 non-null    float64            \n",
      " 16  year_start             315 non-null    int64              \n",
      " 17  ratio                  315 non-null    float64            \n",
      " 18  main_director          315 non-null    object             \n",
      " 19  main_genres            315 non-null    object             \n",
      "dtypes: datetime64[ns, UTC](1), float64(6), int64(1), object(12)\n",
      "memory usage: 51.7+ KB\n"
     ]
    }
   ],
   "source": [
    "support = data.query('budget > 0')\n",
    "display (f'{(len(support)/len(data))*100}% составялет доля фильмов с государственной поддержкой от всех фильмов в базе')\n",
    "support.info()"
   ]
  },
  {
   "cell_type": "code",
   "execution_count": 64,
   "id": "1d284b0d",
   "metadata": {},
   "outputs": [
    {
     "data": {
      "text/html": [
       "<div>\n",
       "<style scoped>\n",
       "    .dataframe tbody tr th:only-of-type {\n",
       "        vertical-align: middle;\n",
       "    }\n",
       "\n",
       "    .dataframe tbody tr th {\n",
       "        vertical-align: top;\n",
       "    }\n",
       "\n",
       "    .dataframe thead tr th {\n",
       "        text-align: left;\n",
       "    }\n",
       "\n",
       "    .dataframe thead tr:last-of-type th {\n",
       "        text-align: right;\n",
       "    }\n",
       "</style>\n",
       "<table border=\"1\" class=\"dataframe\">\n",
       "  <thead>\n",
       "    <tr>\n",
       "      <th></th>\n",
       "      <th colspan=\"5\" halign=\"left\">count</th>\n",
       "      <th colspan=\"5\" halign=\"left\">mean</th>\n",
       "    </tr>\n",
       "    <tr>\n",
       "      <th>age_restriction</th>\n",
       "      <th>«0+» - для любой зрительской аудитории</th>\n",
       "      <th>«12+» - для детей старше 12 лет</th>\n",
       "      <th>«16+» - для детей старше 16 лет</th>\n",
       "      <th>«18+» - запрещено для детей</th>\n",
       "      <th>«6+» - для детей старше 6 лет</th>\n",
       "      <th>«0+» - для любой зрительской аудитории</th>\n",
       "      <th>«12+» - для детей старше 12 лет</th>\n",
       "      <th>«16+» - для детей старше 16 лет</th>\n",
       "      <th>«18+» - запрещено для детей</th>\n",
       "      <th>«6+» - для детей старше 6 лет</th>\n",
       "    </tr>\n",
       "    <tr>\n",
       "      <th>year_start</th>\n",
       "      <th></th>\n",
       "      <th></th>\n",
       "      <th></th>\n",
       "      <th></th>\n",
       "      <th></th>\n",
       "      <th></th>\n",
       "      <th></th>\n",
       "      <th></th>\n",
       "      <th></th>\n",
       "      <th></th>\n",
       "    </tr>\n",
       "  </thead>\n",
       "  <tbody>\n",
       "    <tr>\n",
       "      <th>2013</th>\n",
       "      <td>NaN</td>\n",
       "      <td>1.00</td>\n",
       "      <td>1.00</td>\n",
       "      <td>NaN</td>\n",
       "      <td>NaN</td>\n",
       "      <td>NaN</td>\n",
       "      <td>19,957,031.50</td>\n",
       "      <td>365,353.60</td>\n",
       "      <td>NaN</td>\n",
       "      <td>NaN</td>\n",
       "    </tr>\n",
       "    <tr>\n",
       "      <th>2014</th>\n",
       "      <td>2.00</td>\n",
       "      <td>5.00</td>\n",
       "      <td>5.00</td>\n",
       "      <td>2.00</td>\n",
       "      <td>1.00</td>\n",
       "      <td>172,867,328.25</td>\n",
       "      <td>89,583,329.82</td>\n",
       "      <td>533,484.00</td>\n",
       "      <td>44,821,895.55</td>\n",
       "      <td>121,225,633.80</td>\n",
       "    </tr>\n",
       "    <tr>\n",
       "      <th>2015</th>\n",
       "      <td>1.00</td>\n",
       "      <td>22.00</td>\n",
       "      <td>36.00</td>\n",
       "      <td>4.00</td>\n",
       "      <td>16.00</td>\n",
       "      <td>61,040.00</td>\n",
       "      <td>91,116,523.32</td>\n",
       "      <td>26,623,374.61</td>\n",
       "      <td>13,276,838.78</td>\n",
       "      <td>112,473,376.66</td>\n",
       "    </tr>\n",
       "    <tr>\n",
       "      <th>2016</th>\n",
       "      <td>1.00</td>\n",
       "      <td>22.00</td>\n",
       "      <td>20.00</td>\n",
       "      <td>3.00</td>\n",
       "      <td>11.00</td>\n",
       "      <td>658,870.00</td>\n",
       "      <td>80,163,129.48</td>\n",
       "      <td>59,356,373.74</td>\n",
       "      <td>366,639.17</td>\n",
       "      <td>182,295,386.91</td>\n",
       "    </tr>\n",
       "    <tr>\n",
       "      <th>2017</th>\n",
       "      <td>1.00</td>\n",
       "      <td>14.00</td>\n",
       "      <td>10.00</td>\n",
       "      <td>4.00</td>\n",
       "      <td>8.00</td>\n",
       "      <td>206,478,186.00</td>\n",
       "      <td>287,713,547.87</td>\n",
       "      <td>99,519,703.00</td>\n",
       "      <td>30,027,445.75</td>\n",
       "      <td>676,217,583.50</td>\n",
       "    </tr>\n",
       "    <tr>\n",
       "      <th>2018</th>\n",
       "      <td>NaN</td>\n",
       "      <td>18.00</td>\n",
       "      <td>18.00</td>\n",
       "      <td>9.00</td>\n",
       "      <td>7.00</td>\n",
       "      <td>NaN</td>\n",
       "      <td>326,885,402.43</td>\n",
       "      <td>109,376,596.07</td>\n",
       "      <td>10,516,678.60</td>\n",
       "      <td>224,327,314.38</td>\n",
       "    </tr>\n",
       "    <tr>\n",
       "      <th>2019</th>\n",
       "      <td>0.00</td>\n",
       "      <td>15.00</td>\n",
       "      <td>23.00</td>\n",
       "      <td>5.00</td>\n",
       "      <td>16.00</td>\n",
       "      <td>NaN</td>\n",
       "      <td>303,983,596.06</td>\n",
       "      <td>69,703,628.57</td>\n",
       "      <td>39,918,007.50</td>\n",
       "      <td>118,718,324.53</td>\n",
       "    </tr>\n",
       "  </tbody>\n",
       "</table>\n",
       "</div>"
      ],
      "text/plain": [
       "                                                 count  \\\n",
       "age_restriction «0+» - для любой зрительской аудитории   \n",
       "year_start                                               \n",
       "2013                                               NaN   \n",
       "2014                                              2.00   \n",
       "2015                                              1.00   \n",
       "2016                                              1.00   \n",
       "2017                                              1.00   \n",
       "2018                                               NaN   \n",
       "2019                                              0.00   \n",
       "\n",
       "                                                 \\\n",
       "age_restriction «12+» - для детей старше 12 лет   \n",
       "year_start                                        \n",
       "2013                                       1.00   \n",
       "2014                                       5.00   \n",
       "2015                                      22.00   \n",
       "2016                                      22.00   \n",
       "2017                                      14.00   \n",
       "2018                                      18.00   \n",
       "2019                                      15.00   \n",
       "\n",
       "                                                                             \\\n",
       "age_restriction «16+» - для детей старше 16 лет «18+» - запрещено для детей   \n",
       "year_start                                                                    \n",
       "2013                                       1.00                         NaN   \n",
       "2014                                       5.00                        2.00   \n",
       "2015                                      36.00                        4.00   \n",
       "2016                                      20.00                        3.00   \n",
       "2017                                      10.00                        4.00   \n",
       "2018                                      18.00                        9.00   \n",
       "2019                                      23.00                        5.00   \n",
       "\n",
       "                                               \\\n",
       "age_restriction «6+» - для детей старше 6 лет   \n",
       "year_start                                      \n",
       "2013                                      NaN   \n",
       "2014                                     1.00   \n",
       "2015                                    16.00   \n",
       "2016                                    11.00   \n",
       "2017                                     8.00   \n",
       "2018                                     7.00   \n",
       "2019                                    16.00   \n",
       "\n",
       "                                                  mean  \\\n",
       "age_restriction «0+» - для любой зрительской аудитории   \n",
       "year_start                                               \n",
       "2013                                               NaN   \n",
       "2014                                    172,867,328.25   \n",
       "2015                                         61,040.00   \n",
       "2016                                        658,870.00   \n",
       "2017                                    206,478,186.00   \n",
       "2018                                               NaN   \n",
       "2019                                               NaN   \n",
       "\n",
       "                                                 \\\n",
       "age_restriction «12+» - для детей старше 12 лет   \n",
       "year_start                                        \n",
       "2013                              19,957,031.50   \n",
       "2014                              89,583,329.82   \n",
       "2015                              91,116,523.32   \n",
       "2016                              80,163,129.48   \n",
       "2017                             287,713,547.87   \n",
       "2018                             326,885,402.43   \n",
       "2019                             303,983,596.06   \n",
       "\n",
       "                                                                             \\\n",
       "age_restriction «16+» - для детей старше 16 лет «18+» - запрещено для детей   \n",
       "year_start                                                                    \n",
       "2013                                 365,353.60                         NaN   \n",
       "2014                                 533,484.00               44,821,895.55   \n",
       "2015                              26,623,374.61               13,276,838.78   \n",
       "2016                              59,356,373.74                  366,639.17   \n",
       "2017                              99,519,703.00               30,027,445.75   \n",
       "2018                             109,376,596.07               10,516,678.60   \n",
       "2019                              69,703,628.57               39,918,007.50   \n",
       "\n",
       "                                               \n",
       "age_restriction «6+» - для детей старше 6 лет  \n",
       "year_start                                     \n",
       "2013                                      NaN  \n",
       "2014                           121,225,633.80  \n",
       "2015                           112,473,376.66  \n",
       "2016                           182,295,386.91  \n",
       "2017                           676,217,583.50  \n",
       "2018                           224,327,314.38  \n",
       "2019                           118,718,324.53  "
      ]
     },
     "execution_count": 64,
     "metadata": {},
     "output_type": "execute_result"
    }
   ],
   "source": [
    "support.pivot_table(index='year_start', columns='age_restriction', values='box_office', aggfunc=('mean', 'count'))"
   ]
  },
  {
   "cell_type": "markdown",
   "id": "40a2f699",
   "metadata": {},
   "source": [
    "По таблице видно, что активнее всего с поддержкой снимают фильмы 12+ и 16+. Из них самые кассовые в 2015-2017 годах это 6+, а в 2018 и 2019 это 12+."
   ]
  },
  {
   "cell_type": "code",
   "execution_count": 65,
   "id": "7f851c68",
   "metadata": {},
   "outputs": [
    {
     "data": {
      "text/html": [
       "<div>\n",
       "<style scoped>\n",
       "    .dataframe tbody tr th:only-of-type {\n",
       "        vertical-align: middle;\n",
       "    }\n",
       "\n",
       "    .dataframe tbody tr th {\n",
       "        vertical-align: top;\n",
       "    }\n",
       "\n",
       "    .dataframe thead tr th {\n",
       "        text-align: left;\n",
       "    }\n",
       "\n",
       "    .dataframe thead tr:last-of-type th {\n",
       "        text-align: right;\n",
       "    }\n",
       "</style>\n",
       "<table border=\"1\" class=\"dataframe\">\n",
       "  <thead>\n",
       "    <tr>\n",
       "      <th></th>\n",
       "      <th colspan=\"3\" halign=\"left\">all_support</th>\n",
       "      <th colspan=\"3\" halign=\"left\">nonrefundable_support</th>\n",
       "      <th colspan=\"3\" halign=\"left\">refundable_support</th>\n",
       "    </tr>\n",
       "    <tr>\n",
       "      <th></th>\n",
       "      <th>count</th>\n",
       "      <th>mean</th>\n",
       "      <th>sum</th>\n",
       "      <th>count</th>\n",
       "      <th>mean</th>\n",
       "      <th>sum</th>\n",
       "      <th>count</th>\n",
       "      <th>mean</th>\n",
       "      <th>sum</th>\n",
       "    </tr>\n",
       "    <tr>\n",
       "      <th>year_start</th>\n",
       "      <th></th>\n",
       "      <th></th>\n",
       "      <th></th>\n",
       "      <th></th>\n",
       "      <th></th>\n",
       "      <th></th>\n",
       "      <th></th>\n",
       "      <th></th>\n",
       "      <th></th>\n",
       "    </tr>\n",
       "  </thead>\n",
       "  <tbody>\n",
       "    <tr>\n",
       "      <th>2013</th>\n",
       "      <td>2</td>\n",
       "      <td>67,173,972.50</td>\n",
       "      <td>134,347,945.00</td>\n",
       "      <td>2</td>\n",
       "      <td>67,173,972.50</td>\n",
       "      <td>134,347,945.00</td>\n",
       "      <td>2</td>\n",
       "      <td>0.00</td>\n",
       "      <td>0.00</td>\n",
       "    </tr>\n",
       "    <tr>\n",
       "      <th>2014</th>\n",
       "      <td>15</td>\n",
       "      <td>36,600,153.27</td>\n",
       "      <td>549,002,299.00</td>\n",
       "      <td>15</td>\n",
       "      <td>31,866,819.93</td>\n",
       "      <td>478,002,299.00</td>\n",
       "      <td>15</td>\n",
       "      <td>4,733,333.33</td>\n",
       "      <td>71,000,000.00</td>\n",
       "    </tr>\n",
       "    <tr>\n",
       "      <th>2015</th>\n",
       "      <td>80</td>\n",
       "      <td>40,340,518.24</td>\n",
       "      <td>3,227,241,459.00</td>\n",
       "      <td>80</td>\n",
       "      <td>33,501,104.25</td>\n",
       "      <td>2,680,088,340.00</td>\n",
       "      <td>80</td>\n",
       "      <td>6,839,413.99</td>\n",
       "      <td>547,153,119.00</td>\n",
       "    </tr>\n",
       "    <tr>\n",
       "      <th>2016</th>\n",
       "      <td>58</td>\n",
       "      <td>68,571,646.24</td>\n",
       "      <td>3,977,155,482.00</td>\n",
       "      <td>58</td>\n",
       "      <td>53,011,301.41</td>\n",
       "      <td>3,074,655,482.00</td>\n",
       "      <td>58</td>\n",
       "      <td>15,560,344.83</td>\n",
       "      <td>902,500,000.00</td>\n",
       "    </tr>\n",
       "    <tr>\n",
       "      <th>2017</th>\n",
       "      <td>39</td>\n",
       "      <td>79,460,811.85</td>\n",
       "      <td>3,098,971,662.00</td>\n",
       "      <td>39</td>\n",
       "      <td>62,169,866.18</td>\n",
       "      <td>2,424,624,781.00</td>\n",
       "      <td>39</td>\n",
       "      <td>17,290,945.67</td>\n",
       "      <td>674,346,881.00</td>\n",
       "    </tr>\n",
       "    <tr>\n",
       "      <th>2018</th>\n",
       "      <td>52</td>\n",
       "      <td>59,576,923.08</td>\n",
       "      <td>3,098,000,000.00</td>\n",
       "      <td>52</td>\n",
       "      <td>48,192,307.69</td>\n",
       "      <td>2,506,000,000.00</td>\n",
       "      <td>52</td>\n",
       "      <td>11,384,615.38</td>\n",
       "      <td>592,000,000.00</td>\n",
       "    </tr>\n",
       "    <tr>\n",
       "      <th>2019</th>\n",
       "      <td>69</td>\n",
       "      <td>68,463,768.12</td>\n",
       "      <td>4,724,000,000.00</td>\n",
       "      <td>69</td>\n",
       "      <td>55,884,057.97</td>\n",
       "      <td>3,856,000,000.00</td>\n",
       "      <td>69</td>\n",
       "      <td>12,579,710.14</td>\n",
       "      <td>868,000,000.00</td>\n",
       "    </tr>\n",
       "  </tbody>\n",
       "</table>\n",
       "</div>"
      ],
      "text/plain": [
       "           all_support                                nonrefundable_support  \\\n",
       "                 count          mean              sum                 count   \n",
       "year_start                                                                    \n",
       "2013                 2 67,173,972.50   134,347,945.00                     2   \n",
       "2014                15 36,600,153.27   549,002,299.00                    15   \n",
       "2015                80 40,340,518.24 3,227,241,459.00                    80   \n",
       "2016                58 68,571,646.24 3,977,155,482.00                    58   \n",
       "2017                39 79,460,811.85 3,098,971,662.00                    39   \n",
       "2018                52 59,576,923.08 3,098,000,000.00                    52   \n",
       "2019                69 68,463,768.12 4,724,000,000.00                    69   \n",
       "\n",
       "                                          refundable_support                \\\n",
       "                    mean              sum              count          mean   \n",
       "year_start                                                                   \n",
       "2013       67,173,972.50   134,347,945.00                  2          0.00   \n",
       "2014       31,866,819.93   478,002,299.00                 15  4,733,333.33   \n",
       "2015       33,501,104.25 2,680,088,340.00                 80  6,839,413.99   \n",
       "2016       53,011,301.41 3,074,655,482.00                 58 15,560,344.83   \n",
       "2017       62,169,866.18 2,424,624,781.00                 39 17,290,945.67   \n",
       "2018       48,192,307.69 2,506,000,000.00                 52 11,384,615.38   \n",
       "2019       55,884,057.97 3,856,000,000.00                 69 12,579,710.14   \n",
       "\n",
       "                           \n",
       "                      sum  \n",
       "year_start                 \n",
       "2013                 0.00  \n",
       "2014        71,000,000.00  \n",
       "2015       547,153,119.00  \n",
       "2016       902,500,000.00  \n",
       "2017       674,346,881.00  \n",
       "2018       592,000,000.00  \n",
       "2019       868,000,000.00  "
      ]
     },
     "execution_count": 65,
     "metadata": {},
     "output_type": "execute_result"
    }
   ],
   "source": [
    "support['all_support'] = support['refundable_support']+support['nonrefundable_support']\n",
    "support.pivot_table(index='year_start', values=('refundable_support','nonrefundable_support', 'all_support'),\n",
    "                    aggfunc=('mean', 'count', 'sum'))"
   ]
  },
  {
   "cell_type": "markdown",
   "id": "cbec6fbc",
   "metadata": {},
   "source": [
    "Больше всего фильмов с поддержкой вышло в 2015 году - 80. Средние вложения в один фильм возвратные растут до 2017 года, потом снижаются в 2018 и растут в 2019. Средние вложения не возвратные также растут до 2017 года, потом падают в 2018 и растут в 2019 (исключая 2013 год). Общие суммы поддержки с 2015 по 2018 год изменяются незначительно."
   ]
  },
  {
   "cell_type": "code",
   "execution_count": 66,
   "id": "615553c1",
   "metadata": {},
   "outputs": [
    {
     "data": {
      "text/html": [
       "<div>\n",
       "<style scoped>\n",
       "    .dataframe tbody tr th:only-of-type {\n",
       "        vertical-align: middle;\n",
       "    }\n",
       "\n",
       "    .dataframe tbody tr th {\n",
       "        vertical-align: top;\n",
       "    }\n",
       "\n",
       "    .dataframe thead tr th {\n",
       "        text-align: left;\n",
       "    }\n",
       "\n",
       "    .dataframe thead tr:last-of-type th {\n",
       "        text-align: right;\n",
       "    }\n",
       "</style>\n",
       "<table border=\"1\" class=\"dataframe\">\n",
       "  <thead>\n",
       "    <tr>\n",
       "      <th></th>\n",
       "      <th colspan=\"3\" halign=\"left\">all_support</th>\n",
       "      <th colspan=\"3\" halign=\"left\">nonrefundable_support</th>\n",
       "      <th colspan=\"3\" halign=\"left\">refundable_support</th>\n",
       "    </tr>\n",
       "    <tr>\n",
       "      <th></th>\n",
       "      <th>count</th>\n",
       "      <th>mean</th>\n",
       "      <th>sum</th>\n",
       "      <th>count</th>\n",
       "      <th>mean</th>\n",
       "      <th>sum</th>\n",
       "      <th>count</th>\n",
       "      <th>mean</th>\n",
       "      <th>sum</th>\n",
       "    </tr>\n",
       "    <tr>\n",
       "      <th>financing_source</th>\n",
       "      <th></th>\n",
       "      <th></th>\n",
       "      <th></th>\n",
       "      <th></th>\n",
       "      <th></th>\n",
       "      <th></th>\n",
       "      <th></th>\n",
       "      <th></th>\n",
       "      <th></th>\n",
       "    </tr>\n",
       "  </thead>\n",
       "  <tbody>\n",
       "    <tr>\n",
       "      <th>министерство культуры</th>\n",
       "      <td>163</td>\n",
       "      <td>29,635,957.06</td>\n",
       "      <td>4,830,661,000.00</td>\n",
       "      <td>163</td>\n",
       "      <td>29,635,957.06</td>\n",
       "      <td>4,830,661,000.00</td>\n",
       "      <td>163</td>\n",
       "      <td>0.00</td>\n",
       "      <td>0.00</td>\n",
       "    </tr>\n",
       "    <tr>\n",
       "      <th>министерство культуры, фонд кино</th>\n",
       "      <td>21</td>\n",
       "      <td>55,353,874.00</td>\n",
       "      <td>1,162,431,354.00</td>\n",
       "      <td>21</td>\n",
       "      <td>39,853,874.00</td>\n",
       "      <td>836,931,354.00</td>\n",
       "      <td>21</td>\n",
       "      <td>15,500,000.00</td>\n",
       "      <td>325,500,000.00</td>\n",
       "    </tr>\n",
       "    <tr>\n",
       "      <th>фонд кино</th>\n",
       "      <td>131</td>\n",
       "      <td>97,829,209.87</td>\n",
       "      <td>12,815,626,493.00</td>\n",
       "      <td>131</td>\n",
       "      <td>72,413,179.34</td>\n",
       "      <td>9,486,126,493.00</td>\n",
       "      <td>131</td>\n",
       "      <td>25,416,030.53</td>\n",
       "      <td>3,329,500,000.00</td>\n",
       "    </tr>\n",
       "  </tbody>\n",
       "</table>\n",
       "</div>"
      ],
      "text/plain": [
       "                                 all_support                                  \\\n",
       "                                       count          mean               sum   \n",
       "financing_source                                                               \n",
       "министерство культуры                    163 29,635,957.06  4,830,661,000.00   \n",
       "министерство культуры, фонд кино          21 55,353,874.00  1,162,431,354.00   \n",
       "фонд кино                                131 97,829,209.87 12,815,626,493.00   \n",
       "\n",
       "                                 nonrefundable_support                \\\n",
       "                                                 count          mean   \n",
       "financing_source                                                       \n",
       "министерство культуры                              163 29,635,957.06   \n",
       "министерство культуры, фонд кино                    21 39,853,874.00   \n",
       "фонд кино                                          131 72,413,179.34   \n",
       "\n",
       "                                                  refundable_support  \\\n",
       "                                              sum              count   \n",
       "financing_source                                                       \n",
       "министерство культуры            4,830,661,000.00                163   \n",
       "министерство культуры, фонд кино   836,931,354.00                 21   \n",
       "фонд кино                        9,486,126,493.00                131   \n",
       "\n",
       "                                                                 \n",
       "                                          mean              sum  \n",
       "financing_source                                                 \n",
       "министерство культуры                     0.00             0.00  \n",
       "министерство культуры, фонд кино 15,500,000.00   325,500,000.00  \n",
       "фонд кино                        25,416,030.53 3,329,500,000.00  "
      ]
     },
     "execution_count": 66,
     "metadata": {},
     "output_type": "execute_result"
    }
   ],
   "source": [
    "support.pivot_table(index='financing_source', values=('refundable_support','nonrefundable_support', 'all_support'),\n",
    "                    aggfunc=('mean', 'count', 'sum'))"
   ]
  },
  {
   "cell_type": "markdown",
   "id": "f07b7363",
   "metadata": {},
   "source": [
    "Источников государственного финансирования 2: министерство культуры и фонд кино. Министерство культуры вложилось в 163 фильма, а фонд кино в 131, но при этом фонд кино вложил в 3 раза больше денег."
   ]
  },
  {
   "cell_type": "code",
   "execution_count": 67,
   "id": "f4bba3ab",
   "metadata": {},
   "outputs": [
    {
     "data": {
      "text/html": [
       "<div>\n",
       "<style scoped>\n",
       "    .dataframe tbody tr th:only-of-type {\n",
       "        vertical-align: middle;\n",
       "    }\n",
       "\n",
       "    .dataframe tbody tr th {\n",
       "        vertical-align: top;\n",
       "    }\n",
       "\n",
       "    .dataframe thead th {\n",
       "        text-align: right;\n",
       "    }\n",
       "</style>\n",
       "<table border=\"1\" class=\"dataframe\">\n",
       "  <thead>\n",
       "    <tr style=\"text-align: right;\">\n",
       "      <th></th>\n",
       "      <th>ratio</th>\n",
       "    </tr>\n",
       "    <tr>\n",
       "      <th>year_start</th>\n",
       "      <th></th>\n",
       "    </tr>\n",
       "  </thead>\n",
       "  <tbody>\n",
       "    <tr>\n",
       "      <th>2013</th>\n",
       "      <td>0.47</td>\n",
       "    </tr>\n",
       "    <tr>\n",
       "      <th>2017</th>\n",
       "      <td>0.48</td>\n",
       "    </tr>\n",
       "    <tr>\n",
       "      <th>2019</th>\n",
       "      <td>0.50</td>\n",
       "    </tr>\n",
       "    <tr>\n",
       "      <th>2018</th>\n",
       "      <td>0.51</td>\n",
       "    </tr>\n",
       "    <tr>\n",
       "      <th>2014</th>\n",
       "      <td>0.52</td>\n",
       "    </tr>\n",
       "    <tr>\n",
       "      <th>2015</th>\n",
       "      <td>0.53</td>\n",
       "    </tr>\n",
       "    <tr>\n",
       "      <th>2016</th>\n",
       "      <td>0.55</td>\n",
       "    </tr>\n",
       "  </tbody>\n",
       "</table>\n",
       "</div>"
      ],
      "text/plain": [
       "            ratio\n",
       "year_start       \n",
       "2013         0.47\n",
       "2017         0.48\n",
       "2019         0.50\n",
       "2018         0.51\n",
       "2014         0.52\n",
       "2015         0.53\n",
       "2016         0.55"
      ]
     },
     "execution_count": 67,
     "metadata": {},
     "output_type": "execute_result"
    }
   ],
   "source": [
    "support.pivot_table(index='year_start', values='ratio', aggfunc=('mean')).sort_values(by='ratio')"
   ]
  },
  {
   "cell_type": "markdown",
   "id": "26b295d5",
   "metadata": {},
   "source": [
    "В основном доля гос поддержки составляет 50%."
   ]
  },
  {
   "cell_type": "code",
   "execution_count": 68,
   "id": "d6df954e",
   "metadata": {},
   "outputs": [
    {
     "data": {
      "text/html": [
       "<div>\n",
       "<style scoped>\n",
       "    .dataframe tbody tr th:only-of-type {\n",
       "        vertical-align: middle;\n",
       "    }\n",
       "\n",
       "    .dataframe tbody tr th {\n",
       "        vertical-align: top;\n",
       "    }\n",
       "\n",
       "    .dataframe thead th {\n",
       "        text-align: right;\n",
       "    }\n",
       "</style>\n",
       "<table border=\"1\" class=\"dataframe\">\n",
       "  <thead>\n",
       "    <tr style=\"text-align: right;\">\n",
       "      <th></th>\n",
       "      <th>title</th>\n",
       "      <th>puNumber</th>\n",
       "      <th>show_start_date</th>\n",
       "      <th>type</th>\n",
       "      <th>film_studio</th>\n",
       "      <th>production_country</th>\n",
       "      <th>director</th>\n",
       "      <th>producer</th>\n",
       "      <th>age_restriction</th>\n",
       "      <th>refundable_support</th>\n",
       "      <th>...</th>\n",
       "      <th>financing_source</th>\n",
       "      <th>ratings</th>\n",
       "      <th>genres</th>\n",
       "      <th>box_office</th>\n",
       "      <th>year_start</th>\n",
       "      <th>ratio</th>\n",
       "      <th>main_director</th>\n",
       "      <th>main_genres</th>\n",
       "      <th>all_support</th>\n",
       "      <th>payback</th>\n",
       "    </tr>\n",
       "  </thead>\n",
       "  <tbody>\n",
       "    <tr>\n",
       "      <th>6975</th>\n",
       "      <td>холоп</td>\n",
       "      <td>111021719</td>\n",
       "      <td>2019-12-19 12:00:00+00:00</td>\n",
       "      <td>художественный</td>\n",
       "      <td>ооо \"мем-медиа\" по заказу ао \"вбд груп\"</td>\n",
       "      <td>россия</td>\n",
       "      <td>к.шипенко</td>\n",
       "      <td>э.илоян, д.жалинский, в.дусмухаметов, т.бадзие...</td>\n",
       "      <td>«12+» - для детей старше 12 лет</td>\n",
       "      <td>25,000,000.00</td>\n",
       "      <td>...</td>\n",
       "      <td>фонд кино</td>\n",
       "      <td>6.80</td>\n",
       "      <td>комедия</td>\n",
       "      <td>3,073,568,690.79</td>\n",
       "      <td>2019</td>\n",
       "      <td>0.38</td>\n",
       "      <td>к.шипенко</td>\n",
       "      <td>комедия</td>\n",
       "      <td>60,000,000.00</td>\n",
       "      <td>18.21</td>\n",
       "    </tr>\n",
       "    <tr>\n",
       "      <th>5212</th>\n",
       "      <td>лёд</td>\n",
       "      <td>111000518</td>\n",
       "      <td>2018-02-01 12:00:00+00:00</td>\n",
       "      <td>художественный</td>\n",
       "      <td>ооо \"водород 2011\", ооо \"арт пикчерс студия\", ...</td>\n",
       "      <td>россия</td>\n",
       "      <td>о.трофим</td>\n",
       "      <td>м.врубель, а.андрющенко, ф.бондарчук, д.рудовс...</td>\n",
       "      <td>«12+» - для детей старше 12 лет</td>\n",
       "      <td>25,000,000.00</td>\n",
       "      <td>...</td>\n",
       "      <td>фонд кино</td>\n",
       "      <td>NaN</td>\n",
       "      <td>nan</td>\n",
       "      <td>1,445,731,797.89</td>\n",
       "      <td>2018</td>\n",
       "      <td>0.57</td>\n",
       "      <td>о.трофим</td>\n",
       "      <td>nan</td>\n",
       "      <td>85,000,000.00</td>\n",
       "      <td>8.73</td>\n",
       "    </tr>\n",
       "    <tr>\n",
       "      <th>5268</th>\n",
       "      <td>я худею</td>\n",
       "      <td>111001618</td>\n",
       "      <td>2018-03-07 12:00:00+00:00</td>\n",
       "      <td>художественный</td>\n",
       "      <td>ооо \"друг друга\", ооо \"ди пи джи\"</td>\n",
       "      <td>россия</td>\n",
       "      <td>а.черномазов (псевдоним алексей нужный)</td>\n",
       "      <td>с.корнихин, н.куликов, а.черномазов, а.кремер,...</td>\n",
       "      <td>«16+» - для детей старше 16 лет</td>\n",
       "      <td>0.00</td>\n",
       "      <td>...</td>\n",
       "      <td>министерство культуры</td>\n",
       "      <td>6.90</td>\n",
       "      <td>комедия</td>\n",
       "      <td>633,462,266.74</td>\n",
       "      <td>2018</td>\n",
       "      <td>0.34</td>\n",
       "      <td>а.черномазов (псевдоним алексей нужный)</td>\n",
       "      <td>комедия</td>\n",
       "      <td>30,000,000.00</td>\n",
       "      <td>6.23</td>\n",
       "    </tr>\n",
       "    <tr>\n",
       "      <th>4642</th>\n",
       "      <td>гуляй, вася !</td>\n",
       "      <td>111018216</td>\n",
       "      <td>2016-12-20 12:00:00+00:00</td>\n",
       "      <td>художественный</td>\n",
       "      <td>ооо кинокомпания \"инвада фильм\", ао \"вбд груп\"</td>\n",
       "      <td>россия</td>\n",
       "      <td>р.каримов</td>\n",
       "      <td>а.новиков, а.котелевский, э.илоян, д.жалинский...</td>\n",
       "      <td>«16+» - для детей старше 16 лет</td>\n",
       "      <td>0.00</td>\n",
       "      <td>...</td>\n",
       "      <td>министерство культуры</td>\n",
       "      <td>6.50</td>\n",
       "      <td>комедия</td>\n",
       "      <td>259,099,078.00</td>\n",
       "      <td>2016</td>\n",
       "      <td>0.65</td>\n",
       "      <td>р.каримов</td>\n",
       "      <td>комедия</td>\n",
       "      <td>25,345,000.00</td>\n",
       "      <td>5.64</td>\n",
       "    </tr>\n",
       "    <tr>\n",
       "      <th>3827</th>\n",
       "      <td>самый лучший день</td>\n",
       "      <td>111017815</td>\n",
       "      <td>2015-10-14 12:00:00+00:00</td>\n",
       "      <td>художественный</td>\n",
       "      <td>ооо \"таббак\"</td>\n",
       "      <td>россия</td>\n",
       "      <td>а.першин (псевдоним ж.крыжовников)</td>\n",
       "      <td>т.бекмамбетов, а.першин (псевдоним ж.крыжовник...</td>\n",
       "      <td>«16+» - для детей старше 16 лет</td>\n",
       "      <td>29,000,000.00</td>\n",
       "      <td>...</td>\n",
       "      <td>фонд кино</td>\n",
       "      <td>4.70</td>\n",
       "      <td>комедия,музыка</td>\n",
       "      <td>683,029,061.40</td>\n",
       "      <td>2015</td>\n",
       "      <td>0.48</td>\n",
       "      <td>а.першин (псевдоним ж.крыжовников)</td>\n",
       "      <td>комедия</td>\n",
       "      <td>63,000,000.00</td>\n",
       "      <td>4.23</td>\n",
       "    </tr>\n",
       "  </tbody>\n",
       "</table>\n",
       "<p>5 rows × 22 columns</p>\n",
       "</div>"
      ],
      "text/plain": [
       "                  title   puNumber           show_start_date            type  \\\n",
       "6975              холоп  111021719 2019-12-19 12:00:00+00:00  художественный   \n",
       "5212                лёд  111000518 2018-02-01 12:00:00+00:00  художественный   \n",
       "5268            я худею  111001618 2018-03-07 12:00:00+00:00  художественный   \n",
       "4642      гуляй, вася !  111018216 2016-12-20 12:00:00+00:00  художественный   \n",
       "3827  самый лучший день  111017815 2015-10-14 12:00:00+00:00  художественный   \n",
       "\n",
       "                                            film_studio production_country  \\\n",
       "6975            ооо \"мем-медиа\" по заказу ао \"вбд груп\"             россия   \n",
       "5212  ооо \"водород 2011\", ооо \"арт пикчерс студия\", ...             россия   \n",
       "5268                  ооо \"друг друга\", ооо \"ди пи джи\"             россия   \n",
       "4642     ооо кинокомпания \"инвада фильм\", ао \"вбд груп\"             россия   \n",
       "3827                                       ооо \"таббак\"             россия   \n",
       "\n",
       "                                     director  \\\n",
       "6975                                к.шипенко   \n",
       "5212                                 о.трофим   \n",
       "5268  а.черномазов (псевдоним алексей нужный)   \n",
       "4642                                р.каримов   \n",
       "3827       а.першин (псевдоним ж.крыжовников)   \n",
       "\n",
       "                                               producer  \\\n",
       "6975  э.илоян, д.жалинский, в.дусмухаметов, т.бадзие...   \n",
       "5212  м.врубель, а.андрющенко, ф.бондарчук, д.рудовс...   \n",
       "5268  с.корнихин, н.куликов, а.черномазов, а.кремер,...   \n",
       "4642  а.новиков, а.котелевский, э.илоян, д.жалинский...   \n",
       "3827  т.бекмамбетов, а.першин (псевдоним ж.крыжовник...   \n",
       "\n",
       "                      age_restriction  refundable_support  ...  \\\n",
       "6975  «12+» - для детей старше 12 лет       25,000,000.00  ...   \n",
       "5212  «12+» - для детей старше 12 лет       25,000,000.00  ...   \n",
       "5268  «16+» - для детей старше 16 лет                0.00  ...   \n",
       "4642  «16+» - для детей старше 16 лет                0.00  ...   \n",
       "3827  «16+» - для детей старше 16 лет       29,000,000.00  ...   \n",
       "\n",
       "           financing_source  ratings          genres       box_office  \\\n",
       "6975              фонд кино     6.80         комедия 3,073,568,690.79   \n",
       "5212              фонд кино      NaN             nan 1,445,731,797.89   \n",
       "5268  министерство культуры     6.90         комедия   633,462,266.74   \n",
       "4642  министерство культуры     6.50         комедия   259,099,078.00   \n",
       "3827              фонд кино     4.70  комедия,музыка   683,029,061.40   \n",
       "\n",
       "     year_start  ratio                            main_director  main_genres  \\\n",
       "6975       2019   0.38                                к.шипенко      комедия   \n",
       "5212       2018   0.57                                 о.трофим          nan   \n",
       "5268       2018   0.34  а.черномазов (псевдоним алексей нужный)      комедия   \n",
       "4642       2016   0.65                                р.каримов      комедия   \n",
       "3827       2015   0.48       а.першин (псевдоним ж.крыжовников)      комедия   \n",
       "\n",
       "       all_support payback  \n",
       "6975 60,000,000.00   18.21  \n",
       "5212 85,000,000.00    8.73  \n",
       "5268 30,000,000.00    6.23  \n",
       "4642 25,345,000.00    5.64  \n",
       "3827 63,000,000.00    4.23  \n",
       "\n",
       "[5 rows x 22 columns]"
      ]
     },
     "execution_count": 68,
     "metadata": {},
     "output_type": "execute_result"
    }
   ],
   "source": [
    "support['payback'] = (support['box_office'] - support['budget'])/support['budget']\n",
    "support.sort_values(by='payback', ascending=False).head()"
   ]
  },
  {
   "cell_type": "markdown",
   "id": "a03fd08c",
   "metadata": {},
   "source": [
    "Топ - 5 окупившихся фильмов это: \"Холоп\", \"Лед\", \"Я худею\", \"Гуляй, Вася!\", \"Самый лучший день\"."
   ]
  },
  {
   "cell_type": "code",
   "execution_count": 69,
   "id": "c565bdca",
   "metadata": {},
   "outputs": [
    {
     "data": {
      "text/html": [
       "<div>\n",
       "<style scoped>\n",
       "    .dataframe tbody tr th:only-of-type {\n",
       "        vertical-align: middle;\n",
       "    }\n",
       "\n",
       "    .dataframe tbody tr th {\n",
       "        vertical-align: top;\n",
       "    }\n",
       "\n",
       "    .dataframe thead th {\n",
       "        text-align: right;\n",
       "    }\n",
       "</style>\n",
       "<table border=\"1\" class=\"dataframe\">\n",
       "  <thead>\n",
       "    <tr style=\"text-align: right;\">\n",
       "      <th></th>\n",
       "      <th>title</th>\n",
       "      <th>puNumber</th>\n",
       "      <th>show_start_date</th>\n",
       "      <th>type</th>\n",
       "      <th>film_studio</th>\n",
       "      <th>production_country</th>\n",
       "      <th>director</th>\n",
       "      <th>producer</th>\n",
       "      <th>age_restriction</th>\n",
       "      <th>refundable_support</th>\n",
       "      <th>...</th>\n",
       "      <th>financing_source</th>\n",
       "      <th>ratings</th>\n",
       "      <th>genres</th>\n",
       "      <th>box_office</th>\n",
       "      <th>year_start</th>\n",
       "      <th>ratio</th>\n",
       "      <th>main_director</th>\n",
       "      <th>main_genres</th>\n",
       "      <th>all_support</th>\n",
       "      <th>payback</th>\n",
       "    </tr>\n",
       "  </thead>\n",
       "  <tbody>\n",
       "    <tr>\n",
       "      <th>4606</th>\n",
       "      <td>большой</td>\n",
       "      <td>111017416</td>\n",
       "      <td>2016-11-22 12:00:00+00:00</td>\n",
       "      <td>художественный</td>\n",
       "      <td>зао \"продюсерская компания валерия тодоровского\"</td>\n",
       "      <td>россия</td>\n",
       "      <td>в.тодоровский</td>\n",
       "      <td>в.тодоровский, а.златопольский</td>\n",
       "      <td>«12+» - для детей старше 12 лет</td>\n",
       "      <td>10,000,000.00</td>\n",
       "      <td>...</td>\n",
       "      <td>фонд кино</td>\n",
       "      <td>8.50</td>\n",
       "      <td>криминал,комедия,боевик</td>\n",
       "      <td>228,578,204.00</td>\n",
       "      <td>2016</td>\n",
       "      <td>0.66</td>\n",
       "      <td>в.тодоровский</td>\n",
       "      <td>криминал</td>\n",
       "      <td>210,000,000.00</td>\n",
       "      <td>-0.29</td>\n",
       "    </tr>\n",
       "    <tr>\n",
       "      <th>3404</th>\n",
       "      <td>а зори здесь тихие..._</td>\n",
       "      <td>111002915</td>\n",
       "      <td>2015-03-16 12:00:00+00:00</td>\n",
       "      <td>художественный</td>\n",
       "      <td>ооо \"компания \"реал-дакота\"</td>\n",
       "      <td>россия</td>\n",
       "      <td>р.давлетьяров</td>\n",
       "      <td>NaN</td>\n",
       "      <td>«12+» - для детей старше 12 лет</td>\n",
       "      <td>50,000,000.00</td>\n",
       "      <td>...</td>\n",
       "      <td>фонд кино</td>\n",
       "      <td>8.50</td>\n",
       "      <td>драма,военный,история</td>\n",
       "      <td>249,166,767.70</td>\n",
       "      <td>2015</td>\n",
       "      <td>0.68</td>\n",
       "      <td>р.давлетьяров</td>\n",
       "      <td>драма</td>\n",
       "      <td>150,000,000.00</td>\n",
       "      <td>0.13</td>\n",
       "    </tr>\n",
       "    <tr>\n",
       "      <th>6350</th>\n",
       "      <td>миллиард</td>\n",
       "      <td>111006719</td>\n",
       "      <td>2019-04-17 12:00:00+00:00</td>\n",
       "      <td>художественный</td>\n",
       "      <td>ооо \"медиа юниверсал ивент\"</td>\n",
       "      <td>россия</td>\n",
       "      <td>р.прыгунов</td>\n",
       "      <td>в.маслов, в.верещагин, б.анисимов</td>\n",
       "      <td>«12+» - для детей старше 12 лет</td>\n",
       "      <td>0.00</td>\n",
       "      <td>...</td>\n",
       "      <td>фонд кино</td>\n",
       "      <td>8.20</td>\n",
       "      <td>драма</td>\n",
       "      <td>408,646,665.70</td>\n",
       "      <td>2019</td>\n",
       "      <td>0.58</td>\n",
       "      <td>р.прыгунов</td>\n",
       "      <td>драма</td>\n",
       "      <td>140,000,000.00</td>\n",
       "      <td>0.70</td>\n",
       "    </tr>\n",
       "    <tr>\n",
       "      <th>2328</th>\n",
       "      <td>пока еще жива</td>\n",
       "      <td>111005313</td>\n",
       "      <td>2013-10-11 12:00:00+00:00</td>\n",
       "      <td>художественный</td>\n",
       "      <td>ано содействия развитию кинематографии \"ангел-...</td>\n",
       "      <td>россия</td>\n",
       "      <td>а.атанесян</td>\n",
       "      <td>а.атанесян, м.бабаханов, р.бутко</td>\n",
       "      <td>«16+» - для детей старше 16 лет</td>\n",
       "      <td>0.00</td>\n",
       "      <td>...</td>\n",
       "      <td>министерство культуры</td>\n",
       "      <td>8.10</td>\n",
       "      <td>драма,мелодрама</td>\n",
       "      <td>365,353.60</td>\n",
       "      <td>2013</td>\n",
       "      <td>0.33</td>\n",
       "      <td>а.атанесян</td>\n",
       "      <td>драма</td>\n",
       "      <td>26,500,000.00</td>\n",
       "      <td>-1.00</td>\n",
       "    </tr>\n",
       "    <tr>\n",
       "      <th>6845</th>\n",
       "      <td>байкал - сердце мира 3d</td>\n",
       "      <td>112004619</td>\n",
       "      <td>2019-11-01 12:00:00+00:00</td>\n",
       "      <td>документальный</td>\n",
       "      <td>ооо \"продюсерский центр \"новое время\"</td>\n",
       "      <td>россия</td>\n",
       "      <td>а.попова</td>\n",
       "      <td>и.добровольский, а.разуваева, ю.перкуль</td>\n",
       "      <td>«0+» - для любой зрительской аудитории</td>\n",
       "      <td>0.00</td>\n",
       "      <td>...</td>\n",
       "      <td>министерство культуры</td>\n",
       "      <td>8.00</td>\n",
       "      <td>семейный</td>\n",
       "      <td>NaN</td>\n",
       "      <td>2019</td>\n",
       "      <td>0.09</td>\n",
       "      <td>а.попова</td>\n",
       "      <td>семейный</td>\n",
       "      <td>3,000,000.00</td>\n",
       "      <td>NaN</td>\n",
       "    </tr>\n",
       "  </tbody>\n",
       "</table>\n",
       "<p>5 rows × 22 columns</p>\n",
       "</div>"
      ],
      "text/plain": [
       "                        title   puNumber           show_start_date  \\\n",
       "4606                  большой  111017416 2016-11-22 12:00:00+00:00   \n",
       "3404   а зори здесь тихие..._  111002915 2015-03-16 12:00:00+00:00   \n",
       "6350                 миллиард  111006719 2019-04-17 12:00:00+00:00   \n",
       "2328            пока еще жива  111005313 2013-10-11 12:00:00+00:00   \n",
       "6845  байкал - сердце мира 3d  112004619 2019-11-01 12:00:00+00:00   \n",
       "\n",
       "                type                                        film_studio  \\\n",
       "4606  художественный   зао \"продюсерская компания валерия тодоровского\"   \n",
       "3404  художественный                        ооо \"компания \"реал-дакота\"   \n",
       "6350  художественный                        ооо \"медиа юниверсал ивент\"   \n",
       "2328  художественный  ано содействия развитию кинематографии \"ангел-...   \n",
       "6845  документальный              ооо \"продюсерский центр \"новое время\"   \n",
       "\n",
       "     production_country       director  \\\n",
       "4606             россия  в.тодоровский   \n",
       "3404             россия  р.давлетьяров   \n",
       "6350             россия     р.прыгунов   \n",
       "2328             россия     а.атанесян   \n",
       "6845             россия       а.попова   \n",
       "\n",
       "                                     producer  \\\n",
       "4606           в.тодоровский, а.златопольский   \n",
       "3404                                      NaN   \n",
       "6350        в.маслов, в.верещагин, б.анисимов   \n",
       "2328         а.атанесян, м.бабаханов, р.бутко   \n",
       "6845  и.добровольский, а.разуваева, ю.перкуль   \n",
       "\n",
       "                             age_restriction  refundable_support  ...  \\\n",
       "4606         «12+» - для детей старше 12 лет       10,000,000.00  ...   \n",
       "3404         «12+» - для детей старше 12 лет       50,000,000.00  ...   \n",
       "6350         «12+» - для детей старше 12 лет                0.00  ...   \n",
       "2328         «16+» - для детей старше 16 лет                0.00  ...   \n",
       "6845  «0+» - для любой зрительской аудитории                0.00  ...   \n",
       "\n",
       "           financing_source  ratings                   genres     box_office  \\\n",
       "4606              фонд кино     8.50  криминал,комедия,боевик 228,578,204.00   \n",
       "3404              фонд кино     8.50    драма,военный,история 249,166,767.70   \n",
       "6350              фонд кино     8.20                    драма 408,646,665.70   \n",
       "2328  министерство культуры     8.10          драма,мелодрама     365,353.60   \n",
       "6845  министерство культуры     8.00                 семейный            NaN   \n",
       "\n",
       "     year_start  ratio  main_director  main_genres    all_support payback  \n",
       "4606       2016   0.66  в.тодоровский     криминал 210,000,000.00   -0.29  \n",
       "3404       2015   0.68  р.давлетьяров        драма 150,000,000.00    0.13  \n",
       "6350       2019   0.58     р.прыгунов        драма 140,000,000.00    0.70  \n",
       "2328       2013   0.33     а.атанесян        драма  26,500,000.00   -1.00  \n",
       "6845       2019   0.09       а.попова     семейный   3,000,000.00     NaN  \n",
       "\n",
       "[5 rows x 22 columns]"
      ]
     },
     "execution_count": 69,
     "metadata": {},
     "output_type": "execute_result"
    }
   ],
   "source": [
    "support.sort_values(by='ratings', ascending=False).head()"
   ]
  },
  {
   "cell_type": "markdown",
   "id": "1498b889",
   "metadata": {},
   "source": [
    "Топ - 5 рейтинговых фильмов это: \"Большой\", \"А зори здесь тихие\", \"Миллиард\", \"Пока еще жива\", \"Байкал - сердце мира 3d\", но при этом \"Большой\" и \"Пока еще жива\" не окупились."
   ]
  },
  {
   "cell_type": "code",
   "execution_count": 70,
   "id": "2035107e",
   "metadata": {},
   "outputs": [
    {
     "data": {
      "text/plain": [
       "20.952380952380953"
      ]
     },
     "execution_count": 70,
     "metadata": {},
     "output_type": "execute_result"
    }
   ],
   "source": [
    "((len(support.query('payback > 0'))/len(support))*100)"
   ]
  },
  {
   "cell_type": "markdown",
   "id": "4cdecd35",
   "metadata": {},
   "source": [
    "21% фильмов с гос поддержкой окупились за весь период. Посмотрим на окупаемость по годам."
   ]
  },
  {
   "cell_type": "code",
   "execution_count": 71,
   "id": "c7898e3b",
   "metadata": {},
   "outputs": [
    {
     "data": {
      "text/plain": [
       "year_start\n",
       "2014   1.61\n",
       "2015   1.27\n",
       "2016   1.79\n",
       "2017   1.48\n",
       "2018   2.05\n",
       "2019   2.74\n",
       "Name: payback, dtype: float64"
      ]
     },
     "execution_count": 71,
     "metadata": {},
     "output_type": "execute_result"
    }
   ],
   "source": [
    "support.query('payback > 0').groupby('year_start')['payback'].mean()"
   ]
  },
  {
   "cell_type": "markdown",
   "id": "2cf3887f",
   "metadata": {},
   "source": [
    "Начиная с 2017 года доля окупаемости фильмов растет. Посмотрим на рейтинги этих фильмов."
   ]
  },
  {
   "cell_type": "code",
   "execution_count": 72,
   "id": "d7e5decd",
   "metadata": {},
   "outputs": [
    {
     "data": {
      "text/plain": [
       "year_start\n",
       "2014   5.83\n",
       "2015   6.45\n",
       "2016   5.92\n",
       "2017   6.12\n",
       "2018   5.93\n",
       "2019   6.44\n",
       "Name: ratings, dtype: float64"
      ]
     },
     "execution_count": 72,
     "metadata": {},
     "output_type": "execute_result"
    }
   ],
   "source": [
    "support.query('payback > 0').groupby('year_start')['ratings'].mean()"
   ]
  },
  {
   "cell_type": "markdown",
   "id": "4cbb9bf6",
   "metadata": {},
   "source": [
    "В среднем рейтинг окупаемых фильмов не высокий от 6 до 6.5. "
   ]
  },
  {
   "cell_type": "code",
   "execution_count": 73,
   "id": "9f0bdc9e",
   "metadata": {},
   "outputs": [
    {
     "data": {
      "text/plain": [
       "year_start\n",
       "2013   6.70\n",
       "2014   5.96\n",
       "2015   6.06\n",
       "2016   5.69\n",
       "2017   6.05\n",
       "2018   6.04\n",
       "2019   6.18\n",
       "Name: ratings, dtype: float64"
      ]
     },
     "execution_count": 73,
     "metadata": {},
     "output_type": "execute_result"
    }
   ],
   "source": [
    "support.groupby('year_start')['ratings'].mean()"
   ]
  },
  {
   "cell_type": "markdown",
   "id": "83329916",
   "metadata": {},
   "source": [
    "А в общем рейтинг фильмов с гос подержкой около 6."
   ]
  },
  {
   "cell_type": "markdown",
   "id": "ef0fa262",
   "metadata": {},
   "source": [
    "Посмотрим как распределяются суммы гос поддержки по режиссерам и жанрам.\n",
    "Посмотрим какой рейтинг фильмов по режиссерам и жанрам. \n",
    "Посмотрим как окупаются фильмы по режиссерам и жанрам."
   ]
  },
  {
   "cell_type": "code",
   "execution_count": 74,
   "id": "63446bf8",
   "metadata": {},
   "outputs": [
    {
     "data": {
      "text/html": [
       "<div>\n",
       "<style scoped>\n",
       "    .dataframe tbody tr th:only-of-type {\n",
       "        vertical-align: middle;\n",
       "    }\n",
       "\n",
       "    .dataframe tbody tr th {\n",
       "        vertical-align: top;\n",
       "    }\n",
       "\n",
       "    .dataframe thead tr th {\n",
       "        text-align: left;\n",
       "    }\n",
       "\n",
       "    .dataframe thead tr:last-of-type th {\n",
       "        text-align: right;\n",
       "    }\n",
       "</style>\n",
       "<table border=\"1\" class=\"dataframe\">\n",
       "  <thead>\n",
       "    <tr>\n",
       "      <th></th>\n",
       "      <th colspan=\"2\" halign=\"left\">all_support</th>\n",
       "      <th colspan=\"2\" halign=\"left\">nonrefundable_support</th>\n",
       "      <th colspan=\"2\" halign=\"left\">refundable_support</th>\n",
       "    </tr>\n",
       "    <tr>\n",
       "      <th></th>\n",
       "      <th>count</th>\n",
       "      <th>sum</th>\n",
       "      <th>count</th>\n",
       "      <th>sum</th>\n",
       "      <th>count</th>\n",
       "      <th>sum</th>\n",
       "    </tr>\n",
       "    <tr>\n",
       "      <th>main_director</th>\n",
       "      <th></th>\n",
       "      <th></th>\n",
       "      <th></th>\n",
       "      <th></th>\n",
       "      <th></th>\n",
       "      <th></th>\n",
       "    </tr>\n",
       "  </thead>\n",
       "  <tbody>\n",
       "    <tr>\n",
       "      <th>н.хомерики</th>\n",
       "      <td>2</td>\n",
       "      <td>600,000,000.00</td>\n",
       "      <td>2</td>\n",
       "      <td>500,000,000.00</td>\n",
       "      <td>2</td>\n",
       "      <td>100,000,000.00</td>\n",
       "    </tr>\n",
       "    <tr>\n",
       "      <th>ф.бондарчук</th>\n",
       "      <td>1</td>\n",
       "      <td>500,000,000.00</td>\n",
       "      <td>1</td>\n",
       "      <td>400,000,000.00</td>\n",
       "      <td>1</td>\n",
       "      <td>100,000,000.00</td>\n",
       "    </tr>\n",
       "    <tr>\n",
       "      <th>а.кравчук</th>\n",
       "      <td>1</td>\n",
       "      <td>500,000,000.00</td>\n",
       "      <td>1</td>\n",
       "      <td>400,000,000.00</td>\n",
       "      <td>1</td>\n",
       "      <td>100,000,000.00</td>\n",
       "    </tr>\n",
       "    <tr>\n",
       "      <th>р.давлетьяров</th>\n",
       "      <td>5</td>\n",
       "      <td>459,847,945.00</td>\n",
       "      <td>5</td>\n",
       "      <td>394,847,945.00</td>\n",
       "      <td>5</td>\n",
       "      <td>65,000,000.00</td>\n",
       "    </tr>\n",
       "    <tr>\n",
       "      <th>а.мизгирев</th>\n",
       "      <td>1</td>\n",
       "      <td>450,000,000.00</td>\n",
       "      <td>1</td>\n",
       "      <td>300,000,000.00</td>\n",
       "      <td>1</td>\n",
       "      <td>150,000,000.00</td>\n",
       "    </tr>\n",
       "    <tr>\n",
       "      <th>...</th>\n",
       "      <td>...</td>\n",
       "      <td>...</td>\n",
       "      <td>...</td>\n",
       "      <td>...</td>\n",
       "      <td>...</td>\n",
       "      <td>...</td>\n",
       "    </tr>\n",
       "    <tr>\n",
       "      <th>а.сурикова</th>\n",
       "      <td>1</td>\n",
       "      <td>10,000,000.00</td>\n",
       "      <td>1</td>\n",
       "      <td>10,000,000.00</td>\n",
       "      <td>1</td>\n",
       "      <td>0.00</td>\n",
       "    </tr>\n",
       "    <tr>\n",
       "      <th>е.жигаева</th>\n",
       "      <td>1</td>\n",
       "      <td>8,000,000.00</td>\n",
       "      <td>1</td>\n",
       "      <td>8,000,000.00</td>\n",
       "      <td>1</td>\n",
       "      <td>0.00</td>\n",
       "    </tr>\n",
       "    <tr>\n",
       "      <th>е.константинова (псевдоним алена званцева)</th>\n",
       "      <td>1</td>\n",
       "      <td>5,000,000.00</td>\n",
       "      <td>1</td>\n",
       "      <td>5,000,000.00</td>\n",
       "      <td>1</td>\n",
       "      <td>0.00</td>\n",
       "    </tr>\n",
       "    <tr>\n",
       "      <th>н.степанова при участии с.иванова</th>\n",
       "      <td>1</td>\n",
       "      <td>4,700,000.00</td>\n",
       "      <td>1</td>\n",
       "      <td>4,700,000.00</td>\n",
       "      <td>1</td>\n",
       "      <td>0.00</td>\n",
       "    </tr>\n",
       "    <tr>\n",
       "      <th>а.попова</th>\n",
       "      <td>1</td>\n",
       "      <td>3,000,000.00</td>\n",
       "      <td>1</td>\n",
       "      <td>3,000,000.00</td>\n",
       "      <td>1</td>\n",
       "      <td>0.00</td>\n",
       "    </tr>\n",
       "  </tbody>\n",
       "</table>\n",
       "<p>258 rows × 6 columns</p>\n",
       "</div>"
      ],
      "text/plain": [
       "                                           all_support                 \\\n",
       "                                                 count            sum   \n",
       "main_director                                                           \n",
       "н.хомерики                                           2 600,000,000.00   \n",
       " ф.бондарчук                                         1 500,000,000.00   \n",
       "а.кравчук                                            1 500,000,000.00   \n",
       "р.давлетьяров                                        5 459,847,945.00   \n",
       "а.мизгирев                                           1 450,000,000.00   \n",
       "...                                                ...            ...   \n",
       "а.сурикова                                           1  10,000,000.00   \n",
       "е.жигаева                                            1   8,000,000.00   \n",
       "е.константинова (псевдоним алена званцева)           1   5,000,000.00   \n",
       "н.степанова при участии с.иванова                    1   4,700,000.00   \n",
       "а.попова                                             1   3,000,000.00   \n",
       "\n",
       "                                           nonrefundable_support  \\\n",
       "                                                           count   \n",
       "main_director                                                      \n",
       "н.хомерики                                                     2   \n",
       " ф.бондарчук                                                   1   \n",
       "а.кравчук                                                      1   \n",
       "р.давлетьяров                                                  5   \n",
       "а.мизгирев                                                     1   \n",
       "...                                                          ...   \n",
       "а.сурикова                                                     1   \n",
       "е.жигаева                                                      1   \n",
       "е.константинова (псевдоним алена званцева)                     1   \n",
       "н.степанова при участии с.иванова                              1   \n",
       "а.попова                                                       1   \n",
       "\n",
       "                                                          refundable_support  \\\n",
       "                                                      sum              count   \n",
       "main_director                                                                  \n",
       "н.хомерики                                 500,000,000.00                  2   \n",
       " ф.бондарчук                               400,000,000.00                  1   \n",
       "а.кравчук                                  400,000,000.00                  1   \n",
       "р.давлетьяров                              394,847,945.00                  5   \n",
       "а.мизгирев                                 300,000,000.00                  1   \n",
       "...                                                   ...                ...   \n",
       "а.сурикова                                  10,000,000.00                  1   \n",
       "е.жигаева                                    8,000,000.00                  1   \n",
       "е.константинова (псевдоним алена званцева)   5,000,000.00                  1   \n",
       "н.степанова при участии с.иванова            4,700,000.00                  1   \n",
       "а.попова                                     3,000,000.00                  1   \n",
       "\n",
       "                                                           \n",
       "                                                      sum  \n",
       "main_director                                              \n",
       "н.хомерики                                 100,000,000.00  \n",
       " ф.бондарчук                               100,000,000.00  \n",
       "а.кравчук                                  100,000,000.00  \n",
       "р.давлетьяров                               65,000,000.00  \n",
       "а.мизгирев                                 150,000,000.00  \n",
       "...                                                   ...  \n",
       "а.сурикова                                           0.00  \n",
       "е.жигаева                                            0.00  \n",
       "е.константинова (псевдоним алена званцева)           0.00  \n",
       "н.степанова при участии с.иванова                    0.00  \n",
       "а.попова                                             0.00  \n",
       "\n",
       "[258 rows x 6 columns]"
      ]
     },
     "execution_count": 74,
     "metadata": {},
     "output_type": "execute_result"
    }
   ],
   "source": [
    "support.pivot_table(index='main_director', values=('refundable_support', 'nonrefundable_support', 'all_support'), \n",
    "                    aggfunc=('sum', 'count')).sort_values(by=('all_support', 'sum'), ascending=False)"
   ]
  },
  {
   "cell_type": "markdown",
   "id": "9bd4580b",
   "metadata": {},
   "source": [
    "Больше всего государство выделило денег режиссеру Н. Хомерики, но он снял 2 фильма. А на 100 млн ментше выделили Ф. Бондарчуку. но на 1 фильм."
   ]
  },
  {
   "cell_type": "code",
   "execution_count": 75,
   "id": "3a97b0dd",
   "metadata": {},
   "outputs": [
    {
     "data": {
      "text/html": [
       "<div>\n",
       "<style scoped>\n",
       "    .dataframe tbody tr th:only-of-type {\n",
       "        vertical-align: middle;\n",
       "    }\n",
       "\n",
       "    .dataframe tbody tr th {\n",
       "        vertical-align: top;\n",
       "    }\n",
       "\n",
       "    .dataframe thead th {\n",
       "        text-align: right;\n",
       "    }\n",
       "</style>\n",
       "<table border=\"1\" class=\"dataframe\">\n",
       "  <thead>\n",
       "    <tr style=\"text-align: right;\">\n",
       "      <th></th>\n",
       "      <th>all_support</th>\n",
       "      <th>nonrefundable_support</th>\n",
       "      <th>refundable_support</th>\n",
       "    </tr>\n",
       "    <tr>\n",
       "      <th>main_director</th>\n",
       "      <th></th>\n",
       "      <th></th>\n",
       "      <th></th>\n",
       "    </tr>\n",
       "  </thead>\n",
       "  <tbody>\n",
       "    <tr>\n",
       "      <th>ф.бондарчук</th>\n",
       "      <td>500,000,000.00</td>\n",
       "      <td>400,000,000.00</td>\n",
       "      <td>100,000,000.00</td>\n",
       "    </tr>\n",
       "    <tr>\n",
       "      <th>а.кравчук</th>\n",
       "      <td>500,000,000.00</td>\n",
       "      <td>400,000,000.00</td>\n",
       "      <td>100,000,000.00</td>\n",
       "    </tr>\n",
       "    <tr>\n",
       "      <th>а.мизгирев</th>\n",
       "      <td>450,000,000.00</td>\n",
       "      <td>300,000,000.00</td>\n",
       "      <td>150,000,000.00</td>\n",
       "    </tr>\n",
       "    <tr>\n",
       "      <th>н.лебедев</th>\n",
       "      <td>442,104,482.00</td>\n",
       "      <td>392,104,482.00</td>\n",
       "      <td>50,000,000.00</td>\n",
       "    </tr>\n",
       "    <tr>\n",
       "      <th>а.мегердичев</th>\n",
       "      <td>400,000,000.00</td>\n",
       "      <td>400,000,000.00</td>\n",
       "      <td>0.00</td>\n",
       "    </tr>\n",
       "    <tr>\n",
       "      <th>...</th>\n",
       "      <td>...</td>\n",
       "      <td>...</td>\n",
       "      <td>...</td>\n",
       "    </tr>\n",
       "    <tr>\n",
       "      <th>ю.кара</th>\n",
       "      <td>10,000,000.00</td>\n",
       "      <td>10,000,000.00</td>\n",
       "      <td>0.00</td>\n",
       "    </tr>\n",
       "    <tr>\n",
       "      <th>е.жигаева</th>\n",
       "      <td>8,000,000.00</td>\n",
       "      <td>8,000,000.00</td>\n",
       "      <td>0.00</td>\n",
       "    </tr>\n",
       "    <tr>\n",
       "      <th>е.константинова (псевдоним алена званцева)</th>\n",
       "      <td>5,000,000.00</td>\n",
       "      <td>5,000,000.00</td>\n",
       "      <td>0.00</td>\n",
       "    </tr>\n",
       "    <tr>\n",
       "      <th>н.степанова при участии с.иванова</th>\n",
       "      <td>4,700,000.00</td>\n",
       "      <td>4,700,000.00</td>\n",
       "      <td>0.00</td>\n",
       "    </tr>\n",
       "    <tr>\n",
       "      <th>а.попова</th>\n",
       "      <td>3,000,000.00</td>\n",
       "      <td>3,000,000.00</td>\n",
       "      <td>0.00</td>\n",
       "    </tr>\n",
       "  </tbody>\n",
       "</table>\n",
       "<p>258 rows × 3 columns</p>\n",
       "</div>"
      ],
      "text/plain": [
       "                                              all_support  \\\n",
       "main_director                                               \n",
       " ф.бондарчук                               500,000,000.00   \n",
       "а.кравчук                                  500,000,000.00   \n",
       "а.мизгирев                                 450,000,000.00   \n",
       "н.лебедев                                  442,104,482.00   \n",
       "а.мегердичев                               400,000,000.00   \n",
       "...                                                   ...   \n",
       "ю.кара                                      10,000,000.00   \n",
       "е.жигаева                                    8,000,000.00   \n",
       "е.константинова (псевдоним алена званцева)   5,000,000.00   \n",
       "н.степанова при участии с.иванова            4,700,000.00   \n",
       "а.попова                                     3,000,000.00   \n",
       "\n",
       "                                            nonrefundable_support  \\\n",
       "main_director                                                       \n",
       " ф.бондарчук                                       400,000,000.00   \n",
       "а.кравчук                                          400,000,000.00   \n",
       "а.мизгирев                                         300,000,000.00   \n",
       "н.лебедев                                          392,104,482.00   \n",
       "а.мегердичев                                       400,000,000.00   \n",
       "...                                                           ...   \n",
       "ю.кара                                              10,000,000.00   \n",
       "е.жигаева                                            8,000,000.00   \n",
       "е.константинова (псевдоним алена званцева)           5,000,000.00   \n",
       "н.степанова при участии с.иванова                    4,700,000.00   \n",
       "а.попова                                             3,000,000.00   \n",
       "\n",
       "                                            refundable_support  \n",
       "main_director                                                   \n",
       " ф.бондарчук                                    100,000,000.00  \n",
       "а.кравчук                                       100,000,000.00  \n",
       "а.мизгирев                                      150,000,000.00  \n",
       "н.лебедев                                        50,000,000.00  \n",
       "а.мегердичев                                              0.00  \n",
       "...                                                        ...  \n",
       "ю.кара                                                    0.00  \n",
       "е.жигаева                                                 0.00  \n",
       "е.константинова (псевдоним алена званцева)                0.00  \n",
       "н.степанова при участии с.иванова                         0.00  \n",
       "а.попова                                                  0.00  \n",
       "\n",
       "[258 rows x 3 columns]"
      ]
     },
     "execution_count": 75,
     "metadata": {},
     "output_type": "execute_result"
    }
   ],
   "source": [
    "support.pivot_table(index='main_director', values=('refundable_support', 'nonrefundable_support', 'all_support'), \n",
    "                    aggfunc=('mean')).sort_values(by=('all_support'), ascending=False)"
   ]
  },
  {
   "cell_type": "markdown",
   "id": "957b66fd",
   "metadata": {},
   "source": [
    "На один фильм меньше всего дали режиссеру А.Поповой, а больше всего Ф. Бондарчуку и А. Кравчук. Посмотрим, что это за фильмы."
   ]
  },
  {
   "cell_type": "code",
   "execution_count": 76,
   "id": "eb608467",
   "metadata": {},
   "outputs": [
    {
     "data": {
      "text/html": [
       "<div>\n",
       "<style scoped>\n",
       "    .dataframe tbody tr th:only-of-type {\n",
       "        vertical-align: middle;\n",
       "    }\n",
       "\n",
       "    .dataframe tbody tr th {\n",
       "        vertical-align: top;\n",
       "    }\n",
       "\n",
       "    .dataframe thead th {\n",
       "        text-align: right;\n",
       "    }\n",
       "</style>\n",
       "<table border=\"1\" class=\"dataframe\">\n",
       "  <thead>\n",
       "    <tr style=\"text-align: right;\">\n",
       "      <th></th>\n",
       "      <th>title</th>\n",
       "      <th>puNumber</th>\n",
       "      <th>show_start_date</th>\n",
       "      <th>type</th>\n",
       "      <th>film_studio</th>\n",
       "      <th>production_country</th>\n",
       "      <th>director</th>\n",
       "      <th>producer</th>\n",
       "      <th>age_restriction</th>\n",
       "      <th>refundable_support</th>\n",
       "      <th>...</th>\n",
       "      <th>financing_source</th>\n",
       "      <th>ratings</th>\n",
       "      <th>genres</th>\n",
       "      <th>box_office</th>\n",
       "      <th>year_start</th>\n",
       "      <th>ratio</th>\n",
       "      <th>main_director</th>\n",
       "      <th>main_genres</th>\n",
       "      <th>all_support</th>\n",
       "      <th>payback</th>\n",
       "    </tr>\n",
       "  </thead>\n",
       "  <tbody>\n",
       "    <tr>\n",
       "      <th>6845</th>\n",
       "      <td>байкал - сердце мира 3d</td>\n",
       "      <td>112004619</td>\n",
       "      <td>2019-11-01 12:00:00+00:00</td>\n",
       "      <td>документальный</td>\n",
       "      <td>ооо \"продюсерский центр \"новое время\"</td>\n",
       "      <td>россия</td>\n",
       "      <td>а.попова</td>\n",
       "      <td>и.добровольский, а.разуваева, ю.перкуль</td>\n",
       "      <td>«0+» - для любой зрительской аудитории</td>\n",
       "      <td>0.00</td>\n",
       "      <td>...</td>\n",
       "      <td>министерство культуры</td>\n",
       "      <td>8.00</td>\n",
       "      <td>семейный</td>\n",
       "      <td>NaN</td>\n",
       "      <td>2019</td>\n",
       "      <td>0.09</td>\n",
       "      <td>а.попова</td>\n",
       "      <td>семейный</td>\n",
       "      <td>3,000,000.00</td>\n",
       "      <td>NaN</td>\n",
       "    </tr>\n",
       "    <tr>\n",
       "      <th>6986</th>\n",
       "      <td>вторжение</td>\n",
       "      <td>111022519</td>\n",
       "      <td>2019-12-23 12:00:00+00:00</td>\n",
       "      <td>художественный</td>\n",
       "      <td>ооо \"арт пикчерс студия\", ооо \"водород 2011\"</td>\n",
       "      <td>россия</td>\n",
       "      <td>ф.бондарчук</td>\n",
       "      <td>ф.бондарчук, м.врубель, а.андрющенко, д.рудовский</td>\n",
       "      <td>«12+» - для детей старше 12 лет</td>\n",
       "      <td>100,000,000.00</td>\n",
       "      <td>...</td>\n",
       "      <td>фонд кино</td>\n",
       "      <td>5.70</td>\n",
       "      <td>фантастика,боевик</td>\n",
       "      <td>NaN</td>\n",
       "      <td>2019</td>\n",
       "      <td>0.53</td>\n",
       "      <td>ф.бондарчук</td>\n",
       "      <td>фантастика</td>\n",
       "      <td>500,000,000.00</td>\n",
       "      <td>NaN</td>\n",
       "    </tr>\n",
       "    <tr>\n",
       "      <th>6992</th>\n",
       "      <td>союз спасения</td>\n",
       "      <td>111022019</td>\n",
       "      <td>2019-12-26 12:00:00+00:00</td>\n",
       "      <td>художественный</td>\n",
       "      <td>зао \"дирекция кино\"</td>\n",
       "      <td>россия</td>\n",
       "      <td>а.кравчук</td>\n",
       "      <td>а.максимов, к.эрнст</td>\n",
       "      <td>«12+» - для детей старше 12 лет</td>\n",
       "      <td>100,000,000.00</td>\n",
       "      <td>...</td>\n",
       "      <td>фонд кино</td>\n",
       "      <td>6.00</td>\n",
       "      <td>история,биография,драма</td>\n",
       "      <td>717,703,185.53</td>\n",
       "      <td>2019</td>\n",
       "      <td>0.51</td>\n",
       "      <td>а.кравчук</td>\n",
       "      <td>история</td>\n",
       "      <td>500,000,000.00</td>\n",
       "      <td>-0.27</td>\n",
       "    </tr>\n",
       "  </tbody>\n",
       "</table>\n",
       "<p>3 rows × 22 columns</p>\n",
       "</div>"
      ],
      "text/plain": [
       "                        title   puNumber           show_start_date  \\\n",
       "6845  байкал - сердце мира 3d  112004619 2019-11-01 12:00:00+00:00   \n",
       "6986                вторжение  111022519 2019-12-23 12:00:00+00:00   \n",
       "6992            союз спасения  111022019 2019-12-26 12:00:00+00:00   \n",
       "\n",
       "                type                                   film_studio  \\\n",
       "6845  документальный         ооо \"продюсерский центр \"новое время\"   \n",
       "6986  художественный  ооо \"арт пикчерс студия\", ооо \"водород 2011\"   \n",
       "6992  художественный                           зао \"дирекция кино\"   \n",
       "\n",
       "     production_country      director  \\\n",
       "6845             россия      а.попова   \n",
       "6986             россия   ф.бондарчук   \n",
       "6992             россия     а.кравчук   \n",
       "\n",
       "                                               producer  \\\n",
       "6845            и.добровольский, а.разуваева, ю.перкуль   \n",
       "6986  ф.бондарчук, м.врубель, а.андрющенко, д.рудовский   \n",
       "6992                                а.максимов, к.эрнст   \n",
       "\n",
       "                             age_restriction  refundable_support  ...  \\\n",
       "6845  «0+» - для любой зрительской аудитории                0.00  ...   \n",
       "6986         «12+» - для детей старше 12 лет      100,000,000.00  ...   \n",
       "6992         «12+» - для детей старше 12 лет      100,000,000.00  ...   \n",
       "\n",
       "           financing_source  ratings                   genres     box_office  \\\n",
       "6845  министерство культуры     8.00                 семейный            NaN   \n",
       "6986              фонд кино     5.70        фантастика,боевик            NaN   \n",
       "6992              фонд кино     6.00  история,биография,драма 717,703,185.53   \n",
       "\n",
       "     year_start  ratio  main_director  main_genres    all_support payback  \n",
       "6845       2019   0.09       а.попова     семейный   3,000,000.00     NaN  \n",
       "6986       2019   0.53    ф.бондарчук   фантастика 500,000,000.00     NaN  \n",
       "6992       2019   0.51      а.кравчук      история 500,000,000.00   -0.27  \n",
       "\n",
       "[3 rows x 22 columns]"
      ]
     },
     "execution_count": 76,
     "metadata": {},
     "output_type": "execute_result"
    }
   ],
   "source": [
    "support[(support.main_director == ' ф.бондарчук') | (support.main_director == 'а.кравчук')\n",
    "        | (support.main_director == 'а.попова')]"
   ]
  },
  {
   "cell_type": "markdown",
   "id": "fa25ef7c",
   "metadata": {},
   "source": [
    "Самые курпные вложения государства были в фильмы \"Вторжение\" и \"Союз спасения\", а минимальное \"Байкал - сердце мира 3d\". Посмотрим на рейтинг по режиссерам. Рейтинг самых дорогих для государства фильмов 5.7/ 6 / 8 соответсвенно."
   ]
  },
  {
   "cell_type": "code",
   "execution_count": 77,
   "id": "339037a9",
   "metadata": {},
   "outputs": [
    {
     "data": {
      "text/html": [
       "<div>\n",
       "<style scoped>\n",
       "    .dataframe tbody tr th:only-of-type {\n",
       "        vertical-align: middle;\n",
       "    }\n",
       "\n",
       "    .dataframe tbody tr th {\n",
       "        vertical-align: top;\n",
       "    }\n",
       "\n",
       "    .dataframe thead th {\n",
       "        text-align: right;\n",
       "    }\n",
       "</style>\n",
       "<table border=\"1\" class=\"dataframe\">\n",
       "  <thead>\n",
       "    <tr style=\"text-align: right;\">\n",
       "      <th></th>\n",
       "      <th>ratings</th>\n",
       "    </tr>\n",
       "    <tr>\n",
       "      <th>main_director</th>\n",
       "      <th></th>\n",
       "    </tr>\n",
       "  </thead>\n",
       "  <tbody>\n",
       "    <tr>\n",
       "      <th>р.прыгунов</th>\n",
       "      <td>8.20</td>\n",
       "    </tr>\n",
       "    <tr>\n",
       "      <th>а.атанесян</th>\n",
       "      <td>8.10</td>\n",
       "    </tr>\n",
       "    <tr>\n",
       "      <th>а.попова</th>\n",
       "      <td>8.00</td>\n",
       "    </tr>\n",
       "    <tr>\n",
       "      <th>к.оганисян</th>\n",
       "      <td>7.90</td>\n",
       "    </tr>\n",
       "    <tr>\n",
       "      <th>и.шахназаров</th>\n",
       "      <td>7.80</td>\n",
       "    </tr>\n",
       "    <tr>\n",
       "      <th>...</th>\n",
       "      <td>...</td>\n",
       "    </tr>\n",
       "    <tr>\n",
       "      <th>т.корнев</th>\n",
       "      <td>3.10</td>\n",
       "    </tr>\n",
       "    <tr>\n",
       "      <th>ф.коршунов при участии п.мирзоева</th>\n",
       "      <td>2.90</td>\n",
       "    </tr>\n",
       "    <tr>\n",
       "      <th>о.лопато</th>\n",
       "      <td>2.80</td>\n",
       "    </tr>\n",
       "    <tr>\n",
       "      <th>т.кеосаян</th>\n",
       "      <td>2.50</td>\n",
       "    </tr>\n",
       "    <tr>\n",
       "      <th>м.свешников</th>\n",
       "      <td>1.00</td>\n",
       "    </tr>\n",
       "  </tbody>\n",
       "</table>\n",
       "<p>243 rows × 1 columns</p>\n",
       "</div>"
      ],
      "text/plain": [
       "                                   ratings\n",
       "main_director                             \n",
       "р.прыгунов                            8.20\n",
       "а.атанесян                            8.10\n",
       "а.попова                              8.00\n",
       "к.оганисян                            7.90\n",
       "и.шахназаров                          7.80\n",
       "...                                    ...\n",
       "т.корнев                              3.10\n",
       "ф.коршунов при участии п.мирзоева     2.90\n",
       "о.лопато                              2.80\n",
       "т.кеосаян                             2.50\n",
       "м.свешников                           1.00\n",
       "\n",
       "[243 rows x 1 columns]"
      ]
     },
     "execution_count": 77,
     "metadata": {},
     "output_type": "execute_result"
    }
   ],
   "source": [
    "support.pivot_table(index='main_director', values=('ratings'), \n",
    "                    aggfunc=('mean')).sort_values(by=('ratings'), ascending=False)"
   ]
  },
  {
   "cell_type": "markdown",
   "id": "a8e57e66",
   "metadata": {},
   "source": [
    "Самые рейтинговые фильмы сняли Р. Пгыгунов, А. Атанесян и А. Попва (кому дали меньше всего денег). А самые ужсные фильмы сняли М. свешников и Т. Кеосаян. Посмотрим, что это за фильмы."
   ]
  },
  {
   "cell_type": "code",
   "execution_count": 78,
   "id": "dccfd445",
   "metadata": {},
   "outputs": [
    {
     "data": {
      "text/html": [
       "<div>\n",
       "<style scoped>\n",
       "    .dataframe tbody tr th:only-of-type {\n",
       "        vertical-align: middle;\n",
       "    }\n",
       "\n",
       "    .dataframe tbody tr th {\n",
       "        vertical-align: top;\n",
       "    }\n",
       "\n",
       "    .dataframe thead th {\n",
       "        text-align: right;\n",
       "    }\n",
       "</style>\n",
       "<table border=\"1\" class=\"dataframe\">\n",
       "  <thead>\n",
       "    <tr style=\"text-align: right;\">\n",
       "      <th></th>\n",
       "      <th>title</th>\n",
       "      <th>puNumber</th>\n",
       "      <th>show_start_date</th>\n",
       "      <th>type</th>\n",
       "      <th>film_studio</th>\n",
       "      <th>production_country</th>\n",
       "      <th>director</th>\n",
       "      <th>producer</th>\n",
       "      <th>age_restriction</th>\n",
       "      <th>refundable_support</th>\n",
       "      <th>...</th>\n",
       "      <th>financing_source</th>\n",
       "      <th>ratings</th>\n",
       "      <th>genres</th>\n",
       "      <th>box_office</th>\n",
       "      <th>year_start</th>\n",
       "      <th>ratio</th>\n",
       "      <th>main_director</th>\n",
       "      <th>main_genres</th>\n",
       "      <th>all_support</th>\n",
       "      <th>payback</th>\n",
       "    </tr>\n",
       "  </thead>\n",
       "  <tbody>\n",
       "    <tr>\n",
       "      <th>2328</th>\n",
       "      <td>пока еще жива</td>\n",
       "      <td>111005313</td>\n",
       "      <td>2013-10-11 12:00:00+00:00</td>\n",
       "      <td>художественный</td>\n",
       "      <td>ано содействия развитию кинематографии \"ангел-...</td>\n",
       "      <td>россия</td>\n",
       "      <td>а.атанесян</td>\n",
       "      <td>а.атанесян, м.бабаханов, р.бутко</td>\n",
       "      <td>«16+» - для детей старше 16 лет</td>\n",
       "      <td>0.00</td>\n",
       "      <td>...</td>\n",
       "      <td>министерство культуры</td>\n",
       "      <td>8.10</td>\n",
       "      <td>драма,мелодрама</td>\n",
       "      <td>365,353.60</td>\n",
       "      <td>2013</td>\n",
       "      <td>0.33</td>\n",
       "      <td>а.атанесян</td>\n",
       "      <td>драма</td>\n",
       "      <td>26,500,000.00</td>\n",
       "      <td>-1.00</td>\n",
       "    </tr>\n",
       "    <tr>\n",
       "      <th>4570</th>\n",
       "      <td>взломать блогеров</td>\n",
       "      <td>111016616</td>\n",
       "      <td>2016-10-28 12:00:00+00:00</td>\n",
       "      <td>художественный</td>\n",
       "      <td>ооо \"таббак\"</td>\n",
       "      <td>россия</td>\n",
       "      <td>м.свешников</td>\n",
       "      <td>т.бекмамбетов</td>\n",
       "      <td>«6+» - для детей старше 6 лет</td>\n",
       "      <td>0.00</td>\n",
       "      <td>...</td>\n",
       "      <td>фонд кино</td>\n",
       "      <td>1.00</td>\n",
       "      <td>комедия,мультфильм,фантастика</td>\n",
       "      <td>7,323,648.00</td>\n",
       "      <td>2016</td>\n",
       "      <td>0.69</td>\n",
       "      <td>м.свешников</td>\n",
       "      <td>комедия</td>\n",
       "      <td>25,000,000.00</td>\n",
       "      <td>-0.80</td>\n",
       "    </tr>\n",
       "    <tr>\n",
       "      <th>5844</th>\n",
       "      <td>крымский мост. сделано с любовью</td>\n",
       "      <td>111020018</td>\n",
       "      <td>2018-10-29 12:00:00+00:00</td>\n",
       "      <td>художественный</td>\n",
       "      <td>ооо \"студия \"8 рядов\"</td>\n",
       "      <td>россия</td>\n",
       "      <td>т.кеосаян</td>\n",
       "      <td>д.кеосаян</td>\n",
       "      <td>«12+» - для детей старше 12 лет</td>\n",
       "      <td>0.00</td>\n",
       "      <td>...</td>\n",
       "      <td>фонд кино</td>\n",
       "      <td>2.50</td>\n",
       "      <td>комедия,мелодрама</td>\n",
       "      <td>70,798,668.90</td>\n",
       "      <td>2018</td>\n",
       "      <td>0.65</td>\n",
       "      <td>т.кеосаян</td>\n",
       "      <td>комедия</td>\n",
       "      <td>100,000,000.00</td>\n",
       "      <td>-0.54</td>\n",
       "    </tr>\n",
       "    <tr>\n",
       "      <th>6350</th>\n",
       "      <td>миллиард</td>\n",
       "      <td>111006719</td>\n",
       "      <td>2019-04-17 12:00:00+00:00</td>\n",
       "      <td>художественный</td>\n",
       "      <td>ооо \"медиа юниверсал ивент\"</td>\n",
       "      <td>россия</td>\n",
       "      <td>р.прыгунов</td>\n",
       "      <td>в.маслов, в.верещагин, б.анисимов</td>\n",
       "      <td>«12+» - для детей старше 12 лет</td>\n",
       "      <td>0.00</td>\n",
       "      <td>...</td>\n",
       "      <td>фонд кино</td>\n",
       "      <td>8.20</td>\n",
       "      <td>драма</td>\n",
       "      <td>408,646,665.70</td>\n",
       "      <td>2019</td>\n",
       "      <td>0.58</td>\n",
       "      <td>р.прыгунов</td>\n",
       "      <td>драма</td>\n",
       "      <td>140,000,000.00</td>\n",
       "      <td>0.70</td>\n",
       "    </tr>\n",
       "  </tbody>\n",
       "</table>\n",
       "<p>4 rows × 22 columns</p>\n",
       "</div>"
      ],
      "text/plain": [
       "                                 title   puNumber           show_start_date  \\\n",
       "2328                     пока еще жива  111005313 2013-10-11 12:00:00+00:00   \n",
       "4570                 взломать блогеров  111016616 2016-10-28 12:00:00+00:00   \n",
       "5844  крымский мост. сделано с любовью  111020018 2018-10-29 12:00:00+00:00   \n",
       "6350                          миллиард  111006719 2019-04-17 12:00:00+00:00   \n",
       "\n",
       "                type                                        film_studio  \\\n",
       "2328  художественный  ано содействия развитию кинематографии \"ангел-...   \n",
       "4570  художественный                                       ооо \"таббак\"   \n",
       "5844  художественный                              ооо \"студия \"8 рядов\"   \n",
       "6350  художественный                        ооо \"медиа юниверсал ивент\"   \n",
       "\n",
       "     production_country     director                           producer  \\\n",
       "2328             россия   а.атанесян   а.атанесян, м.бабаханов, р.бутко   \n",
       "4570             россия  м.свешников                      т.бекмамбетов   \n",
       "5844             россия    т.кеосаян                          д.кеосаян   \n",
       "6350             россия   р.прыгунов  в.маслов, в.верещагин, б.анисимов   \n",
       "\n",
       "                      age_restriction  refundable_support  ...  \\\n",
       "2328  «16+» - для детей старше 16 лет                0.00  ...   \n",
       "4570    «6+» - для детей старше 6 лет                0.00  ...   \n",
       "5844  «12+» - для детей старше 12 лет                0.00  ...   \n",
       "6350  «12+» - для детей старше 12 лет                0.00  ...   \n",
       "\n",
       "           financing_source  ratings                         genres  \\\n",
       "2328  министерство культуры     8.10                драма,мелодрама   \n",
       "4570              фонд кино     1.00  комедия,мультфильм,фантастика   \n",
       "5844              фонд кино     2.50              комедия,мелодрама   \n",
       "6350              фонд кино     8.20                          драма   \n",
       "\n",
       "         box_office year_start  ratio  main_director  main_genres  \\\n",
       "2328     365,353.60       2013   0.33     а.атанесян        драма   \n",
       "4570   7,323,648.00       2016   0.69    м.свешников      комедия   \n",
       "5844  70,798,668.90       2018   0.65      т.кеосаян      комедия   \n",
       "6350 408,646,665.70       2019   0.58     р.прыгунов        драма   \n",
       "\n",
       "        all_support payback  \n",
       "2328  26,500,000.00   -1.00  \n",
       "4570  25,000,000.00   -0.80  \n",
       "5844 100,000,000.00   -0.54  \n",
       "6350 140,000,000.00    0.70  \n",
       "\n",
       "[4 rows x 22 columns]"
      ]
     },
     "execution_count": 78,
     "metadata": {},
     "output_type": "execute_result"
    }
   ],
   "source": [
    "support[(support.main_director == 'р.прыгунов') | (support.main_director == 'а.атанесян')\n",
    "        | (support.main_director == 'т.кеосаян') | (support.main_director == 'м.свешников')]"
   ]
  },
  {
   "cell_type": "markdown",
   "id": "6acf5e58",
   "metadata": {},
   "source": [
    "Самые рейтинговые фильмы \"Пока еще жива\" и \"Миллиард\". А самые ужасные \"Взломать блогеров\" и \"Крымский мост. Сделано с любовью\". Теперь посмотрим у каких режисеров самые окупаемые фильмы."
   ]
  },
  {
   "cell_type": "code",
   "execution_count": 79,
   "id": "123ff602",
   "metadata": {},
   "outputs": [
    {
     "data": {
      "text/html": [
       "<div>\n",
       "<style scoped>\n",
       "    .dataframe tbody tr th:only-of-type {\n",
       "        vertical-align: middle;\n",
       "    }\n",
       "\n",
       "    .dataframe tbody tr th {\n",
       "        vertical-align: top;\n",
       "    }\n",
       "\n",
       "    .dataframe thead th {\n",
       "        text-align: right;\n",
       "    }\n",
       "</style>\n",
       "<table border=\"1\" class=\"dataframe\">\n",
       "  <thead>\n",
       "    <tr style=\"text-align: right;\">\n",
       "      <th></th>\n",
       "      <th>count</th>\n",
       "      <th>mean</th>\n",
       "    </tr>\n",
       "    <tr>\n",
       "      <th>main_director</th>\n",
       "      <th></th>\n",
       "      <th></th>\n",
       "    </tr>\n",
       "  </thead>\n",
       "  <tbody>\n",
       "    <tr>\n",
       "      <th>о.трофим</th>\n",
       "      <td>1</td>\n",
       "      <td>8.73</td>\n",
       "    </tr>\n",
       "    <tr>\n",
       "      <th>а.черномазов (псевдоним алексей нужный)</th>\n",
       "      <td>1</td>\n",
       "      <td>6.23</td>\n",
       "    </tr>\n",
       "    <tr>\n",
       "      <th>к.шипенко</th>\n",
       "      <td>3</td>\n",
       "      <td>5.92</td>\n",
       "    </tr>\n",
       "    <tr>\n",
       "      <th>а.першин (псевдоним ж.крыжовников)</th>\n",
       "      <td>1</td>\n",
       "      <td>4.23</td>\n",
       "    </tr>\n",
       "    <tr>\n",
       "      <th>м.бальчюнас</th>\n",
       "      <td>1</td>\n",
       "      <td>4.08</td>\n",
       "    </tr>\n",
       "    <tr>\n",
       "      <th>...</th>\n",
       "      <td>...</td>\n",
       "      <td>...</td>\n",
       "    </tr>\n",
       "    <tr>\n",
       "      <th>к.геворкян</th>\n",
       "      <td>1</td>\n",
       "      <td>-1.00</td>\n",
       "    </tr>\n",
       "    <tr>\n",
       "      <th>к.сухарьков</th>\n",
       "      <td>1</td>\n",
       "      <td>-1.00</td>\n",
       "    </tr>\n",
       "    <tr>\n",
       "      <th>в.татарский</th>\n",
       "      <td>1</td>\n",
       "      <td>-1.00</td>\n",
       "    </tr>\n",
       "    <tr>\n",
       "      <th>н.джорджадзе</th>\n",
       "      <td>1</td>\n",
       "      <td>-1.00</td>\n",
       "    </tr>\n",
       "    <tr>\n",
       "      <th>и.кордзаия</th>\n",
       "      <td>1</td>\n",
       "      <td>-1.00</td>\n",
       "    </tr>\n",
       "  </tbody>\n",
       "</table>\n",
       "<p>247 rows × 2 columns</p>\n",
       "</div>"
      ],
      "text/plain": [
       "                                         count  mean\n",
       "main_director                                       \n",
       "о.трофим                                     1  8.73\n",
       "а.черномазов (псевдоним алексей нужный)      1  6.23\n",
       "к.шипенко                                    3  5.92\n",
       "а.першин (псевдоним ж.крыжовников)           1  4.23\n",
       "м.бальчюнас                                  1  4.08\n",
       "...                                        ...   ...\n",
       "к.геворкян                                   1 -1.00\n",
       "к.сухарьков                                  1 -1.00\n",
       "в.татарский                                  1 -1.00\n",
       "н.джорджадзе                                 1 -1.00\n",
       "и.кордзаия                                   1 -1.00\n",
       "\n",
       "[247 rows x 2 columns]"
      ]
     },
     "execution_count": 79,
     "metadata": {},
     "output_type": "execute_result"
    }
   ],
   "source": [
    "support.query('box_office > 0').pivot_table(index='main_director', values=('payback'), \n",
    "                    aggfunc=('mean', 'count')).sort_values(by=('mean'), ascending=False)"
   ]
  },
  {
   "cell_type": "markdown",
   "id": "da45ec61",
   "metadata": {},
   "source": [
    "Самые окупаемые фильмы снял О. Трофим, но при этом К. Шипенко снял 3 фильма и ранее я уже выяснила, что самый окупившийся фильм \"Холоп\" снял как раз К. Шипенко, он окупился в 18 раз, следом шел фильм О. Трофима - Лед. Практически ничего не получили фильмы И. Кордзяия и других."
   ]
  },
  {
   "cell_type": "code",
   "execution_count": 80,
   "id": "d131f680",
   "metadata": {},
   "outputs": [
    {
     "data": {
      "text/html": [
       "<div>\n",
       "<style scoped>\n",
       "    .dataframe tbody tr th:only-of-type {\n",
       "        vertical-align: middle;\n",
       "    }\n",
       "\n",
       "    .dataframe tbody tr th {\n",
       "        vertical-align: top;\n",
       "    }\n",
       "\n",
       "    .dataframe thead th {\n",
       "        text-align: right;\n",
       "    }\n",
       "</style>\n",
       "<table border=\"1\" class=\"dataframe\">\n",
       "  <thead>\n",
       "    <tr style=\"text-align: right;\">\n",
       "      <th></th>\n",
       "      <th>main_director_count</th>\n",
       "    </tr>\n",
       "    <tr>\n",
       "      <th>main_director</th>\n",
       "      <th></th>\n",
       "    </tr>\n",
       "  </thead>\n",
       "  <tbody>\n",
       "    <tr>\n",
       "      <th>р.давлетьяров</th>\n",
       "      <td>5</td>\n",
       "    </tr>\n",
       "    <tr>\n",
       "      <th>д.дьяченко</th>\n",
       "      <td>4</td>\n",
       "    </tr>\n",
       "    <tr>\n",
       "      <th>с.андреасян</th>\n",
       "      <td>4</td>\n",
       "    </tr>\n",
       "    <tr>\n",
       "      <th>с.мокрицкий</th>\n",
       "      <td>3</td>\n",
       "    </tr>\n",
       "    <tr>\n",
       "      <th>а.цицилин</th>\n",
       "      <td>3</td>\n",
       "    </tr>\n",
       "    <tr>\n",
       "      <th>...</th>\n",
       "      <td>...</td>\n",
       "    </tr>\n",
       "    <tr>\n",
       "      <th>е.баранов</th>\n",
       "      <td>1</td>\n",
       "    </tr>\n",
       "    <tr>\n",
       "      <th>е.бедарев</th>\n",
       "      <td>1</td>\n",
       "    </tr>\n",
       "    <tr>\n",
       "      <th>е.борисова</th>\n",
       "      <td>1</td>\n",
       "    </tr>\n",
       "    <tr>\n",
       "      <th>е.жигаева</th>\n",
       "      <td>1</td>\n",
       "    </tr>\n",
       "    <tr>\n",
       "      <th>я.поляруш</th>\n",
       "      <td>1</td>\n",
       "    </tr>\n",
       "  </tbody>\n",
       "</table>\n",
       "<p>258 rows × 1 columns</p>\n",
       "</div>"
      ],
      "text/plain": [
       "               main_director_count\n",
       "main_director                     \n",
       "р.давлетьяров                    5\n",
       "д.дьяченко                       4\n",
       "с.андреасян                      4\n",
       "с.мокрицкий                      3\n",
       "а.цицилин                        3\n",
       "...                            ...\n",
       "е.баранов                        1\n",
       "е.бедарев                        1\n",
       "е.борисова                       1\n",
       "е.жигаева                        1\n",
       "я.поляруш                        1\n",
       "\n",
       "[258 rows x 1 columns]"
      ]
     },
     "execution_count": 80,
     "metadata": {},
     "output_type": "execute_result"
    }
   ],
   "source": [
    "support.groupby('main_director').agg(main_director_count=('main_director', 'count')).sort_values(by=('main_director_count'),\n",
    "                                                                                                 ascending=False)"
   ]
  },
  {
   "cell_type": "code",
   "execution_count": 81,
   "id": "6c7432f2",
   "metadata": {},
   "outputs": [
    {
     "data": {
      "text/html": [
       "<div>\n",
       "<style scoped>\n",
       "    .dataframe tbody tr th:only-of-type {\n",
       "        vertical-align: middle;\n",
       "    }\n",
       "\n",
       "    .dataframe tbody tr th {\n",
       "        vertical-align: top;\n",
       "    }\n",
       "\n",
       "    .dataframe thead th {\n",
       "        text-align: right;\n",
       "    }\n",
       "</style>\n",
       "<table border=\"1\" class=\"dataframe\">\n",
       "  <thead>\n",
       "    <tr style=\"text-align: right;\">\n",
       "      <th></th>\n",
       "      <th>title</th>\n",
       "      <th>puNumber</th>\n",
       "      <th>show_start_date</th>\n",
       "      <th>type</th>\n",
       "      <th>film_studio</th>\n",
       "      <th>production_country</th>\n",
       "      <th>director</th>\n",
       "      <th>producer</th>\n",
       "      <th>age_restriction</th>\n",
       "      <th>refundable_support</th>\n",
       "      <th>...</th>\n",
       "      <th>financing_source</th>\n",
       "      <th>ratings</th>\n",
       "      <th>genres</th>\n",
       "      <th>box_office</th>\n",
       "      <th>year_start</th>\n",
       "      <th>ratio</th>\n",
       "      <th>main_director</th>\n",
       "      <th>main_genres</th>\n",
       "      <th>all_support</th>\n",
       "      <th>payback</th>\n",
       "    </tr>\n",
       "  </thead>\n",
       "  <tbody>\n",
       "    <tr>\n",
       "      <th>2280</th>\n",
       "      <td>невидимки</td>\n",
       "      <td>111004213</td>\n",
       "      <td>2013-09-10 12:00:00+00:00</td>\n",
       "      <td>художественный</td>\n",
       "      <td>ооо \"компания \"реал-дакота\"</td>\n",
       "      <td>россия</td>\n",
       "      <td>р.давлетьяров, с.комаров</td>\n",
       "      <td>р.давлетьяров, а.котелевский, а.олейников</td>\n",
       "      <td>«12+» - для детей старше 12 лет</td>\n",
       "      <td>0.00</td>\n",
       "      <td>...</td>\n",
       "      <td>фонд кино</td>\n",
       "      <td>5.30</td>\n",
       "      <td>комедия,фантастика</td>\n",
       "      <td>19,957,031.50</td>\n",
       "      <td>2013</td>\n",
       "      <td>0.61</td>\n",
       "      <td>р.давлетьяров</td>\n",
       "      <td>комедия</td>\n",
       "      <td>107,847,945.00</td>\n",
       "      <td>-0.89</td>\n",
       "    </tr>\n",
       "    <tr>\n",
       "      <th>3404</th>\n",
       "      <td>а зори здесь тихие..._</td>\n",
       "      <td>111002915</td>\n",
       "      <td>2015-03-16 12:00:00+00:00</td>\n",
       "      <td>художественный</td>\n",
       "      <td>ооо \"компания \"реал-дакота\"</td>\n",
       "      <td>россия</td>\n",
       "      <td>р.давлетьяров</td>\n",
       "      <td>NaN</td>\n",
       "      <td>«12+» - для детей старше 12 лет</td>\n",
       "      <td>50,000,000.00</td>\n",
       "      <td>...</td>\n",
       "      <td>фонд кино</td>\n",
       "      <td>8.50</td>\n",
       "      <td>драма,военный,история</td>\n",
       "      <td>249,166,767.70</td>\n",
       "      <td>2015</td>\n",
       "      <td>0.68</td>\n",
       "      <td>р.давлетьяров</td>\n",
       "      <td>драма</td>\n",
       "      <td>150,000,000.00</td>\n",
       "      <td>0.13</td>\n",
       "    </tr>\n",
       "    <tr>\n",
       "      <th>3478</th>\n",
       "      <td>однажды._</td>\n",
       "      <td>111004215</td>\n",
       "      <td>2015-04-15 12:00:00+00:00</td>\n",
       "      <td>художественный</td>\n",
       "      <td>ооо \"компания \"реал-дакота\", нп \"интерфест\"</td>\n",
       "      <td>россия</td>\n",
       "      <td>р.давлетьяров</td>\n",
       "      <td>р.давлетьяров, а.котелевский</td>\n",
       "      <td>«16+» - для детей старше 16 лет</td>\n",
       "      <td>0.00</td>\n",
       "      <td>...</td>\n",
       "      <td>фонд кино</td>\n",
       "      <td>7.90</td>\n",
       "      <td>драма,криминал,детектив</td>\n",
       "      <td>12,748,398.30</td>\n",
       "      <td>2015</td>\n",
       "      <td>0.62</td>\n",
       "      <td>р.давлетьяров</td>\n",
       "      <td>драма</td>\n",
       "      <td>97,000,000.00</td>\n",
       "      <td>-0.92</td>\n",
       "    </tr>\n",
       "    <tr>\n",
       "      <th>3556</th>\n",
       "      <td>чистое искусство.</td>\n",
       "      <td>111008715</td>\n",
       "      <td>2015-05-05 12:00:00+00:00</td>\n",
       "      <td>художественный</td>\n",
       "      <td>ооо \"компания \"реал-дакота\"</td>\n",
       "      <td>россия</td>\n",
       "      <td>р.давлетьяров</td>\n",
       "      <td>р.давлетьяров</td>\n",
       "      <td>«16+» - для детей старше 16 лет</td>\n",
       "      <td>15,000,000.00</td>\n",
       "      <td>...</td>\n",
       "      <td>фонд кино</td>\n",
       "      <td>5.90</td>\n",
       "      <td>триллер,детектив</td>\n",
       "      <td>6,457,303.02</td>\n",
       "      <td>2015</td>\n",
       "      <td>0.67</td>\n",
       "      <td>р.давлетьяров</td>\n",
       "      <td>триллер</td>\n",
       "      <td>75,000,000.00</td>\n",
       "      <td>-0.94</td>\n",
       "    </tr>\n",
       "    <tr>\n",
       "      <th>6493</th>\n",
       "      <td>донбасс. окраина</td>\n",
       "      <td>111007919</td>\n",
       "      <td>2019-06-12 12:00:00+00:00</td>\n",
       "      <td>художественный</td>\n",
       "      <td>ано \"интерфест\", ооо \"пропеллер продакшн\"</td>\n",
       "      <td>россия</td>\n",
       "      <td>р.давлетьяров</td>\n",
       "      <td>р.давлетьяров, г.поземельный</td>\n",
       "      <td>«12+» - для детей старше 12 лет</td>\n",
       "      <td>0.00</td>\n",
       "      <td>...</td>\n",
       "      <td>министерство культуры</td>\n",
       "      <td>6.30</td>\n",
       "      <td>драма,военный,триллер</td>\n",
       "      <td>10,933,431.92</td>\n",
       "      <td>2019</td>\n",
       "      <td>0.28</td>\n",
       "      <td>р.давлетьяров</td>\n",
       "      <td>драма</td>\n",
       "      <td>30,000,000.00</td>\n",
       "      <td>-0.90</td>\n",
       "    </tr>\n",
       "  </tbody>\n",
       "</table>\n",
       "<p>5 rows × 22 columns</p>\n",
       "</div>"
      ],
      "text/plain": [
       "                       title   puNumber           show_start_date  \\\n",
       "2280               невидимки  111004213 2013-09-10 12:00:00+00:00   \n",
       "3404  а зори здесь тихие..._  111002915 2015-03-16 12:00:00+00:00   \n",
       "3478               однажды._  111004215 2015-04-15 12:00:00+00:00   \n",
       "3556       чистое искусство.  111008715 2015-05-05 12:00:00+00:00   \n",
       "6493        донбасс. окраина  111007919 2019-06-12 12:00:00+00:00   \n",
       "\n",
       "                type                                  film_studio  \\\n",
       "2280  художественный                  ооо \"компания \"реал-дакота\"   \n",
       "3404  художественный                  ооо \"компания \"реал-дакота\"   \n",
       "3478  художественный  ооо \"компания \"реал-дакота\", нп \"интерфест\"   \n",
       "3556  художественный                  ооо \"компания \"реал-дакота\"   \n",
       "6493  художественный    ано \"интерфест\", ооо \"пропеллер продакшн\"   \n",
       "\n",
       "     production_country                  director  \\\n",
       "2280             россия  р.давлетьяров, с.комаров   \n",
       "3404             россия             р.давлетьяров   \n",
       "3478             россия             р.давлетьяров   \n",
       "3556             россия             р.давлетьяров   \n",
       "6493             россия             р.давлетьяров   \n",
       "\n",
       "                                       producer  \\\n",
       "2280  р.давлетьяров, а.котелевский, а.олейников   \n",
       "3404                                        NaN   \n",
       "3478               р.давлетьяров, а.котелевский   \n",
       "3556                              р.давлетьяров   \n",
       "6493               р.давлетьяров, г.поземельный   \n",
       "\n",
       "                      age_restriction  refundable_support  ...  \\\n",
       "2280  «12+» - для детей старше 12 лет                0.00  ...   \n",
       "3404  «12+» - для детей старше 12 лет       50,000,000.00  ...   \n",
       "3478  «16+» - для детей старше 16 лет                0.00  ...   \n",
       "3556  «16+» - для детей старше 16 лет       15,000,000.00  ...   \n",
       "6493  «12+» - для детей старше 12 лет                0.00  ...   \n",
       "\n",
       "           financing_source  ratings                   genres     box_office  \\\n",
       "2280              фонд кино     5.30       комедия,фантастика  19,957,031.50   \n",
       "3404              фонд кино     8.50    драма,военный,история 249,166,767.70   \n",
       "3478              фонд кино     7.90  драма,криминал,детектив  12,748,398.30   \n",
       "3556              фонд кино     5.90         триллер,детектив   6,457,303.02   \n",
       "6493  министерство культуры     6.30    драма,военный,триллер  10,933,431.92   \n",
       "\n",
       "     year_start  ratio  main_director  main_genres    all_support payback  \n",
       "2280       2013   0.61  р.давлетьяров      комедия 107,847,945.00   -0.89  \n",
       "3404       2015   0.68  р.давлетьяров        драма 150,000,000.00    0.13  \n",
       "3478       2015   0.62  р.давлетьяров        драма  97,000,000.00   -0.92  \n",
       "3556       2015   0.67  р.давлетьяров      триллер  75,000,000.00   -0.94  \n",
       "6493       2019   0.28  р.давлетьяров        драма  30,000,000.00   -0.90  \n",
       "\n",
       "[5 rows x 22 columns]"
      ]
     },
     "execution_count": 81,
     "metadata": {},
     "output_type": "execute_result"
    }
   ],
   "source": [
    "support[(support.main_director == 'р.давлетьяров')]"
   ]
  },
  {
   "cell_type": "markdown",
   "id": "a712ac89",
   "metadata": {},
   "source": [
    "Чаще всех государство выделяет денег Р.Давлетьярову, но при этом лишь один из 5 фильмов окупился и то незначительно. Возможно он приближенный, либо снимает особенно важное кино для государства (к примеру про Донбасс).\n",
    "\n",
    "Посмотрим на жанры."
   ]
  },
  {
   "cell_type": "code",
   "execution_count": 82,
   "id": "57378838",
   "metadata": {},
   "outputs": [
    {
     "data": {
      "text/html": [
       "<div>\n",
       "<style scoped>\n",
       "    .dataframe tbody tr th:only-of-type {\n",
       "        vertical-align: middle;\n",
       "    }\n",
       "\n",
       "    .dataframe tbody tr th {\n",
       "        vertical-align: top;\n",
       "    }\n",
       "\n",
       "    .dataframe thead tr th {\n",
       "        text-align: left;\n",
       "    }\n",
       "\n",
       "    .dataframe thead tr:last-of-type th {\n",
       "        text-align: right;\n",
       "    }\n",
       "</style>\n",
       "<table border=\"1\" class=\"dataframe\">\n",
       "  <thead>\n",
       "    <tr>\n",
       "      <th></th>\n",
       "      <th colspan=\"2\" halign=\"left\">all_support</th>\n",
       "      <th colspan=\"2\" halign=\"left\">payback</th>\n",
       "      <th colspan=\"2\" halign=\"left\">ratings</th>\n",
       "    </tr>\n",
       "    <tr>\n",
       "      <th></th>\n",
       "      <th>count</th>\n",
       "      <th>mean</th>\n",
       "      <th>count</th>\n",
       "      <th>mean</th>\n",
       "      <th>count</th>\n",
       "      <th>mean</th>\n",
       "    </tr>\n",
       "    <tr>\n",
       "      <th>main_genres</th>\n",
       "      <th></th>\n",
       "      <th></th>\n",
       "      <th></th>\n",
       "      <th></th>\n",
       "      <th></th>\n",
       "      <th></th>\n",
       "    </tr>\n",
       "  </thead>\n",
       "  <tbody>\n",
       "    <tr>\n",
       "      <th>история</th>\n",
       "      <td>4</td>\n",
       "      <td>255,000,000.00</td>\n",
       "      <td>4</td>\n",
       "      <td>-0.44</td>\n",
       "      <td>4</td>\n",
       "      <td>5.35</td>\n",
       "    </tr>\n",
       "    <tr>\n",
       "      <th>спорт</th>\n",
       "      <td>3</td>\n",
       "      <td>151,666,666.67</td>\n",
       "      <td>3</td>\n",
       "      <td>1.41</td>\n",
       "      <td>3</td>\n",
       "      <td>6.93</td>\n",
       "    </tr>\n",
       "    <tr>\n",
       "      <th>фантастика</th>\n",
       "      <td>10</td>\n",
       "      <td>115,600,000.00</td>\n",
       "      <td>9</td>\n",
       "      <td>-0.61</td>\n",
       "      <td>9</td>\n",
       "      <td>5.84</td>\n",
       "    </tr>\n",
       "    <tr>\n",
       "      <th>приключения</th>\n",
       "      <td>7</td>\n",
       "      <td>99,428,571.43</td>\n",
       "      <td>6</td>\n",
       "      <td>-0.42</td>\n",
       "      <td>7</td>\n",
       "      <td>5.87</td>\n",
       "    </tr>\n",
       "    <tr>\n",
       "      <th>детектив</th>\n",
       "      <td>5</td>\n",
       "      <td>97,000,000.00</td>\n",
       "      <td>5</td>\n",
       "      <td>-0.93</td>\n",
       "      <td>5</td>\n",
       "      <td>6.76</td>\n",
       "    </tr>\n",
       "    <tr>\n",
       "      <th>фэнтези</th>\n",
       "      <td>11</td>\n",
       "      <td>93,900,000.00</td>\n",
       "      <td>11</td>\n",
       "      <td>-0.57</td>\n",
       "      <td>11</td>\n",
       "      <td>6.09</td>\n",
       "    </tr>\n",
       "    <tr>\n",
       "      <th>криминал</th>\n",
       "      <td>3</td>\n",
       "      <td>93,333,333.33</td>\n",
       "      <td>3</td>\n",
       "      <td>-0.68</td>\n",
       "      <td>3</td>\n",
       "      <td>7.50</td>\n",
       "    </tr>\n",
       "    <tr>\n",
       "      <th>мультфильм</th>\n",
       "      <td>26</td>\n",
       "      <td>74,289,230.77</td>\n",
       "      <td>25</td>\n",
       "      <td>-0.00</td>\n",
       "      <td>26</td>\n",
       "      <td>5.91</td>\n",
       "    </tr>\n",
       "    <tr>\n",
       "      <th>мюзикл</th>\n",
       "      <td>4</td>\n",
       "      <td>60,113,279.75</td>\n",
       "      <td>4</td>\n",
       "      <td>-0.84</td>\n",
       "      <td>4</td>\n",
       "      <td>6.55</td>\n",
       "    </tr>\n",
       "    <tr>\n",
       "      <th>драма</th>\n",
       "      <td>92</td>\n",
       "      <td>56,950,072.09</td>\n",
       "      <td>86</td>\n",
       "      <td>-0.59</td>\n",
       "      <td>91</td>\n",
       "      <td>6.39</td>\n",
       "    </tr>\n",
       "    <tr>\n",
       "      <th>реальное ТВ</th>\n",
       "      <td>1</td>\n",
       "      <td>53,000,000.00</td>\n",
       "      <td>1</td>\n",
       "      <td>-0.59</td>\n",
       "      <td>1</td>\n",
       "      <td>5.60</td>\n",
       "    </tr>\n",
       "    <tr>\n",
       "      <th>боевик</th>\n",
       "      <td>5</td>\n",
       "      <td>50,800,000.00</td>\n",
       "      <td>5</td>\n",
       "      <td>-0.41</td>\n",
       "      <td>5</td>\n",
       "      <td>6.34</td>\n",
       "    </tr>\n",
       "    <tr>\n",
       "      <th>триллер</th>\n",
       "      <td>14</td>\n",
       "      <td>50,688,948.93</td>\n",
       "      <td>14</td>\n",
       "      <td>-0.74</td>\n",
       "      <td>14</td>\n",
       "      <td>5.70</td>\n",
       "    </tr>\n",
       "    <tr>\n",
       "      <th>семейный</th>\n",
       "      <td>7</td>\n",
       "      <td>48,428,571.43</td>\n",
       "      <td>6</td>\n",
       "      <td>-0.25</td>\n",
       "      <td>7</td>\n",
       "      <td>5.41</td>\n",
       "    </tr>\n",
       "    <tr>\n",
       "      <th>военный</th>\n",
       "      <td>9</td>\n",
       "      <td>46,888,985.11</td>\n",
       "      <td>9</td>\n",
       "      <td>-0.14</td>\n",
       "      <td>9</td>\n",
       "      <td>6.47</td>\n",
       "    </tr>\n",
       "    <tr>\n",
       "      <th>комедия</th>\n",
       "      <td>68</td>\n",
       "      <td>43,871,808.01</td>\n",
       "      <td>67</td>\n",
       "      <td>0.53</td>\n",
       "      <td>68</td>\n",
       "      <td>5.52</td>\n",
       "    </tr>\n",
       "    <tr>\n",
       "      <th>биография</th>\n",
       "      <td>3</td>\n",
       "      <td>37,503,333.33</td>\n",
       "      <td>3</td>\n",
       "      <td>0.14</td>\n",
       "      <td>3</td>\n",
       "      <td>6.90</td>\n",
       "    </tr>\n",
       "    <tr>\n",
       "      <th>nan</th>\n",
       "      <td>15</td>\n",
       "      <td>36,666,666.67</td>\n",
       "      <td>14</td>\n",
       "      <td>-0.27</td>\n",
       "      <td>0</td>\n",
       "      <td>NaN</td>\n",
       "    </tr>\n",
       "    <tr>\n",
       "      <th>ужасы</th>\n",
       "      <td>10</td>\n",
       "      <td>35,500,000.00</td>\n",
       "      <td>10</td>\n",
       "      <td>0.05</td>\n",
       "      <td>10</td>\n",
       "      <td>5.20</td>\n",
       "    </tr>\n",
       "    <tr>\n",
       "      <th>детский</th>\n",
       "      <td>4</td>\n",
       "      <td>29,750,000.00</td>\n",
       "      <td>3</td>\n",
       "      <td>-0.98</td>\n",
       "      <td>4</td>\n",
       "      <td>7.12</td>\n",
       "    </tr>\n",
       "    <tr>\n",
       "      <th>мелодрама</th>\n",
       "      <td>14</td>\n",
       "      <td>26,785,714.29</td>\n",
       "      <td>13</td>\n",
       "      <td>-0.96</td>\n",
       "      <td>14</td>\n",
       "      <td>5.91</td>\n",
       "    </tr>\n",
       "  </tbody>\n",
       "</table>\n",
       "</div>"
      ],
      "text/plain": [
       "            all_support                payback       ratings     \n",
       "                  count           mean   count  mean   count mean\n",
       "main_genres                                                      \n",
       "история               4 255,000,000.00       4 -0.44       4 5.35\n",
       "спорт                 3 151,666,666.67       3  1.41       3 6.93\n",
       "фантастика           10 115,600,000.00       9 -0.61       9 5.84\n",
       "приключения           7  99,428,571.43       6 -0.42       7 5.87\n",
       "детектив              5  97,000,000.00       5 -0.93       5 6.76\n",
       "фэнтези              11  93,900,000.00      11 -0.57      11 6.09\n",
       "криминал              3  93,333,333.33       3 -0.68       3 7.50\n",
       "мультфильм           26  74,289,230.77      25 -0.00      26 5.91\n",
       "мюзикл                4  60,113,279.75       4 -0.84       4 6.55\n",
       "драма                92  56,950,072.09      86 -0.59      91 6.39\n",
       "реальное ТВ           1  53,000,000.00       1 -0.59       1 5.60\n",
       "боевик                5  50,800,000.00       5 -0.41       5 6.34\n",
       "триллер              14  50,688,948.93      14 -0.74      14 5.70\n",
       "семейный              7  48,428,571.43       6 -0.25       7 5.41\n",
       "военный               9  46,888,985.11       9 -0.14       9 6.47\n",
       "комедия              68  43,871,808.01      67  0.53      68 5.52\n",
       "биография             3  37,503,333.33       3  0.14       3 6.90\n",
       "nan                  15  36,666,666.67      14 -0.27       0  NaN\n",
       "ужасы                10  35,500,000.00      10  0.05      10 5.20\n",
       "детский               4  29,750,000.00       3 -0.98       4 7.12\n",
       "мелодрама            14  26,785,714.29      13 -0.96      14 5.91"
      ]
     },
     "execution_count": 82,
     "metadata": {},
     "output_type": "execute_result"
    }
   ],
   "source": [
    "support.pivot_table(index='main_genres', values=('all_support', 'ratings', 'payback'), \n",
    "                    aggfunc=('count', 'mean')).sort_values(by=('all_support', 'mean'), ascending=False)"
   ]
  },
  {
   "cell_type": "markdown",
   "id": "b7f1e1a6",
   "metadata": {},
   "source": [
    "Больше всего денег государство выделяет на исторический фильмы, но при этом они не окупаются. Далее идет фильмы про спорт и они как раз самые окупаемые и с высоким рейтингом (почти 7). По количеству больше всего выделяется денег на драмы и комедии, при этом драмы не окупаются, а комедии окупаются. Однако рейтинг у драм выше, чем у комедий. Самй рейтинговый жанр это криминал. Самый окупаемый спорт. Меньше всего финансируются мелодрамы. Меньше всех окупаются детские фильмы (но не мультики). Самый низкий рейтинг у исторических фильмов."
   ]
  },
  {
   "cell_type": "markdown",
   "id": "8c93161f",
   "metadata": {},
   "source": [
    "# Итоги"
   ]
  },
  {
   "cell_type": "markdown",
   "id": "dd3ceeda",
   "metadata": {},
   "source": [
    "Исследовав данные кинопроката за 10 лет с 2010 по 2019 год, я выяснила, что больше всего фильмов снять в 2010, 2018 и 2019 года, но из них с учетом наличия информации о кассовых сборах самый полный год это 2017. \n",
    "\n",
    "До 2014 данных о кассовых сборах практически нет. С 2014 по 2017 суммы проката растут после нижаются, в итоге саммый кассовый год это 2017. Адекватно оценивать период с 2015 по 2019 год. Больше всего снято фильмов категории 16+, но саммые кассовые это 6+ и 12+, соответсвенно однозначно можно сказать, что возрастная категория фильма сильно влияет на кассовые сборы. Это можно объяснить тем, что в кинотатры чаще ходят семьями и соответсвенно выбирают фильм интересный и детям и взрослым.\n",
    "\n",
    "Отдельно посмотрела фильмы с гос поддержкой. Процентр таких фильмов в общей выборке составил 4,5%. В основном это фильмы 12+ и 16+, но самые кассовые среди них это 6+ в 2015-2017 годах и 12+ в 2018-2019 годах. Больше всего фильмо в снять в 2015 - 80. До 2017 года сумма вложений в один фильм растет, после снижается в 2018 и незначительно расчет в 2019. Всего 2 источника финансирования: \"Фонд Кино\" и \"Министерство культуры\". При этом \"Министрерство культуры\" вложилось в большее количество фильмов, а \"Фонд Кино\" вложил денег в 3 раза больше. Доля гос поддержки в основном около 50% (47%-55%).\n",
    "\n",
    "**Топ - 5** самых окупившихся фильмов это: \"Холоп\", \"Лед\", \"Я худею\", \"Гуляй, Вася!\", \"Самый лучший день\".\n",
    "\n",
    "**Топ - 5** рейтинговых фильмов это: \"Большой\", \"А зори здесь тихие\", \"Миллиард\", \"Пока еще жива\", \"Байкал - сердце мира 3d\", но при этом \"Большой\" и \"Пока еще жива\" не окупились.\n",
    "\n",
    "Всего окупается лишь 21% фильмов с гос поддержкой. Начиная с 2017 окупаемойть растет. Рейтинг окупившихся фильмов в среднем от6 до 6,5, а общий рейтинг 6.\n",
    "Больше всего государство выделило денег режиссеру Н. Хомерики, но он снял 2 фильма. А на 100 млн меньше выделили Ф. Бондарчуку. но на 1 фильм. На один фильм меньше всего дали режиссеру А.Поповой (\"Байкал - сердце мира 3d\"), а больше всего Ф. Бондарчуку (\"Вторжение\") и А. Кравчук (\"Союз спасения\"). Чаще всех государство выделяет денег Р.Давлетьярову, но при этом лишь один из 5 фильмов окупился и то незначительно. Возможно он приближенный, либо снимает особенно важное кино для государства (к примеру про Донбасс). Самый окупившийся фильм \"Холоп\" снял К. Шипенко, он окупился в 18 раз, следом идет фильм О. Трофима - Лед.\n",
    "\n",
    "Больше всего денег государство выделяет на исторический фильмы, но при этом они не окупаются. Далее идет фильмы про спорт и они как раз самые окупаемые и с высоким рейтингом (почти 7). По количеству больше всего выделяется денег на драмы и комедии, при этом драмы не окупаются, а комедии окупаются. Однако рейтинг у драм выше, чем у комедий. Самй рейтинговый жанр это криминал. Самый окупаемый спорт. Меньше всего финансируются мелодрамы. Меньше всех окупаются детские фильмы (но не мультики). Самый низкий рейтинг у исторических фильмов."
   ]
  }
 ],
 "metadata": {
  "ExecuteTimeLog": [
   {
    "duration": 609,
    "start_time": "2022-04-04T16:55:22.717Z"
   },
   {
    "duration": 0,
    "start_time": "2022-04-04T16:55:23.329Z"
   },
   {
    "duration": 0,
    "start_time": "2022-04-04T16:55:23.331Z"
   },
   {
    "duration": 0,
    "start_time": "2022-04-04T16:55:23.331Z"
   },
   {
    "duration": 0,
    "start_time": "2022-04-04T16:55:23.332Z"
   },
   {
    "duration": 0,
    "start_time": "2022-04-04T16:55:23.333Z"
   },
   {
    "duration": 0,
    "start_time": "2022-04-04T16:55:23.334Z"
   },
   {
    "duration": 0,
    "start_time": "2022-04-04T16:55:23.335Z"
   },
   {
    "duration": 0,
    "start_time": "2022-04-04T16:55:23.336Z"
   },
   {
    "duration": 0,
    "start_time": "2022-04-04T16:55:23.337Z"
   },
   {
    "duration": 0,
    "start_time": "2022-04-04T16:55:23.338Z"
   },
   {
    "duration": 0,
    "start_time": "2022-04-04T16:55:23.339Z"
   },
   {
    "duration": 0,
    "start_time": "2022-04-04T16:55:23.340Z"
   },
   {
    "duration": 0,
    "start_time": "2022-04-04T16:55:23.341Z"
   },
   {
    "duration": 0,
    "start_time": "2022-04-04T16:55:23.342Z"
   },
   {
    "duration": 0,
    "start_time": "2022-04-04T16:55:23.343Z"
   },
   {
    "duration": 0,
    "start_time": "2022-04-04T16:55:23.344Z"
   },
   {
    "duration": 0,
    "start_time": "2022-04-04T16:55:23.345Z"
   },
   {
    "duration": 0,
    "start_time": "2022-04-04T16:55:23.346Z"
   },
   {
    "duration": 0,
    "start_time": "2022-04-04T16:55:23.346Z"
   },
   {
    "duration": 0,
    "start_time": "2022-04-04T16:55:23.348Z"
   },
   {
    "duration": 0,
    "start_time": "2022-04-04T16:55:23.349Z"
   },
   {
    "duration": 0,
    "start_time": "2022-04-04T16:55:23.350Z"
   },
   {
    "duration": 0,
    "start_time": "2022-04-04T16:55:23.351Z"
   },
   {
    "duration": 0,
    "start_time": "2022-04-04T16:55:23.352Z"
   },
   {
    "duration": 0,
    "start_time": "2022-04-04T16:55:23.353Z"
   },
   {
    "duration": 0,
    "start_time": "2022-04-04T16:55:23.354Z"
   },
   {
    "duration": 0,
    "start_time": "2022-04-04T16:55:23.355Z"
   },
   {
    "duration": 0,
    "start_time": "2022-04-04T16:55:23.356Z"
   },
   {
    "duration": 0,
    "start_time": "2022-04-04T16:55:23.357Z"
   },
   {
    "duration": 0,
    "start_time": "2022-04-04T16:55:23.358Z"
   },
   {
    "duration": 0,
    "start_time": "2022-04-04T16:55:23.359Z"
   },
   {
    "duration": 0,
    "start_time": "2022-04-04T16:55:23.360Z"
   },
   {
    "duration": 0,
    "start_time": "2022-04-04T16:55:23.360Z"
   },
   {
    "duration": 0,
    "start_time": "2022-04-04T16:55:23.361Z"
   },
   {
    "duration": 0,
    "start_time": "2022-04-04T16:55:23.362Z"
   },
   {
    "duration": 0,
    "start_time": "2022-04-04T16:55:23.363Z"
   },
   {
    "duration": 0,
    "start_time": "2022-04-04T16:55:23.364Z"
   },
   {
    "duration": 0,
    "start_time": "2022-04-04T16:55:23.365Z"
   },
   {
    "duration": 0,
    "start_time": "2022-04-04T16:55:23.365Z"
   },
   {
    "duration": 1,
    "start_time": "2022-04-04T16:55:23.366Z"
   },
   {
    "duration": 0,
    "start_time": "2022-04-04T16:55:23.369Z"
   },
   {
    "duration": 0,
    "start_time": "2022-04-04T16:55:23.369Z"
   },
   {
    "duration": 1,
    "start_time": "2022-04-04T16:55:23.370Z"
   },
   {
    "duration": 0,
    "start_time": "2022-04-04T16:55:23.432Z"
   },
   {
    "duration": 0,
    "start_time": "2022-04-04T16:55:23.433Z"
   },
   {
    "duration": 0,
    "start_time": "2022-04-04T16:55:23.434Z"
   },
   {
    "duration": 0,
    "start_time": "2022-04-04T16:55:23.435Z"
   },
   {
    "duration": 0,
    "start_time": "2022-04-04T16:55:23.436Z"
   },
   {
    "duration": 0,
    "start_time": "2022-04-04T16:55:23.437Z"
   },
   {
    "duration": 0,
    "start_time": "2022-04-04T16:55:23.438Z"
   },
   {
    "duration": 0,
    "start_time": "2022-04-04T16:55:23.439Z"
   },
   {
    "duration": 0,
    "start_time": "2022-04-04T16:55:23.440Z"
   },
   {
    "duration": 0,
    "start_time": "2022-04-04T16:55:23.440Z"
   },
   {
    "duration": 0,
    "start_time": "2022-04-04T16:55:23.441Z"
   },
   {
    "duration": 0,
    "start_time": "2022-04-04T16:55:23.442Z"
   },
   {
    "duration": 0,
    "start_time": "2022-04-04T16:55:23.443Z"
   },
   {
    "duration": 0,
    "start_time": "2022-04-04T16:55:23.444Z"
   },
   {
    "duration": 0,
    "start_time": "2022-04-04T16:55:23.445Z"
   },
   {
    "duration": 0,
    "start_time": "2022-04-04T16:55:23.446Z"
   },
   {
    "duration": 0,
    "start_time": "2022-04-04T16:55:23.447Z"
   },
   {
    "duration": 0,
    "start_time": "2022-04-04T16:55:23.448Z"
   },
   {
    "duration": 0,
    "start_time": "2022-04-04T16:55:23.449Z"
   },
   {
    "duration": 0,
    "start_time": "2022-04-04T16:55:23.450Z"
   },
   {
    "duration": 0,
    "start_time": "2022-04-04T16:55:23.451Z"
   },
   {
    "duration": 0,
    "start_time": "2022-04-04T16:55:23.452Z"
   },
   {
    "duration": 0,
    "start_time": "2022-04-04T16:55:23.453Z"
   },
   {
    "duration": 0,
    "start_time": "2022-04-04T16:55:23.454Z"
   },
   {
    "duration": 0,
    "start_time": "2022-04-04T16:55:23.455Z"
   },
   {
    "duration": 0,
    "start_time": "2022-04-04T16:55:23.455Z"
   },
   {
    "duration": 0,
    "start_time": "2022-04-04T16:55:23.456Z"
   },
   {
    "duration": 0,
    "start_time": "2022-04-04T16:55:23.457Z"
   },
   {
    "duration": 0,
    "start_time": "2022-04-04T16:55:23.458Z"
   },
   {
    "duration": 0,
    "start_time": "2022-04-04T16:55:23.459Z"
   },
   {
    "duration": 0,
    "start_time": "2022-04-04T16:55:23.460Z"
   },
   {
    "duration": 0,
    "start_time": "2022-04-04T16:55:23.461Z"
   },
   {
    "duration": 182,
    "start_time": "2022-04-04T16:58:06.816Z"
   },
   {
    "duration": 170,
    "start_time": "2022-04-04T16:58:39.861Z"
   },
   {
    "duration": 3,
    "start_time": "2022-04-04T16:59:42.449Z"
   },
   {
    "duration": 185,
    "start_time": "2022-04-04T17:00:00.974Z"
   },
   {
    "duration": 152,
    "start_time": "2022-04-04T17:00:10.028Z"
   },
   {
    "duration": 118,
    "start_time": "2022-04-04T17:01:26.437Z"
   },
   {
    "duration": 6,
    "start_time": "2022-04-04T17:01:26.558Z"
   },
   {
    "duration": 57,
    "start_time": "2022-04-04T17:01:26.566Z"
   },
   {
    "duration": 32,
    "start_time": "2022-04-04T17:01:26.625Z"
   },
   {
    "duration": 10,
    "start_time": "2022-04-04T17:01:26.660Z"
   },
   {
    "duration": 7,
    "start_time": "2022-04-04T17:01:26.672Z"
   },
   {
    "duration": 11,
    "start_time": "2022-04-04T17:01:26.680Z"
   },
   {
    "duration": 45,
    "start_time": "2022-04-04T17:01:26.692Z"
   },
   {
    "duration": 28,
    "start_time": "2022-04-04T17:01:26.739Z"
   },
   {
    "duration": 15,
    "start_time": "2022-04-04T17:01:26.769Z"
   },
   {
    "duration": 11,
    "start_time": "2022-04-04T17:01:26.786Z"
   },
   {
    "duration": 43,
    "start_time": "2022-04-04T17:01:26.799Z"
   },
   {
    "duration": 26,
    "start_time": "2022-04-04T17:01:26.844Z"
   },
   {
    "duration": 25,
    "start_time": "2022-04-04T17:01:26.873Z"
   },
   {
    "duration": 10,
    "start_time": "2022-04-04T17:01:27.418Z"
   },
   {
    "duration": 49,
    "start_time": "2022-04-04T17:01:27.430Z"
   },
   {
    "duration": 6,
    "start_time": "2022-04-04T17:01:27.481Z"
   },
   {
    "duration": 12,
    "start_time": "2022-04-04T17:01:27.489Z"
   },
   {
    "duration": 5,
    "start_time": "2022-04-04T17:01:27.504Z"
   },
   {
    "duration": 6,
    "start_time": "2022-04-04T17:01:27.531Z"
   },
   {
    "duration": 36,
    "start_time": "2022-04-04T17:01:27.539Z"
   },
   {
    "duration": 15,
    "start_time": "2022-04-04T17:01:27.577Z"
   },
   {
    "duration": 757,
    "start_time": "2022-04-04T17:01:27.594Z"
   },
   {
    "duration": 28,
    "start_time": "2022-04-04T17:01:28.352Z"
   },
   {
    "duration": 296,
    "start_time": "2022-04-04T17:01:28.382Z"
   },
   {
    "duration": 20,
    "start_time": "2022-04-04T17:01:28.732Z"
   },
   {
    "duration": 412,
    "start_time": "2022-04-04T17:01:28.753Z"
   },
   {
    "duration": 307,
    "start_time": "2022-04-04T17:01:29.168Z"
   },
   {
    "duration": 72,
    "start_time": "2022-04-04T17:01:29.477Z"
   },
   {
    "duration": 304,
    "start_time": "2022-04-04T17:01:29.550Z"
   },
   {
    "duration": 20,
    "start_time": "2022-04-04T17:01:29.855Z"
   },
   {
    "duration": 20,
    "start_time": "2022-04-04T17:01:29.932Z"
   },
   {
    "duration": 15,
    "start_time": "2022-04-04T17:01:29.954Z"
   },
   {
    "duration": 222,
    "start_time": "2022-04-04T17:01:29.971Z"
   },
   {
    "duration": 18,
    "start_time": "2022-04-04T17:01:30.195Z"
   },
   {
    "duration": 189,
    "start_time": "2022-04-04T17:01:30.231Z"
   },
   {
    "duration": 204,
    "start_time": "2022-04-04T17:01:30.421Z"
   },
   {
    "duration": 203,
    "start_time": "2022-04-04T17:01:30.626Z"
   },
   {
    "duration": 26,
    "start_time": "2022-04-04T17:01:30.832Z"
   },
   {
    "duration": 6,
    "start_time": "2022-04-04T17:01:30.860Z"
   },
   {
    "duration": 105,
    "start_time": "2022-04-04T17:01:30.867Z"
   },
   {
    "duration": 92,
    "start_time": "2022-04-04T17:01:30.974Z"
   },
   {
    "duration": 6,
    "start_time": "2022-04-04T17:01:31.068Z"
   },
   {
    "duration": 771,
    "start_time": "2022-04-04T17:01:31.076Z"
   },
   {
    "duration": 287,
    "start_time": "2022-04-04T17:01:31.848Z"
   },
   {
    "duration": 172,
    "start_time": "2022-04-04T17:01:32.137Z"
   },
   {
    "duration": 186,
    "start_time": "2022-04-04T17:01:32.311Z"
   },
   {
    "duration": 180,
    "start_time": "2022-04-04T17:01:32.499Z"
   },
   {
    "duration": 9,
    "start_time": "2022-04-04T17:01:32.681Z"
   },
   {
    "duration": 325,
    "start_time": "2022-04-04T17:01:32.692Z"
   },
   {
    "duration": 22,
    "start_time": "2022-04-04T17:01:33.019Z"
   },
   {
    "duration": 29,
    "start_time": "2022-04-04T17:01:33.042Z"
   },
   {
    "duration": 110,
    "start_time": "2022-04-04T17:01:33.072Z"
   },
   {
    "duration": 20,
    "start_time": "2022-04-04T17:01:33.184Z"
   },
   {
    "duration": 27,
    "start_time": "2022-04-04T17:01:33.208Z"
   },
   {
    "duration": 21,
    "start_time": "2022-04-04T17:01:33.237Z"
   },
   {
    "duration": 26,
    "start_time": "2022-04-04T17:01:33.260Z"
   },
   {
    "duration": 50,
    "start_time": "2022-04-04T17:01:33.288Z"
   },
   {
    "duration": 28,
    "start_time": "2022-04-04T17:01:33.339Z"
   },
   {
    "duration": 13,
    "start_time": "2022-04-04T17:01:33.369Z"
   },
   {
    "duration": 50,
    "start_time": "2022-04-04T17:01:33.383Z"
   },
   {
    "duration": 25,
    "start_time": "2022-04-04T17:01:33.434Z"
   },
   {
    "duration": 7,
    "start_time": "2022-04-04T17:01:33.461Z"
   },
   {
    "duration": 18,
    "start_time": "2022-04-04T17:01:33.470Z"
   },
   {
    "duration": 19,
    "start_time": "2022-04-04T17:01:33.490Z"
   },
   {
    "duration": 32,
    "start_time": "2022-04-04T17:01:33.511Z"
   },
   {
    "duration": 40,
    "start_time": "2022-04-04T17:01:33.544Z"
   },
   {
    "duration": 16,
    "start_time": "2022-04-04T17:01:33.585Z"
   },
   {
    "duration": 33,
    "start_time": "2022-04-04T17:01:33.603Z"
   },
   {
    "duration": 43,
    "start_time": "2022-04-04T17:01:33.637Z"
   },
   {
    "duration": 24,
    "start_time": "2022-04-04T17:01:33.682Z"
   },
   {
    "duration": 43,
    "start_time": "2022-04-04T17:01:33.708Z"
   },
   {
    "duration": 33,
    "start_time": "2022-04-04T17:01:33.753Z"
   },
   {
    "duration": 35,
    "start_time": "2022-04-04T17:01:33.788Z"
   },
   {
    "duration": 46,
    "start_time": "2022-04-04T17:01:33.825Z"
   },
   {
    "duration": 23,
    "start_time": "2022-04-04T17:28:18.606Z"
   },
   {
    "duration": 5,
    "start_time": "2022-04-04T17:31:52.230Z"
   },
   {
    "duration": 50,
    "start_time": "2022-04-04T17:32:43.202Z"
   },
   {
    "duration": 11,
    "start_time": "2022-04-04T17:34:42.781Z"
   },
   {
    "duration": 15,
    "start_time": "2022-04-04T17:35:03.371Z"
   },
   {
    "duration": 29,
    "start_time": "2022-04-04T17:49:01.576Z"
   },
   {
    "duration": 192,
    "start_time": "2022-04-04T17:53:15.529Z"
   },
   {
    "duration": 565,
    "start_time": "2022-04-05T04:04:50.208Z"
   },
   {
    "duration": 3,
    "start_time": "2022-04-05T04:04:59.806Z"
   },
   {
    "duration": 143,
    "start_time": "2022-04-05T04:05:08.973Z"
   },
   {
    "duration": 149,
    "start_time": "2022-04-05T04:05:10.186Z"
   },
   {
    "duration": 6,
    "start_time": "2022-04-05T04:05:12.933Z"
   },
   {
    "duration": 46,
    "start_time": "2022-04-05T04:05:13.759Z"
   },
   {
    "duration": 33,
    "start_time": "2022-04-05T04:05:19.737Z"
   },
   {
    "duration": 10,
    "start_time": "2022-04-05T04:05:36.357Z"
   },
   {
    "duration": 7,
    "start_time": "2022-04-05T04:05:38.354Z"
   },
   {
    "duration": 5,
    "start_time": "2022-04-05T04:05:38.755Z"
   },
   {
    "duration": 25,
    "start_time": "2022-04-05T04:05:46.756Z"
   },
   {
    "duration": 17,
    "start_time": "2022-04-05T04:05:49.739Z"
   },
   {
    "duration": 13,
    "start_time": "2022-04-05T04:05:52.688Z"
   },
   {
    "duration": 11,
    "start_time": "2022-04-05T04:05:58.335Z"
   },
   {
    "duration": 11,
    "start_time": "2022-04-05T04:06:10.056Z"
   },
   {
    "duration": 12,
    "start_time": "2022-04-05T04:07:04.185Z"
   },
   {
    "duration": 143,
    "start_time": "2022-04-05T04:07:15.314Z"
   },
   {
    "duration": 16,
    "start_time": "2022-04-05T04:07:20.430Z"
   },
   {
    "duration": 21,
    "start_time": "2022-04-05T04:09:15.877Z"
   },
   {
    "duration": 50,
    "start_time": "2022-04-05T05:24:45.044Z"
   },
   {
    "duration": 368,
    "start_time": "2022-04-05T05:24:54.285Z"
   },
   {
    "duration": 246,
    "start_time": "2022-04-05T05:24:58.257Z"
   },
   {
    "duration": 45,
    "start_time": "2022-04-05T05:25:07.374Z"
   },
   {
    "duration": 86,
    "start_time": "2022-04-05T05:25:29.097Z"
   },
   {
    "duration": 13,
    "start_time": "2022-04-05T05:25:37.469Z"
   },
   {
    "duration": 29,
    "start_time": "2022-04-05T05:28:36.274Z"
   },
   {
    "duration": 426,
    "start_time": "2022-04-05T05:28:46.757Z"
   },
   {
    "duration": 2,
    "start_time": "2022-04-05T05:28:47.185Z"
   },
   {
    "duration": 138,
    "start_time": "2022-04-05T05:28:47.189Z"
   },
   {
    "duration": 49,
    "start_time": "2022-04-05T05:28:47.329Z"
   },
   {
    "duration": 61,
    "start_time": "2022-04-05T05:28:47.380Z"
   },
   {
    "duration": 15,
    "start_time": "2022-04-05T05:28:47.444Z"
   },
   {
    "duration": 14,
    "start_time": "2022-04-05T05:28:47.460Z"
   },
   {
    "duration": 38,
    "start_time": "2022-04-05T05:28:47.476Z"
   },
   {
    "duration": 44,
    "start_time": "2022-04-05T05:28:47.515Z"
   },
   {
    "duration": 10,
    "start_time": "2022-04-05T05:28:47.562Z"
   },
   {
    "duration": 7,
    "start_time": "2022-04-05T05:28:47.574Z"
   },
   {
    "duration": 7,
    "start_time": "2022-04-05T05:28:47.583Z"
   },
   {
    "duration": 53,
    "start_time": "2022-04-05T05:28:47.592Z"
   },
   {
    "duration": 16,
    "start_time": "2022-04-05T05:28:47.648Z"
   },
   {
    "duration": 12,
    "start_time": "2022-04-05T05:28:47.665Z"
   },
   {
    "duration": 19,
    "start_time": "2022-04-05T05:28:47.679Z"
   },
   {
    "duration": 59,
    "start_time": "2022-04-05T05:28:47.700Z"
   },
   {
    "duration": 25,
    "start_time": "2022-04-05T05:28:47.760Z"
   },
   {
    "duration": 24,
    "start_time": "2022-04-05T05:28:47.786Z"
   },
   {
    "duration": 34,
    "start_time": "2022-04-05T05:28:47.811Z"
   },
   {
    "duration": 48,
    "start_time": "2022-04-05T05:28:47.847Z"
   },
   {
    "duration": 60,
    "start_time": "2022-04-05T05:28:47.897Z"
   },
   {
    "duration": 5,
    "start_time": "2022-04-05T05:28:47.958Z"
   },
   {
    "duration": 10,
    "start_time": "2022-04-05T05:28:47.965Z"
   },
   {
    "duration": 6,
    "start_time": "2022-04-05T05:28:47.976Z"
   },
   {
    "duration": 6,
    "start_time": "2022-04-05T05:28:47.983Z"
   },
   {
    "duration": 62,
    "start_time": "2022-04-05T05:28:47.991Z"
   },
   {
    "duration": 15,
    "start_time": "2022-04-05T05:28:48.057Z"
   },
   {
    "duration": 698,
    "start_time": "2022-04-05T05:28:48.073Z"
   },
   {
    "duration": 25,
    "start_time": "2022-04-05T05:28:48.773Z"
   },
   {
    "duration": 167,
    "start_time": "2022-04-05T05:28:48.800Z"
   },
   {
    "duration": 18,
    "start_time": "2022-04-05T05:28:48.969Z"
   },
   {
    "duration": 214,
    "start_time": "2022-04-05T05:28:48.989Z"
   },
   {
    "duration": 149,
    "start_time": "2022-04-05T05:28:49.204Z"
   },
   {
    "duration": 17,
    "start_time": "2022-04-05T05:28:49.354Z"
   },
   {
    "duration": 143,
    "start_time": "2022-04-05T05:28:49.373Z"
   },
   {
    "duration": 25,
    "start_time": "2022-04-05T05:28:49.517Z"
   },
   {
    "duration": 19,
    "start_time": "2022-04-05T05:28:49.545Z"
   },
   {
    "duration": 17,
    "start_time": "2022-04-05T05:28:49.565Z"
   },
   {
    "duration": 193,
    "start_time": "2022-04-05T05:28:49.583Z"
   },
   {
    "duration": 19,
    "start_time": "2022-04-05T05:28:49.777Z"
   },
   {
    "duration": 189,
    "start_time": "2022-04-05T05:28:49.797Z"
   },
   {
    "duration": 186,
    "start_time": "2022-04-05T05:28:49.988Z"
   },
   {
    "duration": 180,
    "start_time": "2022-04-05T05:28:50.176Z"
   },
   {
    "duration": 25,
    "start_time": "2022-04-05T05:28:50.358Z"
   },
   {
    "duration": 7,
    "start_time": "2022-04-05T05:28:50.385Z"
   },
   {
    "duration": 112,
    "start_time": "2022-04-05T05:28:50.394Z"
   },
   {
    "duration": 93,
    "start_time": "2022-04-05T05:28:50.508Z"
   },
   {
    "duration": 6,
    "start_time": "2022-04-05T05:28:50.603Z"
   },
   {
    "duration": 556,
    "start_time": "2022-04-05T05:28:50.611Z"
   },
   {
    "duration": 273,
    "start_time": "2022-04-05T05:28:51.169Z"
   },
   {
    "duration": 159,
    "start_time": "2022-04-05T05:28:51.445Z"
   },
   {
    "duration": 168,
    "start_time": "2022-04-05T05:28:51.606Z"
   },
   {
    "duration": 172,
    "start_time": "2022-04-05T05:28:51.776Z"
   },
   {
    "duration": 9,
    "start_time": "2022-04-05T05:28:51.950Z"
   },
   {
    "duration": 297,
    "start_time": "2022-04-05T05:28:51.961Z"
   },
   {
    "duration": 17,
    "start_time": "2022-04-05T05:28:52.259Z"
   },
   {
    "duration": 15,
    "start_time": "2022-04-05T05:28:52.278Z"
   },
   {
    "duration": 153,
    "start_time": "2022-04-05T05:28:52.295Z"
   },
   {
    "duration": 19,
    "start_time": "2022-04-05T05:28:52.450Z"
   },
   {
    "duration": 8,
    "start_time": "2022-04-05T05:28:52.471Z"
   },
   {
    "duration": 15,
    "start_time": "2022-04-05T05:28:52.481Z"
   },
   {
    "duration": 61,
    "start_time": "2022-04-05T05:28:52.497Z"
   },
   {
    "duration": 30,
    "start_time": "2022-04-05T05:28:52.560Z"
   },
   {
    "duration": 58,
    "start_time": "2022-04-05T05:28:52.591Z"
   },
   {
    "duration": 12,
    "start_time": "2022-04-05T05:28:52.651Z"
   },
   {
    "duration": 25,
    "start_time": "2022-04-05T05:28:52.665Z"
   },
   {
    "duration": 44,
    "start_time": "2022-04-05T05:28:52.691Z"
   },
   {
    "duration": 11,
    "start_time": "2022-04-05T05:28:52.737Z"
   },
   {
    "duration": 11,
    "start_time": "2022-04-05T05:28:52.749Z"
   },
   {
    "duration": 12,
    "start_time": "2022-04-05T05:28:52.761Z"
   },
   {
    "duration": 11,
    "start_time": "2022-04-05T05:28:52.774Z"
   },
   {
    "duration": 55,
    "start_time": "2022-04-05T05:28:52.786Z"
   },
   {
    "duration": 18,
    "start_time": "2022-04-05T05:28:52.846Z"
   },
   {
    "duration": 24,
    "start_time": "2022-04-05T05:28:52.865Z"
   },
   {
    "duration": 14,
    "start_time": "2022-04-05T05:28:52.890Z"
   },
   {
    "duration": 52,
    "start_time": "2022-04-05T05:28:52.906Z"
   },
   {
    "duration": 21,
    "start_time": "2022-04-05T05:28:52.960Z"
   },
   {
    "duration": 15,
    "start_time": "2022-04-05T05:28:52.982Z"
   },
   {
    "duration": 57,
    "start_time": "2022-04-05T05:28:52.999Z"
   },
   {
    "duration": 27,
    "start_time": "2022-04-05T05:28:53.057Z"
   },
   {
    "duration": 29,
    "start_time": "2022-04-05T05:34:47.091Z"
   },
   {
    "duration": 110,
    "start_time": "2022-04-05T05:43:18.275Z"
   },
   {
    "duration": 465,
    "start_time": "2022-04-05T05:43:26.025Z"
   },
   {
    "duration": 3,
    "start_time": "2022-04-05T05:43:26.493Z"
   },
   {
    "duration": 121,
    "start_time": "2022-04-05T05:43:26.498Z"
   },
   {
    "duration": 49,
    "start_time": "2022-04-05T05:43:26.621Z"
   },
   {
    "duration": 58,
    "start_time": "2022-04-05T05:43:26.671Z"
   },
   {
    "duration": 20,
    "start_time": "2022-04-05T05:43:26.730Z"
   },
   {
    "duration": 6,
    "start_time": "2022-04-05T05:43:26.751Z"
   },
   {
    "duration": 36,
    "start_time": "2022-04-05T05:43:26.758Z"
   },
   {
    "duration": 62,
    "start_time": "2022-04-05T05:43:26.795Z"
   },
   {
    "duration": 9,
    "start_time": "2022-04-05T05:43:26.860Z"
   },
   {
    "duration": 14,
    "start_time": "2022-04-05T05:43:26.871Z"
   },
   {
    "duration": 6,
    "start_time": "2022-04-05T05:43:26.887Z"
   },
   {
    "duration": 44,
    "start_time": "2022-04-05T05:43:26.894Z"
   },
   {
    "duration": 20,
    "start_time": "2022-04-05T05:43:26.940Z"
   },
   {
    "duration": 9,
    "start_time": "2022-04-05T05:43:26.962Z"
   },
   {
    "duration": 19,
    "start_time": "2022-04-05T05:43:26.973Z"
   },
   {
    "duration": 56,
    "start_time": "2022-04-05T05:43:26.994Z"
   },
   {
    "duration": 25,
    "start_time": "2022-04-05T05:43:27.051Z"
   },
   {
    "duration": 24,
    "start_time": "2022-04-05T05:43:27.077Z"
   },
   {
    "duration": 54,
    "start_time": "2022-04-05T05:43:27.102Z"
   },
   {
    "duration": 77,
    "start_time": "2022-04-05T05:43:27.158Z"
   },
   {
    "duration": 0,
    "start_time": "2022-04-05T05:43:27.240Z"
   },
   {
    "duration": 0,
    "start_time": "2022-04-05T05:43:27.242Z"
   },
   {
    "duration": 0,
    "start_time": "2022-04-05T05:43:27.244Z"
   },
   {
    "duration": 0,
    "start_time": "2022-04-05T05:43:27.246Z"
   },
   {
    "duration": 0,
    "start_time": "2022-04-05T05:43:27.247Z"
   },
   {
    "duration": 0,
    "start_time": "2022-04-05T05:43:27.249Z"
   },
   {
    "duration": 0,
    "start_time": "2022-04-05T05:43:27.251Z"
   },
   {
    "duration": 0,
    "start_time": "2022-04-05T05:43:27.251Z"
   },
   {
    "duration": 0,
    "start_time": "2022-04-05T05:43:27.253Z"
   },
   {
    "duration": 0,
    "start_time": "2022-04-05T05:43:27.254Z"
   },
   {
    "duration": 1,
    "start_time": "2022-04-05T05:43:27.254Z"
   },
   {
    "duration": 0,
    "start_time": "2022-04-05T05:43:27.256Z"
   },
   {
    "duration": 0,
    "start_time": "2022-04-05T05:43:27.256Z"
   },
   {
    "duration": 0,
    "start_time": "2022-04-05T05:43:27.257Z"
   },
   {
    "duration": 0,
    "start_time": "2022-04-05T05:43:27.258Z"
   },
   {
    "duration": 0,
    "start_time": "2022-04-05T05:43:27.259Z"
   },
   {
    "duration": 0,
    "start_time": "2022-04-05T05:43:27.261Z"
   },
   {
    "duration": 0,
    "start_time": "2022-04-05T05:43:27.261Z"
   },
   {
    "duration": 0,
    "start_time": "2022-04-05T05:43:27.262Z"
   },
   {
    "duration": 0,
    "start_time": "2022-04-05T05:43:27.263Z"
   },
   {
    "duration": 0,
    "start_time": "2022-04-05T05:43:27.264Z"
   },
   {
    "duration": 0,
    "start_time": "2022-04-05T05:43:27.265Z"
   },
   {
    "duration": 0,
    "start_time": "2022-04-05T05:43:27.266Z"
   },
   {
    "duration": 0,
    "start_time": "2022-04-05T05:43:27.267Z"
   },
   {
    "duration": 0,
    "start_time": "2022-04-05T05:43:27.268Z"
   },
   {
    "duration": 0,
    "start_time": "2022-04-05T05:43:27.269Z"
   },
   {
    "duration": 0,
    "start_time": "2022-04-05T05:43:27.270Z"
   },
   {
    "duration": 0,
    "start_time": "2022-04-05T05:43:27.271Z"
   },
   {
    "duration": 0,
    "start_time": "2022-04-05T05:43:27.271Z"
   },
   {
    "duration": 0,
    "start_time": "2022-04-05T05:43:27.273Z"
   },
   {
    "duration": 0,
    "start_time": "2022-04-05T05:43:27.274Z"
   },
   {
    "duration": 0,
    "start_time": "2022-04-05T05:43:27.275Z"
   },
   {
    "duration": 0,
    "start_time": "2022-04-05T05:43:27.275Z"
   },
   {
    "duration": 0,
    "start_time": "2022-04-05T05:43:27.276Z"
   },
   {
    "duration": 0,
    "start_time": "2022-04-05T05:43:27.277Z"
   },
   {
    "duration": 0,
    "start_time": "2022-04-05T05:43:27.278Z"
   },
   {
    "duration": 0,
    "start_time": "2022-04-05T05:43:27.333Z"
   },
   {
    "duration": 0,
    "start_time": "2022-04-05T05:43:27.338Z"
   },
   {
    "duration": 1,
    "start_time": "2022-04-05T05:43:27.339Z"
   },
   {
    "duration": 0,
    "start_time": "2022-04-05T05:43:27.342Z"
   },
   {
    "duration": 0,
    "start_time": "2022-04-05T05:43:27.343Z"
   },
   {
    "duration": 0,
    "start_time": "2022-04-05T05:43:27.345Z"
   },
   {
    "duration": 0,
    "start_time": "2022-04-05T05:43:27.346Z"
   },
   {
    "duration": 0,
    "start_time": "2022-04-05T05:43:27.347Z"
   },
   {
    "duration": 0,
    "start_time": "2022-04-05T05:43:27.349Z"
   },
   {
    "duration": 0,
    "start_time": "2022-04-05T05:43:27.350Z"
   },
   {
    "duration": 0,
    "start_time": "2022-04-05T05:43:27.351Z"
   },
   {
    "duration": 1,
    "start_time": "2022-04-05T05:43:27.351Z"
   },
   {
    "duration": 0,
    "start_time": "2022-04-05T05:43:27.353Z"
   },
   {
    "duration": 0,
    "start_time": "2022-04-05T05:43:27.353Z"
   },
   {
    "duration": 0,
    "start_time": "2022-04-05T05:43:27.354Z"
   },
   {
    "duration": 0,
    "start_time": "2022-04-05T05:43:27.356Z"
   },
   {
    "duration": 0,
    "start_time": "2022-04-05T05:43:27.356Z"
   },
   {
    "duration": 0,
    "start_time": "2022-04-05T05:43:27.357Z"
   },
   {
    "duration": 0,
    "start_time": "2022-04-05T05:43:27.358Z"
   },
   {
    "duration": 0,
    "start_time": "2022-04-05T05:43:27.359Z"
   },
   {
    "duration": 0,
    "start_time": "2022-04-05T05:43:27.360Z"
   },
   {
    "duration": 0,
    "start_time": "2022-04-05T05:43:27.361Z"
   },
   {
    "duration": 0,
    "start_time": "2022-04-05T05:43:27.362Z"
   },
   {
    "duration": 56,
    "start_time": "2022-04-05T05:44:09.220Z"
   },
   {
    "duration": 4,
    "start_time": "2022-04-05T05:53:48.810Z"
   },
   {
    "duration": 98,
    "start_time": "2022-04-05T05:55:03.130Z"
   },
   {
    "duration": 33,
    "start_time": "2022-04-05T05:55:07.239Z"
   },
   {
    "duration": 26,
    "start_time": "2022-04-05T05:55:16.480Z"
   },
   {
    "duration": 10,
    "start_time": "2022-04-05T06:01:46.692Z"
   },
   {
    "duration": 7,
    "start_time": "2022-04-05T06:01:54.105Z"
   },
   {
    "duration": 19,
    "start_time": "2022-04-05T06:02:46.245Z"
   },
   {
    "duration": 18,
    "start_time": "2022-04-05T06:03:08.299Z"
   },
   {
    "duration": 35,
    "start_time": "2022-04-05T06:03:25.628Z"
   },
   {
    "duration": 33,
    "start_time": "2022-04-05T06:03:34.990Z"
   },
   {
    "duration": 32,
    "start_time": "2022-04-05T06:05:52.850Z"
   },
   {
    "duration": 34,
    "start_time": "2022-04-05T06:06:59.372Z"
   },
   {
    "duration": 30,
    "start_time": "2022-04-05T06:08:17.786Z"
   },
   {
    "duration": 10,
    "start_time": "2022-04-05T06:12:12.928Z"
   },
   {
    "duration": 7,
    "start_time": "2022-04-05T06:16:21.298Z"
   },
   {
    "duration": 5,
    "start_time": "2022-04-05T06:17:29.127Z"
   },
   {
    "duration": 98,
    "start_time": "2022-04-05T06:17:33.288Z"
   },
   {
    "duration": 41,
    "start_time": "2022-04-05T06:17:41.128Z"
   },
   {
    "duration": 24,
    "start_time": "2022-04-05T06:21:18.322Z"
   },
   {
    "duration": 149,
    "start_time": "2022-04-05T06:29:12.186Z"
   },
   {
    "duration": 1302,
    "start_time": "2022-04-05T06:36:32.117Z"
   },
   {
    "duration": 2,
    "start_time": "2022-04-05T06:36:33.421Z"
   },
   {
    "duration": 226,
    "start_time": "2022-04-05T06:36:33.424Z"
   },
   {
    "duration": 41,
    "start_time": "2022-04-05T06:36:33.653Z"
   },
   {
    "duration": 256,
    "start_time": "2022-04-05T06:36:33.695Z"
   },
   {
    "duration": 13,
    "start_time": "2022-04-05T06:36:33.953Z"
   },
   {
    "duration": 7,
    "start_time": "2022-04-05T06:36:33.967Z"
   },
   {
    "duration": 36,
    "start_time": "2022-04-05T06:36:33.976Z"
   },
   {
    "duration": 45,
    "start_time": "2022-04-05T06:36:34.013Z"
   },
   {
    "duration": 10,
    "start_time": "2022-04-05T06:36:34.060Z"
   },
   {
    "duration": 9,
    "start_time": "2022-04-05T06:36:34.071Z"
   },
   {
    "duration": 10,
    "start_time": "2022-04-05T06:36:34.081Z"
   },
   {
    "duration": 27,
    "start_time": "2022-04-05T06:36:34.093Z"
   },
   {
    "duration": 21,
    "start_time": "2022-04-05T06:36:34.134Z"
   },
   {
    "duration": 11,
    "start_time": "2022-04-05T06:36:34.157Z"
   },
   {
    "duration": 18,
    "start_time": "2022-04-05T06:36:34.170Z"
   },
   {
    "duration": 60,
    "start_time": "2022-04-05T06:36:34.189Z"
   },
   {
    "duration": 24,
    "start_time": "2022-04-05T06:36:34.251Z"
   },
   {
    "duration": 23,
    "start_time": "2022-04-05T06:36:34.276Z"
   },
   {
    "duration": 50,
    "start_time": "2022-04-05T06:36:34.301Z"
   },
   {
    "duration": 42,
    "start_time": "2022-04-05T06:36:34.353Z"
   },
   {
    "duration": 5,
    "start_time": "2022-04-05T06:36:34.397Z"
   },
   {
    "duration": 34,
    "start_time": "2022-04-05T06:36:34.403Z"
   },
   {
    "duration": 6,
    "start_time": "2022-04-05T06:36:34.439Z"
   },
   {
    "duration": 7,
    "start_time": "2022-04-05T06:36:34.447Z"
   },
   {
    "duration": 28,
    "start_time": "2022-04-05T06:36:34.456Z"
   },
   {
    "duration": 7,
    "start_time": "2022-04-05T06:36:34.486Z"
   },
   {
    "duration": 65,
    "start_time": "2022-04-05T06:36:34.497Z"
   },
   {
    "duration": 24,
    "start_time": "2022-04-05T06:36:34.563Z"
   },
   {
    "duration": 14,
    "start_time": "2022-04-05T06:36:34.589Z"
   },
   {
    "duration": 286,
    "start_time": "2022-04-05T06:36:34.604Z"
   },
   {
    "duration": 23,
    "start_time": "2022-04-05T06:36:34.891Z"
   },
   {
    "duration": 162,
    "start_time": "2022-04-05T06:36:34.915Z"
   },
   {
    "duration": 17,
    "start_time": "2022-04-05T06:36:35.078Z"
   },
   {
    "duration": 153,
    "start_time": "2022-04-05T06:36:35.096Z"
   },
   {
    "duration": 141,
    "start_time": "2022-04-05T06:36:35.251Z"
   },
   {
    "duration": 17,
    "start_time": "2022-04-05T06:36:35.394Z"
   },
   {
    "duration": 162,
    "start_time": "2022-04-05T06:36:35.413Z"
   },
   {
    "duration": 19,
    "start_time": "2022-04-05T06:36:35.577Z"
   },
   {
    "duration": 40,
    "start_time": "2022-04-05T06:36:35.598Z"
   },
   {
    "duration": 20,
    "start_time": "2022-04-05T06:36:35.640Z"
   },
   {
    "duration": 176,
    "start_time": "2022-04-05T06:36:35.662Z"
   },
   {
    "duration": 20,
    "start_time": "2022-04-05T06:36:35.841Z"
   },
   {
    "duration": 189,
    "start_time": "2022-04-05T06:36:35.863Z"
   },
   {
    "duration": 259,
    "start_time": "2022-04-05T06:36:36.054Z"
   },
   {
    "duration": 179,
    "start_time": "2022-04-05T06:36:36.314Z"
   },
   {
    "duration": 25,
    "start_time": "2022-04-05T06:36:36.495Z"
   },
   {
    "duration": 15,
    "start_time": "2022-04-05T06:36:36.522Z"
   },
   {
    "duration": 94,
    "start_time": "2022-04-05T06:36:36.539Z"
   },
   {
    "duration": 80,
    "start_time": "2022-04-05T06:36:36.636Z"
   },
   {
    "duration": 21,
    "start_time": "2022-04-05T06:36:36.717Z"
   },
   {
    "duration": 256,
    "start_time": "2022-04-05T06:36:36.740Z"
   },
   {
    "duration": 164,
    "start_time": "2022-04-05T06:36:36.998Z"
   },
   {
    "duration": 167,
    "start_time": "2022-04-05T06:36:37.164Z"
   },
   {
    "duration": 165,
    "start_time": "2022-04-05T06:36:37.333Z"
   },
   {
    "duration": 9,
    "start_time": "2022-04-05T06:36:37.499Z"
   },
   {
    "duration": 289,
    "start_time": "2022-04-05T06:36:37.510Z"
   },
   {
    "duration": 15,
    "start_time": "2022-04-05T06:36:37.800Z"
   },
   {
    "duration": 35,
    "start_time": "2022-04-05T06:36:37.817Z"
   },
   {
    "duration": 21,
    "start_time": "2022-04-05T06:36:37.854Z"
   },
   {
    "duration": 20,
    "start_time": "2022-04-05T06:36:37.877Z"
   },
   {
    "duration": 43,
    "start_time": "2022-04-05T06:36:37.899Z"
   },
   {
    "duration": 22,
    "start_time": "2022-04-05T06:36:37.944Z"
   },
   {
    "duration": 26,
    "start_time": "2022-04-05T06:36:37.968Z"
   },
   {
    "duration": 62,
    "start_time": "2022-04-05T06:36:37.995Z"
   },
   {
    "duration": 25,
    "start_time": "2022-04-05T06:36:38.058Z"
   },
   {
    "duration": 12,
    "start_time": "2022-04-05T06:36:38.084Z"
   },
   {
    "duration": 46,
    "start_time": "2022-04-05T06:36:38.098Z"
   },
   {
    "duration": 22,
    "start_time": "2022-04-05T06:36:38.147Z"
   },
   {
    "duration": 7,
    "start_time": "2022-04-05T06:36:38.170Z"
   },
   {
    "duration": 8,
    "start_time": "2022-04-05T06:36:38.179Z"
   },
   {
    "duration": 8,
    "start_time": "2022-04-05T06:36:38.189Z"
   },
   {
    "duration": 41,
    "start_time": "2022-04-05T06:36:38.198Z"
   },
   {
    "duration": 37,
    "start_time": "2022-04-05T06:36:38.242Z"
   },
   {
    "duration": 16,
    "start_time": "2022-04-05T06:36:38.281Z"
   },
   {
    "duration": 51,
    "start_time": "2022-04-05T06:36:38.298Z"
   },
   {
    "duration": 14,
    "start_time": "2022-04-05T06:36:38.351Z"
   },
   {
    "duration": 22,
    "start_time": "2022-04-05T06:36:38.367Z"
   },
   {
    "duration": 55,
    "start_time": "2022-04-05T06:36:38.391Z"
   },
   {
    "duration": 15,
    "start_time": "2022-04-05T06:36:38.448Z"
   },
   {
    "duration": 21,
    "start_time": "2022-04-05T06:36:38.465Z"
   },
   {
    "duration": 61,
    "start_time": "2022-04-05T06:36:38.492Z"
   },
   {
    "duration": 2347,
    "start_time": "2022-04-05T17:08:01.454Z"
   },
   {
    "duration": 3,
    "start_time": "2022-04-05T17:08:03.804Z"
   },
   {
    "duration": 290,
    "start_time": "2022-04-05T17:08:03.809Z"
   },
   {
    "duration": 190,
    "start_time": "2022-04-05T17:08:04.103Z"
   },
   {
    "duration": 90,
    "start_time": "2022-04-05T17:08:04.296Z"
   },
   {
    "duration": 23,
    "start_time": "2022-04-05T17:08:04.389Z"
   },
   {
    "duration": 8,
    "start_time": "2022-04-05T17:08:04.414Z"
   },
   {
    "duration": 110,
    "start_time": "2022-04-05T17:08:04.481Z"
   },
   {
    "duration": 99,
    "start_time": "2022-04-05T17:08:04.593Z"
   },
   {
    "duration": 16,
    "start_time": "2022-04-05T17:08:04.695Z"
   },
   {
    "duration": 9,
    "start_time": "2022-04-05T17:08:04.713Z"
   },
   {
    "duration": 68,
    "start_time": "2022-04-05T17:08:04.725Z"
   },
   {
    "duration": 91,
    "start_time": "2022-04-05T17:08:04.795Z"
   },
   {
    "duration": 26,
    "start_time": "2022-04-05T17:08:04.888Z"
   },
   {
    "duration": 72,
    "start_time": "2022-04-05T17:08:04.917Z"
   },
   {
    "duration": 31,
    "start_time": "2022-04-05T17:08:04.992Z"
   },
   {
    "duration": 94,
    "start_time": "2022-04-05T17:08:05.025Z"
   },
   {
    "duration": 94,
    "start_time": "2022-04-05T17:08:05.122Z"
   },
   {
    "duration": 90,
    "start_time": "2022-04-05T17:08:05.218Z"
   },
   {
    "duration": 94,
    "start_time": "2022-04-05T17:08:05.310Z"
   },
   {
    "duration": 189,
    "start_time": "2022-04-05T17:08:05.406Z"
   },
   {
    "duration": 7,
    "start_time": "2022-04-05T17:08:05.597Z"
   },
   {
    "duration": 12,
    "start_time": "2022-04-05T17:08:05.606Z"
   },
   {
    "duration": 62,
    "start_time": "2022-04-05T17:08:05.620Z"
   },
   {
    "duration": 7,
    "start_time": "2022-04-05T17:08:05.685Z"
   },
   {
    "duration": 102,
    "start_time": "2022-04-05T17:08:05.695Z"
   },
   {
    "duration": 13,
    "start_time": "2022-04-05T17:08:05.800Z"
   },
   {
    "duration": 184,
    "start_time": "2022-04-05T17:08:05.822Z"
   },
   {
    "duration": 94,
    "start_time": "2022-04-05T17:08:06.009Z"
   },
   {
    "duration": 81,
    "start_time": "2022-04-05T17:08:06.106Z"
   },
   {
    "duration": 743,
    "start_time": "2022-04-05T17:08:06.190Z"
   },
   {
    "duration": 47,
    "start_time": "2022-04-05T17:08:06.935Z"
   },
   {
    "duration": 226,
    "start_time": "2022-04-05T17:08:06.985Z"
   },
   {
    "duration": 27,
    "start_time": "2022-04-05T17:08:07.213Z"
   },
   {
    "duration": 246,
    "start_time": "2022-04-05T17:08:07.242Z"
   },
   {
    "duration": 220,
    "start_time": "2022-04-05T17:08:07.490Z"
   },
   {
    "duration": 27,
    "start_time": "2022-04-05T17:08:07.713Z"
   },
   {
    "duration": 250,
    "start_time": "2022-04-05T17:08:07.743Z"
   },
   {
    "duration": 28,
    "start_time": "2022-04-05T17:08:07.996Z"
   },
   {
    "duration": 57,
    "start_time": "2022-04-05T17:08:08.027Z"
   },
   {
    "duration": 14,
    "start_time": "2022-04-05T17:08:08.086Z"
   },
   {
    "duration": 298,
    "start_time": "2022-04-05T17:08:08.102Z"
   },
   {
    "duration": 27,
    "start_time": "2022-04-05T17:08:08.402Z"
   },
   {
    "duration": 278,
    "start_time": "2022-04-05T17:08:08.431Z"
   },
   {
    "duration": 373,
    "start_time": "2022-04-05T17:08:08.712Z"
   },
   {
    "duration": 312,
    "start_time": "2022-04-05T17:08:09.087Z"
   },
   {
    "duration": 37,
    "start_time": "2022-04-05T17:08:09.401Z"
   },
   {
    "duration": 8,
    "start_time": "2022-04-05T17:08:09.440Z"
   },
   {
    "duration": 155,
    "start_time": "2022-04-05T17:08:09.450Z"
   },
   {
    "duration": 129,
    "start_time": "2022-04-05T17:08:09.608Z"
   },
   {
    "duration": 7,
    "start_time": "2022-04-05T17:08:09.739Z"
   },
   {
    "duration": 406,
    "start_time": "2022-04-05T17:08:09.749Z"
   },
   {
    "duration": 242,
    "start_time": "2022-04-05T17:08:10.157Z"
   },
   {
    "duration": 255,
    "start_time": "2022-04-05T17:08:10.401Z"
   },
   {
    "duration": 256,
    "start_time": "2022-04-05T17:08:10.658Z"
   },
   {
    "duration": 13,
    "start_time": "2022-04-05T17:08:10.917Z"
   },
   {
    "duration": 450,
    "start_time": "2022-04-05T17:08:10.932Z"
   },
   {
    "duration": 25,
    "start_time": "2022-04-05T17:08:11.384Z"
   },
   {
    "duration": 24,
    "start_time": "2022-04-05T17:08:11.411Z"
   },
   {
    "duration": 58,
    "start_time": "2022-04-05T17:08:11.436Z"
   },
   {
    "duration": 29,
    "start_time": "2022-04-05T17:08:11.496Z"
   },
   {
    "duration": 12,
    "start_time": "2022-04-05T17:08:11.527Z"
   },
   {
    "duration": 51,
    "start_time": "2022-04-05T17:08:11.541Z"
   },
   {
    "duration": 44,
    "start_time": "2022-04-05T17:08:11.594Z"
   },
   {
    "duration": 76,
    "start_time": "2022-04-05T17:08:11.640Z"
   },
   {
    "duration": 41,
    "start_time": "2022-04-05T17:08:11.718Z"
   },
   {
    "duration": 35,
    "start_time": "2022-04-05T17:08:11.762Z"
   },
   {
    "duration": 37,
    "start_time": "2022-04-05T17:08:11.799Z"
   },
   {
    "duration": 62,
    "start_time": "2022-04-05T17:08:11.839Z"
   },
   {
    "duration": 12,
    "start_time": "2022-04-05T17:08:11.903Z"
   },
   {
    "duration": 13,
    "start_time": "2022-04-05T17:08:11.917Z"
   },
   {
    "duration": 11,
    "start_time": "2022-04-05T17:08:11.932Z"
   },
   {
    "duration": 42,
    "start_time": "2022-04-05T17:08:11.945Z"
   },
   {
    "duration": 41,
    "start_time": "2022-04-05T17:08:11.989Z"
   },
   {
    "duration": 22,
    "start_time": "2022-04-05T17:08:12.032Z"
   },
   {
    "duration": 33,
    "start_time": "2022-04-05T17:08:12.083Z"
   },
   {
    "duration": 23,
    "start_time": "2022-04-05T17:08:12.118Z"
   },
   {
    "duration": 58,
    "start_time": "2022-04-05T17:08:12.143Z"
   },
   {
    "duration": 31,
    "start_time": "2022-04-05T17:08:12.203Z"
   },
   {
    "duration": 48,
    "start_time": "2022-04-05T17:08:12.236Z"
   },
   {
    "duration": 41,
    "start_time": "2022-04-05T17:08:12.286Z"
   },
   {
    "duration": 55,
    "start_time": "2022-04-05T17:08:12.334Z"
   },
   {
    "duration": 56,
    "start_time": "2022-04-06T05:28:24.116Z"
   },
   {
    "duration": 1463,
    "start_time": "2022-04-06T05:28:30.215Z"
   },
   {
    "duration": 2,
    "start_time": "2022-04-06T05:28:31.680Z"
   },
   {
    "duration": 178,
    "start_time": "2022-04-06T05:28:31.684Z"
   },
   {
    "duration": 42,
    "start_time": "2022-04-06T05:28:31.864Z"
   },
   {
    "duration": 973,
    "start_time": "2022-04-06T05:28:31.908Z"
   },
   {
    "duration": 16,
    "start_time": "2022-04-06T05:28:32.883Z"
   },
   {
    "duration": 7,
    "start_time": "2022-04-06T05:28:32.901Z"
   },
   {
    "duration": 40,
    "start_time": "2022-04-06T05:28:32.910Z"
   },
   {
    "duration": 30,
    "start_time": "2022-04-06T05:28:32.952Z"
   },
   {
    "duration": 10,
    "start_time": "2022-04-06T05:28:32.986Z"
   },
   {
    "duration": 38,
    "start_time": "2022-04-06T05:28:32.998Z"
   },
   {
    "duration": 11,
    "start_time": "2022-04-06T05:28:33.039Z"
   },
   {
    "duration": 24,
    "start_time": "2022-04-06T05:28:33.052Z"
   },
   {
    "duration": 15,
    "start_time": "2022-04-06T05:28:33.078Z"
   },
   {
    "duration": 14,
    "start_time": "2022-04-06T05:28:33.094Z"
   },
   {
    "duration": 45,
    "start_time": "2022-04-06T05:28:33.110Z"
   },
   {
    "duration": 31,
    "start_time": "2022-04-06T05:28:33.156Z"
   },
   {
    "duration": 24,
    "start_time": "2022-04-06T05:28:33.188Z"
   },
   {
    "duration": 41,
    "start_time": "2022-04-06T05:28:33.214Z"
   },
   {
    "duration": 25,
    "start_time": "2022-04-06T05:28:33.257Z"
   },
   {
    "duration": 82,
    "start_time": "2022-04-06T05:28:33.284Z"
   },
   {
    "duration": 6,
    "start_time": "2022-04-06T05:28:33.367Z"
   },
   {
    "duration": 11,
    "start_time": "2022-04-06T05:28:33.375Z"
   },
   {
    "duration": 6,
    "start_time": "2022-04-06T05:28:33.387Z"
   },
   {
    "duration": 4,
    "start_time": "2022-04-06T05:28:33.395Z"
   },
   {
    "duration": 59,
    "start_time": "2022-04-06T05:28:33.402Z"
   },
   {
    "duration": 7,
    "start_time": "2022-04-06T05:28:33.463Z"
   },
   {
    "duration": 34,
    "start_time": "2022-04-06T05:28:33.474Z"
   },
   {
    "duration": 32,
    "start_time": "2022-04-06T05:28:33.533Z"
   },
   {
    "duration": 15,
    "start_time": "2022-04-06T05:28:33.566Z"
   },
   {
    "duration": 294,
    "start_time": "2022-04-06T05:28:33.583Z"
   },
   {
    "duration": 23,
    "start_time": "2022-04-06T05:28:33.879Z"
   },
   {
    "duration": 156,
    "start_time": "2022-04-06T05:28:33.903Z"
   },
   {
    "duration": 18,
    "start_time": "2022-04-06T05:28:34.061Z"
   },
   {
    "duration": 145,
    "start_time": "2022-04-06T05:28:34.081Z"
   },
   {
    "duration": 141,
    "start_time": "2022-04-06T05:28:34.232Z"
   },
   {
    "duration": 19,
    "start_time": "2022-04-06T05:28:34.374Z"
   },
   {
    "duration": 159,
    "start_time": "2022-04-06T05:28:34.395Z"
   },
   {
    "duration": 19,
    "start_time": "2022-04-06T05:28:34.555Z"
   },
   {
    "duration": 19,
    "start_time": "2022-04-06T05:28:34.576Z"
   },
   {
    "duration": 36,
    "start_time": "2022-04-06T05:28:34.597Z"
   },
   {
    "duration": 188,
    "start_time": "2022-04-06T05:28:34.636Z"
   },
   {
    "duration": 32,
    "start_time": "2022-04-06T05:28:34.825Z"
   },
   {
    "duration": 180,
    "start_time": "2022-04-06T05:28:34.858Z"
   },
   {
    "duration": 253,
    "start_time": "2022-04-06T05:28:35.041Z"
   },
   {
    "duration": 182,
    "start_time": "2022-04-06T05:28:35.296Z"
   },
   {
    "duration": 25,
    "start_time": "2022-04-06T05:28:35.479Z"
   },
   {
    "duration": 6,
    "start_time": "2022-04-06T05:28:35.505Z"
   },
   {
    "duration": 25,
    "start_time": "2022-04-06T05:28:35.513Z"
   },
   {
    "duration": 94,
    "start_time": "2022-04-06T05:28:35.541Z"
   },
   {
    "duration": 80,
    "start_time": "2022-04-06T05:28:35.637Z"
   },
   {
    "duration": 20,
    "start_time": "2022-04-06T05:28:35.718Z"
   },
   {
    "duration": 263,
    "start_time": "2022-04-06T05:28:35.739Z"
   },
   {
    "duration": 168,
    "start_time": "2022-04-06T05:28:36.004Z"
   },
   {
    "duration": 170,
    "start_time": "2022-04-06T05:28:36.174Z"
   },
   {
    "duration": 163,
    "start_time": "2022-04-06T05:28:36.347Z"
   },
   {
    "duration": 10,
    "start_time": "2022-04-06T05:28:36.512Z"
   },
   {
    "duration": 293,
    "start_time": "2022-04-06T05:28:36.532Z"
   },
   {
    "duration": 25,
    "start_time": "2022-04-06T05:28:36.827Z"
   },
   {
    "duration": 16,
    "start_time": "2022-04-06T05:28:36.853Z"
   },
   {
    "duration": 21,
    "start_time": "2022-04-06T05:28:36.870Z"
   },
   {
    "duration": 46,
    "start_time": "2022-04-06T05:28:36.892Z"
   },
   {
    "duration": 12,
    "start_time": "2022-04-06T05:28:36.940Z"
   },
   {
    "duration": 17,
    "start_time": "2022-04-06T05:28:36.953Z"
   },
   {
    "duration": 26,
    "start_time": "2022-04-06T05:28:36.972Z"
   },
   {
    "duration": 65,
    "start_time": "2022-04-06T05:28:37.000Z"
   },
   {
    "duration": 26,
    "start_time": "2022-04-06T05:28:37.067Z"
   },
   {
    "duration": 12,
    "start_time": "2022-04-06T05:28:37.094Z"
   },
   {
    "duration": 59,
    "start_time": "2022-04-06T05:28:37.107Z"
   },
   {
    "duration": 21,
    "start_time": "2022-04-06T05:28:37.168Z"
   },
   {
    "duration": 7,
    "start_time": "2022-04-06T05:28:37.191Z"
   },
   {
    "duration": 40,
    "start_time": "2022-04-06T05:28:37.200Z"
   },
   {
    "duration": 13,
    "start_time": "2022-04-06T05:28:37.243Z"
   },
   {
    "duration": 6,
    "start_time": "2022-04-06T05:28:37.258Z"
   },
   {
    "duration": 27,
    "start_time": "2022-04-06T05:28:37.266Z"
   },
   {
    "duration": 48,
    "start_time": "2022-04-06T05:28:37.294Z"
   },
   {
    "duration": 24,
    "start_time": "2022-04-06T05:28:37.344Z"
   },
   {
    "duration": 16,
    "start_time": "2022-04-06T05:28:37.369Z"
   },
   {
    "duration": 21,
    "start_time": "2022-04-06T05:28:37.387Z"
   },
   {
    "duration": 45,
    "start_time": "2022-04-06T05:28:37.410Z"
   },
   {
    "duration": 13,
    "start_time": "2022-04-06T05:28:37.457Z"
   },
   {
    "duration": 21,
    "start_time": "2022-04-06T05:28:37.476Z"
   },
   {
    "duration": 57,
    "start_time": "2022-04-06T05:28:37.499Z"
   },
   {
    "duration": 69,
    "start_time": "2022-04-06T05:29:08.248Z"
   },
   {
    "duration": 102,
    "start_time": "2022-04-06T05:29:20.217Z"
   },
   {
    "duration": 12,
    "start_time": "2022-04-06T05:29:38.144Z"
   },
   {
    "duration": 10,
    "start_time": "2022-04-06T05:32:14.674Z"
   },
   {
    "duration": 6,
    "start_time": "2022-04-06T05:32:38.554Z"
   },
   {
    "duration": 11,
    "start_time": "2022-04-06T05:33:20.763Z"
   },
   {
    "duration": 9,
    "start_time": "2022-04-06T05:33:31.443Z"
   },
   {
    "duration": 13,
    "start_time": "2022-04-06T05:33:50.229Z"
   },
   {
    "duration": 9,
    "start_time": "2022-04-06T05:34:08.973Z"
   },
   {
    "duration": 9,
    "start_time": "2022-04-06T05:34:36.980Z"
   },
   {
    "duration": 8,
    "start_time": "2022-04-06T05:35:18.077Z"
   },
   {
    "duration": 14,
    "start_time": "2022-04-06T05:36:45.919Z"
   },
   {
    "duration": 20,
    "start_time": "2022-04-06T05:37:01.830Z"
   },
   {
    "duration": 80,
    "start_time": "2022-04-06T05:39:18.201Z"
   },
   {
    "duration": 9,
    "start_time": "2022-04-06T05:39:31.097Z"
   },
   {
    "duration": 10,
    "start_time": "2022-04-06T05:43:02.867Z"
   },
   {
    "duration": 12,
    "start_time": "2022-04-06T05:44:05.030Z"
   },
   {
    "duration": 4,
    "start_time": "2022-04-06T05:45:32.102Z"
   },
   {
    "duration": 83,
    "start_time": "2022-04-06T05:48:03.759Z"
   },
   {
    "duration": 72,
    "start_time": "2022-04-06T05:48:11.058Z"
   },
   {
    "duration": 20,
    "start_time": "2022-04-06T05:48:29.127Z"
   },
   {
    "duration": 20,
    "start_time": "2022-04-06T05:48:36.327Z"
   },
   {
    "duration": 22,
    "start_time": "2022-04-06T05:50:19.729Z"
   },
   {
    "duration": 21,
    "start_time": "2022-04-06T05:53:02.478Z"
   },
   {
    "duration": 20,
    "start_time": "2022-04-06T05:57:04.570Z"
   },
   {
    "duration": 1205,
    "start_time": "2022-04-06T06:23:36.604Z"
   },
   {
    "duration": 2,
    "start_time": "2022-04-06T06:23:37.811Z"
   },
   {
    "duration": 107,
    "start_time": "2022-04-06T06:23:37.815Z"
   },
   {
    "duration": 39,
    "start_time": "2022-04-06T06:23:37.924Z"
   },
   {
    "duration": 56,
    "start_time": "2022-04-06T06:23:37.965Z"
   },
   {
    "duration": 13,
    "start_time": "2022-04-06T06:23:38.023Z"
   },
   {
    "duration": 7,
    "start_time": "2022-04-06T06:23:38.037Z"
   },
   {
    "duration": 37,
    "start_time": "2022-04-06T06:23:38.045Z"
   },
   {
    "duration": 30,
    "start_time": "2022-04-06T06:23:38.084Z"
   },
   {
    "duration": 10,
    "start_time": "2022-04-06T06:23:38.135Z"
   },
   {
    "duration": 6,
    "start_time": "2022-04-06T06:23:38.146Z"
   },
   {
    "duration": 6,
    "start_time": "2022-04-06T06:23:38.154Z"
   },
   {
    "duration": 23,
    "start_time": "2022-04-06T06:23:38.162Z"
   },
   {
    "duration": 15,
    "start_time": "2022-04-06T06:23:38.187Z"
   },
   {
    "duration": 11,
    "start_time": "2022-04-06T06:23:38.233Z"
   },
   {
    "duration": 17,
    "start_time": "2022-04-06T06:23:38.246Z"
   },
   {
    "duration": 24,
    "start_time": "2022-04-06T06:23:38.265Z"
   },
   {
    "duration": 52,
    "start_time": "2022-04-06T06:23:38.291Z"
   },
   {
    "duration": 22,
    "start_time": "2022-04-06T06:23:38.345Z"
   },
   {
    "duration": 23,
    "start_time": "2022-04-06T06:23:38.369Z"
   },
   {
    "duration": 67,
    "start_time": "2022-04-06T06:23:38.394Z"
   },
   {
    "duration": 5,
    "start_time": "2022-04-06T06:23:38.462Z"
   },
   {
    "duration": 8,
    "start_time": "2022-04-06T06:23:38.469Z"
   },
   {
    "duration": 4,
    "start_time": "2022-04-06T06:23:38.479Z"
   },
   {
    "duration": 5,
    "start_time": "2022-04-06T06:23:38.484Z"
   },
   {
    "duration": 52,
    "start_time": "2022-04-06T06:23:38.490Z"
   },
   {
    "duration": 7,
    "start_time": "2022-04-06T06:23:38.544Z"
   },
   {
    "duration": 33,
    "start_time": "2022-04-06T06:23:38.555Z"
   },
   {
    "duration": 43,
    "start_time": "2022-04-06T06:23:38.590Z"
   },
   {
    "duration": 14,
    "start_time": "2022-04-06T06:23:38.635Z"
   },
   {
    "duration": 259,
    "start_time": "2022-04-06T06:23:38.651Z"
   },
   {
    "duration": 32,
    "start_time": "2022-04-06T06:23:38.912Z"
   },
   {
    "duration": 134,
    "start_time": "2022-04-06T06:23:38.946Z"
   },
   {
    "duration": 18,
    "start_time": "2022-04-06T06:23:39.082Z"
   },
   {
    "duration": 146,
    "start_time": "2022-04-06T06:23:39.101Z"
   },
   {
    "duration": 137,
    "start_time": "2022-04-06T06:23:39.249Z"
   },
   {
    "duration": 19,
    "start_time": "2022-04-06T06:23:39.387Z"
   },
   {
    "duration": 143,
    "start_time": "2022-04-06T06:23:39.408Z"
   },
   {
    "duration": 17,
    "start_time": "2022-04-06T06:23:39.553Z"
   },
   {
    "duration": 23,
    "start_time": "2022-04-06T06:23:39.572Z"
   },
   {
    "duration": 15,
    "start_time": "2022-04-06T06:23:39.597Z"
   },
   {
    "duration": 173,
    "start_time": "2022-04-06T06:23:39.614Z"
   },
   {
    "duration": 18,
    "start_time": "2022-04-06T06:23:39.788Z"
   },
   {
    "duration": 173,
    "start_time": "2022-04-06T06:23:39.807Z"
   },
   {
    "duration": 242,
    "start_time": "2022-04-06T06:23:39.982Z"
   },
   {
    "duration": 161,
    "start_time": "2022-04-06T06:23:40.232Z"
   },
   {
    "duration": 25,
    "start_time": "2022-04-06T06:23:40.395Z"
   },
   {
    "duration": 1605,
    "start_time": "2022-04-06T06:23:40.432Z"
   },
   {
    "duration": 0,
    "start_time": "2022-04-06T06:23:42.039Z"
   },
   {
    "duration": 0,
    "start_time": "2022-04-06T06:23:42.041Z"
   },
   {
    "duration": 0,
    "start_time": "2022-04-06T06:23:42.042Z"
   },
   {
    "duration": 0,
    "start_time": "2022-04-06T06:23:42.043Z"
   },
   {
    "duration": 0,
    "start_time": "2022-04-06T06:23:42.044Z"
   },
   {
    "duration": 0,
    "start_time": "2022-04-06T06:23:42.045Z"
   },
   {
    "duration": 0,
    "start_time": "2022-04-06T06:23:42.046Z"
   },
   {
    "duration": 0,
    "start_time": "2022-04-06T06:23:42.047Z"
   },
   {
    "duration": 0,
    "start_time": "2022-04-06T06:23:42.048Z"
   },
   {
    "duration": 0,
    "start_time": "2022-04-06T06:23:42.049Z"
   },
   {
    "duration": 0,
    "start_time": "2022-04-06T06:23:42.050Z"
   },
   {
    "duration": 0,
    "start_time": "2022-04-06T06:23:42.051Z"
   },
   {
    "duration": 0,
    "start_time": "2022-04-06T06:23:42.052Z"
   },
   {
    "duration": 0,
    "start_time": "2022-04-06T06:23:42.053Z"
   },
   {
    "duration": 0,
    "start_time": "2022-04-06T06:23:42.054Z"
   },
   {
    "duration": 0,
    "start_time": "2022-04-06T06:23:42.055Z"
   },
   {
    "duration": 0,
    "start_time": "2022-04-06T06:23:42.056Z"
   },
   {
    "duration": 0,
    "start_time": "2022-04-06T06:23:42.057Z"
   },
   {
    "duration": 0,
    "start_time": "2022-04-06T06:23:42.058Z"
   },
   {
    "duration": 0,
    "start_time": "2022-04-06T06:23:42.059Z"
   },
   {
    "duration": 0,
    "start_time": "2022-04-06T06:23:42.060Z"
   },
   {
    "duration": 0,
    "start_time": "2022-04-06T06:23:42.061Z"
   },
   {
    "duration": 0,
    "start_time": "2022-04-06T06:23:42.062Z"
   },
   {
    "duration": 0,
    "start_time": "2022-04-06T06:23:42.063Z"
   },
   {
    "duration": 0,
    "start_time": "2022-04-06T06:23:42.064Z"
   },
   {
    "duration": 0,
    "start_time": "2022-04-06T06:23:42.065Z"
   },
   {
    "duration": 0,
    "start_time": "2022-04-06T06:23:42.066Z"
   },
   {
    "duration": 0,
    "start_time": "2022-04-06T06:23:42.067Z"
   },
   {
    "duration": 0,
    "start_time": "2022-04-06T06:23:42.068Z"
   },
   {
    "duration": 0,
    "start_time": "2022-04-06T06:23:42.069Z"
   },
   {
    "duration": 0,
    "start_time": "2022-04-06T06:23:42.070Z"
   },
   {
    "duration": 0,
    "start_time": "2022-04-06T06:23:42.071Z"
   },
   {
    "duration": 0,
    "start_time": "2022-04-06T06:23:42.072Z"
   },
   {
    "duration": 0,
    "start_time": "2022-04-06T06:23:42.073Z"
   },
   {
    "duration": 0,
    "start_time": "2022-04-06T06:23:42.073Z"
   },
   {
    "duration": 1444,
    "start_time": "2022-04-06T07:09:36.014Z"
   },
   {
    "duration": 3,
    "start_time": "2022-04-06T07:09:37.461Z"
   },
   {
    "duration": 148,
    "start_time": "2022-04-06T07:09:37.468Z"
   },
   {
    "duration": 74,
    "start_time": "2022-04-06T07:09:37.620Z"
   },
   {
    "duration": 72,
    "start_time": "2022-04-06T07:09:37.697Z"
   },
   {
    "duration": 21,
    "start_time": "2022-04-06T07:09:37.772Z"
   },
   {
    "duration": 11,
    "start_time": "2022-04-06T07:09:37.795Z"
   },
   {
    "duration": 79,
    "start_time": "2022-04-06T07:09:37.809Z"
   },
   {
    "duration": 44,
    "start_time": "2022-04-06T07:09:37.892Z"
   },
   {
    "duration": 39,
    "start_time": "2022-04-06T07:09:37.942Z"
   },
   {
    "duration": 9,
    "start_time": "2022-04-06T07:09:37.983Z"
   },
   {
    "duration": 7,
    "start_time": "2022-04-06T07:09:37.995Z"
   },
   {
    "duration": 72,
    "start_time": "2022-04-06T07:09:38.004Z"
   },
   {
    "duration": 25,
    "start_time": "2022-04-06T07:09:38.079Z"
   },
   {
    "duration": 16,
    "start_time": "2022-04-06T07:09:38.106Z"
   },
   {
    "duration": 62,
    "start_time": "2022-04-06T07:09:38.124Z"
   },
   {
    "duration": 38,
    "start_time": "2022-04-06T07:09:38.189Z"
   },
   {
    "duration": 64,
    "start_time": "2022-04-06T07:09:38.231Z"
   },
   {
    "duration": 38,
    "start_time": "2022-04-06T07:09:38.298Z"
   },
   {
    "duration": 42,
    "start_time": "2022-04-06T07:09:38.367Z"
   },
   {
    "duration": 93,
    "start_time": "2022-04-06T07:09:38.411Z"
   },
   {
    "duration": 8,
    "start_time": "2022-04-06T07:09:38.507Z"
   },
   {
    "duration": 12,
    "start_time": "2022-04-06T07:09:38.517Z"
   },
   {
    "duration": 37,
    "start_time": "2022-04-06T07:09:38.531Z"
   },
   {
    "duration": 5,
    "start_time": "2022-04-06T07:09:38.570Z"
   },
   {
    "duration": 37,
    "start_time": "2022-04-06T07:09:38.577Z"
   },
   {
    "duration": 8,
    "start_time": "2022-04-06T07:09:38.616Z"
   },
   {
    "duration": 77,
    "start_time": "2022-04-06T07:09:38.630Z"
   },
   {
    "duration": 29,
    "start_time": "2022-04-06T07:09:38.709Z"
   },
   {
    "duration": 37,
    "start_time": "2022-04-06T07:09:38.740Z"
   },
   {
    "duration": 432,
    "start_time": "2022-04-06T07:09:38.779Z"
   },
   {
    "duration": 32,
    "start_time": "2022-04-06T07:09:39.213Z"
   },
   {
    "duration": 229,
    "start_time": "2022-04-06T07:09:39.248Z"
   },
   {
    "duration": 29,
    "start_time": "2022-04-06T07:09:39.479Z"
   },
   {
    "duration": 254,
    "start_time": "2022-04-06T07:09:39.510Z"
   },
   {
    "duration": 229,
    "start_time": "2022-04-06T07:09:39.767Z"
   },
   {
    "duration": 28,
    "start_time": "2022-04-06T07:09:39.998Z"
   },
   {
    "duration": 254,
    "start_time": "2022-04-06T07:09:40.028Z"
   },
   {
    "duration": 30,
    "start_time": "2022-04-06T07:09:40.284Z"
   },
   {
    "duration": 29,
    "start_time": "2022-04-06T07:09:40.316Z"
   },
   {
    "duration": 15,
    "start_time": "2022-04-06T07:09:40.368Z"
   },
   {
    "duration": 289,
    "start_time": "2022-04-06T07:09:40.385Z"
   },
   {
    "duration": 27,
    "start_time": "2022-04-06T07:09:40.677Z"
   },
   {
    "duration": 286,
    "start_time": "2022-04-06T07:09:40.707Z"
   },
   {
    "duration": 377,
    "start_time": "2022-04-06T07:09:40.995Z"
   },
   {
    "duration": 289,
    "start_time": "2022-04-06T07:09:41.374Z"
   },
   {
    "duration": 37,
    "start_time": "2022-04-06T07:09:41.667Z"
   },
   {
    "duration": 1866,
    "start_time": "2022-04-06T07:09:41.707Z"
   },
   {
    "duration": 0,
    "start_time": "2022-04-06T07:09:43.575Z"
   },
   {
    "duration": 0,
    "start_time": "2022-04-06T07:09:43.577Z"
   },
   {
    "duration": 0,
    "start_time": "2022-04-06T07:09:43.579Z"
   },
   {
    "duration": 1,
    "start_time": "2022-04-06T07:09:43.580Z"
   },
   {
    "duration": 0,
    "start_time": "2022-04-06T07:09:43.582Z"
   },
   {
    "duration": 0,
    "start_time": "2022-04-06T07:09:43.584Z"
   },
   {
    "duration": 0,
    "start_time": "2022-04-06T07:09:43.586Z"
   },
   {
    "duration": 0,
    "start_time": "2022-04-06T07:09:43.587Z"
   },
   {
    "duration": 0,
    "start_time": "2022-04-06T07:09:43.588Z"
   },
   {
    "duration": 0,
    "start_time": "2022-04-06T07:09:43.590Z"
   },
   {
    "duration": 0,
    "start_time": "2022-04-06T07:09:43.592Z"
   },
   {
    "duration": 0,
    "start_time": "2022-04-06T07:09:43.593Z"
   },
   {
    "duration": 0,
    "start_time": "2022-04-06T07:09:43.594Z"
   },
   {
    "duration": 0,
    "start_time": "2022-04-06T07:09:43.596Z"
   },
   {
    "duration": 0,
    "start_time": "2022-04-06T07:09:43.598Z"
   },
   {
    "duration": 0,
    "start_time": "2022-04-06T07:09:43.599Z"
   },
   {
    "duration": 0,
    "start_time": "2022-04-06T07:09:43.601Z"
   },
   {
    "duration": 0,
    "start_time": "2022-04-06T07:09:43.602Z"
   },
   {
    "duration": 0,
    "start_time": "2022-04-06T07:09:43.604Z"
   },
   {
    "duration": 0,
    "start_time": "2022-04-06T07:09:43.605Z"
   },
   {
    "duration": 0,
    "start_time": "2022-04-06T07:09:43.606Z"
   },
   {
    "duration": 0,
    "start_time": "2022-04-06T07:09:43.608Z"
   },
   {
    "duration": 0,
    "start_time": "2022-04-06T07:09:43.610Z"
   },
   {
    "duration": 0,
    "start_time": "2022-04-06T07:09:43.611Z"
   },
   {
    "duration": 0,
    "start_time": "2022-04-06T07:09:43.613Z"
   },
   {
    "duration": 0,
    "start_time": "2022-04-06T07:09:43.614Z"
   },
   {
    "duration": 0,
    "start_time": "2022-04-06T07:09:43.669Z"
   },
   {
    "duration": 0,
    "start_time": "2022-04-06T07:09:43.671Z"
   },
   {
    "duration": 0,
    "start_time": "2022-04-06T07:09:43.673Z"
   },
   {
    "duration": 0,
    "start_time": "2022-04-06T07:09:43.674Z"
   },
   {
    "duration": 0,
    "start_time": "2022-04-06T07:09:43.675Z"
   },
   {
    "duration": 0,
    "start_time": "2022-04-06T07:09:43.677Z"
   },
   {
    "duration": 0,
    "start_time": "2022-04-06T07:09:43.679Z"
   },
   {
    "duration": 0,
    "start_time": "2022-04-06T07:09:43.680Z"
   },
   {
    "duration": 0,
    "start_time": "2022-04-06T07:09:43.682Z"
   },
   {
    "duration": 3837,
    "start_time": "2022-04-06T07:10:11.470Z"
   },
   {
    "duration": 0,
    "start_time": "2022-04-06T07:10:15.311Z"
   },
   {
    "duration": 0,
    "start_time": "2022-04-06T07:10:15.313Z"
   },
   {
    "duration": 0,
    "start_time": "2022-04-06T07:10:15.314Z"
   },
   {
    "duration": 0,
    "start_time": "2022-04-06T07:10:15.316Z"
   },
   {
    "duration": 0,
    "start_time": "2022-04-06T07:10:15.318Z"
   },
   {
    "duration": 0,
    "start_time": "2022-04-06T07:10:15.320Z"
   },
   {
    "duration": 0,
    "start_time": "2022-04-06T07:10:15.321Z"
   },
   {
    "duration": 0,
    "start_time": "2022-04-06T07:10:15.323Z"
   },
   {
    "duration": 0,
    "start_time": "2022-04-06T07:10:15.324Z"
   },
   {
    "duration": 0,
    "start_time": "2022-04-06T07:10:15.325Z"
   },
   {
    "duration": 0,
    "start_time": "2022-04-06T07:10:15.327Z"
   },
   {
    "duration": 0,
    "start_time": "2022-04-06T07:10:15.328Z"
   },
   {
    "duration": 0,
    "start_time": "2022-04-06T07:10:15.329Z"
   },
   {
    "duration": 0,
    "start_time": "2022-04-06T07:10:15.331Z"
   },
   {
    "duration": 0,
    "start_time": "2022-04-06T07:10:15.332Z"
   },
   {
    "duration": 0,
    "start_time": "2022-04-06T07:10:15.333Z"
   },
   {
    "duration": 0,
    "start_time": "2022-04-06T07:10:15.334Z"
   },
   {
    "duration": 0,
    "start_time": "2022-04-06T07:10:15.336Z"
   },
   {
    "duration": 0,
    "start_time": "2022-04-06T07:10:15.337Z"
   },
   {
    "duration": 0,
    "start_time": "2022-04-06T07:10:15.338Z"
   },
   {
    "duration": 0,
    "start_time": "2022-04-06T07:10:15.340Z"
   },
   {
    "duration": 0,
    "start_time": "2022-04-06T07:10:15.341Z"
   },
   {
    "duration": 0,
    "start_time": "2022-04-06T07:10:15.342Z"
   },
   {
    "duration": 0,
    "start_time": "2022-04-06T07:10:15.343Z"
   },
   {
    "duration": 0,
    "start_time": "2022-04-06T07:10:15.344Z"
   },
   {
    "duration": 0,
    "start_time": "2022-04-06T07:10:15.345Z"
   },
   {
    "duration": 0,
    "start_time": "2022-04-06T07:10:15.347Z"
   },
   {
    "duration": 0,
    "start_time": "2022-04-06T07:10:15.367Z"
   },
   {
    "duration": 0,
    "start_time": "2022-04-06T07:10:15.368Z"
   },
   {
    "duration": 0,
    "start_time": "2022-04-06T07:10:15.370Z"
   },
   {
    "duration": 0,
    "start_time": "2022-04-06T07:10:15.373Z"
   },
   {
    "duration": 0,
    "start_time": "2022-04-06T07:10:15.374Z"
   },
   {
    "duration": 0,
    "start_time": "2022-04-06T07:10:15.376Z"
   },
   {
    "duration": 0,
    "start_time": "2022-04-06T07:10:15.377Z"
   },
   {
    "duration": 0,
    "start_time": "2022-04-06T07:10:15.378Z"
   },
   {
    "duration": 8,
    "start_time": "2022-04-06T07:10:36.986Z"
   },
   {
    "duration": 6,
    "start_time": "2022-04-06T07:10:40.608Z"
   },
   {
    "duration": 129,
    "start_time": "2022-04-06T07:10:40.617Z"
   },
   {
    "duration": 147,
    "start_time": "2022-04-06T07:10:40.748Z"
   },
   {
    "duration": 7,
    "start_time": "2022-04-06T07:10:40.899Z"
   },
   {
    "duration": 418,
    "start_time": "2022-04-06T07:10:40.908Z"
   },
   {
    "duration": 248,
    "start_time": "2022-04-06T07:10:41.329Z"
   },
   {
    "duration": 274,
    "start_time": "2022-04-06T07:10:41.579Z"
   },
   {
    "duration": 263,
    "start_time": "2022-04-06T07:10:41.855Z"
   },
   {
    "duration": 12,
    "start_time": "2022-04-06T07:10:42.120Z"
   },
   {
    "duration": 514,
    "start_time": "2022-04-06T07:10:42.136Z"
   },
   {
    "duration": 34,
    "start_time": "2022-04-06T07:10:42.652Z"
   },
   {
    "duration": 24,
    "start_time": "2022-04-06T07:10:42.688Z"
   },
   {
    "duration": 59,
    "start_time": "2022-04-06T07:10:42.715Z"
   },
   {
    "duration": 32,
    "start_time": "2022-04-06T07:10:42.776Z"
   },
   {
    "duration": 12,
    "start_time": "2022-04-06T07:10:42.810Z"
   },
   {
    "duration": 50,
    "start_time": "2022-04-06T07:10:42.825Z"
   },
   {
    "duration": 41,
    "start_time": "2022-04-06T07:10:42.877Z"
   },
   {
    "duration": 77,
    "start_time": "2022-04-06T07:10:42.921Z"
   },
   {
    "duration": 42,
    "start_time": "2022-04-06T07:10:43.000Z"
   },
   {
    "duration": 18,
    "start_time": "2022-04-06T07:10:43.068Z"
   },
   {
    "duration": 38,
    "start_time": "2022-04-06T07:10:43.089Z"
   },
   {
    "duration": 61,
    "start_time": "2022-04-06T07:10:43.129Z"
   },
   {
    "duration": 11,
    "start_time": "2022-04-06T07:10:43.192Z"
   },
   {
    "duration": 17,
    "start_time": "2022-04-06T07:10:43.205Z"
   },
   {
    "duration": 15,
    "start_time": "2022-04-06T07:10:43.224Z"
   },
   {
    "duration": 9,
    "start_time": "2022-04-06T07:10:43.269Z"
   },
   {
    "duration": 45,
    "start_time": "2022-04-06T07:10:43.281Z"
   },
   {
    "duration": 57,
    "start_time": "2022-04-06T07:10:43.333Z"
   },
   {
    "duration": 38,
    "start_time": "2022-04-06T07:10:43.393Z"
   },
   {
    "duration": 55,
    "start_time": "2022-04-06T07:10:43.434Z"
   },
   {
    "duration": 37,
    "start_time": "2022-04-06T07:10:43.492Z"
   },
   {
    "duration": 65,
    "start_time": "2022-04-06T07:10:43.533Z"
   },
   {
    "duration": 24,
    "start_time": "2022-04-06T07:10:43.601Z"
   },
   {
    "duration": 68,
    "start_time": "2022-04-06T07:10:43.628Z"
   },
   {
    "duration": 39,
    "start_time": "2022-04-06T07:10:43.698Z"
   },
   {
    "duration": 238,
    "start_time": "2022-04-06T07:11:03.520Z"
   },
   {
    "duration": 31,
    "start_time": "2022-04-06T07:11:25.848Z"
   }
  ],
  "kernelspec": {
   "display_name": "Python 3 (ipykernel)",
   "language": "python",
   "name": "python3"
  },
  "language_info": {
   "codemirror_mode": {
    "name": "ipython",
    "version": 3
   },
   "file_extension": ".py",
   "mimetype": "text/x-python",
   "name": "python",
   "nbconvert_exporter": "python",
   "pygments_lexer": "ipython3",
   "version": "3.9.7"
  },
  "toc": {
   "base_numbering": 1,
   "nav_menu": {},
   "number_sections": true,
   "sideBar": true,
   "skip_h1_title": true,
   "title_cell": "Table of Contents",
   "title_sidebar": "Contents",
   "toc_cell": false,
   "toc_position": {
    "height": "calc(100% - 180px)",
    "left": "10px",
    "top": "150px",
    "width": "296.93px"
   },
   "toc_section_display": true,
   "toc_window_display": true
  }
 },
 "nbformat": 4,
 "nbformat_minor": 5
}
